{
 "cells": [
  {
   "cell_type": "code",
   "execution_count": 13,
   "metadata": {},
   "outputs": [],
   "source": [
    "from pathlib import Path\n",
    "import MDAnalysis as mda\n",
    "\n",
    "from MDAnalysis import Universe\n",
    "from MDAnalysis.topology.LAMMPSParser import DATAParser\n",
    "from MDAnalysis.coordinates.PDB import PDBReader, PDBWriter\n",
    "from MDAnalysis.topology.TOPParser import TOPParser\n",
    "# from MDAnalysis.topology.PDBParser import PDBParser\n",
    "# from MDAnalysis.topology.HoomdXMLParser import HoomdXMLParser"
   ]
  },
  {
   "cell_type": "code",
   "execution_count": null,
   "metadata": {},
   "outputs": [],
   "source": []
  },
  {
   "attachments": {},
   "cell_type": "markdown",
   "metadata": {},
   "source": [
    "### Testing for mbuild pdb completion (filling in bonding info from other formats)"
   ]
  },
  {
   "cell_type": "code",
   "execution_count": 16,
   "metadata": {},
   "outputs": [],
   "source": [
    "N = 15\n",
    "mol_name = 'polyethylmethacrylate'\n",
    "source_dir = Path(f'mbuild_polymers/{mol_name}')\n",
    "file_stem = f'{mol_name}-N={N}'\n",
    "\n",
    "pdb_path    = source_dir/f'{file_stem}.pdb'\n",
    "hoomd_path  = source_dir/f'{file_stem}.hoomdxml'\n",
    "lammps_path = source_dir/f'{file_stem}.lmp'\n",
    "gsd_path    = source_dir/f'{file_stem}.gsd'\n",
    "top_path    = source_dir/f'{file_stem}.top'\n",
    "\n",
    "# hoomd_parser = HoomdXMLParser(hoomd_path)\n",
    "# hoomd_parser.parse()\n",
    "\n",
    "lammps_parser = DATAParser(str(lammps_path))\n",
    "topo = lammps_parser.parse()\n",
    "# read = PDBReader(pdb_path)\n",
    "\n",
    "u = Universe(topo, pdb_path) # use explicit topology but implicit trajectory (traj from pdb)\n"
   ]
  },
  {
   "cell_type": "code",
   "execution_count": 17,
   "metadata": {},
   "outputs": [
    {
     "name": "stderr",
     "output_type": "stream",
     "text": [
      "/home/tbernat/miniconda3/envs/polybuild-env/lib/python3.10/site-packages/MDAnalysis/coordinates/PDB.py:1129: UserWarning: Found no information for attr: 'altLocs' Using default value of ' '\n",
      "  warnings.warn(\"Found no information for attr: '{}'\"\n",
      "/home/tbernat/miniconda3/envs/polybuild-env/lib/python3.10/site-packages/MDAnalysis/coordinates/PDB.py:1129: UserWarning: Found no information for attr: 'resnames' Using default value of 'UNK'\n",
      "  warnings.warn(\"Found no information for attr: '{}'\"\n",
      "/home/tbernat/miniconda3/envs/polybuild-env/lib/python3.10/site-packages/MDAnalysis/coordinates/PDB.py:1129: UserWarning: Found no information for attr: 'icodes' Using default value of ' '\n",
      "  warnings.warn(\"Found no information for attr: '{}'\"\n",
      "/home/tbernat/miniconda3/envs/polybuild-env/lib/python3.10/site-packages/MDAnalysis/coordinates/PDB.py:1129: UserWarning: Found no information for attr: 'chainIDs' Using default value of ''\n",
      "  warnings.warn(\"Found no information for attr: '{}'\"\n",
      "/home/tbernat/miniconda3/envs/polybuild-env/lib/python3.10/site-packages/MDAnalysis/coordinates/PDB.py:1129: UserWarning: Found no information for attr: 'occupancies' Using default value of '1.0'\n",
      "  warnings.warn(\"Found no information for attr: '{}'\"\n",
      "/home/tbernat/miniconda3/envs/polybuild-env/lib/python3.10/site-packages/MDAnalysis/coordinates/PDB.py:1129: UserWarning: Found no information for attr: 'tempfactors' Using default value of '0.0'\n",
      "  warnings.warn(\"Found no information for attr: '{}'\"\n",
      "/home/tbernat/miniconda3/envs/polybuild-env/lib/python3.10/site-packages/MDAnalysis/coordinates/PDB.py:1129: UserWarning: Found no information for attr: 'names' Using default value of 'X'\n",
      "  warnings.warn(\"Found no information for attr: '{}'\"\n",
      "/home/tbernat/miniconda3/envs/polybuild-env/lib/python3.10/site-packages/MDAnalysis/coordinates/PDB.py:1129: UserWarning: Found no information for attr: 'elements' Using default value of ' '\n",
      "  warnings.warn(\"Found no information for attr: '{}'\"\n",
      "/home/tbernat/miniconda3/envs/polybuild-env/lib/python3.10/site-packages/MDAnalysis/coordinates/PDB.py:1129: UserWarning: Found no information for attr: 'record_types' Using default value of 'ATOM'\n",
      "  warnings.warn(\"Found no information for attr: '{}'\"\n",
      "/home/tbernat/miniconda3/envs/polybuild-env/lib/python3.10/site-packages/MDAnalysis/coordinates/PDB.py:1129: UserWarning: Found no information for attr: 'formalcharges' Using default value of '0'\n",
      "  warnings.warn(\"Found no information for attr: '{}'\"\n",
      "/home/tbernat/miniconda3/envs/polybuild-env/lib/python3.10/site-packages/MDAnalysis/coordinates/PDB.py:1176: UserWarning: Found missing chainIDs. Corresponding atoms will use value of 'X'\n",
      "  warnings.warn(\"Found missing chainIDs.\"\n"
     ]
    }
   ],
   "source": [
    "polymer = u.select_atoms('all')\n",
    "outpath = Path(f'mbuild_polymers/mda_output/{mol_name}_test.pdb')\n",
    "\n",
    "with mda.Writer(outpath, multiframe=False) as pdb:\n",
    "    pdb.write(polymer)"
   ]
  },
  {
   "cell_type": "code",
   "execution_count": null,
   "metadata": {},
   "outputs": [],
   "source": []
  }
 ],
 "metadata": {
  "kernelspec": {
   "display_name": "polybuild-env",
   "language": "python",
   "name": "python3"
  },
  "language_info": {
   "codemirror_mode": {
    "name": "ipython",
    "version": 3
   },
   "file_extension": ".py",
   "mimetype": "text/x-python",
   "name": "python",
   "nbconvert_exporter": "python",
   "pygments_lexer": "ipython3",
   "version": "3.10.8"
  },
  "orig_nbformat": 4,
  "vscode": {
   "interpreter": {
    "hash": "30ad4cc672482a568a01ea8216c2626c1767e1b423ba011f0ddb94e300ac1fd8"
   }
  }
 },
 "nbformat": 4,
 "nbformat_minor": 2
}
