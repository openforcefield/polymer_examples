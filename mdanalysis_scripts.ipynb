{
 "cells": [
  {
   "cell_type": "code",
   "execution_count": 29,
   "metadata": {},
   "outputs": [],
   "source": [
    "from pathlib import Path\n",
    "import MDAnalysis as mda\n",
    "\n",
    "from MDAnalysis import Universe\n",
    "from MDAnalysis.topology.PDBParser import PDBParser\n",
    "from MDAnalysis.topology.LAMMPSParser import DATAParser\n",
    "from MDAnalysis.topology.HoomdXMLParser import HoomdXMLParser\n",
    "from MDAnalysis.coordinates.PDB import PDBReader, PDBWriter"
   ]
  },
  {
   "cell_type": "code",
   "execution_count": 69,
   "metadata": {},
   "outputs": [],
   "source": [
    "hoomd_path = Path('mbuild_polymers/peg_modified/peg_modified-N=15.hoomdxml')\n",
    "lammps_path = Path('mbuild_polymers/peg_modified/peg_modified-N=15.lammps')\n",
    "gsd_path = Path('mbuild_polymers/peg_modified/peg_modified-N=15.gsd')\n",
    "\n",
    "hoomd_parser = HoomdXMLParser(hoomd_path)\n",
    "lammps_parser = DATAParser(str(lammps_path))\n",
    "\n",
    "# hoomd_parser.parse()\n",
    "topo = lammps_parser.parse()"
   ]
  },
  {
   "cell_type": "code",
   "execution_count": 70,
   "metadata": {},
   "outputs": [],
   "source": [
    "u = Universe(topo)"
   ]
  },
  {
   "cell_type": "code",
   "execution_count": 72,
   "metadata": {},
   "outputs": [],
   "source": [
    "v = Universe(gsd_path)"
   ]
  },
  {
   "cell_type": "code",
   "execution_count": 71,
   "metadata": {},
   "outputs": [
    {
     "ename": "AttributeError",
     "evalue": "No trajectory loaded into Universe",
     "output_type": "error",
     "traceback": [
      "\u001b[0;31m---------------------------------------------------------------------------\u001b[0m",
      "\u001b[0;31mAttributeError\u001b[0m                            Traceback (most recent call last)",
      "\u001b[1;32m/home/tbernat/openff-workspace/polymer_examples/mdanalysis_scripts.ipynb Cell 6\u001b[0m in \u001b[0;36m<cell line: 2>\u001b[0;34m()\u001b[0m\n\u001b[1;32m      <a href='vscode-notebook-cell://wsl%2Bubuntu/home/tbernat/openff-workspace/polymer_examples/mdanalysis_scripts.ipynb#X14sdnNjb2RlLXJlbW90ZQ%3D%3D?line=0'>1</a>\u001b[0m polymer \u001b[39m=\u001b[39m u\u001b[39m.\u001b[39mselect_atoms(\u001b[39m'\u001b[39m\u001b[39mall\u001b[39m\u001b[39m'\u001b[39m)\n\u001b[0;32m----> <a href='vscode-notebook-cell://wsl%2Bubuntu/home/tbernat/openff-workspace/polymer_examples/mdanalysis_scripts.ipynb#X14sdnNjb2RlLXJlbW90ZQ%3D%3D?line=1'>2</a>\u001b[0m polymer\u001b[39m.\u001b[39;49mwrite(\u001b[39m'\u001b[39;49m\u001b[39mmbuild_polymers/mda_output/test.pdb\u001b[39;49m\u001b[39m'\u001b[39;49m)\n",
      "File \u001b[0;32m~/miniconda3/envs/mdanalysis/lib/python3.10/site-packages/MDAnalysis/core/groups.py:3475\u001b[0m, in \u001b[0;36mAtomGroup.write\u001b[0;34m(self, filename, file_format, filenamefmt, frames, **kwargs)\u001b[0m\n\u001b[1;32m   3472\u001b[0m \u001b[39mif\u001b[39;00m \u001b[39mlen\u001b[39m(\u001b[39mself\u001b[39m\u001b[39m.\u001b[39matoms) \u001b[39m==\u001b[39m \u001b[39m0\u001b[39m:\n\u001b[1;32m   3473\u001b[0m     \u001b[39mraise\u001b[39;00m \u001b[39mIndexError\u001b[39;00m(\u001b[39m\"\u001b[39m\u001b[39mCannot write an AtomGroup with 0 atoms\u001b[39m\u001b[39m\"\u001b[39m)\n\u001b[0;32m-> 3475\u001b[0m trj \u001b[39m=\u001b[39m \u001b[39mself\u001b[39;49m\u001b[39m.\u001b[39;49muniverse\u001b[39m.\u001b[39;49mtrajectory  \u001b[39m# unified trajectory API\u001b[39;00m\n\u001b[1;32m   3476\u001b[0m \u001b[39mif\u001b[39;00m frames \u001b[39mis\u001b[39;00m \u001b[39mNone\u001b[39;00m \u001b[39mor\u001b[39;00m frames \u001b[39m==\u001b[39m \u001b[39m'\u001b[39m\u001b[39mall\u001b[39m\u001b[39m'\u001b[39m:\n\u001b[1;32m   3477\u001b[0m     trj_frames \u001b[39m=\u001b[39m trj[::]\n",
      "File \u001b[0;32m~/miniconda3/envs/mdanalysis/lib/python3.10/site-packages/MDAnalysis/core/universe.py:768\u001b[0m, in \u001b[0;36mUniverse.trajectory\u001b[0;34m(self)\u001b[0m\n\u001b[1;32m    766\u001b[0m     \u001b[39mreturn\u001b[39;00m \u001b[39mself\u001b[39m\u001b[39m.\u001b[39m_trajectory\n\u001b[1;32m    767\u001b[0m \u001b[39melse\u001b[39;00m:\n\u001b[0;32m--> 768\u001b[0m     \u001b[39mraise\u001b[39;00m \u001b[39mAttributeError\u001b[39;00m(\u001b[39m\"\u001b[39m\u001b[39mNo trajectory loaded into Universe\u001b[39m\u001b[39m\"\u001b[39m)\n",
      "\u001b[0;31mAttributeError\u001b[0m: No trajectory loaded into Universe"
     ]
    }
   ],
   "source": [
    "polymer = u.select_atoms('all')\n",
    "polymer.write('mbuild_polymers/mda_output/test.pdb')"
   ]
  },
  {
   "cell_type": "code",
   "execution_count": 73,
   "metadata": {},
   "outputs": [
    {
     "name": "stderr",
     "output_type": "stream",
     "text": [
      "/home/tbernat/miniconda3/envs/mdanalysis/lib/python3.10/site-packages/MDAnalysis/coordinates/PDB.py:1129: UserWarning: Found no information for attr: 'altLocs' Using default value of ' '\n",
      "  warnings.warn(\"Found no information for attr: '{}'\"\n",
      "/home/tbernat/miniconda3/envs/mdanalysis/lib/python3.10/site-packages/MDAnalysis/coordinates/PDB.py:1129: UserWarning: Found no information for attr: 'icodes' Using default value of ' '\n",
      "  warnings.warn(\"Found no information for attr: '{}'\"\n",
      "/home/tbernat/miniconda3/envs/mdanalysis/lib/python3.10/site-packages/MDAnalysis/coordinates/PDB.py:1129: UserWarning: Found no information for attr: 'chainIDs' Using default value of ''\n",
      "  warnings.warn(\"Found no information for attr: '{}'\"\n",
      "/home/tbernat/miniconda3/envs/mdanalysis/lib/python3.10/site-packages/MDAnalysis/coordinates/PDB.py:1129: UserWarning: Found no information for attr: 'occupancies' Using default value of '1.0'\n",
      "  warnings.warn(\"Found no information for attr: '{}'\"\n",
      "/home/tbernat/miniconda3/envs/mdanalysis/lib/python3.10/site-packages/MDAnalysis/coordinates/PDB.py:1129: UserWarning: Found no information for attr: 'tempfactors' Using default value of '0.0'\n",
      "  warnings.warn(\"Found no information for attr: '{}'\"\n",
      "/home/tbernat/miniconda3/envs/mdanalysis/lib/python3.10/site-packages/MDAnalysis/coordinates/PDB.py:1129: UserWarning: Found no information for attr: 'elements' Using default value of ' '\n",
      "  warnings.warn(\"Found no information for attr: '{}'\"\n",
      "/home/tbernat/miniconda3/envs/mdanalysis/lib/python3.10/site-packages/MDAnalysis/coordinates/PDB.py:1129: UserWarning: Found no information for attr: 'record_types' Using default value of 'ATOM'\n",
      "  warnings.warn(\"Found no information for attr: '{}'\"\n",
      "/home/tbernat/miniconda3/envs/mdanalysis/lib/python3.10/site-packages/MDAnalysis/coordinates/PDB.py:1129: UserWarning: Found no information for attr: 'formalcharges' Using default value of '0'\n",
      "  warnings.warn(\"Found no information for attr: '{}'\"\n",
      "/home/tbernat/miniconda3/envs/mdanalysis/lib/python3.10/site-packages/MDAnalysis/coordinates/PDB.py:1176: UserWarning: Found missing chainIDs. Corresponding atoms will use value of 'X'\n",
      "  warnings.warn(\"Found missing chainIDs.\"\n"
     ]
    },
    {
     "ename": "IndexError",
     "evalue": "invalid index to scalar variable.",
     "output_type": "error",
     "traceback": [
      "\u001b[0;31m---------------------------------------------------------------------------\u001b[0m",
      "\u001b[0;31mIndexError\u001b[0m                                Traceback (most recent call last)",
      "\u001b[1;32m/home/tbernat/openff-workspace/polymer_examples/mdanalysis_scripts.ipynb Cell 6\u001b[0m in \u001b[0;36m<cell line: 3>\u001b[0;34m()\u001b[0m\n\u001b[1;32m      <a href='vscode-notebook-cell://wsl%2Bubuntu/home/tbernat/openff-workspace/polymer_examples/mdanalysis_scripts.ipynb#W2sdnNjb2RlLXJlbW90ZQ%3D%3D?line=1'>2</a>\u001b[0m outpath \u001b[39m=\u001b[39m Path(\u001b[39mf\u001b[39m\u001b[39m'\u001b[39m\u001b[39mmbuild_polymers/mda_output/\u001b[39m\u001b[39m{\u001b[39;00mmol_name\u001b[39m}\u001b[39;00m\u001b[39m_test.pdb\u001b[39m\u001b[39m'\u001b[39m)\n\u001b[1;32m      <a href='vscode-notebook-cell://wsl%2Bubuntu/home/tbernat/openff-workspace/polymer_examples/mdanalysis_scripts.ipynb#W2sdnNjb2RlLXJlbW90ZQ%3D%3D?line=2'>3</a>\u001b[0m \u001b[39mwith\u001b[39;00m mda\u001b[39m.\u001b[39mWriter(outpath, multiframe\u001b[39m=\u001b[39m\u001b[39mFalse\u001b[39;00m) \u001b[39mas\u001b[39;00m pdb:\n\u001b[0;32m----> <a href='vscode-notebook-cell://wsl%2Bubuntu/home/tbernat/openff-workspace/polymer_examples/mdanalysis_scripts.ipynb#W2sdnNjb2RlLXJlbW90ZQ%3D%3D?line=3'>4</a>\u001b[0m     pdb\u001b[39m.\u001b[39;49mwrite(v)\n",
      "File \u001b[0;32m~/miniconda3/envs/mdanalysis/lib/python3.10/site-packages/MDAnalysis/coordinates/PDB.py:922\u001b[0m, in \u001b[0;36mPDBWriter.write\u001b[0;34m(self, obj)\u001b[0m\n\u001b[1;32m    918\u001b[0m \u001b[39mself\u001b[39m\u001b[39m.\u001b[39m_write_pdb_header()\n\u001b[1;32m    919\u001b[0m \u001b[39m# Issue 105: with write() ONLY write a single frame; use\u001b[39;00m\n\u001b[1;32m    920\u001b[0m \u001b[39m# write_all_timesteps() to dump everything in one go, or do the\u001b[39;00m\n\u001b[1;32m    921\u001b[0m \u001b[39m# traditional loop over frames\u001b[39;00m\n\u001b[0;32m--> 922\u001b[0m \u001b[39mself\u001b[39;49m\u001b[39m.\u001b[39;49m_write_next_frame(\u001b[39mself\u001b[39;49m\u001b[39m.\u001b[39;49mts, multiframe\u001b[39m=\u001b[39;49m\u001b[39mself\u001b[39;49m\u001b[39m.\u001b[39;49m_multiframe)\n",
      "File \u001b[0;32m~/miniconda3/envs/mdanalysis/lib/python3.10/site-packages/MDAnalysis/coordinates/PDB.py:1005\u001b[0m, in \u001b[0;36mPDBWriter._write_next_frame\u001b[0;34m(self, ts, **kwargs)\u001b[0m\n\u001b[1;32m   1003\u001b[0m         \u001b[39mraise\u001b[39;00m NoDataError(errmsg) \u001b[39mfrom\u001b[39;00m \u001b[39mNone\u001b[39m\n\u001b[1;32m   1004\u001b[0m \u001b[39mself\u001b[39m\u001b[39m.\u001b[39m_check_pdb_coordinates()\n\u001b[0;32m-> 1005\u001b[0m \u001b[39mself\u001b[39;49m\u001b[39m.\u001b[39;49m_write_timestep(ts, \u001b[39m*\u001b[39;49m\u001b[39m*\u001b[39;49mkwargs)\n",
      "File \u001b[0;32m~/miniconda3/envs/mdanalysis/lib/python3.10/site-packages/MDAnalysis/coordinates/PDB.py:1201\u001b[0m, in \u001b[0;36mPDBWriter._write_timestep\u001b[0;34m(self, ts, multiframe)\u001b[0m\n\u001b[1;32m   1199\u001b[0m vals[\u001b[39m'\u001b[39m\u001b[39mname\u001b[39m\u001b[39m'\u001b[39m] \u001b[39m=\u001b[39m \u001b[39mself\u001b[39m\u001b[39m.\u001b[39m_deduce_PDB_atom_name(atomnames[i], resnames[i])\n\u001b[1;32m   1200\u001b[0m vals[\u001b[39m'\u001b[39m\u001b[39maltLoc\u001b[39m\u001b[39m'\u001b[39m] \u001b[39m=\u001b[39m altlocs[i][:\u001b[39m1\u001b[39m]\n\u001b[0;32m-> 1201\u001b[0m vals[\u001b[39m'\u001b[39m\u001b[39mresName\u001b[39m\u001b[39m'\u001b[39m] \u001b[39m=\u001b[39m resnames[i][:\u001b[39m4\u001b[39;49m]\n\u001b[1;32m   1202\u001b[0m vals[\u001b[39m'\u001b[39m\u001b[39mresSeq\u001b[39m\u001b[39m'\u001b[39m] \u001b[39m=\u001b[39m util\u001b[39m.\u001b[39mltruncate_int(resids[i], \u001b[39m4\u001b[39m)\n\u001b[1;32m   1203\u001b[0m vals[\u001b[39m'\u001b[39m\u001b[39miCode\u001b[39m\u001b[39m'\u001b[39m] \u001b[39m=\u001b[39m icodes[i][:\u001b[39m1\u001b[39m]\n",
      "\u001b[0;31mIndexError\u001b[0m: invalid index to scalar variable."
     ]
    }
   ],
   "source": [
    "mol_name = 'peg_modified'\n",
    "outpath = Path(f'mbuild_polymers/mda_output/{mol_name}_test.pdb')\n",
    "with mda.Writer(outpath, multiframe=False) as pdb:\n",
    "    pdb.write(v)"
   ]
  },
  {
   "cell_type": "code",
   "execution_count": null,
   "metadata": {},
   "outputs": [],
   "source": []
  }
 ],
 "metadata": {
  "kernelspec": {
   "display_name": "Python 3.10.6 ('mdanalysis': conda)",
   "language": "python",
   "name": "python3"
  },
  "language_info": {
   "codemirror_mode": {
    "name": "ipython",
    "version": 3
   },
   "file_extension": ".py",
   "mimetype": "text/x-python",
   "name": "python",
   "nbconvert_exporter": "python",
   "pygments_lexer": "ipython3",
   "version": "3.10.6"
  },
  "orig_nbformat": 4,
  "vscode": {
   "interpreter": {
    "hash": "2eab1ca6ba70d4d57ddaa0ed2a3281b8c4ae1f0913ea4647a696ae4b36d924f3"
   }
  }
 },
 "nbformat": 4,
 "nbformat_minor": 2
}
