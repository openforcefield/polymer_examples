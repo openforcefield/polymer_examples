{
 "cells": [
  {
   "attachments": {},
   "cell_type": "markdown",
   "metadata": {},
   "source": [
    "## Notebook for building long and short polymers using mbuild\n",
    "### TOSELF: Make sure to use polybuild-env when running!"
   ]
  },
  {
   "cell_type": "code",
   "execution_count": null,
   "metadata": {},
   "outputs": [],
   "source": [
    "import csv, re, json, warnings\n",
    "from pathlib import Path\n",
    "\n",
    "from rdkit import Chem\n",
    "import mbuild as mb\n",
    "from mbuild import Compound\n",
    "from mbuild.lib.recipes.polymer import Polymer"
   ]
  },
  {
   "attachments": {},
   "cell_type": "markdown",
   "metadata": {},
   "source": [
    "## Functions for generating arbitrarily large (or small) linear polymers"
   ]
  },
  {
   "cell_type": "code",
   "execution_count": null,
   "metadata": {},
   "outputs": [],
   "source": [
    "def SMILES_from_monomer_SMIRKS(smirks : str) -> str:\n",
    "    '''Take a SMIRKS string for a residue in a monomer json file and converts it into a SMILES string that mbuild.load can handle\n",
    "    Uses some explicit, home-made regex parsing for the conversion'''\n",
    "    atom_nums = { # atom numbers for alphabetical replacement when converting to valid SMILES \n",
    "        'H'  : 1,\n",
    "        'C'  : 6,\n",
    "        'N'  : 7,\n",
    "        'O'  : 8,\n",
    "        'S'  : 16,\n",
    "        'Cl' : 17,\n",
    "        'Br' : 35\n",
    "    }\n",
    "    to_remove = '|'.join([r':\\d+', r'\\*-', r'-\\*']) # remove all atom ids and wild groups\n",
    "    smirks = re.sub(to_remove, '', smirks)\n",
    "\n",
    "    for letter, num in atom_nums.items(): # replace bracketed atomic weights with letters\n",
    "        smirks = re.sub(rf'\\[#{num}\\]', letter, smirks)\n",
    "    smirks = re.sub(r'H-|-H', '', smirks)   # remove hydrogens\n",
    "    smiles = re.sub(r'\\(\\)', '', smirks) # remove dangling empty parens - TOSELF: find better way to do this with regex (simple OR isn't greedy, leaves empty parens)\n",
    "\n",
    "    return smiles\n",
    "\n",
    "def SMILES_from_monomer_SMIRKS_rdkit(smirks : str) -> str:\n",
    "    '''Take a SMIRKS string for a residue in a monomer json file and converts it into a SMILES string that mbuild.load can handle\n",
    "    Uses rdkit functionality, which should be much more robust going forward but doesn't actually produce SMILES that mbuild can currentyl digest'''\n",
    "    rdmol = Chem.rdmolfiles.MolFromSmarts(smirks)\n",
    "    smiles = Chem.rdmolfiles.MolToSmiles(rdmol)\n",
    "\n",
    "    return smiles\n",
    "\n",
    "def build_linear_polymer(mono_path : Path, N : int) -> Compound:\n",
    "    '''Takes path to a monomer json file and a chain length, builds a new polymer of the specified length\n",
    "    Returns the resulting mbuild.Compound() object\n",
    "    Currently only really works for linear polymers\n",
    "    \n",
    "    TODO:\n",
    "        -- Fix weirdness with terminal group (1 is always tangled for some reason)\n",
    "        -- Find way to automatically determine hydrogen replacement indices for more complex polymer geometries'''        \n",
    "    with mono_path.open('r') as mono_file:\n",
    "        monos_by_smirks = json.load(mono_file)['monomers']\n",
    "\n",
    "    chain = Polymer() \n",
    "    for res_name, smirks in monos_by_smirks.items(): \n",
    "        SMILES = SMILES_from_monomer_SMIRKS(smirks)\n",
    "        # print(SMILES)\n",
    "        monomer = mb.load(SMILES, smiles=True) # create mbuild compounds from smirks\n",
    "        monomer.name = res_name # assign name to make tracking easier\n",
    "\n",
    "        h_ids = [i for i, atom in enumerate(monomer) if atom.name == 'H'] # ids of all hydrogens\n",
    "        if re.search('TERM', res_name, flags=re.IGNORECASE): # consider terminal group to be any residue whose name contains \"term/TERM\" anywhere\n",
    "            chain.add_end_groups(compound=monomer, index=h_ids[0], duplicate=False)\n",
    "        else:\n",
    "            chain.add_monomer(compound=monomer, indices=(h_ids[0], h_ids[-1]))\n",
    "    chain.build(N)\n",
    "\n",
    "    return chain"
   ]
  },
  {
   "cell_type": "code",
   "execution_count": null,
   "metadata": {},
   "outputs": [],
   "source": [
    "poly_table_path = Path('compatible_pdbs/simple_polymers/Available Polymers.json')\n",
    "with poly_table_path.open('r') as poly_file:\n",
    "    inventory = json.load(poly_file)\n",
    "\n",
    "blacklist = ['PAMAM', 'vulcanizedrubber']\n",
    "mols_to_use = [mol for mol in inventory if mol not in blacklist]\n",
    "print(mols_to_use)"
   ]
  },
  {
   "cell_type": "code",
   "execution_count": 68,
   "metadata": {},
   "outputs": [
    {
     "name": "stdout",
     "output_type": "stream",
     "text": [
      "{'naturalrubber': 145, 'polyvinylchloride': 68, 'paam_modified': 112, 'syntactic_styrene': 178, 'polyphenylenesulfone': 145, 'polymethylketone': 640, 'peg_modified': 83, 'polyethylmethacrylate': 200, 'polyethylene': 68, 'polythiophene': 211, 'atactic_styrene': 178, 'bisphenolA': 364}\n"
     ]
    }
   ],
   "source": [
    "#  extensions=['pdb', 'hoomdxml', 'gsd', 'gro', 'top', 'lmp']\n",
    "from IPython.display import clear_output\n",
    "\n",
    "N = 10 # number of monomer groups to build\n",
    "sizes = {}\n",
    "for mol_name in mols_to_use:\n",
    "    print(f'Building {mol_name}...')\n",
    "    # mol_name = 'vulcanizedrubber'#'polyethylmethacrylate'\n",
    "\n",
    "    mono_path = Path(f'compatible_pdbs/simple_polymers/{mol_name}.json')\n",
    "    try:\n",
    "        chain = build_linear_polymer(mono_path=mono_path, N=N)\n",
    "        sizes[mol_name] = sum(1 for _ in chain.particles()) # must use in place of \"len\" for generator\n",
    "        traj = chain.to_trajectory() # must convert to MDTraj trajectory to save to pdb (default save via mbuild/ParmEd omits bond info)\n",
    "        \n",
    "        outpath = Path(f'mbuild_polymers/{mol_name}')\n",
    "        outpath.mkdir(exist_ok=True)\n",
    "        outname = f'{mol_name}-N={N}'\n",
    "\n",
    "        traj.save_pdb(outpath/f'{outname}.pdb')\n",
    "        clear_output()\n",
    "    except ValueError:\n",
    "        print(f'{mol_name} cannot be assembled linearly')\n",
    "\n",
    "print(sizes)"
   ]
  },
  {
   "cell_type": "code",
   "execution_count": null,
   "metadata": {},
   "outputs": [],
   "source": [
    "with warnings.catch_warnings():\n",
    "    warnings.simplefilter('ignore') # suppress spammy warnings about particles not having charges when converting to parmed.Structure\n",
    "    chain.visualize()   "
   ]
  },
  {
   "attachments": {},
   "cell_type": "markdown",
   "metadata": {},
   "source": [
    "## Testing SMILES string conversion method(s) for formatting"
   ]
  },
  {
   "cell_type": "code",
   "execution_count": null,
   "metadata": {},
   "outputs": [],
   "source": [
    "p = Path('compatible_pdbs/simple_polymers/polythiophene.json')\n",
    "with p.open('r') as monofile:\n",
    "    mono_smirks = json.load(monofile)['monomers']\n",
    "\n",
    "# print(mono_smirks)\n",
    "for res_name, smirks in mono_smirks.items():\n",
    "    print(\n",
    "        f'{res_name}:\\n'\n",
    "        f'\\tCustom: {SMILES_from_monomer_SMIRKS(smirks)}\\n'\n",
    "        f'\\tRDKit: {SMILES_from_monomer_SMIRKS_rdkit(smirks)}\\n'\n",
    "    )"
   ]
  },
  {
   "cell_type": "code",
   "execution_count": null,
   "metadata": {},
   "outputs": [],
   "source": [
    "from rdkit import Chem\n",
    "rdmol = Chem.rdmolfiles.MolFromSmarts(str)\n",
    "output_smiles = Chem.rdmolfiles.MolToSmiles(rdmol)"
   ]
  },
  {
   "attachments": {},
   "cell_type": "markdown",
   "metadata": {},
   "source": [
    "## Following example code for Polymer recipe\n",
    "### (https://mbuild.mosdef.org/en/stable/getting_started/quick_start/polymer_example.html?highlight=polymer)"
   ]
  },
  {
   "cell_type": "code",
   "execution_count": null,
   "metadata": {},
   "outputs": [],
   "source": [
    "outpath = Path('mbuild_polymers')\n",
    "poly_file = outpath/'test.pdb'\n",
    "poly_file.touch()\n",
    "\n",
    "# m1 = mb.load('CC', smiles=True) # mBuild compound of the monomer unit\n",
    "# m2 = mb.load('COC', smiles=True) # mBuild compound of the monomer unit\n",
    "m = mb.load('CC(=O)C', smiles=True) # mBuild compound of the monomer unit\n",
    "cap = mb.load('N', smiles=True)\n",
    "\n",
    "chain = Polymer()\n",
    "chain.add_monomer(compound=m, indices=(4, -1))\n",
    "chain.add_end_groups(cap, index=-1, duplicate=True)\n",
    "\n",
    "chain.build(n=4)\n",
    "# with warnings.catch_warnings():\n",
    "#     warnings.simplefilter('ignore') # suppress spammy warnings about particles not having charges\n",
    "#     chain.save(str(poly_file), show_ports=True, overwrite=True)"
   ]
  },
  {
   "cell_type": "code",
   "execution_count": null,
   "metadata": {},
   "outputs": [],
   "source": []
  }
 ],
 "metadata": {
  "kernelspec": {
   "display_name": "polybuild-env",
   "language": "python",
   "name": "python3"
  },
  "language_info": {
   "codemirror_mode": {
    "name": "ipython",
    "version": 3
   },
   "file_extension": ".py",
   "mimetype": "text/x-python",
   "name": "python",
   "nbconvert_exporter": "python",
   "pygments_lexer": "ipython3",
   "version": "3.10.8 | packaged by conda-forge | (main, Nov 22 2022, 08:26:04) [GCC 10.4.0]"
  },
  "orig_nbformat": 4,
  "vscode": {
   "interpreter": {
    "hash": "30ad4cc672482a568a01ea8216c2626c1767e1b423ba011f0ddb94e300ac1fd8"
   }
  }
 },
 "nbformat": 4,
 "nbformat_minor": 2
}
