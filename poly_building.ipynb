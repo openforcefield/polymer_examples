{
 "cells": [
  {
   "cell_type": "markdown",
   "metadata": {},
   "source": [
    "## Notebook for building long and short polymers using mbuild\n",
    "#### TOSELF: Make sure to use mbuild-env when running!"
   ]
  },
  {
   "cell_type": "code",
   "execution_count": 1,
   "metadata": {},
   "outputs": [],
   "source": [
    "import re, json, warnings\n",
    "from pathlib import Path\n",
    "\n",
    "import mbuild as mb\n",
    "from mbuild.lib.recipes.polymer import Polymer"
   ]
  },
  {
   "cell_type": "code",
   "execution_count": 2,
   "metadata": {},
   "outputs": [
    {
     "name": "stdout",
     "output_type": "stream",
     "text": [
      "Help on function save in module mbuild.compound:\n",
      "\n",
      "save(self, filename, show_ports=False, forcefield_name=None, forcefield_files=None, forcefield_debug=False, box=None, overwrite=False, residues=None, combining_rule='lorentz', foyer_kwargs=None, **kwargs)\n",
      "    Save the Compound to a file.\n",
      "    \n",
      "    Parameters\n",
      "    ----------\n",
      "    filename : str\n",
      "        Filesystem path in which to save the trajectory. The extension or\n",
      "        prefix will be parsed and control the format. Supported extensions:\n",
      "        'hoomdxml', 'gsd', 'gro', 'top', 'lammps', 'lmp', 'mcf'\n",
      "    show_ports : bool, optional, default=False\n",
      "        Save ports contained within the compound.\n",
      "    forcefield_files : str, optional, default=None\n",
      "        Apply a forcefield to the output file using a forcefield provided\n",
      "        by the `foyer` package.\n",
      "    forcefield_name : str, optional, default=None\n",
      "        Apply a named forcefield to the output file using the `foyer`\n",
      "        package, e.g. 'oplsaa'. `Foyer forcefields\n",
      "        <https://github.com/mosdef-hub/foyer/tree/master/foyer/forcefields>`_\n",
      "    forcefield_debug : bool, optional, default=False\n",
      "        Choose verbosity level when applying a forcefield through `foyer`.\n",
      "        Specifically, when missing atom types in the forcefield xml file,\n",
      "        determine if the warning is condensed or verbose.\n",
      "    box : mb.Box, optional, default=self.boundingbox (with buffer)\n",
      "        Box information to be written to the output file. If 'None', a\n",
      "        bounding box is used with 0.25nm buffers at each face to avoid\n",
      "        overlapping atoms.\n",
      "    overwrite : bool, optional, default=False\n",
      "        Overwrite if the filename already exists\n",
      "    residues : str of list of str\n",
      "        Labels of residues in the Compound. Residues are assigned by\n",
      "        checking against Compound.name.\n",
      "    combining_rule : str, optional, default='lorentz'\n",
      "        Specify the combining rule for nonbonded interactions. Only relevant\n",
      "        when the `foyer` package is used to apply a forcefield. Valid\n",
      "        options are 'lorentz' and 'geometric', specifying Lorentz-Berthelot\n",
      "        and geometric combining rules respectively.\n",
      "    foyer_kwargs : dict, optional, default=None\n",
      "        Keyword arguments to provide to `foyer.Forcefield.apply`.\n",
      "        Depending on the file extension these will be passed to either\n",
      "        `write_gsd`, `write_hoomdxml`, `write_lammpsdata`,\n",
      "        `write_mcf`, or `parmed.Structure.save`.\n",
      "        See `parmed structure documentation\n",
      "        <https://parmed.github.io/ParmEd/html/structobj/parmed.structure.Structure.html#parmed.structure.Structure.save>`_\n",
      "    \n",
      "    Other Parameters\n",
      "    ----------------\n",
      "    ref_distance : float, optional, default=1.0\n",
      "        Normalization factor used when saving to .gsd and .hoomdxml formats\n",
      "        for converting distance values to reduced units.\n",
      "    ref_energy : float, optional, default=1.0\n",
      "        Normalization factor used when saving to .gsd and .hoomdxml formats\n",
      "        for converting energy values to reduced units.\n",
      "    ref_mass : float, optional, default=1.0\n",
      "        Normalization factor used when saving to .gsd and .hoomdxml formats\n",
      "        for converting mass values to reduced units.\n",
      "    atom_style: str, default='full'\n",
      "        Defines the style of atoms to be saved in a LAMMPS data file. The\n",
      "        following atom styles are currently supported:\n",
      "        'full', 'atomic', 'charge', 'molecular'\n",
      "        See `LAMMPS atom style documentation\n",
      "        <https://lammps.sandia.gov/doc/atom_style.html>`_ for more\n",
      "        information.\n",
      "    unit_style: str, default='real'\n",
      "        Defines to unit style to be save in a LAMMPS data file.  Defaults\n",
      "        to 'real' units. Current styles are supported: 'real', 'lj'. See\n",
      "        `LAMMPS unit style documentation_\n",
      "        <https://lammps.sandia.gov/doc/units.html>`_ for more information.\n",
      "    \n",
      "    Notes\n",
      "    -----\n",
      "    When saving the compound as a json, only the following arguments are\n",
      "    used:\n",
      "    * filename\n",
      "    * show_ports\n",
      "    \n",
      "    See Also\n",
      "    --------\n",
      "    conversion.save : Main saver logic\n",
      "    formats.gsdwrite.write_gsd : Write to GSD format\n",
      "    formats.hoomdxml.write_hoomdxml : Write to Hoomd XML format\n",
      "    formats.xyzwriter.write_xyz : Write to XYZ format\n",
      "    formats.lammpsdata.write_lammpsdata : Write to LAMMPS data format\n",
      "    formats.cassandramcf.write_mcf : Write to Cassandra MCF format\n",
      "    formats.json_formats.compound_to_json : Write to a json file\n",
      "\n"
     ]
    }
   ],
   "source": [
    "help(Polymer.save)"
   ]
  },
  {
   "cell_type": "code",
   "execution_count": 8,
   "metadata": {},
   "outputs": [],
   "source": [
    "def SMILES_from_monomer_SMIRKS(smirks : str) -> str:\n",
    "    '''Take a SMIRKS string for a residue in a monomer json file and converts it into a SMILES string that mbuild.load can handle'''\n",
    "    atom_nums = { # atom numbers for alphabetical replacement when converting to valid SMILES \n",
    "        'H'  : 1,\n",
    "        'C'  : 6,\n",
    "        'N'  : 7,\n",
    "        'O'  : 8,\n",
    "        'S'  : 16,\n",
    "        'Cl' : 17,\n",
    "        'Br' : 35\n",
    "    }\n",
    "    to_remove = '|'.join([r':\\d+', r'\\*-', r'-\\*']) # remove all atom ids and wild groups\n",
    "    smirks = re.sub(to_remove, '', smirks)\n",
    "\n",
    "    for letter, num in atom_nums.items(): # replace bracketed atomic weights with letters\n",
    "        smirks = re.sub(rf'\\[#{num}\\]', letter, smirks)\n",
    "    smirks = re.sub(r'H-|-H', '', smirks)   # remove hydrogens\n",
    "    smirks = re.sub(r'\\(\\)', '', smirks) # remove dangling empty parens - TOSELF: find better way to do this with regex (simple OR isn't greedy, leaves empty parens)\n",
    "\n",
    "    return smirks\n",
    "\n",
    "def build_linear_polymer(mono_path : Path, n : int, outpath : Path=Path('mbuild_polymers')) -> None:\n",
    "    '''Takes the path to a monomer json file and a chain length and builds a new polymer PDB of the specified length\n",
    "    Currently only really works for linear polymers\n",
    "    \n",
    "    TODO:\n",
    "        -- Fix weirdness with terminal group (1 is always tangled for some reason)\n",
    "        -- Find way to automatically determine hydrogen replacement indices for more complex polymer geometries'''\n",
    "    with mono_path.open('r') as mono_file:\n",
    "        monos_by_smirks = json.load(mono_file)['monomers']\n",
    "\n",
    "    chain = Polymer() \n",
    "    for res_name, smirks in monos_by_smirks.items(): \n",
    "        SMILES = SMILES_from_monomer_SMIRKS(smirks)\n",
    "        print(SMILES)\n",
    "        monomer = mb.load(SMILES, smiles=True) # create mbuild compounds from smirks\n",
    "        monomer.name = res_name # assign name to make tracking easier\n",
    "\n",
    "        h_ids = [i for i, atom in enumerate(monomer) if atom.name == 'H'] # ids of all hydrogens\n",
    "        if re.search('TERM', res_name, flags=re.IGNORECASE): # consider terminal group to be any residue whose name contains \"term/TERM\" anywhere\n",
    "            chain.add_end_groups(compound=monomer, index=h_ids[0], duplicate=False)\n",
    "        else:\n",
    "            chain.add_monomer(compound=monomer, indices=(h_ids[0], h_ids[-1]))\n",
    "\n",
    "    chain.build(n)\n",
    "    with warnings.catch_warnings():\n",
    "        warnings.simplefilter('ignore') # suppress spammy warnings about particles not having charges\n",
    "        chain.save(str(outpath/f'{mono_path.stem}-N={n}.pdb'), show_ports=True, overwrite=True) # save to appropriately-named pdb\n",
    "        chain.save(str(outpath/f'{mono_path.stem}-N={n}.hoomdxml'), show_ports=True, overwrite=True) # save to appropriately-named pdb"
   ]
  },
  {
   "cell_type": "code",
   "execution_count": 9,
   "metadata": {},
   "outputs": [
    {
     "name": "stdout",
     "output_type": "stream",
     "text": [
      "C1=C(-C(=C(-S-1))-C(-C(-C(-C))))\n",
      "C1(=C(-C(-C(-C(-C))))-C(=C(-S-1)-[#35]))\n",
      "C1=C(-C(=C(-[#35])-S-1)-C(-C(-C(-C))))\n"
     ]
    }
   ],
   "source": [
    "build_linear_polymer(mono_path=Path('compatible_pdbs/simple_polymers/polythiophene.json'), n=50)"
   ]
  },
  {
   "cell_type": "code",
   "execution_count": 5,
   "metadata": {},
   "outputs": [
    {
     "name": "stdout",
     "output_type": "stream",
     "text": [
      "{'natural_rubber': '*-[#6:7](-[#6:5](=[#6:4](-[#6:1](-[#1:2])(-[#1:3])-*)-[#6:10](-[#1:11])(-[#1:12])-[#1:13])-[#1:6])(-[#1:8])-[#1:9]', 'natural_rubber_TERM1': '[#6:1](-[#1:2])(-[#1:3])(-[#6:4](=[#6:5](-[#1:6])-[#6:7](-[#1:8])(-[#1:9])-[#1:14])-[#6:10](-[#1:11])(-[#1:12])-[#1:13])-*', 'natural_rubber_TERM2': '*-[#6:8](-[#6:6](=[#6:5](-[#6:1](-[#1:2])(-[#1:3])-[#1:4])-[#6:11](-[#1:12])(-[#1:13])-[#1:14])-[#1:7])(-[#1:9])-[#1:10]'}\n",
      "natural_rubber C(-C(=C(-C)-C))\n",
      "natural_rubber_TERM1 C(-C(=C-C)-C)\n",
      "natural_rubber_TERM2 C(-C(=C(-C)-C))\n"
     ]
    }
   ],
   "source": [
    "p = Path('compatible_pdbs/simple_polymers/naturalrubber.json')\n",
    "with p.open('r') as monofile:\n",
    "    mono_smirks = json.load(monofile)['monomers']\n",
    "\n",
    "print(mono_smirks)\n",
    "for res_name, smirks in mono_smirks.items():\n",
    "    print(res_name, SMILES_from_monomer_SMIRKS(smirks))"
   ]
  },
  {
   "cell_type": "code",
   "execution_count": null,
   "metadata": {},
   "outputs": [],
   "source": [
    "from rdkit import Chem\n",
    "rdmol = Chem.rdmolfiles.MolFromSmarts(str)\n",
    "output_smiles = Chem.rdmolfiles.MolToSmiles(rdmol)\n"
   ]
  },
  {
   "cell_type": "code",
   "execution_count": null,
   "metadata": {},
   "outputs": [],
   "source": [
    "outpath = Path('mbuild_polymers')\n",
    "poly_file = outpath/'test.pdb'\n",
    "poly_file.touch()\n",
    "\n",
    "# m1 = mb.load('CC', smiles=True) # mBuild compound of the monomer unit\n",
    "# m2 = mb.load('COC', smiles=True) # mBuild compound of the monomer unit\n",
    "m = mb.load('CC(=O)C', smiles=True) # mBuild compound of the monomer unit\n",
    "cap = mb.load('N', smiles=True)\n",
    "\n",
    "chain = Polymer()\n",
    "chain.add_monomer(compound=m, indices=(4, -1))\n",
    "chain.add_end_groups(cap, index=-1, duplicate=True)\n",
    "\n",
    "chain.build(n=4)\n",
    "# with warnings.catch_warnings():\n",
    "#     warnings.simplefilter('ignore') # suppress spammy warnings about particles not having charges\n",
    "#     chain.save(str(poly_file), show_ports=True, overwrite=True)"
   ]
  },
  {
   "cell_type": "code",
   "execution_count": 12,
   "metadata": {},
   "outputs": [
    {
     "data": {
      "text/plain": [
       "[<C pos=([-0.1269 -0.0014  0.0323]), 4 bonds, id: 139625235953744>,\n",
       " <C pos=([ 0.0033  0.0567 -0.0138]), 3 bonds, id: 139625403972912>,\n",
       " <O pos=([ 0.0094  0.1752 -0.0426]), 1 bonds, id: 139625399705536>,\n",
       " <C pos=([ 0.1255 -0.0293 -0.0249]), 4 bonds, id: 139625403969600>,\n",
       " <H pos=([-0.2036  0.0115 -0.047 ]), 1 bonds, id: 139625232669216>,\n",
       " <H pos=([-0.1605  0.0508  0.1243]), 1 bonds, id: 139625232669888>,\n",
       " <H pos=([-0.1162 -0.1097  0.0545]), 1 bonds, id: 139625232674784>,\n",
       " <H pos=([ 0.2123  0.0302 -0.0604]), 1 bonds, id: 139625232671664>,\n",
       " <H pos=([ 0.1068 -0.1117 -0.0968]), 1 bonds, id: 139625232674880>,\n",
       " <H pos=([ 0.1499 -0.0723  0.0745]), 1 bonds, id: 139625232669984>]"
      ]
     },
     "execution_count": 12,
     "metadata": {},
     "output_type": "execute_result"
    }
   ],
   "source": [
    "[i for i in m]"
   ]
  },
  {
   "cell_type": "code",
   "execution_count": 11,
   "metadata": {},
   "outputs": [
    {
     "name": "stderr",
     "output_type": "stream",
     "text": [
      "\n",
      "\u001b[91m###########################################################\u001b[0m\n",
      "\n",
      "The code at compound.py:1659 requires the \"py3Dmol\" package\n",
      "\n",
      "py3Dmol can be installed using:\n",
      "\n",
      "# conda install -c conda-forge py3Dmol\n",
      "\n",
      "or\n",
      "\n",
      "# pip install py3Dmol\n",
      "\n",
      "\u001b[91m###########################################################\u001b[0m\n"
     ]
    },
    {
     "ename": "DelayImportError",
     "evalue": "\nThe code at compound.py:1659 requires the \"py3Dmol\" package\n\npy3Dmol can be installed using:\n\n# conda install -c conda-forge py3Dmol\n\nor\n\n# pip install py3Dmol\n",
     "output_type": "error",
     "traceback": [
      "\u001b[0;31m---------------------------------------------------------------------------\u001b[0m",
      "\u001b[0;31mModuleNotFoundError\u001b[0m                       Traceback (most recent call last)",
      "File \u001b[0;32m~/miniconda3/envs/mbuild-env/lib/python3.10/site-packages/mbuild/utils/io.py:237\u001b[0m, in \u001b[0;36mimport_\u001b[0;34m(module)\u001b[0m\n\u001b[1;32m    236\u001b[0m \u001b[39mtry\u001b[39;00m:\n\u001b[0;32m--> 237\u001b[0m     \u001b[39mreturn\u001b[39;00m importlib\u001b[39m.\u001b[39;49mimport_module(module)\n\u001b[1;32m    238\u001b[0m \u001b[39mexcept\u001b[39;00m \u001b[39mImportError\u001b[39;00m \u001b[39mas\u001b[39;00m e:\n",
      "File \u001b[0;32m~/miniconda3/envs/mbuild-env/lib/python3.10/importlib/__init__.py:126\u001b[0m, in \u001b[0;36mimport_module\u001b[0;34m(name, package)\u001b[0m\n\u001b[1;32m    125\u001b[0m         level \u001b[39m+\u001b[39m\u001b[39m=\u001b[39m \u001b[39m1\u001b[39m\n\u001b[0;32m--> 126\u001b[0m \u001b[39mreturn\u001b[39;00m _bootstrap\u001b[39m.\u001b[39;49m_gcd_import(name[level:], package, level)\n",
      "File \u001b[0;32m<frozen importlib._bootstrap>:1050\u001b[0m, in \u001b[0;36m_gcd_import\u001b[0;34m(name, package, level)\u001b[0m\n",
      "File \u001b[0;32m<frozen importlib._bootstrap>:1027\u001b[0m, in \u001b[0;36m_find_and_load\u001b[0;34m(name, import_)\u001b[0m\n",
      "File \u001b[0;32m<frozen importlib._bootstrap>:1004\u001b[0m, in \u001b[0;36m_find_and_load_unlocked\u001b[0;34m(name, import_)\u001b[0m\n",
      "\u001b[0;31mModuleNotFoundError\u001b[0m: No module named 'py3Dmol'",
      "\nDuring handling of the above exception, another exception occurred:\n",
      "\u001b[0;31mDelayImportError\u001b[0m                          Traceback (most recent call last)",
      "\u001b[1;32m/home/tbernat/openff-workspace/polymer_examples/poly_building.ipynb Cell 8\u001b[0m in \u001b[0;36m<cell line: 1>\u001b[0;34m()\u001b[0m\n\u001b[0;32m----> <a href='vscode-notebook-cell://wsl%2Bubuntu/home/tbernat/openff-workspace/polymer_examples/poly_building.ipynb#W5sdnNjb2RlLXJlbW90ZQ%3D%3D?line=0'>1</a>\u001b[0m m\u001b[39m.\u001b[39;49mvisualize()\n",
      "File \u001b[0;32m~/miniconda3/envs/mbuild-env/lib/python3.10/site-packages/mbuild/compound.py:1626\u001b[0m, in \u001b[0;36mCompound.visualize\u001b[0;34m(self, show_ports, backend, color_scheme)\u001b[0m\n\u001b[1;32m   1624\u001b[0m \u001b[39mif\u001b[39;00m run_from_ipython():\n\u001b[1;32m   1625\u001b[0m     \u001b[39mif\u001b[39;00m backend\u001b[39m.\u001b[39mlower() \u001b[39min\u001b[39;00m viz_pkg:\n\u001b[0;32m-> 1626\u001b[0m         \u001b[39mreturn\u001b[39;00m viz_pkg[backend\u001b[39m.\u001b[39;49mlower()](\n\u001b[1;32m   1627\u001b[0m             show_ports\u001b[39m=\u001b[39;49mshow_ports, color_scheme\u001b[39m=\u001b[39;49mcolor_scheme\n\u001b[1;32m   1628\u001b[0m         )\n\u001b[1;32m   1629\u001b[0m     \u001b[39melse\u001b[39;00m:\n\u001b[1;32m   1630\u001b[0m         \u001b[39mraise\u001b[39;00m \u001b[39mRuntimeError\u001b[39;00m(\n\u001b[1;32m   1631\u001b[0m             \u001b[39mf\u001b[39m\u001b[39m\"\u001b[39m\u001b[39mUnsupported visualization backend (\u001b[39m\u001b[39m{\u001b[39;00mbackend\u001b[39m}\u001b[39;00m\u001b[39m). \u001b[39m\u001b[39m\"\u001b[39m\n\u001b[1;32m   1632\u001b[0m             \u001b[39m\"\u001b[39m\u001b[39mCurrently supported backends include nglview and py3dmol\u001b[39m\u001b[39m\"\u001b[39m\n\u001b[1;32m   1633\u001b[0m         )\n",
      "File \u001b[0;32m~/miniconda3/envs/mbuild-env/lib/python3.10/site-packages/mbuild/compound.py:1659\u001b[0m, in \u001b[0;36mCompound._visualize_py3dmol\u001b[0;34m(self, show_ports, color_scheme)\u001b[0m\n\u001b[1;32m   1640\u001b[0m \u001b[39mdef\u001b[39;00m \u001b[39m_visualize_py3dmol\u001b[39m(\u001b[39mself\u001b[39m, show_ports\u001b[39m=\u001b[39m\u001b[39mFalse\u001b[39;00m, color_scheme\u001b[39m=\u001b[39m{}):\n\u001b[1;32m   1641\u001b[0m     \u001b[39m\"\"\"Visualize the Compound using py3Dmol.\u001b[39;00m\n\u001b[1;32m   1642\u001b[0m \n\u001b[1;32m   1643\u001b[0m \u001b[39m    Allows for visualization of a Compound within a Jupyter Notebook.\u001b[39;00m\n\u001b[0;32m   (...)\u001b[0m\n\u001b[1;32m   1657\u001b[0m \u001b[39m    view : py3Dmol.view\u001b[39;00m\n\u001b[1;32m   1658\u001b[0m \u001b[39m    \"\"\"\u001b[39;00m\n\u001b[0;32m-> 1659\u001b[0m     py3Dmol \u001b[39m=\u001b[39m import_(\u001b[39m\"\u001b[39;49m\u001b[39mpy3Dmol\u001b[39;49m\u001b[39m\"\u001b[39;49m)\n\u001b[1;32m   1661\u001b[0m     cloned \u001b[39m=\u001b[39m clone(\u001b[39mself\u001b[39m)\n\u001b[1;32m   1663\u001b[0m     modified_color_scheme \u001b[39m=\u001b[39m {}\n",
      "File \u001b[0;32m~/miniconda3/envs/mbuild-env/lib/python3.10/site-packages/mbuild/utils/io.py:272\u001b[0m, in \u001b[0;36mimport_\u001b[0;34m(module)\u001b[0m\n\u001b[1;32m    270\u001b[0m \u001b[39mprint\u001b[39m(m, file\u001b[39m=\u001b[39msys\u001b[39m.\u001b[39mstderr)\n\u001b[1;32m    271\u001b[0m \u001b[39mprint\u001b[39m(bar, file\u001b[39m=\u001b[39msys\u001b[39m.\u001b[39mstderr)\n\u001b[0;32m--> 272\u001b[0m \u001b[39mraise\u001b[39;00m DelayImportError(m)\n",
      "\u001b[0;31mDelayImportError\u001b[0m: \nThe code at compound.py:1659 requires the \"py3Dmol\" package\n\npy3Dmol can be installed using:\n\n# conda install -c conda-forge py3Dmol\n\nor\n\n# pip install py3Dmol\n"
     ]
    }
   ],
   "source": [
    "m.visualize()"
   ]
  },
  {
   "cell_type": "code",
   "execution_count": null,
   "metadata": {},
   "outputs": [],
   "source": []
  }
 ],
 "metadata": {
  "kernelspec": {
   "display_name": "Python 3.10.6 ('mbuild-env': conda)",
   "language": "python",
   "name": "python3"
  },
  "language_info": {
   "codemirror_mode": {
    "name": "ipython",
    "version": 3
   },
   "file_extension": ".py",
   "mimetype": "text/x-python",
   "name": "python",
   "nbconvert_exporter": "python",
   "pygments_lexer": "ipython3",
   "version": "3.10.6"
  },
  "orig_nbformat": 4,
  "vscode": {
   "interpreter": {
    "hash": "c5cad032854a31ef29b974e97fd1faedeec068d065cc6bc1177848b35bd9040a"
   }
  }
 },
 "nbformat": 4,
 "nbformat_minor": 2
}
