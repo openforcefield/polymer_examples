{
 "cells": [
  {
   "attachments": {},
   "cell_type": "markdown",
   "metadata": {},
   "source": [
    "## Notebook for building long and short polymers using mbuild\n",
    "### TOSELF: Make sure to use polybuild-env when running!"
   ]
  },
  {
   "cell_type": "code",
   "execution_count": 2,
   "metadata": {},
   "outputs": [
    {
     "name": "stderr",
     "output_type": "stream",
     "text": [
      "/home/timber/miniconda3/envs/polybuild_env/lib/python3.11/site-packages/mdtraj/formats/__init__.py:6: DeprecationWarning: 'xdrlib' is deprecated and slated for removal in Python 3.13\n",
      "  from .xtc import XTCTrajectoryFile\n"
     ]
    }
   ],
   "source": [
    "import csv, re, json, warnings\n",
    "from pathlib import Path\n",
    "from typing import Any, Callable, Optional\n",
    "\n",
    "from rdkit import Chem\n",
    "import mbuild as mb\n",
    "from mbuild import Compound\n",
    "from mbuild.lib.recipes.polymer import Polymer"
   ]
  },
  {
   "attachments": {},
   "cell_type": "markdown",
   "metadata": {},
   "source": [
    "## Functions for generating arbitrarily large (or small) linear polymers"
   ]
  },
  {
   "cell_type": "code",
   "execution_count": 3,
   "metadata": {},
   "outputs": [],
   "source": [
    "def SMILES_from_monomer_SMIRKS(smirks : str) -> str:\n",
    "    '''Take a SMIRKS string for a residue in a monomer json file and converts it into a SMILES string that mbuild.load can handle\n",
    "    Uses some explicit, home-made regex parsing for the conversion'''\n",
    "    atom_nums = { # atom numbers for alphabetical replacement when converting to valid SMILES \n",
    "        'H'  : 1,\n",
    "        'C'  : 6,\n",
    "        'N'  : 7,\n",
    "        'O'  : 8,\n",
    "        'F'  : 9,\n",
    "        'P'  : 15,\n",
    "        'S'  : 16,\n",
    "        'Cl' : 17,\n",
    "        'Br' : 35,\n",
    "        'I'  : 53\n",
    "    }\n",
    "    to_remove = '|'.join([r':\\d+', r'\\*-', r'-\\*']) # remove all atom ids and wild groups\n",
    "    smirks = re.sub(to_remove, '', smirks)\n",
    "\n",
    "    for letter, num in atom_nums.items(): # replace bracketed atomic weights with letters\n",
    "        smirks = re.sub(rf'\\[#{num}\\]', letter, smirks)\n",
    "    smirks = re.sub(r'H-|-H', '', smirks)   # remove hydrogens\n",
    "    smiles = re.sub(r'\\(\\)', '', smirks) # remove dangling empty parens - TOSELF: find better way to do this with regex (simple OR isn't greedy, leaves empty parens)\n",
    "\n",
    "    return smiles\n",
    "\n",
    "def SMILES_from_monomer_SMIRKS_rdkit(smirks : str) -> str:\n",
    "    '''Take a SMIRKS string for a residue in a monomer json file and converts it into a SMILES string that mbuild.load can handle\n",
    "    Uses rdkit functionality, which should be much more robust going forward but doesn't actually produce SMILES that mbuild can currentyl digest'''\n",
    "    rdmol = Chem.rdmolfiles.MolFromSmarts(smirks)\n",
    "    smiles = Chem.rdmolfiles.MolToSmiles(rdmol)\n",
    "\n",
    "    return smiles\n",
    "\n",
    "def build_linear_polymer(mono_path : Path, N : int) -> Compound:\n",
    "    '''Takes path to a monomer json file and a chain length, builds a new polymer of the specified length\n",
    "    Returns the resulting mbuild.Compound() object\n",
    "    Currently only really works for linear polymers\n",
    "    \n",
    "    TODO:\n",
    "        -- Fix weirdness with terminal group (1 is always tangled for some reason)\n",
    "        -- Find way to automatically determine hydrogen replacement indices for more complex polymer geometries'''        \n",
    "    with mono_path.open('r') as mono_file:\n",
    "        monos_by_smirks = json.load(mono_file)['monomers']\n",
    "\n",
    "    chain = Polymer() \n",
    "    for res_name, smirks in monos_by_smirks.items(): \n",
    "        SMILES = SMILES_from_monomer_SMIRKS(smirks)\n",
    "        # print(SMILES)\n",
    "        monomer = mb.load(SMILES, smiles=True) # create mbuild compounds from smirks\n",
    "        monomer.name = res_name # assign name to make tracking easier\n",
    "\n",
    "        h_ids = [i for i, atom in enumerate(monomer) if atom.name == 'H'] # ids of all hydrogens\n",
    "        if re.search('TERM', res_name, flags=re.IGNORECASE): # consider terminal group to be any residue whose name contains \"term/TERM\" anywhere\n",
    "            chain.add_end_groups(compound=monomer, index=h_ids[0], duplicate=False)\n",
    "        else:\n",
    "            chain.add_monomer(compound=monomer, indices=(h_ids[0], h_ids[-1]))\n",
    "    chain.build(N)\n",
    "\n",
    "    return chain"
   ]
  },
  {
   "attachments": {},
   "cell_type": "markdown",
   "metadata": {},
   "source": [
    "## PDB save method testing"
   ]
  },
  {
   "cell_type": "code",
   "execution_count": 4,
   "metadata": {},
   "outputs": [],
   "source": [
    "import MDAnalysis as mda\n",
    "from MDAnalysis.topology.LAMMPSParser import DATAParser as LMPParser\n",
    "from shutil import copyfile"
   ]
  },
  {
   "cell_type": "code",
   "execution_count": 10,
   "metadata": {},
   "outputs": [],
   "source": [
    "import MDAnalysis as mda\n",
    "from MDAnalysis.topology.LAMMPSParser import DATAParser as LMPParser\n",
    "\n",
    "SaveMethod = Callable[[str, Polymer, Path], None]\n",
    "\n",
    "def save_pdb_direct(mol_name : str, chain : Polymer, outpath : Path) -> None:\n",
    "    '''Use mbuild native save method with ParmEd backend for pdb writing'''\n",
    "    chain.save(str(outpath/f'mbuild_parmed_{mol_name}.pdb'), overwrite=True)\n",
    "\n",
    "def save_mdtraj(mol_name : str, chain : Polymer, outpath : Path) -> None:\n",
    "    '''Convert to mdtraj and save natively there'''\n",
    "    traj = chain.to_trajectory() # must convert to MDTraj trajectory to save to pdb (default save via mbuild/ParmEd omits bond info)\n",
    "    traj.save_pdb(outpath/f'mdtraj_{mol_name}.pdb')\n",
    "\n",
    "def save_mda_lammps(mol_name : str, chain : Polymer, outpath : Path) -> None:\n",
    "    '''Save via MDAnalysis using LAMMPS topology and incomplete pdb as trajectory'''\n",
    "    pdb_path    = outpath/f'temp_{mol_name}.pdb'\n",
    "    lammps_path = outpath/f'temp_{mol_name}.lmp'\n",
    "\n",
    "    chain.save(str(pdb_path), overwrite=True)\n",
    "    chain.save(str(lammps_path), overwrite=True)\n",
    "\n",
    "    lammps_parser = LMPParser(str(lammps_path))\n",
    "    topo = lammps_parser.parse()\n",
    "    u = mda.Universe(topo, pdb_path) # use explicit topology but implicit trajectory (traj from pdb)\n",
    "\n",
    "    polymer = u.select_atoms('all')\n",
    "    with mda.Writer(outpath/f'mda_lammps_{mol_name}.pdb', multiframe=False) as pdb:\n",
    "        pdb.write(polymer)\n",
    "\n",
    "    pdb_path.unlink()\n",
    "    lammps_path.unlink()"
   ]
  },
  {
   "cell_type": "code",
   "execution_count": 12,
   "metadata": {},
   "outputs": [
    {
     "name": "stdout",
     "output_type": "stream",
     "text": [
      "No urey bradley terms detected, will use angle_style harmonic\n"
     ]
    }
   ],
   "source": [
    "mol_name = 'naturalrubber'\n",
    "N = 7\n",
    "\n",
    "mono_path = Path(f'compatible_pdbs/simple_polymers/{mol_name}.json')\n",
    "orig_pdb_path = Path(f'compatible_pdbs/simple_polymers/{mol_name}.pdb')\n",
    "chain = build_linear_polymer(mono_path=mono_path, N=N)\n",
    "\n",
    "outpath = Path(f'mbuild_polymers/PDB save test/{mol_name}')\n",
    "outpath.mkdir(exist_ok=True)\n",
    "\n",
    "save_methods : list[SaveMethod] = [save_pdb_direct, save_mda_lammps, save_mdtraj]\n",
    "with warnings.catch_warnings():\n",
    "    warnings.simplefilter('ignore') # suppress spammy warnings about particles not having charges\n",
    "\n",
    "    copyfile(orig_pdb_path, outpath/f'original_{mol_name}.pdb')\n",
    "    for method in save_methods:\n",
    "        method(mol_name, chain, outpath)"
   ]
  },
  {
   "cell_type": "code",
   "execution_count": null,
   "metadata": {},
   "outputs": [],
   "source": []
  },
  {
   "cell_type": "code",
   "execution_count": 13,
   "metadata": {},
   "outputs": [
    {
     "name": "stderr",
     "output_type": "stream",
     "text": [
      "/home/timber/miniconda3/envs/polybuild_env/lib/python3.11/site-packages/mbuild/compound.py:400: UserWarning: Some particle of <C pos=([ 0.1965  0.0185 -0.0523]), 4 bonds, id: 139812344085904> does not have a charge.They will not be accounted for during this calculation.\n",
      "  warn(\n",
      "/home/timber/miniconda3/envs/polybuild_env/lib/python3.11/site-packages/mbuild/compound.py:400: UserWarning: Some particle of <C pos=([ 0.0776 -0.067  -0.0188]), 3 bonds, id: 139812344085584> does not have a charge.They will not be accounted for during this calculation.\n",
      "  warn(\n",
      "/home/timber/miniconda3/envs/polybuild_env/lib/python3.11/site-packages/mbuild/compound.py:400: UserWarning: Some particle of <C pos=([-0.0437 -0.0166  0.0119]), 3 bonds, id: 139812344080208> does not have a charge.They will not be accounted for during this calculation.\n",
      "  warn(\n",
      "/home/timber/miniconda3/envs/polybuild_env/lib/python3.11/site-packages/mbuild/compound.py:400: UserWarning: Some particle of <C pos=([-0.0687  0.1323  0.0149]), 4 bonds, id: 139812344072784> does not have a charge.They will not be accounted for during this calculation.\n",
      "  warn(\n",
      "/home/timber/miniconda3/envs/polybuild_env/lib/python3.11/site-packages/mbuild/compound.py:400: UserWarning: Some particle of <C pos=([-0.1559 -0.112   0.0439]), 4 bonds, id: 139812344071248> does not have a charge.They will not be accounted for during this calculation.\n",
      "  warn(\n",
      "/home/timber/miniconda3/envs/polybuild_env/lib/python3.11/site-packages/mbuild/compound.py:400: UserWarning: Some particle of <H pos=([0.2215 0.0844 0.0334]), 1 bonds, id: 139812344072912> does not have a charge.They will not be accounted for during this calculation.\n",
      "  warn(\n",
      "/home/timber/miniconda3/envs/polybuild_env/lib/python3.11/site-packages/mbuild/compound.py:400: UserWarning: Some particle of <H pos=([ 0.284  -0.0462 -0.0738]), 1 bonds, id: 139812344084880> does not have a charge.They will not be accounted for during this calculation.\n",
      "  warn(\n",
      "/home/timber/miniconda3/envs/polybuild_env/lib/python3.11/site-packages/mbuild/compound.py:400: UserWarning: Some particle of <H pos=([ 0.0916 -0.1749 -0.0199]), 1 bonds, id: 139812344071760> does not have a charge.They will not be accounted for during this calculation.\n",
      "  warn(\n",
      "/home/timber/miniconda3/envs/polybuild_env/lib/python3.11/site-packages/mbuild/compound.py:400: UserWarning: Some particle of <H pos=([-0.0488  0.1761 -0.0852]), 1 bonds, id: 139812344078480> does not have a charge.They will not be accounted for during this calculation.\n",
      "  warn(\n",
      "/home/timber/miniconda3/envs/polybuild_env/lib/python3.11/site-packages/mbuild/compound.py:400: UserWarning: Some particle of <H pos=([-0.0025  0.1804  0.0899]), 1 bonds, id: 139812344085008> does not have a charge.They will not be accounted for during this calculation.\n",
      "  warn(\n",
      "/home/timber/miniconda3/envs/polybuild_env/lib/python3.11/site-packages/mbuild/compound.py:400: UserWarning: Some particle of <H pos=([-0.1738  0.1555  0.042 ]), 1 bonds, id: 139812344082128> does not have a charge.They will not be accounted for during this calculation.\n",
      "  warn(\n",
      "/home/timber/miniconda3/envs/polybuild_env/lib/python3.11/site-packages/mbuild/compound.py:400: UserWarning: Some particle of <H pos=([-0.1745 -0.1784 -0.0431]), 1 bonds, id: 139812344075600> does not have a charge.They will not be accounted for during this calculation.\n",
      "  warn(\n",
      "/home/timber/miniconda3/envs/polybuild_env/lib/python3.11/site-packages/mbuild/compound.py:400: UserWarning: Some particle of <H pos=([-0.1284 -0.1741  0.1318]), 1 bonds, id: 139812344073424> does not have a charge.They will not be accounted for during this calculation.\n",
      "  warn(\n",
      "/home/timber/miniconda3/envs/polybuild_env/lib/python3.11/site-packages/mbuild/compound.py:400: UserWarning: Some particle of <C pos=([-0.2501 -0.0582  0.0675]), 4 bonds, id: 139812344127952> does not have a charge.They will not be accounted for during this calculation.\n",
      "  warn(\n",
      "/home/timber/miniconda3/envs/polybuild_env/lib/python3.11/site-packages/mbuild/compound.py:400: UserWarning: Some particle of <C pos=([-0.3362 -0.1417  0.1577]), 3 bonds, id: 139812344128784> does not have a charge.They will not be accounted for during this calculation.\n",
      "  warn(\n",
      "/home/timber/miniconda3/envs/polybuild_env/lib/python3.11/site-packages/mbuild/compound.py:400: UserWarning: Some particle of <C pos=([-0.3833 -0.2635  0.1235]), 3 bonds, id: 139812344126928> does not have a charge.They will not be accounted for during this calculation.\n",
      "  warn(\n",
      "/home/timber/miniconda3/envs/polybuild_env/lib/python3.11/site-packages/mbuild/compound.py:400: UserWarning: Some particle of <C pos=([-0.3518 -0.3253 -0.0107]), 4 bonds, id: 139812344127696> does not have a charge.They will not be accounted for during this calculation.\n",
      "  warn(\n",
      "/home/timber/miniconda3/envs/polybuild_env/lib/python3.11/site-packages/mbuild/compound.py:400: UserWarning: Some particle of <C pos=([-0.469  -0.3384  0.2222]), 4 bonds, id: 139812344128912> does not have a charge.They will not be accounted for during this calculation.\n",
      "  warn(\n",
      "/home/timber/miniconda3/envs/polybuild_env/lib/python3.11/site-packages/mbuild/compound.py:400: UserWarning: Some particle of <H pos=([-0.3044 -0.0348 -0.0265]), 1 bonds, id: 139812344123024> does not have a charge.They will not be accounted for during this calculation.\n",
      "  warn(\n",
      "/home/timber/miniconda3/envs/polybuild_env/lib/python3.11/site-packages/mbuild/compound.py:400: UserWarning: Some particle of <H pos=([-0.2245  0.0372  0.1181]), 1 bonds, id: 139812344126416> does not have a charge.They will not be accounted for during this calculation.\n",
      "  warn(\n",
      "/home/timber/miniconda3/envs/polybuild_env/lib/python3.11/site-packages/mbuild/compound.py:400: UserWarning: Some particle of <H pos=([-0.3611 -0.1006  0.2553]), 1 bonds, id: 139812344126096> does not have a charge.They will not be accounted for during this calculation.\n",
      "  warn(\n",
      "/home/timber/miniconda3/envs/polybuild_env/lib/python3.11/site-packages/mbuild/compound.py:400: UserWarning: Some particle of <H pos=([-0.242  -0.3375 -0.022 ]), 1 bonds, id: 139812344126032> does not have a charge.They will not be accounted for during this calculation.\n",
      "  warn(\n",
      "/home/timber/miniconda3/envs/polybuild_env/lib/python3.11/site-packages/mbuild/compound.py:400: UserWarning: Some particle of <H pos=([-0.3903 -0.2604 -0.0922]), 1 bonds, id: 139812344119696> does not have a charge.They will not be accounted for during this calculation.\n",
      "  warn(\n",
      "/home/timber/miniconda3/envs/polybuild_env/lib/python3.11/site-packages/mbuild/compound.py:400: UserWarning: Some particle of <H pos=([-0.3987 -0.4253 -0.0215]), 1 bonds, id: 139812344127440> does not have a charge.They will not be accounted for during this calculation.\n",
      "  warn(\n",
      "/home/timber/miniconda3/envs/polybuild_env/lib/python3.11/site-packages/mbuild/compound.py:400: UserWarning: Some particle of <H pos=([-0.4118 -0.3559  0.3158]), 1 bonds, id: 139812344124752> does not have a charge.They will not be accounted for during this calculation.\n",
      "  warn(\n",
      "/home/timber/miniconda3/envs/polybuild_env/lib/python3.11/site-packages/mbuild/compound.py:400: UserWarning: Some particle of <H pos=([-0.5598 -0.279   0.2457]), 1 bonds, id: 139812344125520> does not have a charge.They will not be accounted for during this calculation.\n",
      "  warn(\n",
      "/home/timber/miniconda3/envs/polybuild_env/lib/python3.11/site-packages/mbuild/compound.py:400: UserWarning: Some particle of <C pos=([-0.5012 -0.4368  0.1822]), 4 bonds, id: 139812344062928> does not have a charge.They will not be accounted for during this calculation.\n",
      "  warn(\n",
      "/home/timber/miniconda3/envs/polybuild_env/lib/python3.11/site-packages/mbuild/compound.py:400: UserWarning: Some particle of <C pos=([-0.6305 -0.4788  0.2459]), 3 bonds, id: 139812344058768> does not have a charge.They will not be accounted for during this calculation.\n",
      "  warn(\n",
      "/home/timber/miniconda3/envs/polybuild_env/lib/python3.11/site-packages/mbuild/compound.py:400: UserWarning: Some particle of <C pos=([-0.6449 -0.4984  0.3786]), 3 bonds, id: 139812344058832> does not have a charge.They will not be accounted for during this calculation.\n",
      "  warn(\n",
      "/home/timber/miniconda3/envs/polybuild_env/lib/python3.11/site-packages/mbuild/compound.py:400: UserWarning: Some particle of <C pos=([-0.5295 -0.4789  0.4741]), 4 bonds, id: 139812344057296> does not have a charge.They will not be accounted for during this calculation.\n",
      "  warn(\n",
      "/home/timber/miniconda3/envs/polybuild_env/lib/python3.11/site-packages/mbuild/compound.py:400: UserWarning: Some particle of <C pos=([-0.7795 -0.5405  0.4315]), 4 bonds, id: 139812344054224> does not have a charge.They will not be accounted for during this calculation.\n",
      "  warn(\n",
      "/home/timber/miniconda3/envs/polybuild_env/lib/python3.11/site-packages/mbuild/compound.py:400: UserWarning: Some particle of <H pos=([-0.4225 -0.5127  0.2015]), 1 bonds, id: 139812344057808> does not have a charge.They will not be accounted for during this calculation.\n",
      "  warn(\n",
      "/home/timber/miniconda3/envs/polybuild_env/lib/python3.11/site-packages/mbuild/compound.py:400: UserWarning: Some particle of <H pos=([-0.515  -0.4275  0.0724]), 1 bonds, id: 139812344056912> does not have a charge.They will not be accounted for during this calculation.\n",
      "  warn(\n",
      "/home/timber/miniconda3/envs/polybuild_env/lib/python3.11/site-packages/mbuild/compound.py:400: UserWarning: Some particle of <H pos=([-0.716  -0.4939  0.1804]), 1 bonds, id: 139812344055952> does not have a charge.They will not be accounted for during this calculation.\n",
      "  warn(\n",
      "/home/timber/miniconda3/envs/polybuild_env/lib/python3.11/site-packages/mbuild/compound.py:400: UserWarning: Some particle of <H pos=([-0.493  -0.3742  0.4687]), 1 bonds, id: 139812344056720> does not have a charge.They will not be accounted for during this calculation.\n",
      "  warn(\n",
      "/home/timber/miniconda3/envs/polybuild_env/lib/python3.11/site-packages/mbuild/compound.py:400: UserWarning: Some particle of <H pos=([-0.4467 -0.5482  0.4481]), 1 bonds, id: 139812344057360> does not have a charge.They will not be accounted for during this calculation.\n",
      "  warn(\n",
      "/home/timber/miniconda3/envs/polybuild_env/lib/python3.11/site-packages/mbuild/compound.py:400: UserWarning: Some particle of <H pos=([-0.5595 -0.4994  0.579 ]), 1 bonds, id: 139812344055376> does not have a charge.They will not be accounted for during this calculation.\n",
      "  warn(\n",
      "/home/timber/miniconda3/envs/polybuild_env/lib/python3.11/site-packages/mbuild/compound.py:400: UserWarning: Some particle of <H pos=([-0.8555 -0.4635  0.4063]), 1 bonds, id: 139812344054864> does not have a charge.They will not be accounted for during this calculation.\n",
      "  warn(\n",
      "/home/timber/miniconda3/envs/polybuild_env/lib/python3.11/site-packages/mbuild/compound.py:400: UserWarning: Some particle of <H pos=([-0.8092 -0.6372  0.3857]), 1 bonds, id: 139812344055632> does not have a charge.They will not be accounted for during this calculation.\n",
      "  warn(\n",
      "/home/timber/miniconda3/envs/polybuild_env/lib/python3.11/site-packages/mbuild/compound.py:400: UserWarning: Some particle of <C pos=([-0.7782 -0.5532  0.5418]), 4 bonds, id: 139812344053200> does not have a charge.They will not be accounted for during this calculation.\n",
      "  warn(\n",
      "/home/timber/miniconda3/envs/polybuild_env/lib/python3.11/site-packages/mbuild/compound.py:400: UserWarning: Some particle of <C pos=([-0.8831 -0.6521  0.5838]), 3 bonds, id: 139812344039056> does not have a charge.They will not be accounted for during this calculation.\n",
      "  warn(\n",
      "/home/timber/miniconda3/envs/polybuild_env/lib/python3.11/site-packages/mbuild/compound.py:400: UserWarning: Some particle of <C pos=([-1.015  -0.6345  0.5609]), 3 bonds, id: 139812344038544> does not have a charge.They will not be accounted for during this calculation.\n",
      "  warn(\n",
      "/home/timber/miniconda3/envs/polybuild_env/lib/python3.11/site-packages/mbuild/compound.py:400: UserWarning: Some particle of <C pos=([-1.0669 -0.5117  0.49  ]), 4 bonds, id: 139812344038800> does not have a charge.They will not be accounted for during this calculation.\n",
      "  warn(\n",
      "/home/timber/miniconda3/envs/polybuild_env/lib/python3.11/site-packages/mbuild/compound.py:400: UserWarning: Some particle of <C pos=([-1.1114 -0.7404  0.6076]), 4 bonds, id: 139812344038416> does not have a charge.They will not be accounted for during this calculation.\n",
      "  warn(\n",
      "/home/timber/miniconda3/envs/polybuild_env/lib/python3.11/site-packages/mbuild/compound.py:400: UserWarning: Some particle of <H pos=([-0.7958 -0.4553  0.591 ]), 1 bonds, id: 139812344037904> does not have a charge.They will not be accounted for during this calculation.\n",
      "  warn(\n",
      "/home/timber/miniconda3/envs/polybuild_env/lib/python3.11/site-packages/mbuild/compound.py:400: UserWarning: Some particle of <H pos=([-0.6779 -0.5903  0.5718]), 1 bonds, id: 139812344037648> does not have a charge.They will not be accounted for during this calculation.\n",
      "  warn(\n",
      "/home/timber/miniconda3/envs/polybuild_env/lib/python3.11/site-packages/mbuild/compound.py:400: UserWarning: Some particle of <H pos=([-0.8497 -0.7419  0.6352]), 1 bonds, id: 139812344038160> does not have a charge.They will not be accounted for during this calculation.\n",
      "  warn(\n",
      "/home/timber/miniconda3/envs/polybuild_env/lib/python3.11/site-packages/mbuild/compound.py:400: UserWarning: Some particle of <H pos=([-1.0234 -0.5055  0.3881]), 1 bonds, id: 139816069322320> does not have a charge.They will not be accounted for during this calculation.\n",
      "  warn(\n",
      "/home/timber/miniconda3/envs/polybuild_env/lib/python3.11/site-packages/mbuild/compound.py:400: UserWarning: Some particle of <H pos=([-1.0397 -0.4205  0.5473]), 1 bonds, id: 139812346224912> does not have a charge.They will not be accounted for during this calculation.\n",
      "  warn(\n",
      "/home/timber/miniconda3/envs/polybuild_env/lib/python3.11/site-packages/mbuild/compound.py:400: UserWarning: Some particle of <H pos=([-1.1774 -0.5141  0.48  ]), 1 bonds, id: 139812346223376> does not have a charge.They will not be accounted for during this calculation.\n",
      "  warn(\n",
      "/home/timber/miniconda3/envs/polybuild_env/lib/python3.11/site-packages/mbuild/compound.py:400: UserWarning: Some particle of <H pos=([-1.0873 -0.8372  0.5588]), 1 bonds, id: 139812346224528> does not have a charge.They will not be accounted for during this calculation.\n",
      "  warn(\n",
      "/home/timber/miniconda3/envs/polybuild_env/lib/python3.11/site-packages/mbuild/compound.py:400: UserWarning: Some particle of <H pos=([-1.1036 -0.7523  0.7177]), 1 bonds, id: 139812346220112> does not have a charge.They will not be accounted for during this calculation.\n",
      "  warn(\n",
      "/home/timber/miniconda3/envs/polybuild_env/lib/python3.11/site-packages/mbuild/compound.py:400: UserWarning: Some particle of <C pos=([-1.2163 -0.7142  0.5828]), 4 bonds, id: 139812344167376> does not have a charge.They will not be accounted for during this calculation.\n",
      "  warn(\n",
      "/home/timber/miniconda3/envs/polybuild_env/lib/python3.11/site-packages/mbuild/compound.py:400: UserWarning: Some particle of <C pos=([-1.3104 -0.7794  0.6801]), 3 bonds, id: 139812344162064> does not have a charge.They will not be accounted for during this calculation.\n",
      "  warn(\n",
      "/home/timber/miniconda3/envs/polybuild_env/lib/python3.11/site-packages/mbuild/compound.py:400: UserWarning: Some particle of <C pos=([-1.3197 -0.9131  0.6959]), 3 bonds, id: 139812344162000> does not have a charge.They will not be accounted for during this calculation.\n",
      "  warn(\n",
      "/home/timber/miniconda3/envs/polybuild_env/lib/python3.11/site-packages/mbuild/compound.py:400: UserWarning: Some particle of <C pos=([-1.2344 -1.0081  0.6152]), 4 bonds, id: 139812344161296> does not have a charge.They will not be accounted for during this calculation.\n",
      "  warn(\n",
      "/home/timber/miniconda3/envs/polybuild_env/lib/python3.11/site-packages/mbuild/compound.py:400: UserWarning: Some particle of <C pos=([-1.4176 -0.9676  0.7965]), 4 bonds, id: 139812344161232> does not have a charge.They will not be accounted for during this calculation.\n",
      "  warn(\n",
      "/home/timber/miniconda3/envs/polybuild_env/lib/python3.11/site-packages/mbuild/compound.py:400: UserWarning: Some particle of <H pos=([-1.2397 -0.7466  0.4793]), 1 bonds, id: 139812344161680> does not have a charge.They will not be accounted for during this calculation.\n",
      "  warn(\n",
      "/home/timber/miniconda3/envs/polybuild_env/lib/python3.11/site-packages/mbuild/compound.py:400: UserWarning: Some particle of <H pos=([-1.2274 -0.6038  0.5886]), 1 bonds, id: 139812344161488> does not have a charge.They will not be accounted for during this calculation.\n",
      "  warn(\n",
      "/home/timber/miniconda3/envs/polybuild_env/lib/python3.11/site-packages/mbuild/compound.py:400: UserWarning: Some particle of <H pos=([-1.3735 -0.7143  0.7401]), 1 bonds, id: 139812344160912> does not have a charge.They will not be accounted for during this calculation.\n",
      "  warn(\n",
      "/home/timber/miniconda3/envs/polybuild_env/lib/python3.11/site-packages/mbuild/compound.py:400: UserWarning: Some particle of <H pos=([-1.1269 -0.9887  0.6349]), 1 bonds, id: 139812344160848> does not have a charge.They will not be accounted for during this calculation.\n",
      "  warn(\n",
      "/home/timber/miniconda3/envs/polybuild_env/lib/python3.11/site-packages/mbuild/compound.py:400: UserWarning: Some particle of <H pos=([-1.255  -0.9949  0.5069]), 1 bonds, id: 139812344160528> does not have a charge.They will not be accounted for during this calculation.\n",
      "  warn(\n",
      "/home/timber/miniconda3/envs/polybuild_env/lib/python3.11/site-packages/mbuild/compound.py:400: UserWarning: Some particle of <H pos=([-1.2554 -1.1139  0.6413]), 1 bonds, id: 139812344160464> does not have a charge.They will not be accounted for during this calculation.\n",
      "  warn(\n",
      "/home/timber/miniconda3/envs/polybuild_env/lib/python3.11/site-packages/mbuild/compound.py:400: UserWarning: Some particle of <H pos=([-1.3927 -0.9292  0.8977]), 1 bonds, id: 139812344159888> does not have a charge.They will not be accounted for during this calculation.\n",
      "  warn(\n",
      "/home/timber/miniconda3/envs/polybuild_env/lib/python3.11/site-packages/mbuild/compound.py:400: UserWarning: Some particle of <H pos=([-1.5206 -0.9354  0.7699]), 1 bonds, id: 139812344159696> does not have a charge.They will not be accounted for during this calculation.\n",
      "  warn(\n",
      "/home/timber/miniconda3/envs/polybuild_env/lib/python3.11/site-packages/mbuild/compound.py:400: UserWarning: Some particle of <C pos=([-1.4157 -1.0785  0.7999]), 4 bonds, id: 139812344034640> does not have a charge.They will not be accounted for during this calculation.\n",
      "  warn(\n",
      "/home/timber/miniconda3/envs/polybuild_env/lib/python3.11/site-packages/mbuild/compound.py:400: UserWarning: Some particle of <C pos=([-1.5485 -1.1313  0.8459]), 3 bonds, id: 139812344028048> does not have a charge.They will not be accounted for during this calculation.\n",
      "  warn(\n",
      "/home/timber/miniconda3/envs/polybuild_env/lib/python3.11/site-packages/mbuild/compound.py:400: UserWarning: Some particle of <C pos=([-1.6023 -1.1022  0.9662]), 3 bonds, id: 139812344027920> does not have a charge.They will not be accounted for during this calculation.\n",
      "  warn(\n",
      "/home/timber/miniconda3/envs/polybuild_env/lib/python3.11/site-packages/mbuild/compound.py:400: UserWarning: Some particle of <C pos=([-1.531  -1.0128  1.0648]), 4 bonds, id: 139812344027728> does not have a charge.They will not be accounted for during this calculation.\n",
      "  warn(\n",
      "/home/timber/miniconda3/envs/polybuild_env/lib/python3.11/site-packages/mbuild/compound.py:400: UserWarning: Some particle of <C pos=([-1.7364 -1.1609  1.0017]), 4 bonds, id: 139812344027536> does not have a charge.They will not be accounted for during this calculation.\n",
      "  warn(\n",
      "/home/timber/miniconda3/envs/polybuild_env/lib/python3.11/site-packages/mbuild/compound.py:400: UserWarning: Some particle of <H pos=([-1.3352 -1.1125  0.8684]), 1 bonds, id: 139812344027600> does not have a charge.They will not be accounted for during this calculation.\n",
      "  warn(\n",
      "/home/timber/miniconda3/envs/polybuild_env/lib/python3.11/site-packages/mbuild/compound.py:400: UserWarning: Some particle of <H pos=([-1.3937 -1.1165  0.698 ]), 1 bonds, id: 139812344027344> does not have a charge.They will not be accounted for during this calculation.\n",
      "  warn(\n",
      "/home/timber/miniconda3/envs/polybuild_env/lib/python3.11/site-packages/mbuild/compound.py:400: UserWarning: Some particle of <H pos=([-1.603  -1.1961  0.7776]), 1 bonds, id: 139812344027152> does not have a charge.They will not be accounted for during this calculation.\n",
      "  warn(\n",
      "/home/timber/miniconda3/envs/polybuild_env/lib/python3.11/site-packages/mbuild/compound.py:400: UserWarning: Some particle of <H pos=([-1.5151 -0.9123  1.0203]), 1 bonds, id: 139812344026832> does not have a charge.They will not be accounted for during this calculation.\n",
      "  warn(\n",
      "/home/timber/miniconda3/envs/polybuild_env/lib/python3.11/site-packages/mbuild/compound.py:400: UserWarning: Some particle of <H pos=([-1.4328 -1.057   1.092 ]), 1 bonds, id: 139812344033552> does not have a charge.They will not be accounted for during this calculation.\n",
      "  warn(\n",
      "/home/timber/miniconda3/envs/polybuild_env/lib/python3.11/site-packages/mbuild/compound.py:400: UserWarning: Some particle of <H pos=([-1.5898 -1.      1.1581]), 1 bonds, id: 139812344033744> does not have a charge.They will not be accounted for during this calculation.\n",
      "  warn(\n",
      "/home/timber/miniconda3/envs/polybuild_env/lib/python3.11/site-packages/mbuild/compound.py:400: UserWarning: Some particle of <H pos=([-1.8127 -1.1274  0.9283]), 1 bonds, id: 139812344026576> does not have a charge.They will not be accounted for during this calculation.\n",
      "  warn(\n",
      "/home/timber/miniconda3/envs/polybuild_env/lib/python3.11/site-packages/mbuild/compound.py:400: UserWarning: Some particle of <H pos=([-1.7305 -1.2718  0.9999]), 1 bonds, id: 139812344026384> does not have a charge.They will not be accounted for during this calculation.\n",
      "  warn(\n",
      "/home/timber/miniconda3/envs/polybuild_env/lib/python3.11/site-packages/mbuild/compound.py:400: UserWarning: Some particle of <C pos=([-1.7694 -1.1295  1.1029]), 4 bonds, id: 139812343998864> does not have a charge.They will not be accounted for during this calculation.\n",
      "  warn(\n",
      "/home/timber/miniconda3/envs/polybuild_env/lib/python3.11/site-packages/mbuild/compound.py:400: UserWarning: Some particle of <C pos=([-1.8619 -1.2324  1.1615]), 3 bonds, id: 139812343992528> does not have a charge.They will not be accounted for during this calculation.\n",
      "  warn(\n",
      "/home/timber/miniconda3/envs/polybuild_env/lib/python3.11/site-packages/mbuild/compound.py:400: UserWarning: Some particle of <C pos=([-1.9795 -1.2671  1.105 ]), 3 bonds, id: 139812343993168> does not have a charge.They will not be accounted for during this calculation.\n",
      "  warn(\n",
      "/home/timber/miniconda3/envs/polybuild_env/lib/python3.11/site-packages/mbuild/compound.py:400: UserWarning: Some particle of <C pos=([-2.0269 -1.2036  0.9764]), 4 bonds, id: 139812343992400> does not have a charge.They will not be accounted for during this calculation.\n",
      "  warn(\n",
      "/home/timber/miniconda3/envs/polybuild_env/lib/python3.11/site-packages/mbuild/compound.py:400: UserWarning: Some particle of <C pos=([-2.0643 -1.3716  1.1726]), 4 bonds, id: 139812343992336> does not have a charge.They will not be accounted for during this calculation.\n",
      "  warn(\n",
      "/home/timber/miniconda3/envs/polybuild_env/lib/python3.11/site-packages/mbuild/compound.py:400: UserWarning: Some particle of <H pos=([-1.8205 -1.0311  1.0969]), 1 bonds, id: 139812343991952> does not have a charge.They will not be accounted for during this calculation.\n",
      "  warn(\n",
      "/home/timber/miniconda3/envs/polybuild_env/lib/python3.11/site-packages/mbuild/compound.py:400: UserWarning: Some particle of <H pos=([-1.6798 -1.1189  1.1676]), 1 bonds, id: 139812343991440> does not have a charge.They will not be accounted for during this calculation.\n",
      "  warn(\n",
      "/home/timber/miniconda3/envs/polybuild_env/lib/python3.11/site-packages/mbuild/compound.py:400: UserWarning: Some particle of <H pos=([-1.8312 -1.2804  1.2541]), 1 bonds, id: 139812343992208> does not have a charge.They will not be accounted for during this calculation.\n",
      "  warn(\n",
      "/home/timber/miniconda3/envs/polybuild_env/lib/python3.11/site-packages/mbuild/compound.py:400: UserWarning: Some particle of <H pos=([-1.954  -1.2234  0.8951]), 1 bonds, id: 139812343991312> does not have a charge.They will not be accounted for during this calculation.\n",
      "  warn(\n",
      "/home/timber/miniconda3/envs/polybuild_env/lib/python3.11/site-packages/mbuild/compound.py:400: UserWarning: Some particle of <H pos=([-2.0379 -1.0939  0.9902]), 1 bonds, id: 139812343991248> does not have a charge.They will not be accounted for during this calculation.\n",
      "  warn(\n",
      "/home/timber/miniconda3/envs/polybuild_env/lib/python3.11/site-packages/mbuild/compound.py:400: UserWarning: Some particle of <H pos=([-2.1253 -1.2441  0.9449]), 1 bonds, id: 139812343990928> does not have a charge.They will not be accounted for during this calculation.\n",
      "  warn(\n",
      "/home/timber/miniconda3/envs/polybuild_env/lib/python3.11/site-packages/mbuild/compound.py:400: UserWarning: Some particle of <H pos=([-2.0076 -1.4669  1.1799]), 1 bonds, id: 139812343990416> does not have a charge.They will not be accounted for during this calculation.\n",
      "  warn(\n",
      "/home/timber/miniconda3/envs/polybuild_env/lib/python3.11/site-packages/mbuild/compound.py:400: UserWarning: Some particle of <H pos=([-2.0914 -1.3376  1.2748]), 1 bonds, id: 139812343990672> does not have a charge.They will not be accounted for during this calculation.\n",
      "  warn(\n",
      "/home/timber/miniconda3/envs/polybuild_env/lib/python3.11/site-packages/mbuild/compound.py:400: UserWarning: Some particle of <C pos=([ 0.1752  0.0801 -0.1422]), 4 bonds, id: 139812343967824> does not have a charge.They will not be accounted for during this calculation.\n",
      "  warn(\n",
      "/home/timber/miniconda3/envs/polybuild_env/lib/python3.11/site-packages/mbuild/compound.py:400: UserWarning: Some particle of <C pos=([ 0.0539  0.1656 -0.1188]), 3 bonds, id: 139812343957392> does not have a charge.They will not be accounted for during this calculation.\n",
      "  warn(\n",
      "/home/timber/miniconda3/envs/polybuild_env/lib/python3.11/site-packages/mbuild/compound.py:400: UserWarning: Some particle of <C pos=([-0.0683  0.1151 -0.0919]), 3 bonds, id: 139812343957072> does not have a charge.They will not be accounted for during this calculation.\n",
      "  warn(\n",
      "/home/timber/miniconda3/envs/polybuild_env/lib/python3.11/site-packages/mbuild/compound.py:400: UserWarning: Some particle of <C pos=([-0.092  -0.0338 -0.0833]), 4 bonds, id: 139812343956560> does not have a charge.They will not be accounted for during this calculation.\n",
      "  warn(\n",
      "/home/timber/miniconda3/envs/polybuild_env/lib/python3.11/site-packages/mbuild/compound.py:400: UserWarning: Some particle of <C pos=([-0.1829  0.2105 -0.0702]), 4 bonds, id: 139812343956816> does not have a charge.They will not be accounted for during this calculation.\n",
      "  warn(\n",
      "/home/timber/miniconda3/envs/polybuild_env/lib/python3.11/site-packages/mbuild/compound.py:400: UserWarning: Some particle of <H pos=([ 0.1592  0.0141 -0.23  ]), 1 bonds, id: 139812343956432> does not have a charge.They will not be accounted for during this calculation.\n",
      "  warn(\n",
      "/home/timber/miniconda3/envs/polybuild_env/lib/python3.11/site-packages/mbuild/compound.py:400: UserWarning: Some particle of <H pos=([ 0.2631  0.1448 -0.1622]), 1 bonds, id: 139812343955920> does not have a charge.They will not be accounted for during this calculation.\n",
      "  warn(\n",
      "/home/timber/miniconda3/envs/polybuild_env/lib/python3.11/site-packages/mbuild/compound.py:400: UserWarning: Some particle of <H pos=([ 0.0669  0.2734 -0.1242]), 1 bonds, id: 139812343955664> does not have a charge.They will not be accounted for during this calculation.\n",
      "  warn(\n",
      "/home/timber/miniconda3/envs/polybuild_env/lib/python3.11/site-packages/mbuild/compound.py:400: UserWarning: Some particle of <H pos=([-0.0293 -0.0775 -0.0028]), 1 bonds, id: 139812343955728> does not have a charge.They will not be accounted for during this calculation.\n",
      "  warn(\n",
      "/home/timber/miniconda3/envs/polybuild_env/lib/python3.11/site-packages/mbuild/compound.py:400: UserWarning: Some particle of <H pos=([-0.0665 -0.0818 -0.1801]), 1 bonds, id: 139812343954640> does not have a charge.They will not be accounted for during this calculation.\n",
      "  warn(\n",
      "/home/timber/miniconda3/envs/polybuild_env/lib/python3.11/site-packages/mbuild/compound.py:400: UserWarning: Some particle of <H pos=([-0.1981 -0.0569 -0.0605]), 1 bonds, id: 139812343952464> does not have a charge.They will not be accounted for during this calculation.\n",
      "  warn(\n",
      "/home/timber/miniconda3/envs/polybuild_env/lib/python3.11/site-packages/mbuild/compound.py:400: UserWarning: Some particle of <H pos=([-0.1606  0.277   0.0159]), 1 bonds, id: 139812343953616> does not have a charge.They will not be accounted for during this calculation.\n",
      "  warn(\n",
      "/home/timber/miniconda3/envs/polybuild_env/lib/python3.11/site-packages/mbuild/compound.py:400: UserWarning: Some particle of <H pos=([-0.1977  0.2727 -0.1611]), 1 bonds, id: 139812343952528> does not have a charge.They will not be accounted for during this calculation.\n",
      "  warn(\n",
      "/home/timber/miniconda3/envs/polybuild_env/lib/python3.11/site-packages/mbuild/compound.py:400: UserWarning: Some particle of <H pos=([-0.2776  0.1568 -0.049 ]), 1 bonds, id: 139812343955216> does not have a charge.They will not be accounted for during this calculation.\n",
      "  warn(\n",
      "/home/timber/miniconda3/envs/polybuild_env/lib/python3.11/site-packages/mbuild/compound.py:400: UserWarning: Some particle of <H pos=([-2.1566 -1.3909  1.1172]), 1 bonds, id: 139812343949392> does not have a charge.They will not be accounted for during this calculation.\n",
      "  warn(\n"
     ]
    },
    {
     "data": {
      "application/3dmoljs_load.v0": "<div id=\"3dmolviewer_1674248939668965\"  style=\"position: relative; width: 640px; height: 480px\">\n        <p id=\"3dmolwarning_1674248939668965\" style=\"background-color:#ffcccc;color:black\">You appear to be running in JupyterLab (or JavaScript failed to load for some other reason).  You need to install the 3dmol extension: <br>\n        <tt>jupyter labextension install jupyterlab_3dmol</tt></p>\n        </div>\n<script>\n\nvar loadScriptAsync = function(uri){\n  return new Promise((resolve, reject) => {\n    //this is to ignore the existence of requirejs amd\n    var savedexports, savedmodule;\n    if (typeof exports !== 'undefined') savedexports = exports;\n    else exports = {}\n    if (typeof module !== 'undefined') savedmodule = module;\n    else module = {}\n\n    var tag = document.createElement('script');\n    tag.src = uri;\n    tag.async = true;\n    tag.onload = () => {\n        exports = savedexports;\n        module = savedmodule;\n        resolve();\n    };\n  var firstScriptTag = document.getElementsByTagName('script')[0];\n  firstScriptTag.parentNode.insertBefore(tag, firstScriptTag);\n});\n};\n\nif(typeof $3Dmolpromise === 'undefined') {\n$3Dmolpromise = null;\n  $3Dmolpromise = loadScriptAsync('https://cdn.jsdelivr.net/npm/3dmol@latest/build/3Dmol-min.min.js');\n}\n\nvar viewer_1674248939668965 = null;\nvar warn = document.getElementById(\"3dmolwarning_1674248939668965\");\nif(warn) {\n    warn.parentNode.removeChild(warn);\n}\n$3Dmolpromise.then(function() {\nviewer_1674248939668965 = $3Dmol.createViewer(document.getElementById(\"3dmolviewer_1674248939668965\"),{backgroundColor:\"white\"});\nviewer_1674248939668965.zoomTo();\n\tviewer_1674248939668965.addModel(\"@<TRIPOS>MOLECULE\\nRES\\n106 105 1 0 1\\nSMALL\\nNO_CHARGES\\n@<TRIPOS>CRYSIN\\n   29.4066    22.4389    20.0478    90.0000    90.0000    90.0000  1  1\\n@<TRIPOS>ATOM\\n       1 C            1.9645     0.1848    -0.5232 C             1 RES     \\n       2 C            0.7760    -0.6704    -0.1882 C             1 RES     \\n       3 C           -0.4371    -0.1657     0.1195 C             1 RES     \\n       4 C           -0.6872     1.3234     0.1486 C             1 RES     \\n       5 C           -1.5585    -1.1196     0.4392 C             1 RES     \\n       6 H            2.2152     0.8445     0.3337 H             1 RES     \\n       7 H            2.8405    -0.4623    -0.7384 H             1 RES     \\n       8 H            0.9160    -1.7486    -0.1985 H             1 RES     \\n       9 H           -0.4879     1.7607    -0.8522 H             1 RES     \\n      10 H           -0.0255     1.8041     0.8994 H             1 RES     \\n      11 H           -1.7381     1.5548     0.4203 H             1 RES     \\n      12 H           -1.7455    -1.7841    -0.4309 H             1 RES     \\n      13 H           -1.2838    -1.7408     1.3179 H             1 RES     \\n      14 C           -2.5006    -0.5817     0.6745 C             1 RES     \\n      15 C           -3.3625    -1.4172     1.5774 C             1 RES     \\n      16 C           -3.8328    -2.6347     1.2348 C             1 RES     \\n      17 C           -3.5181    -3.2526    -0.1068 C             1 RES     \\n      18 C           -4.6897    -3.3841     2.2217 C             1 RES     \\n      19 H           -3.0440    -0.3478    -0.2648 H             1 RES     \\n      20 H           -2.2450     0.3723     1.1813 H             1 RES     \\n      21 H           -3.6113    -1.0065     2.5529 H             1 RES     \\n      22 H           -2.4204    -3.3746    -0.2196 H             1 RES     \\n      23 H           -3.9027    -2.6044    -0.9220 H             1 RES     \\n      24 H           -3.9867    -4.2528    -0.2147 H             1 RES     \\n      25 H           -4.1184    -3.5591     3.1579 H             1 RES     \\n      26 H           -5.5984    -2.7901     2.4566 H             1 RES     \\n      27 C           -5.0116    -4.3682     1.8217 C             1 RES     \\n      28 C           -6.3053    -4.7884     2.4588 C             1 RES     \\n      29 C           -6.4487    -4.9838     3.7862 C             1 RES     \\n      30 C           -5.2948    -4.7894     4.7410 C             1 RES     \\n      31 C           -7.7951    -5.4051     4.3150 C             1 RES     \\n      32 H           -4.2251    -5.1275     2.0153 H             1 RES     \\n      33 H           -5.1495    -4.2750     0.7242 H             1 RES     \\n      34 H           -7.1602    -4.9387     1.8040 H             1 RES     \\n      35 H           -4.9304    -3.7421     4.6866 H             1 RES     \\n      36 H           -4.4669    -5.4818     4.4806 H             1 RES     \\n      37 H           -5.5949    -4.9935     5.7897 H             1 RES     \\n      38 H           -8.5550    -4.6354     4.0627 H             1 RES     \\n      39 H           -8.0922    -6.3724     3.8570 H             1 RES     \\n      40 C           -7.7817    -5.5321     5.4176 C             1 RES     \\n      41 C           -8.8315    -6.5208     5.8380 C             1 RES     \\n      42 C          -10.1496    -6.3446     5.6090 C             1 RES     \\n      43 C          -10.6694    -5.1165     4.9001 C             1 RES     \\n      44 C          -11.1138    -7.4039     6.0759 C             1 RES     \\n      45 H           -7.9584    -4.5532     5.9105 H             1 RES     \\n      46 H           -6.7793    -5.9026     5.7180 H             1 RES     \\n      47 H           -8.4966    -7.4186     6.3517 H             1 RES     \\n      48 H          -10.2344    -5.0550     3.8805 H             1 RES     \\n      49 H          -10.3974    -4.2050     5.4726 H             1 RES     \\n      50 H          -11.7744    -5.1410     4.8001 H             1 RES     \\n      51 H          -10.8728    -8.3720     5.5878 H             1 RES     \\n      52 H          -11.0356    -7.5233     7.1774 H             1 RES     \\n      53 C          -12.1635    -7.1415     5.8284 C             1 RES     \\n      54 C          -13.1038    -7.7943     6.8009 C             1 RES     \\n      55 C          -13.1966    -9.1312     6.9585 C             1 RES     \\n      56 C          -12.3439   -10.0813     6.1516 C             1 RES     \\n      57 C          -14.1764    -9.6756     7.9653 C             1 RES     \\n      58 H          -12.3974    -7.4662     4.7929 H             1 RES     \\n      59 H          -12.2744    -6.0385     5.8858 H             1 RES     \\n      60 H          -13.7350    -7.1433     7.4008 H             1 RES     \\n      61 H          -11.2689    -9.8865     6.3490 H             1 RES     \\n      62 H          -12.5499    -9.9486     5.0687 H             1 RES     \\n      63 H          -12.5538   -11.1393     6.4129 H             1 RES     \\n      64 H          -13.9266    -9.2920     8.9773 H             1 RES     \\n      65 H          -15.2056    -9.3541     7.6990 H             1 RES     \\n      66 C          -14.1565   -10.7849     7.9993 C             1 RES     \\n      67 C          -15.4854   -11.3129     8.4589 C             1 RES     \\n      68 C          -16.0226   -11.0220     9.6620 C             1 RES     \\n      69 C          -15.3098   -10.1276    10.6483 C             1 RES     \\n      70 C          -17.3640   -11.6089    10.0173 C             1 RES     \\n      71 H          -13.3517   -11.1251     8.6840 H             1 RES     \\n      72 H          -13.9367   -11.1652     6.9798 H             1 RES     \\n      73 H          -16.0299   -11.9610     7.7764 H             1 RES     \\n      74 H          -15.1512    -9.1231    10.2028 H             1 RES     \\n      75 H          -14.3283   -10.5696    10.9200 H             1 RES     \\n      76 H          -15.8976    -9.9996    11.5809 H             1 RES     \\n      77 H          -18.1267   -11.2736     9.2829 H             1 RES     \\n      78 H          -17.3052   -12.7179     9.9989 H             1 RES     \\n      79 C          -17.6944   -11.2950    11.0295 C             1 RES     \\n      80 C          -18.6193   -12.3237    11.6147 C             1 RES     \\n      81 C          -19.7945   -12.6707    11.0497 C             1 RES     \\n      82 C          -20.2694   -12.0355     9.7644 C             1 RES     \\n      83 C          -20.6425   -13.7164    11.7259 C             1 RES     \\n      84 H          -18.2049   -10.3111    10.9694 H             1 RES     \\n      85 H          -16.7983   -11.1887    11.6760 H             1 RES     \\n      86 H          -18.3123   -12.8041    12.5405 H             1 RES     \\n      87 H          -19.5399   -12.2343     8.9515 H             1 RES     \\n      88 H          -20.3791   -10.9393     9.9016 H             1 RES     \\n      89 H          -21.2530   -12.4412     9.4486 H             1 RES     \\n      90 H          -20.0762   -14.6690    11.7991 H             1 RES     \\n      91 H          -20.9140   -13.3761    12.7477 H             1 RES     \\n      92 C            1.7518     0.8010    -1.4217 C             1 RES     \\n      93 C            0.5392     1.6561    -1.1882 C             1 RES     \\n      94 C           -0.6830     1.1515    -0.9195 C             1 RES     \\n      95 C           -0.9197    -0.3377    -0.8334 C             1 RES     \\n      96 C           -1.8288     2.1054    -0.7024 C             1 RES     \\n      97 H            1.5917     0.1413    -2.3001 H             1 RES     \\n      98 H            2.6313     1.4481    -1.6221 H             1 RES     \\n      99 H            0.6690     2.7343    -1.2419 H             1 RES     \\n     100 H           -0.2928    -0.7750    -0.0281 H             1 RES     \\n     101 H           -0.6648    -0.8183    -1.8011 H             1 RES     \\n     102 H           -1.9808    -0.5690    -0.6051 H             1 RES     \\n     103 H           -1.6058     2.7699     0.1592 H             1 RES     \\n     104 H           -1.9772     2.7266    -1.6111 H             1 RES     \\n     105 H           -2.7762     1.5675    -0.4904 H             1 RES     \\n     106 H          -21.5662   -13.9086    11.1721 H             1 RES     \\n@<TRIPOS>BOND\\n       1        2        1 1\\n       2        6        1 1\\n       3        7        1 1\\n       4       92        1 1\\n       5        3        2 1\\n       6        8        2 1\\n       7        4        3 1\\n       8        5        3 1\\n       9        9        4 1\\n      10       10        4 1\\n      11       11        4 1\\n      12       12        5 1\\n      13       13        5 1\\n      14       14        5 1\\n      15       15       14 1\\n      16       19       14 1\\n      17       20       14 1\\n      18       16       15 1\\n      19       21       15 1\\n      20       17       16 1\\n      21       18       16 1\\n      22       22       17 1\\n      23       23       17 1\\n      24       24       17 1\\n      25       25       18 1\\n      26       26       18 1\\n      27       27       18 1\\n      28       28       27 1\\n      29       32       27 1\\n      30       33       27 1\\n      31       29       28 1\\n      32       34       28 1\\n      33       30       29 1\\n      34       31       29 1\\n      35       35       30 1\\n      36       36       30 1\\n      37       37       30 1\\n      38       38       31 1\\n      39       39       31 1\\n      40       40       31 1\\n      41       41       40 1\\n      42       45       40 1\\n      43       46       40 1\\n      44       42       41 1\\n      45       47       41 1\\n      46       43       42 1\\n      47       44       42 1\\n      48       48       43 1\\n      49       49       43 1\\n      50       50       43 1\\n      51       51       44 1\\n      52       52       44 1\\n      53       53       44 1\\n      54       54       53 1\\n      55       58       53 1\\n      56       59       53 1\\n      57       55       54 1\\n      58       60       54 1\\n      59       56       55 1\\n      60       57       55 1\\n      61       61       56 1\\n      62       62       56 1\\n      63       63       56 1\\n      64       64       57 1\\n      65       65       57 1\\n      66       66       57 1\\n      67       67       66 1\\n      68       71       66 1\\n      69       72       66 1\\n      70       68       67 1\\n      71       73       67 1\\n      72       69       68 1\\n      73       70       68 1\\n      74       74       69 1\\n      75       75       69 1\\n      76       76       69 1\\n      77       77       70 1\\n      78       78       70 1\\n      79       79       70 1\\n      80       80       79 1\\n      81       84       79 1\\n      82       85       79 1\\n      83       81       80 1\\n      84       86       80 1\\n      85       82       81 1\\n      86       83       81 1\\n      87       87       82 1\\n      88       88       82 1\\n      89       89       82 1\\n      90       90       83 1\\n      91       91       83 1\\n      92      106       83 1\\n      93       93       92 1\\n      94       97       92 1\\n      95       98       92 1\\n      96       94       93 1\\n      97       99       93 1\\n      98       95       94 1\\n      99       96       94 1\\n     100      100       95 1\\n     101      101       95 1\\n     102      102       95 1\\n     103      103       96 1\\n     104      104       96 1\\n     105      105       96 1\\n@<TRIPOS>SUBSTRUCTURE\\n       1 RES             1 RESIDUE    0 **** ROOT      0\\n\",\"mol2\");\n\tviewer_1674248939668965.setStyle({\"stick\": {\"radius\": 0.2, \"color\": \"grey\"}, \"sphere\": {\"scale\": 0.3, \"colorscheme\": {}}});\n\tviewer_1674248939668965.zoomTo();\nviewer_1674248939668965.render();\n});\n</script>",
      "text/html": [
       "<div id=\"3dmolviewer_1674248939668965\"  style=\"position: relative; width: 640px; height: 480px\">\n",
       "        <p id=\"3dmolwarning_1674248939668965\" style=\"background-color:#ffcccc;color:black\">You appear to be running in JupyterLab (or JavaScript failed to load for some other reason).  You need to install the 3dmol extension: <br>\n",
       "        <tt>jupyter labextension install jupyterlab_3dmol</tt></p>\n",
       "        </div>\n",
       "<script>\n",
       "\n",
       "var loadScriptAsync = function(uri){\n",
       "  return new Promise((resolve, reject) => {\n",
       "    //this is to ignore the existence of requirejs amd\n",
       "    var savedexports, savedmodule;\n",
       "    if (typeof exports !== 'undefined') savedexports = exports;\n",
       "    else exports = {}\n",
       "    if (typeof module !== 'undefined') savedmodule = module;\n",
       "    else module = {}\n",
       "\n",
       "    var tag = document.createElement('script');\n",
       "    tag.src = uri;\n",
       "    tag.async = true;\n",
       "    tag.onload = () => {\n",
       "        exports = savedexports;\n",
       "        module = savedmodule;\n",
       "        resolve();\n",
       "    };\n",
       "  var firstScriptTag = document.getElementsByTagName('script')[0];\n",
       "  firstScriptTag.parentNode.insertBefore(tag, firstScriptTag);\n",
       "});\n",
       "};\n",
       "\n",
       "if(typeof $3Dmolpromise === 'undefined') {\n",
       "$3Dmolpromise = null;\n",
       "  $3Dmolpromise = loadScriptAsync('https://cdn.jsdelivr.net/npm/3dmol@latest/build/3Dmol-min.min.js');\n",
       "}\n",
       "\n",
       "var viewer_1674248939668965 = null;\n",
       "var warn = document.getElementById(\"3dmolwarning_1674248939668965\");\n",
       "if(warn) {\n",
       "    warn.parentNode.removeChild(warn);\n",
       "}\n",
       "$3Dmolpromise.then(function() {\n",
       "viewer_1674248939668965 = $3Dmol.createViewer(document.getElementById(\"3dmolviewer_1674248939668965\"),{backgroundColor:\"white\"});\n",
       "viewer_1674248939668965.zoomTo();\n",
       "\tviewer_1674248939668965.addModel(\"@<TRIPOS>MOLECULE\\nRES\\n106 105 1 0 1\\nSMALL\\nNO_CHARGES\\n@<TRIPOS>CRYSIN\\n   29.4066    22.4389    20.0478    90.0000    90.0000    90.0000  1  1\\n@<TRIPOS>ATOM\\n       1 C            1.9645     0.1848    -0.5232 C             1 RES     \\n       2 C            0.7760    -0.6704    -0.1882 C             1 RES     \\n       3 C           -0.4371    -0.1657     0.1195 C             1 RES     \\n       4 C           -0.6872     1.3234     0.1486 C             1 RES     \\n       5 C           -1.5585    -1.1196     0.4392 C             1 RES     \\n       6 H            2.2152     0.8445     0.3337 H             1 RES     \\n       7 H            2.8405    -0.4623    -0.7384 H             1 RES     \\n       8 H            0.9160    -1.7486    -0.1985 H             1 RES     \\n       9 H           -0.4879     1.7607    -0.8522 H             1 RES     \\n      10 H           -0.0255     1.8041     0.8994 H             1 RES     \\n      11 H           -1.7381     1.5548     0.4203 H             1 RES     \\n      12 H           -1.7455    -1.7841    -0.4309 H             1 RES     \\n      13 H           -1.2838    -1.7408     1.3179 H             1 RES     \\n      14 C           -2.5006    -0.5817     0.6745 C             1 RES     \\n      15 C           -3.3625    -1.4172     1.5774 C             1 RES     \\n      16 C           -3.8328    -2.6347     1.2348 C             1 RES     \\n      17 C           -3.5181    -3.2526    -0.1068 C             1 RES     \\n      18 C           -4.6897    -3.3841     2.2217 C             1 RES     \\n      19 H           -3.0440    -0.3478    -0.2648 H             1 RES     \\n      20 H           -2.2450     0.3723     1.1813 H             1 RES     \\n      21 H           -3.6113    -1.0065     2.5529 H             1 RES     \\n      22 H           -2.4204    -3.3746    -0.2196 H             1 RES     \\n      23 H           -3.9027    -2.6044    -0.9220 H             1 RES     \\n      24 H           -3.9867    -4.2528    -0.2147 H             1 RES     \\n      25 H           -4.1184    -3.5591     3.1579 H             1 RES     \\n      26 H           -5.5984    -2.7901     2.4566 H             1 RES     \\n      27 C           -5.0116    -4.3682     1.8217 C             1 RES     \\n      28 C           -6.3053    -4.7884     2.4588 C             1 RES     \\n      29 C           -6.4487    -4.9838     3.7862 C             1 RES     \\n      30 C           -5.2948    -4.7894     4.7410 C             1 RES     \\n      31 C           -7.7951    -5.4051     4.3150 C             1 RES     \\n      32 H           -4.2251    -5.1275     2.0153 H             1 RES     \\n      33 H           -5.1495    -4.2750     0.7242 H             1 RES     \\n      34 H           -7.1602    -4.9387     1.8040 H             1 RES     \\n      35 H           -4.9304    -3.7421     4.6866 H             1 RES     \\n      36 H           -4.4669    -5.4818     4.4806 H             1 RES     \\n      37 H           -5.5949    -4.9935     5.7897 H             1 RES     \\n      38 H           -8.5550    -4.6354     4.0627 H             1 RES     \\n      39 H           -8.0922    -6.3724     3.8570 H             1 RES     \\n      40 C           -7.7817    -5.5321     5.4176 C             1 RES     \\n      41 C           -8.8315    -6.5208     5.8380 C             1 RES     \\n      42 C          -10.1496    -6.3446     5.6090 C             1 RES     \\n      43 C          -10.6694    -5.1165     4.9001 C             1 RES     \\n      44 C          -11.1138    -7.4039     6.0759 C             1 RES     \\n      45 H           -7.9584    -4.5532     5.9105 H             1 RES     \\n      46 H           -6.7793    -5.9026     5.7180 H             1 RES     \\n      47 H           -8.4966    -7.4186     6.3517 H             1 RES     \\n      48 H          -10.2344    -5.0550     3.8805 H             1 RES     \\n      49 H          -10.3974    -4.2050     5.4726 H             1 RES     \\n      50 H          -11.7744    -5.1410     4.8001 H             1 RES     \\n      51 H          -10.8728    -8.3720     5.5878 H             1 RES     \\n      52 H          -11.0356    -7.5233     7.1774 H             1 RES     \\n      53 C          -12.1635    -7.1415     5.8284 C             1 RES     \\n      54 C          -13.1038    -7.7943     6.8009 C             1 RES     \\n      55 C          -13.1966    -9.1312     6.9585 C             1 RES     \\n      56 C          -12.3439   -10.0813     6.1516 C             1 RES     \\n      57 C          -14.1764    -9.6756     7.9653 C             1 RES     \\n      58 H          -12.3974    -7.4662     4.7929 H             1 RES     \\n      59 H          -12.2744    -6.0385     5.8858 H             1 RES     \\n      60 H          -13.7350    -7.1433     7.4008 H             1 RES     \\n      61 H          -11.2689    -9.8865     6.3490 H             1 RES     \\n      62 H          -12.5499    -9.9486     5.0687 H             1 RES     \\n      63 H          -12.5538   -11.1393     6.4129 H             1 RES     \\n      64 H          -13.9266    -9.2920     8.9773 H             1 RES     \\n      65 H          -15.2056    -9.3541     7.6990 H             1 RES     \\n      66 C          -14.1565   -10.7849     7.9993 C             1 RES     \\n      67 C          -15.4854   -11.3129     8.4589 C             1 RES     \\n      68 C          -16.0226   -11.0220     9.6620 C             1 RES     \\n      69 C          -15.3098   -10.1276    10.6483 C             1 RES     \\n      70 C          -17.3640   -11.6089    10.0173 C             1 RES     \\n      71 H          -13.3517   -11.1251     8.6840 H             1 RES     \\n      72 H          -13.9367   -11.1652     6.9798 H             1 RES     \\n      73 H          -16.0299   -11.9610     7.7764 H             1 RES     \\n      74 H          -15.1512    -9.1231    10.2028 H             1 RES     \\n      75 H          -14.3283   -10.5696    10.9200 H             1 RES     \\n      76 H          -15.8976    -9.9996    11.5809 H             1 RES     \\n      77 H          -18.1267   -11.2736     9.2829 H             1 RES     \\n      78 H          -17.3052   -12.7179     9.9989 H             1 RES     \\n      79 C          -17.6944   -11.2950    11.0295 C             1 RES     \\n      80 C          -18.6193   -12.3237    11.6147 C             1 RES     \\n      81 C          -19.7945   -12.6707    11.0497 C             1 RES     \\n      82 C          -20.2694   -12.0355     9.7644 C             1 RES     \\n      83 C          -20.6425   -13.7164    11.7259 C             1 RES     \\n      84 H          -18.2049   -10.3111    10.9694 H             1 RES     \\n      85 H          -16.7983   -11.1887    11.6760 H             1 RES     \\n      86 H          -18.3123   -12.8041    12.5405 H             1 RES     \\n      87 H          -19.5399   -12.2343     8.9515 H             1 RES     \\n      88 H          -20.3791   -10.9393     9.9016 H             1 RES     \\n      89 H          -21.2530   -12.4412     9.4486 H             1 RES     \\n      90 H          -20.0762   -14.6690    11.7991 H             1 RES     \\n      91 H          -20.9140   -13.3761    12.7477 H             1 RES     \\n      92 C            1.7518     0.8010    -1.4217 C             1 RES     \\n      93 C            0.5392     1.6561    -1.1882 C             1 RES     \\n      94 C           -0.6830     1.1515    -0.9195 C             1 RES     \\n      95 C           -0.9197    -0.3377    -0.8334 C             1 RES     \\n      96 C           -1.8288     2.1054    -0.7024 C             1 RES     \\n      97 H            1.5917     0.1413    -2.3001 H             1 RES     \\n      98 H            2.6313     1.4481    -1.6221 H             1 RES     \\n      99 H            0.6690     2.7343    -1.2419 H             1 RES     \\n     100 H           -0.2928    -0.7750    -0.0281 H             1 RES     \\n     101 H           -0.6648    -0.8183    -1.8011 H             1 RES     \\n     102 H           -1.9808    -0.5690    -0.6051 H             1 RES     \\n     103 H           -1.6058     2.7699     0.1592 H             1 RES     \\n     104 H           -1.9772     2.7266    -1.6111 H             1 RES     \\n     105 H           -2.7762     1.5675    -0.4904 H             1 RES     \\n     106 H          -21.5662   -13.9086    11.1721 H             1 RES     \\n@<TRIPOS>BOND\\n       1        2        1 1\\n       2        6        1 1\\n       3        7        1 1\\n       4       92        1 1\\n       5        3        2 1\\n       6        8        2 1\\n       7        4        3 1\\n       8        5        3 1\\n       9        9        4 1\\n      10       10        4 1\\n      11       11        4 1\\n      12       12        5 1\\n      13       13        5 1\\n      14       14        5 1\\n      15       15       14 1\\n      16       19       14 1\\n      17       20       14 1\\n      18       16       15 1\\n      19       21       15 1\\n      20       17       16 1\\n      21       18       16 1\\n      22       22       17 1\\n      23       23       17 1\\n      24       24       17 1\\n      25       25       18 1\\n      26       26       18 1\\n      27       27       18 1\\n      28       28       27 1\\n      29       32       27 1\\n      30       33       27 1\\n      31       29       28 1\\n      32       34       28 1\\n      33       30       29 1\\n      34       31       29 1\\n      35       35       30 1\\n      36       36       30 1\\n      37       37       30 1\\n      38       38       31 1\\n      39       39       31 1\\n      40       40       31 1\\n      41       41       40 1\\n      42       45       40 1\\n      43       46       40 1\\n      44       42       41 1\\n      45       47       41 1\\n      46       43       42 1\\n      47       44       42 1\\n      48       48       43 1\\n      49       49       43 1\\n      50       50       43 1\\n      51       51       44 1\\n      52       52       44 1\\n      53       53       44 1\\n      54       54       53 1\\n      55       58       53 1\\n      56       59       53 1\\n      57       55       54 1\\n      58       60       54 1\\n      59       56       55 1\\n      60       57       55 1\\n      61       61       56 1\\n      62       62       56 1\\n      63       63       56 1\\n      64       64       57 1\\n      65       65       57 1\\n      66       66       57 1\\n      67       67       66 1\\n      68       71       66 1\\n      69       72       66 1\\n      70       68       67 1\\n      71       73       67 1\\n      72       69       68 1\\n      73       70       68 1\\n      74       74       69 1\\n      75       75       69 1\\n      76       76       69 1\\n      77       77       70 1\\n      78       78       70 1\\n      79       79       70 1\\n      80       80       79 1\\n      81       84       79 1\\n      82       85       79 1\\n      83       81       80 1\\n      84       86       80 1\\n      85       82       81 1\\n      86       83       81 1\\n      87       87       82 1\\n      88       88       82 1\\n      89       89       82 1\\n      90       90       83 1\\n      91       91       83 1\\n      92      106       83 1\\n      93       93       92 1\\n      94       97       92 1\\n      95       98       92 1\\n      96       94       93 1\\n      97       99       93 1\\n      98       95       94 1\\n      99       96       94 1\\n     100      100       95 1\\n     101      101       95 1\\n     102      102       95 1\\n     103      103       96 1\\n     104      104       96 1\\n     105      105       96 1\\n@<TRIPOS>SUBSTRUCTURE\\n       1 RES             1 RESIDUE    0 **** ROOT      0\\n\",\"mol2\");\n",
       "\tviewer_1674248939668965.setStyle({\"stick\": {\"radius\": 0.2, \"color\": \"grey\"}, \"sphere\": {\"scale\": 0.3, \"colorscheme\": {}}});\n",
       "\tviewer_1674248939668965.zoomTo();\n",
       "viewer_1674248939668965.render();\n",
       "});\n",
       "</script>"
      ]
     },
     "metadata": {},
     "output_type": "display_data"
    },
    {
     "data": {
      "text/plain": [
       "<py3Dmol.view at 0x7f28991acad0>"
      ]
     },
     "execution_count": 13,
     "metadata": {},
     "output_type": "execute_result"
    }
   ],
   "source": [
    "chain.visualize()"
   ]
  },
  {
   "attachments": {},
   "cell_type": "markdown",
   "metadata": {},
   "source": [
    "## Make chains for all available polymers"
   ]
  },
  {
   "cell_type": "code",
   "execution_count": null,
   "metadata": {},
   "outputs": [
    {
     "name": "stdout",
     "output_type": "stream",
     "text": [
      "['polyphenyleneI', 'naturalrubber', 'PEO_PLGA', 'polyvinylchloride', 'paam_modified', 'syntactic_styrene', 'PolyphenyleneIII', 'polyphenylenesulfone', 'polymethylketone', 'peg_modified', 'polyethylmethacrylate', 'polyethylene', 'polyphenyleneII', 'polythiophene', 'atactic_styrene', 'bisphenolA']\n"
     ]
    }
   ],
   "source": [
    "poly_table_path = Path('compatible_pdbs/simple_polymers/Available Polymers.json')\n",
    "with poly_table_path.open('r') as poly_file:\n",
    "    inventory = json.load(poly_file)\n",
    "\n",
    "blacklist = ['PAMAM', 'vulcanizedrubber']\n",
    "mols_to_use = [mol for mol in inventory if mol not in blacklist]\n",
    "print(mols_to_use)"
   ]
  },
  {
   "cell_type": "code",
   "execution_count": 13,
   "metadata": {},
   "outputs": [
    {
     "name": "stdout",
     "output_type": "stream",
     "text": [
      "{'naturalrubber': 145, 'polyvinylchloride': 68, 'paam_modified': 112, 'syntactic_styrene': 178, 'polyphenylenesulfone': 145, 'polymethylketone': 640, 'peg_modified': 83, 'polyethylmethacrylate': 200, 'polyethylene': 68, 'polythiophene': 211, 'atactic_styrene': 178, 'bisphenolA': 364}\n"
     ]
    }
   ],
   "source": [
    "#  extensions=['pdb', 'hoomdxml', 'gsd', 'gro', 'top', 'lmp']\n",
    "from IPython.display import clear_output\n",
    "\n",
    "# mols_to_use = ['polyvinylchloride']\n",
    "\n",
    "N = 10 # number of monomer groups to build\n",
    "sizes = {}\n",
    "success, fail = [], []\n",
    "for mol_name in mols_to_use:\n",
    "    print(f'Building {mol_name}...')\n",
    "    # mol_name = 'vulcanizedrubber'#'polyethylmethacrylate'\n",
    "\n",
    "    mono_path = Path(f'compatible_pdbs/simple_polymers/{mol_name}.json')\n",
    "    try:\n",
    "        chain = build_linear_polymer(mono_path=mono_path, N=N)\n",
    "        sizes[mol_name] = sum(1 for _ in chain.particles()) # must use in place of \"len\" for generator\n",
    "        traj = chain.to_trajectory() # must convert to MDTraj trajectory to save to pdb (default save via mbuild/ParmEd omits bond info)\n",
    "        \n",
    "        outpath = Path(f'mbuild_polymers/{mol_name}')\n",
    "        outpath.mkdir(exist_ok=True)\n",
    "        outname = f'{mol_name}-N={N}'\n",
    "\n",
    "        traj.save_pdb(outpath/f'{outname}.pdb')\n",
    "        success.append(mol_name)\n",
    "    except ValueError:\n",
    "        print(f'{mol_name} cannot be assembled linearly')\n",
    "        fail.append(mol_name)\n",
    "    \n",
    "    clear_output()\n",
    "\n",
    "print(sizes, success, fail)"
   ]
  },
  {
   "cell_type": "code",
   "execution_count": 6,
   "metadata": {},
   "outputs": [],
   "source": [
    "with warnings.catch_warnings():\n",
    "    warnings.simplefilter('ignore') # suppress spammy warnings about particles not having charges when converting to parmed.Structure\n",
    "    chain.visualize()   "
   ]
  },
  {
   "attachments": {},
   "cell_type": "markdown",
   "metadata": {},
   "source": [
    "## Testing SMILES string conversion method(s) for formatting"
   ]
  },
  {
   "cell_type": "code",
   "execution_count": 7,
   "metadata": {},
   "outputs": [
    {
     "name": "stdout",
     "output_type": "stream",
     "text": [
      "polythiophene:\n",
      "\tCustom: C1=C(-C(=C(-S-1))-C(-C(-C(-C))))\n",
      "\tRDKit: *[C:1]1=[C:2]([H:10])[C:3]([C:5]([C:7]([C:8]([C:9]([H:17])([H:18])[H:19])([H:15])[H:16])([H:13])[H:14])([H:11])[H:12])=[C:4](*)[S:6]1\n",
      "\n",
      "polythiophene_TERM1:\n",
      "\tCustom: C1(=C(-C(-C(-C(-C))))-C(=C(-S-1)-Br))\n",
      "\tRDKit: *[C:1]1=[C:2]([C:3]([C:7]([C:8]([C:9]([H:18])([H:19])[H:20])([H:16])[H:17])([H:14])[H:15])([H:11])[H:12])[C:4]([H:13])=[C:5]([Br:10])[S:6]1\n",
      "\n",
      "polythiophene_TERM2:\n",
      "\tCustom: C1=C(-C(=C(-Br)-S-1)-C(-C(-C(-C))))\n",
      "\tRDKit: *[C:1]1=[C:2]([H:11])[C:3]([C:6]([C:8]([C:9]([C:10]([H:18])([H:19])[H:20])([H:16])[H:17])([H:14])[H:15])([H:12])[H:13])=[C:4]([Br:5])[S:7]1\n",
      "\n"
     ]
    }
   ],
   "source": [
    "p = Path('compatible_pdbs/simple_polymers/polythiophene.json')\n",
    "with p.open('r') as monofile:\n",
    "    mono_smirks = json.load(monofile)['monomers']\n",
    "\n",
    "# print(mono_smirks)\n",
    "for res_name, smirks in mono_smirks.items():\n",
    "    print(\n",
    "        f'{res_name}:\\n'\n",
    "        f'\\tCustom: {SMILES_from_monomer_SMIRKS(smirks)}\\n'\n",
    "        f'\\tRDKit: {SMILES_from_monomer_SMIRKS_rdkit(smirks)}\\n'\n",
    "    )"
   ]
  },
  {
   "cell_type": "code",
   "execution_count": 8,
   "metadata": {},
   "outputs": [
    {
     "ename": "TypeError",
     "evalue": "No registered converter was able to produce a C++ rvalue of type std::__cxx11::basic_string<wchar_t, std::char_traits<wchar_t>, std::allocator<wchar_t> > from this Python object of type type",
     "output_type": "error",
     "traceback": [
      "\u001b[0;31m---------------------------------------------------------------------------\u001b[0m",
      "\u001b[0;31mTypeError\u001b[0m                                 Traceback (most recent call last)",
      "Cell \u001b[0;32mIn[8], line 2\u001b[0m\n\u001b[1;32m      1\u001b[0m \u001b[39mfrom\u001b[39;00m \u001b[39mrdkit\u001b[39;00m \u001b[39mimport\u001b[39;00m Chem\n\u001b[0;32m----> 2\u001b[0m rdmol \u001b[39m=\u001b[39m Chem\u001b[39m.\u001b[39;49mrdmolfiles\u001b[39m.\u001b[39;49mMolFromSmarts(\u001b[39mstr\u001b[39;49m)\n\u001b[1;32m      3\u001b[0m output_smiles \u001b[39m=\u001b[39m Chem\u001b[39m.\u001b[39mrdmolfiles\u001b[39m.\u001b[39mMolToSmiles(rdmol)\n",
      "\u001b[0;31mTypeError\u001b[0m: No registered converter was able to produce a C++ rvalue of type std::__cxx11::basic_string<wchar_t, std::char_traits<wchar_t>, std::allocator<wchar_t> > from this Python object of type type"
     ]
    }
   ],
   "source": [
    "from rdkit import Chem\n",
    "rdmol = Chem.rdmolfiles.MolFromSmarts(str)\n",
    "output_smiles = Chem.rdmolfiles.MolToSmiles(rdmol)"
   ]
  },
  {
   "attachments": {},
   "cell_type": "markdown",
   "metadata": {},
   "source": [
    "## Following example code for Polymer recipe\n",
    "### (https://mbuild.mosdef.org/en/stable/getting_started/quick_start/polymer_example.html?highlight=polymer)"
   ]
  },
  {
   "cell_type": "code",
   "execution_count": null,
   "metadata": {},
   "outputs": [],
   "source": [
    "outpath = Path('mbuild_polymers')\n",
    "poly_file = outpath/'test.pdb'\n",
    "poly_file.touch()\n",
    "\n",
    "# m1 = mb.load('CC', smiles=True) # mBuild compound of the monomer unit\n",
    "# m2 = mb.load('COC', smiles=True) # mBuild compound of the monomer unit\n",
    "m = mb.load('CC(=O)C', smiles=True) # mBuild compound of the monomer unit\n",
    "cap = mb.load('N', smiles=True)\n",
    "\n",
    "chain = Polymer()\n",
    "chain.add_monomer(compound=m, indices=(4, -1))\n",
    "chain.add_end_groups(cap, index=-1, duplicate=True)\n",
    "\n",
    "chain.build(n=4)\n",
    "# with warnings.catch_warnings():\n",
    "#     warnings.simplefilter('ignore') # suppress spammy warnings about particles not having charges\n",
    "#     chain.save(str(poly_file), show_ports=True, overwrite=True)"
   ]
  },
  {
   "cell_type": "code",
   "execution_count": null,
   "metadata": {},
   "outputs": [],
   "source": []
  }
 ],
 "metadata": {
  "kernelspec": {
   "display_name": "polybuild_env",
   "language": "python",
   "name": "python3"
  },
  "language_info": {
   "codemirror_mode": {
    "name": "ipython",
    "version": 3
   },
   "file_extension": ".py",
   "mimetype": "text/x-python",
   "name": "python",
   "nbconvert_exporter": "python",
   "pygments_lexer": "ipython3",
   "version": "3.11.0"
  },
  "orig_nbformat": 4,
  "vscode": {
   "interpreter": {
    "hash": "3e9c65398555b64bd9de245733f8686e367c495893c4c6e5048c2bf85144a518"
   }
  }
 },
 "nbformat": 4,
 "nbformat_minor": 2
}
