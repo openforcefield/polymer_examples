{
 "cells": [
  {
   "cell_type": "markdown",
   "metadata": {},
   "source": [
    "## Notebook for building long and short polymers using mbuild\n",
    "#### TOSELF: Make sure to use mbuild-env when running!"
   ]
  },
  {
   "cell_type": "code",
   "execution_count": 129,
   "metadata": {},
   "outputs": [],
   "source": [
    "import re, json, warnings\n",
    "from pathlib import Path\n",
    "\n",
    "import mbuild as mb\n",
    "from mbuild.lib.recipes.polymer import Polymer"
   ]
  },
  {
   "cell_type": "code",
   "execution_count": 54,
   "metadata": {},
   "outputs": [],
   "source": [
    "outpath = Path('mbuild_polymers')\n",
    "poly_file = outpath/'test.pdb'\n",
    "poly_file.touch()\n",
    "\n",
    "# m1 = mb.load('CC', smiles=True) # mBuild compound of the monomer unit\n",
    "# m2 = mb.load('COC', smiles=True) # mBuild compound of the monomer unit\n",
    "m = mb.load('CC(=O)C', smiles=True) # mBuild compound of the monomer unit\n",
    "cap = mb.load('N', smiles=True)\n",
    "\n",
    "chain = Polymer()\n",
    "chain.add_monomer(compound=m, indices=(4, -1))\n",
    "chain.add_end_groups(cap, index=-1, duplicate=True)\n",
    "\n",
    "chain.build(n=4)\n",
    "with warnings.catch_warnings():\n",
    "    warnings.simplefilter('ignore') # suppress spammy warnings about particles not having charges\n",
    "    chain.save(str(poly_file), show_ports=True, overwrite=True)"
   ]
  },
  {
   "cell_type": "code",
   "execution_count": 155,
   "metadata": {},
   "outputs": [],
   "source": [
    "def SMILES_from_monomer_SMIRKS(smirks : str) -> str:\n",
    "    '''Take a SMIRKS string for a residue in a monomer json file and converts it into a SMILES string that mbuild.load can handle'''\n",
    "    atom_nums = { # atom numbers for alphabetical replacement when converting to valid SMILES \n",
    "        'H'  : 1,\n",
    "        'C'  : 6,\n",
    "        'N'  : 7,\n",
    "        'O'  : 8,\n",
    "        'S'  : 16,\n",
    "        'Cl' : 17\n",
    "    }\n",
    "    to_remove = '|'.join([r':\\d+', r'\\*-', r'-\\*']) # remove all atom ids and wild groups\n",
    "    smirks = re.sub(to_remove, '', smirks)\n",
    "\n",
    "    for letter, num in atom_nums.items(): # replace bracketed atomic weights with letters\n",
    "        smirks = re.sub(rf'\\[#{num}\\]', letter, smirks)\n",
    "    smirks = re.sub(r'H-|-H', '', smirks)   # remove hydrogens\n",
    "    smirks = re.sub(r'\\(\\)', '', smirks) # remove dangling empty parens - TOSELF: find better way to do this with regex (simple OR isn't greedy, leaves empty parens)\n",
    "\n",
    "    return smirks\n",
    "\n",
    "def build_linear_polymer(mono_path : Path, n : int, outpath : Path=Path('mbuild_polymers')) -> None:\n",
    "    '''Takes the path to a monomer json file and a chain length and builds a new polymer PDB of the specified length\n",
    "    Currently only really works for linear polymers\n",
    "    \n",
    "    TODO:\n",
    "        -- Fix weirdness with terminal group (1 is always tangled for some reason)\n",
    "        -- Find way to automatically determine hydrogen replacement indices for more complex polymer geometries'''\n",
    "    with mono_path.open('r') as mono_file:\n",
    "        monos_by_smirks = json.load(mono_file)['monomers']\n",
    "\n",
    "    chain = Polymer() \n",
    "    for res_name, smirks in monos_by_smirks.items(): \n",
    "        SMILES = SMILES_from_monomer_SMIRKS(smirks)\n",
    "        print(SMILES)\n",
    "        monomer = mb.load(SMILES, smiles=True) # create mbuild compounds from smirks\n",
    "        monomer.name = res_name # assign name to make tracking easier\n",
    "\n",
    "        h_ids = [i for i, atom in enumerate(monomer) if atom.name == 'H'] # ids of all hydrogens\n",
    "        if re.search('TERM', res_name, flags=re.IGNORECASE): # consider terminal group to be any residue whose name contains \"term/TERM\" anywhere\n",
    "            chain.add_end_groups(compound=monomer, index=h_ids[0], duplicate=False)\n",
    "        else:\n",
    "            chain.add_monomer(compound=monomer, indices=(h_ids[0], h_ids[-1]))\n",
    "\n",
    "    chain.build(n)\n",
    "    with warnings.catch_warnings():\n",
    "        warnings.simplefilter('ignore') # suppress spammy warnings about particles not having charges\n",
    "        chain.save(str(outpath/f'{mono_path.stem}-N={n}.pdb'), show_ports=True, overwrite=True) # save to appropriately-named pdb"
   ]
  },
  {
   "cell_type": "code",
   "execution_count": 157,
   "metadata": {},
   "outputs": [
    {
     "name": "stdout",
     "output_type": "stream",
     "text": [
      "C1=C(-C(=C(-S(=O)(=O))-C(=C-1)))\n",
      "C1=C(-C(=C(-S(=O)(=O))-C(=C-1)))\n",
      "S(=O)(-C1=C(-C(=C(-C(=C-1)))))=O\n"
     ]
    }
   ],
   "source": [
    "build_linear_polymer(mono_path=Path('compatible_pdbs/simple_polymers/polyphenylenesulfone.json'), n=12)"
   ]
  },
  {
   "cell_type": "code",
   "execution_count": 132,
   "metadata": {},
   "outputs": [
    {
     "ename": "AttributeError",
     "evalue": "'super' object has no attribute '_ipython_display_'",
     "output_type": "error",
     "traceback": [
      "\u001b[0;31m---------------------------------------------------------------------------\u001b[0m",
      "\u001b[0;31mAttributeError\u001b[0m                            Traceback (most recent call last)",
      "\u001b[1;32m/home/tbernat/openff-workspace/polymer_examples/poly_building.ipynb Cell 6\u001b[0m in \u001b[0;36m<cell line: 1>\u001b[0;34m()\u001b[0m\n\u001b[0;32m----> <a href='vscode-notebook-cell://wsl%2Bubuntu/home/tbernat/openff-workspace/polymer_examples/poly_building.ipynb#X24sdnNjb2RlLXJlbW90ZQ%3D%3D?line=0'>1</a>\u001b[0m m\u001b[39m.\u001b[39;49m_visualize_nglview()\n",
      "File \u001b[0;32m~/miniconda3/envs/mbuild-env/lib/python3.10/site-packages/mbuild/compound.py:1705\u001b[0m, in \u001b[0;36mCompound._visualize_nglview\u001b[0;34m(self, show_ports, color_scheme)\u001b[0m\n\u001b[1;32m   1695\u001b[0m \u001b[39mdef\u001b[39;00m \u001b[39m_visualize_nglview\u001b[39m(\u001b[39mself\u001b[39m, show_ports\u001b[39m=\u001b[39m\u001b[39mFalse\u001b[39;00m, color_scheme\u001b[39m=\u001b[39m{}):\n\u001b[1;32m   1696\u001b[0m     \u001b[39m\"\"\"Visualize the Compound using nglview.\u001b[39;00m\n\u001b[1;32m   1697\u001b[0m \n\u001b[1;32m   1698\u001b[0m \u001b[39m    Allows for visualization of a Compound within a Jupyter Notebook.\u001b[39;00m\n\u001b[0;32m   (...)\u001b[0m\n\u001b[1;32m   1703\u001b[0m \u001b[39m        Visualize Ports in addition to Particles\u001b[39;00m\n\u001b[1;32m   1704\u001b[0m \u001b[39m    \"\"\"\u001b[39;00m\n\u001b[0;32m-> 1705\u001b[0m     nglview \u001b[39m=\u001b[39m import_(\u001b[39m\"\u001b[39;49m\u001b[39mnglview\u001b[39;49m\u001b[39m\"\u001b[39;49m)\n\u001b[1;32m   1706\u001b[0m     mdtraj \u001b[39m=\u001b[39m import_(\u001b[39m\"\u001b[39m\u001b[39mmdtraj\u001b[39m\u001b[39m\"\u001b[39m)\n\u001b[1;32m   1707\u001b[0m     \u001b[39mfrom\u001b[39;00m \u001b[39mmdtraj\u001b[39;00m\u001b[39m.\u001b[39;00m\u001b[39mgeometry\u001b[39;00m\u001b[39m.\u001b[39;00m\u001b[39msasa\u001b[39;00m \u001b[39mimport\u001b[39;00m _ATOMIC_RADII\n",
      "File \u001b[0;32m~/miniconda3/envs/mbuild-env/lib/python3.10/site-packages/mbuild/utils/io.py:237\u001b[0m, in \u001b[0;36mimport_\u001b[0;34m(module)\u001b[0m\n\u001b[1;32m    235\u001b[0m         \u001b[39mpass\u001b[39;00m\n\u001b[1;32m    236\u001b[0m \u001b[39mtry\u001b[39;00m:\n\u001b[0;32m--> 237\u001b[0m     \u001b[39mreturn\u001b[39;00m importlib\u001b[39m.\u001b[39;49mimport_module(module)\n\u001b[1;32m    238\u001b[0m \u001b[39mexcept\u001b[39;00m \u001b[39mImportError\u001b[39;00m \u001b[39mas\u001b[39;00m e:\n\u001b[1;32m    239\u001b[0m     \u001b[39mtry\u001b[39;00m:\n",
      "File \u001b[0;32m~/miniconda3/envs/mbuild-env/lib/python3.10/importlib/__init__.py:126\u001b[0m, in \u001b[0;36mimport_module\u001b[0;34m(name, package)\u001b[0m\n\u001b[1;32m    124\u001b[0m             \u001b[39mbreak\u001b[39;00m\n\u001b[1;32m    125\u001b[0m         level \u001b[39m+\u001b[39m\u001b[39m=\u001b[39m \u001b[39m1\u001b[39m\n\u001b[0;32m--> 126\u001b[0m \u001b[39mreturn\u001b[39;00m _bootstrap\u001b[39m.\u001b[39;49m_gcd_import(name[level:], package, level)\n",
      "File \u001b[0;32m<frozen importlib._bootstrap>:1050\u001b[0m, in \u001b[0;36m_gcd_import\u001b[0;34m(name, package, level)\u001b[0m\n",
      "File \u001b[0;32m<frozen importlib._bootstrap>:1027\u001b[0m, in \u001b[0;36m_find_and_load\u001b[0;34m(name, import_)\u001b[0m\n",
      "File \u001b[0;32m<frozen importlib._bootstrap>:1006\u001b[0m, in \u001b[0;36m_find_and_load_unlocked\u001b[0;34m(name, import_)\u001b[0m\n",
      "File \u001b[0;32m<frozen importlib._bootstrap>:688\u001b[0m, in \u001b[0;36m_load_unlocked\u001b[0;34m(spec)\u001b[0m\n",
      "File \u001b[0;32m<frozen importlib._bootstrap_external>:883\u001b[0m, in \u001b[0;36mexec_module\u001b[0;34m(self, module)\u001b[0m\n",
      "File \u001b[0;32m<frozen importlib._bootstrap>:241\u001b[0m, in \u001b[0;36m_call_with_frames_removed\u001b[0;34m(f, *args, **kwds)\u001b[0m\n",
      "File \u001b[0;32m~/miniconda3/envs/mbuild-env/lib/python3.10/site-packages/nglview/__init__.py:4\u001b[0m, in \u001b[0;36m<module>\u001b[0;34m\u001b[0m\n\u001b[1;32m      1\u001b[0m \u001b[39mimport\u001b[39;00m \u001b[39mwarnings\u001b[39;00m\n\u001b[1;32m      3\u001b[0m \u001b[39m# for doc\u001b[39;00m\n\u001b[0;32m----> 4\u001b[0m \u001b[39mfrom\u001b[39;00m \u001b[39m.\u001b[39;00m \u001b[39mimport\u001b[39;00m adaptor, datafiles, show, widget\n\u001b[1;32m      5\u001b[0m \u001b[39mfrom\u001b[39;00m \u001b[39m.\u001b[39;00m\u001b[39m_version\u001b[39;00m \u001b[39mimport\u001b[39;00m get_versions\n\u001b[1;32m      6\u001b[0m \u001b[39mfrom\u001b[39;00m \u001b[39m.\u001b[39;00m\u001b[39madaptor\u001b[39;00m \u001b[39mimport\u001b[39;00m \u001b[39m*\u001b[39m\n",
      "File \u001b[0;32m~/miniconda3/envs/mbuild-env/lib/python3.10/site-packages/nglview/show.py:13\u001b[0m, in \u001b[0;36m<module>\u001b[0;34m\u001b[0m\n\u001b[1;32m      3\u001b[0m \u001b[39mfrom\u001b[39;00m \u001b[39m.\u001b[39;00m \u001b[39mimport\u001b[39;00m datafiles\n\u001b[1;32m      4\u001b[0m \u001b[39mfrom\u001b[39;00m \u001b[39m.\u001b[39;00m\u001b[39madaptor\u001b[39;00m \u001b[39mimport\u001b[39;00m (ASEStructure, ASETrajectory, BiopythonStructure,\n\u001b[1;32m      5\u001b[0m                       FileStructure, HTMDTrajectory, IODataStructure,\n\u001b[1;32m      6\u001b[0m                       IOTBXStructure, MDAnalysisTrajectory, MDTrajTrajectory,\n\u001b[0;32m   (...)\u001b[0m\n\u001b[1;32m     11\u001b[0m                       RdkitStructure,\n\u001b[1;32m     12\u001b[0m                       TextStructure)\n\u001b[0;32m---> 13\u001b[0m \u001b[39mfrom\u001b[39;00m \u001b[39m.\u001b[39;00m\u001b[39mwidget\u001b[39;00m \u001b[39mimport\u001b[39;00m NGLWidget\n\u001b[1;32m     15\u001b[0m __all__ \u001b[39m=\u001b[39m [\n\u001b[1;32m     16\u001b[0m     \u001b[39m'\u001b[39m\u001b[39mdemo\u001b[39m\u001b[39m'\u001b[39m,\n\u001b[1;32m     17\u001b[0m     \u001b[39m'\u001b[39m\u001b[39mshow_pdbid\u001b[39m\u001b[39m'\u001b[39m,\n\u001b[0;32m   (...)\u001b[0m\n\u001b[1;32m     40\u001b[0m     \u001b[39m'\u001b[39m\u001b[39mshow_biopython\u001b[39m\u001b[39m'\u001b[39m,\n\u001b[1;32m     41\u001b[0m ]\n\u001b[1;32m     44\u001b[0m \u001b[39mdef\u001b[39;00m \u001b[39mshow_pdbid\u001b[39m(pdbid, \u001b[39m*\u001b[39m\u001b[39m*\u001b[39mkwargs):\n",
      "File \u001b[0;32m~/miniconda3/envs/mbuild-env/lib/python3.10/site-packages/nglview/widget.py:19\u001b[0m, in \u001b[0;36m<module>\u001b[0;34m\u001b[0m\n\u001b[1;32m     15\u001b[0m \u001b[39mfrom\u001b[39;00m \u001b[39mtraitlets\u001b[39;00m \u001b[39mimport\u001b[39;00m (Bool, CaselessStrEnum, Dict, Instance, Int, Integer,\n\u001b[1;32m     16\u001b[0m                        List, Unicode, observe, validate)\n\u001b[1;32m     17\u001b[0m \u001b[39mimport\u001b[39;00m \u001b[39mtraitlets\u001b[39;00m\n\u001b[0;32m---> 19\u001b[0m \u001b[39mfrom\u001b[39;00m \u001b[39m.\u001b[39;00m \u001b[39mimport\u001b[39;00m color, interpolate\n\u001b[1;32m     20\u001b[0m \u001b[39mfrom\u001b[39;00m \u001b[39m.\u001b[39;00m\u001b[39madaptor\u001b[39;00m \u001b[39mimport\u001b[39;00m Structure, Trajectory\n\u001b[1;32m     21\u001b[0m \u001b[39mfrom\u001b[39;00m \u001b[39m.\u001b[39;00m\u001b[39mcomponent\u001b[39;00m \u001b[39mimport\u001b[39;00m ComponentViewer\n",
      "File \u001b[0;32m~/miniconda3/envs/mbuild-env/lib/python3.10/site-packages/nglview/color.py:114\u001b[0m, in \u001b[0;36m<module>\u001b[0;34m\u001b[0m\n\u001b[1;32m    110\u001b[0m         \u001b[39melse\u001b[39;00m:\n\u001b[1;32m    111\u001b[0m             \u001b[39mraise\u001b[39;00m \u001b[39mValueError\u001b[39;00m(\u001b[39mf\u001b[39m\u001b[39m\"\u001b[39m\u001b[39m{\u001b[39;00mobj\u001b[39m}\u001b[39;00m\u001b[39m must be either list of list or string\u001b[39m\u001b[39m\"\u001b[39m)\n\u001b[0;32m--> 114\u001b[0m ColormakerRegistry \u001b[39m=\u001b[39m _ColormakerRegistry()\n",
      "File \u001b[0;32m~/miniconda3/envs/mbuild-env/lib/python3.10/site-packages/nglview/base.py:10\u001b[0m, in \u001b[0;36m_singleton.<locals>.getinstance\u001b[0;34m()\u001b[0m\n\u001b[1;32m      8\u001b[0m \u001b[39mdef\u001b[39;00m \u001b[39mgetinstance\u001b[39m():\n\u001b[1;32m      9\u001b[0m     \u001b[39mif\u001b[39;00m \u001b[39mcls\u001b[39m \u001b[39mnot\u001b[39;00m \u001b[39min\u001b[39;00m instances:\n\u001b[0;32m---> 10\u001b[0m         instances[\u001b[39mcls\u001b[39m] \u001b[39m=\u001b[39m \u001b[39mcls\u001b[39;49m()\n\u001b[1;32m     11\u001b[0m     \u001b[39mreturn\u001b[39;00m instances[\u001b[39mcls\u001b[39m]\n",
      "File \u001b[0;32m~/miniconda3/envs/mbuild-env/lib/python3.10/site-packages/nglview/color.py:47\u001b[0m, in \u001b[0;36m_ColormakerRegistry.__init__\u001b[0;34m(self, *args, **kwargs)\u001b[0m\n\u001b[1;32m     45\u001b[0m \u001b[39mtry\u001b[39;00m:\n\u001b[1;32m     46\u001b[0m     get_ipython() \u001b[39m# only display in notebook\u001b[39;00m\n\u001b[0;32m---> 47\u001b[0m     \u001b[39mself\u001b[39;49m\u001b[39m.\u001b[39;49m_ipython_display_()\n\u001b[1;32m     48\u001b[0m \u001b[39mexcept\u001b[39;00m \u001b[39mNameError\u001b[39;00m:\n\u001b[1;32m     49\u001b[0m     \u001b[39mpass\u001b[39;00m\n",
      "File \u001b[0;32m~/miniconda3/envs/mbuild-env/lib/python3.10/site-packages/nglview/color.py:54\u001b[0m, in \u001b[0;36m_ColormakerRegistry._ipython_display_\u001b[0;34m(self, **kwargs)\u001b[0m\n\u001b[1;32m     52\u001b[0m \u001b[39mif\u001b[39;00m \u001b[39mself\u001b[39m\u001b[39m.\u001b[39m_ready:\n\u001b[1;32m     53\u001b[0m     \u001b[39mreturn\u001b[39;00m\n\u001b[0;32m---> 54\u001b[0m \u001b[39msuper\u001b[39;49m()\u001b[39m.\u001b[39;49m_ipython_display_(\u001b[39m*\u001b[39m\u001b[39m*\u001b[39mkwargs)\n",
      "\u001b[0;31mAttributeError\u001b[0m: 'super' object has no attribute '_ipython_display_'"
     ]
    }
   ],
   "source": [
    "m._visualize_nglview()"
   ]
  },
  {
   "cell_type": "code",
   "execution_count": null,
   "metadata": {},
   "outputs": [],
   "source": []
  }
 ],
 "metadata": {
  "kernelspec": {
   "display_name": "Python 3.10.6 ('mbuild-env': conda)",
   "language": "python",
   "name": "python3"
  },
  "language_info": {
   "codemirror_mode": {
    "name": "ipython",
    "version": 3
   },
   "file_extension": ".py",
   "mimetype": "text/x-python",
   "name": "python",
   "nbconvert_exporter": "python",
   "pygments_lexer": "ipython3",
   "version": "3.10.6"
  },
  "orig_nbformat": 4,
  "vscode": {
   "interpreter": {
    "hash": "c5cad032854a31ef29b974e97fd1faedeec068d065cc6bc1177848b35bd9040a"
   }
  }
 },
 "nbformat": 4,
 "nbformat_minor": 2
}
