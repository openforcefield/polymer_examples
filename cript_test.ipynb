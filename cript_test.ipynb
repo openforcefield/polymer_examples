{
 "cells": [
  {
   "cell_type": "code",
   "execution_count": 1,
   "metadata": {},
   "outputs": [
    {
     "ename": "AttributeError",
     "evalue": "'NoneType' object has no attribute 'search_url'",
     "output_type": "error",
     "traceback": [
      "\u001b[0;31m---------------------------------------------------------------------------\u001b[0m",
      "\u001b[0;31mAttributeError\u001b[0m                            Traceback (most recent call last)",
      "Cell \u001b[0;32mIn[1], line 3\u001b[0m\n\u001b[1;32m      1\u001b[0m \u001b[39mimport\u001b[39;00m \u001b[39mcript\u001b[39;00m\n\u001b[0;32m----> 3\u001b[0m proj \u001b[39m=\u001b[39m cript\u001b[39m.\u001b[39;49mProject\u001b[39m.\u001b[39;49mget(name\u001b[39m=\u001b[39;49m\u001b[39m'\u001b[39;49m\u001b[39mCRIPT\u001b[39;49m\u001b[39m'\u001b[39;49m)\n",
      "File \u001b[0;32m<@beartype(cript.data_model.nodes.base_node.BaseNode.get) at 0x7f364e3f1120>:31\u001b[0m, in \u001b[0;36mget\u001b[0;34m(__beartype_func, __beartype_conf, __beartype_get_violation, *args, **kwargs)\u001b[0m\n",
      "File \u001b[0;32m~/miniconda3/envs/cript_env/lib/python3.11/site-packages/cript/data_model/nodes/base_node.py:173\u001b[0m, in \u001b[0;36mBaseNode.get\u001b[0;34m(cls, get_level, **kwargs)\u001b[0m\n\u001b[1;32m    171\u001b[0m     obj_json \u001b[39m=\u001b[39m api\u001b[39m.\u001b[39mget(kwargs[\u001b[39m\"\u001b[39m\u001b[39murl\u001b[39m\u001b[39m\"\u001b[39m])\n\u001b[1;32m    172\u001b[0m \u001b[39melse\u001b[39;00m:\n\u001b[0;32m--> 173\u001b[0m     results \u001b[39m=\u001b[39m \u001b[39mcls\u001b[39;49m\u001b[39m.\u001b[39;49msearch(\u001b[39m*\u001b[39;49m\u001b[39m*\u001b[39;49mkwargs)\n\u001b[1;32m    174\u001b[0m     count \u001b[39m=\u001b[39m results\u001b[39m.\u001b[39mcount()\n\u001b[1;32m    175\u001b[0m     \u001b[39mif\u001b[39;00m count \u001b[39m<\u001b[39m \u001b[39m1\u001b[39m:\n",
      "File \u001b[0;32m<@beartype(cript.data_model.nodes.base_node.BaseNode.search) at 0x7f364e3f1260>:76\u001b[0m, in \u001b[0;36msearch\u001b[0;34m(__beartype_func, __beartype_conf, __beartype_get_violation, __beartype_object_139871218998528, *args, **kwargs)\u001b[0m\n",
      "File \u001b[0;32m~/miniconda3/envs/cript_env/lib/python3.11/site-packages/cript/data_model/nodes/base_node.py:217\u001b[0m, in \u001b[0;36mBaseNode.search\u001b[0;34m(cls, limit, offset, get_level, **kwargs)\u001b[0m\n\u001b[1;32m    214\u001b[0m     \u001b[39mraise\u001b[39;00m \u001b[39mAttributeError\u001b[39;00m(\u001b[39m\"\u001b[39m\u001b[39mQuery arguments must be provided.\u001b[39m\u001b[39m\"\u001b[39m)\n\u001b[1;32m    216\u001b[0m api \u001b[39m=\u001b[39m get_cached_api_session()\n\u001b[0;32m--> 217\u001b[0m url \u001b[39m=\u001b[39m \u001b[39mf\u001b[39m\u001b[39m\"\u001b[39m\u001b[39m{\u001b[39;00mapi\u001b[39m.\u001b[39;49msearch_url\u001b[39m}\u001b[39;00m\u001b[39m/\u001b[39m\u001b[39m{\u001b[39;00m\u001b[39mcls\u001b[39m\u001b[39m.\u001b[39mslug\u001b[39m}\u001b[39;00m\u001b[39m/\u001b[39m\u001b[39m\"\u001b[39m\n\u001b[1;32m    218\u001b[0m payload \u001b[39m=\u001b[39m json\u001b[39m.\u001b[39mdumps(kwargs)\n\u001b[1;32m    219\u001b[0m \u001b[39mreturn\u001b[39;00m Paginator(\n\u001b[1;32m    220\u001b[0m     url\u001b[39m=\u001b[39murl,\n\u001b[1;32m    221\u001b[0m     node_name\u001b[39m=\u001b[39m\u001b[39mcls\u001b[39m\u001b[39m.\u001b[39mnode_name,\n\u001b[0;32m   (...)\u001b[0m\n\u001b[1;32m    225\u001b[0m     payload\u001b[39m=\u001b[39mpayload,\n\u001b[1;32m    226\u001b[0m )\n",
      "\u001b[0;31mAttributeError\u001b[0m: 'NoneType' object has no attribute 'search_url'"
     ]
    }
   ],
   "source": [
    "import cript\n",
    "\n",
    "proj = cript.Project.get(name='CRIPT')"
   ]
  },
  {
   "cell_type": "code",
   "execution_count": 2,
   "metadata": {},
   "outputs": [
    {
     "name": "stdout",
     "output_type": "stream",
     "text": [
      "Help on class API in module cript.api.rest:\n",
      "\n",
      "class API(cript.api.base.APIBase)\n",
      " |  API(host: str = None, token: str = None, tls: bool = True)\n",
      " |  \n",
      " |  The entry point for interacting with the CRIPT REST API.\n",
      " |  \n",
      " |  :param host: The hostname of the relevant CRIPT instance. (e.g., criptapp.org)\n",
      " |  :param token: The API token used for authentication.\n",
      " |  :param tls: Indicates whether to use TLS encryption for the API connection.\n",
      " |  \n",
      " |  Method resolution order:\n",
      " |      API\n",
      " |      cript.api.base.APIBase\n",
      " |      builtins.object\n",
      " |  \n",
      " |  Methods defined here:\n",
      " |  \n",
      " |  __init__(self, host: str = None, token: str = None, tls: bool = True)\n",
      " |      Initialize self.  See help(type(self)) for accurate signature.\n",
      " |  \n",
      " |  __repr__(self)\n",
      " |      Return repr(self).\n",
      " |  \n",
      " |  __str__(self)\n",
      " |      Return str(self).\n",
      " |  \n",
      " |  delete(self, url: str)\n",
      " |      Performs an HTTP DELETE request and handles errors.\n",
      " |  \n",
      " |  get(self, url: str)\n",
      " |      Performs an HTTP GET request and handles errors.\n",
      " |  \n",
      " |  post(self, url: str, data: str = None, valid_codes: list = [201])\n",
      " |      Performs an HTTP POST request and handles errors.\n",
      " |  \n",
      " |  put(self, url: str, data: str = None, valid_codes: list = [200])\n",
      " |      Performs an HTTP PUT request and handles errors.\n",
      " |  \n",
      " |  ----------------------------------------------------------------------\n",
      " |  Data descriptors inherited from cript.api.base.APIBase:\n",
      " |  \n",
      " |  __dict__\n",
      " |      dictionary for instance variables (if defined)\n",
      " |  \n",
      " |  __weakref__\n",
      " |      list of weak references to the object (if defined)\n",
      " |  \n",
      " |  ----------------------------------------------------------------------\n",
      " |  Data and other attributes inherited from cript.api.base.APIBase:\n",
      " |  \n",
      " |  api_version = '0.6.0'\n",
      " |  \n",
      " |  latest_session = None\n",
      "\n"
     ]
    }
   ],
   "source": [
    "help(cript.API)"
   ]
  }
 ],
 "metadata": {
  "kernelspec": {
   "display_name": "cript_env",
   "language": "python",
   "name": "python3"
  },
  "language_info": {
   "codemirror_mode": {
    "name": "ipython",
    "version": 3
   },
   "file_extension": ".py",
   "mimetype": "text/x-python",
   "name": "python",
   "nbconvert_exporter": "python",
   "pygments_lexer": "ipython3",
   "version": "3.11.0"
  },
  "orig_nbformat": 4,
  "vscode": {
   "interpreter": {
    "hash": "a2cf463ba3461431b3500ccc41446377c342d301482f3e506055c1ed13a0f56a"
   }
  }
 },
 "nbformat": 4,
 "nbformat_minor": 2
}
