{
 "cells": [
  {
   "cell_type": "code",
   "execution_count": 45,
   "metadata": {},
   "outputs": [],
   "source": [
    "import csv, json, pickle\n",
    "from pathlib import Path\n",
    "from collections import defaultdict\n",
    "from dataclasses import dataclass, field\n",
    "from typing import Any, Callable, Optional, Union\n",
    "from IPython.display import clear_output\n",
    "\n",
    "import logging\n",
    "logging.basicConfig(level=logging.INFO)\n",
    "\n",
    "from rdkit import Chem\n",
    "from openff.units import unit\n",
    "from openff.interchange import Interchange\n",
    "\n",
    "from openff.toolkit.topology import Topology\n",
    "from openff.toolkit.topology.molecule import FrozenMolecule, Molecule, Atom\n",
    "from openff.toolkit.utils import toolkit_registry\n",
    "from openff.toolkit.utils.toolkits import RDKitToolkitWrapper, OpenEyeToolkitWrapper, AmberToolsToolkitWrapper\n",
    "from openff.toolkit.typing.engines.smirnoff import ForceField\n",
    "from openff.toolkit.typing.engines.smirnoff import parameters as offtk_parameters\n",
    "\n",
    "from openmm import LangevinMiddleIntegrator\n",
    "from openmm.app import Simulation, PDBReporter, StateDataReporter\n",
    "from openmm.unit import kelvin, picosecond, picoseconds, nanometer # need to do some unit conversion with both packages"
   ]
  },
  {
   "cell_type": "markdown",
   "metadata": {},
   "source": [
    "## Useful functions for charge averaging and simulation"
   ]
  },
  {
   "cell_type": "code",
   "execution_count": 46,
   "metadata": {},
   "outputs": [],
   "source": [
    "# Charge calculation methods\n",
    "def search_mol_files(filename : str, parent_path : Path=Path.cwd()/'compatible_pdbs', extensions : tuple[str, ...]=('pdb', 'json')) -> dict[str, Path]:\n",
    "    '''Search file tree for a pdb and monomer file with matching names'''\n",
    "    mol_files = {\n",
    "        ext : path\n",
    "            for path in parent_path.glob('**/*.*')\n",
    "                for ext in extensions\n",
    "                    if path.name == f'{filename}.{ext}'\n",
    "    }\n",
    "\n",
    "    for ext in extensions:\n",
    "        if ext not in mol_files:\n",
    "            raise FileNotFoundError(f'Could not find a(n) {ext} file \\\"{filename}.{ext}\\\"')\n",
    "    else:\n",
    "        return mol_files\n",
    "\n",
    "def load_mol_and_topo(pdb_path : Path, json_path : Path, verbose : bool=False):\n",
    "    '''Load Molecule and Topology from a pdb and a monomer json file, performing residue matching on monomer units\n",
    "    Assumes that the pdb only contains has ONE simple homopolymer (will only load first molecule if multiple are present'''\n",
    "    off_topology, _, error = Topology.from_pdb_and_monomer_info(str(pdb_path), json_path, strict=True, verbose=verbose)\n",
    "    mol = next(off_topology.molecules) # get the first molecule (assumed to be the polymer of interest)\n",
    "\n",
    "    return mol, off_topology\n",
    "\n",
    "def poll_and_count_molecules(pdb_folder : Path, outname : str=None) -> dict[str, int]:\n",
    "    '''Takes a path to a folder containing multiple .pdb files and produces\n",
    "    a csv listing all found molecules and how many atoms each contains'''\n",
    "    mol_sizes = {}\n",
    "    mol_names = {path.stem for path in pdb_folder.iterdir()}\n",
    "    for name in mol_names:\n",
    "        try:\n",
    "            mol_files = search_mol_files(name)\n",
    "            mol, topology = load_mol_and_topo(mol_files['pdb'], mol_files['json'])  # will raise exception if files for molecule are not found\n",
    "            mol_sizes[name] = len(mol.atoms)\n",
    "        except FileNotFoundError:\n",
    "            pass\n",
    "\n",
    "    if outname is not None: # also write to file if a name for the output is specified\n",
    "        outpath = pdb_folder/f'{outname}.csv'\n",
    "        outpath.touch()\n",
    "\n",
    "        with outpath.open('w') as mol_file:\n",
    "            writer = csv.writer(mol_file, delimiter=',')\n",
    "            writer.writerow(['Molecule Name', '# Atoms']) # add columns headers\n",
    "            for mol_name, mol_size in mol_sizes.items():\n",
    "                writer.writerow([mol_name, mol_size])\n",
    "\n",
    "    return mol_sizes\n",
    "\n",
    "def generate_molecule_charges(mol : Molecule, toolkit_method : str='openeye', partial_charge_method : str='am1bcc') -> Molecule:\n",
    "    '''Takes a Molecule object and computes partial charges with AM1BCC using toolkit method of choice. Returns charged molecule'''\n",
    "    toolkits = {\n",
    "        'rdkit' : RDKitToolkitWrapper,\n",
    "        'openeye' : OpenEyeToolkitWrapper,\n",
    "        'ambertools' : AmberToolsToolkitWrapper\n",
    "    }\n",
    "\n",
    "    mol.assign_partial_charges( # finally, assign partial charges using those 10 conformers generated \n",
    "        partial_charge_method=partial_charge_method, \n",
    "        toolkit_registry=toolkits.get(toolkit_method)()\n",
    "    )\n",
    "    charged_mol = mol # rename for clarity\n",
    "    # get some conformers to run elf10 charge method. By default, `mol.assign_partial_charges`\n",
    "    # uses 500 conformers, but we can generate and use 10 here for demonstration\n",
    "    # charged_mol.generate_conformers(\n",
    "    #     n_conformers=10,\n",
    "    #     rms_cutoff=0.25 * unit.angstrom,\n",
    "    #     make_carboxylic_acids_cis=True,\n",
    "    #     toolkit_registry=RDKitToolkitWrapper()\n",
    "    # ) # very slow for large polymers! \n",
    "\n",
    "    print(f'final molecular charges: {charged_mol.partial_charges}')\n",
    "    # note: the charged_mol has metadata about which monomers were assigned where as a result of the chemicaly info assignment.\n",
    "    # This can be a way to break up the molecule into repeating sections to partition the library charges \n",
    "    for atom in charged_mol.atoms:\n",
    "        assert(atom.metadata['already_matched'] == True)\n",
    "        # print(atom.metadata['residue_name'])\n",
    "    \n",
    "    return charged_mol # code for exact how thely above function works can be found in openff/toolkit/utils/openeye_wrapper.py under the assign_partial_charges()\n",
    "\n",
    "# charge averaging methods\n",
    "AveragedChargeMap = defaultdict[str, dict[int, float]] # makes typehinting clearer\n",
    "\n",
    "@dataclass\n",
    "class Accumulator:\n",
    "    '''Compact container for accumulating averages'''\n",
    "    sum : float = 0.0\n",
    "    count : int = 0\n",
    "\n",
    "    @property\n",
    "    def average(self) -> float:\n",
    "        return self.sum / self.count\n",
    "\n",
    "@dataclass\n",
    "class AvgResidueCharges:\n",
    "    '''Dataclass for more conveniently storing averaged charges for a residue group'''\n",
    "    charges : dict[int, float]\n",
    "    residue_name : str\n",
    "    SMARTS : str\n",
    "\n",
    "def find_repr_residues(cmol : Molecule) -> dict[str, int]:\n",
    "    '''Determine names and smallest residue numbers of all unique residues in charged molecule\n",
    "    Used as representatives for generating labelled SMARTS strings '''\n",
    "    rep_res_nums = defaultdict(set) # numbers of representative groups for each unique residue, used to build SMARTS strings\n",
    "    for atom in cmol.atoms: \n",
    "        rep_res_nums[atom.metadata['residue_name']].add(atom.metadata['residue_number']) # collect unique residue numbers\n",
    "\n",
    "    for res_name, ids in rep_res_nums.items():\n",
    "        rep_res_nums[res_name] = min(ids) # choose group with smallest id of each residue to denote representative group\n",
    "\n",
    "    return rep_res_nums\n",
    "\n",
    "def get_averaged_charges(cmol : Molecule, monomer_data : dict[str, dict], distrib_mono_charges : bool=False) -> list[AvgResidueCharges]:\n",
    "    '''Takes a charged molecule and a dict of monomer structure data and averages charges for each repeating residue. \n",
    "    Returns a list of AvgResidueCharge objects each of which holds:\n",
    "        - A dict of the averaged charges by atom \n",
    "        - The name of the residue associated with the charges\n",
    "        - A SMARTS string of the residue's structure'''\n",
    "    rdmol = cmol.to_rdkit() # create rdkit representation of Molecule to allow for SMARTS generation\n",
    "    rep_res_nums = find_repr_residues(cmol) # determine ids of representatives of each unique residue\n",
    "\n",
    "    atom_ids_for_SMARTS = defaultdict(list)\n",
    "    res_charge_accums   = defaultdict(lambda : defaultdict(Accumulator))\n",
    "    for atom in cmol.atoms: # accumulate counts and charge values across matching substructures\n",
    "        res_name, res_num     = atom.metadata['residue_name']   , atom.metadata['residue_number']\n",
    "        substruct_id, atom_id = atom.metadata['substructure_id'], atom.metadata['pdb_atom_id']\n",
    "\n",
    "        if res_num == rep_res_nums[res_name]: # if atom is member of representative group for any residue...\n",
    "            atom_ids_for_SMARTS[res_name].append(atom_id)             # ...collect pdb id...\n",
    "            rdmol.GetAtomWithIdx(atom_id).SetAtomMapNum(substruct_id) # ...and set atom number for labelling in SMARTS string\n",
    "\n",
    "        curr_accum = res_charge_accums[res_name][substruct_id] # accumulate charge info for averaging\n",
    "        curr_accum.sum += atom.partial_charge.magnitude # eschew units (easier to handle, added back when writing to XML)\n",
    "        curr_accum.count += 1\n",
    "\n",
    "    avg_charges_by_residue = []\n",
    "    for res_name, charge_map in res_charge_accums.items():\n",
    "        # SMARTS = Chem.rdmolfiles.MolFragmentToSmarts(rdmol, atomsToUse=atom_ids_for_SMARTS[res_name]) # determine SMARTS for the current residue's representative group\n",
    "        SMARTS = monomer_data['monomers'][res_name] # extract SMARTS string from monomer data\n",
    "        charge_map = {substruct_id : accum.average for substruct_id, accum in charge_map.items()} \n",
    "\n",
    "        if distrib_mono_charges: # distribute any excess average charge among monomer atoms to ensure no net charge per monomer\n",
    "            chg_offset = sum(avg for avg in charge_map.values()) / len(charge_map)\n",
    "            charge_map = {sub_id : avg - chg_offset for sub_id, avg in charge_map.items()}\n",
    "        \n",
    "        avg_charges_by_residue.append(AvgResidueCharges(charges=charge_map, residue_name=res_name, SMARTS=SMARTS))\n",
    "\n",
    "    return avg_charges_by_residue\n",
    "\n",
    "def write_new_library_charges(avgs : list[AvgResidueCharges], offxml_src : Path, output_path : Path) -> tuple[ForceField, list[offtk_parameters.LibraryChargeHandler]]:\n",
    "    '''Takes dict of residue-averaged charges to generate and append library charges to an .offxml file of choice, creating a new xml with the specified filename'''\n",
    "    assert(output_path.suffix == '.offxml') # ensure output path is pointing to correct file type\n",
    "    forcefield = ForceField(offxml_src)     # simpler to add library charges through forcefield API than to directly write to xml\n",
    "    lc_handler = forcefield[\"LibraryCharges\"]\n",
    "\n",
    "    lib_chgs = [] #  all library charges generated from the averaged charges for each residue\n",
    "    for averaged_res in avgs:\n",
    "        lc_entry = { # stringify charges into form usable for library charges\n",
    "            f'charge{cid}' : f'{charge} * elementary_charge' # +1 accounts for 1-index to 0-index when going from smirks atom ids to substructure ids\n",
    "                for cid, charge in averaged_res.charges.items()\n",
    "        } \n",
    "\n",
    "        lc_entry['smirks'] = averaged_res.SMARTS # add SMIRKS string to library charge entry to allow for correct labelling\n",
    "        lc_params = offtk_parameters.LibraryChargeHandler.LibraryChargeType(allow_cosmetic_attributes=True, **lc_entry) # must enable cosmetic params for general kwarg passing\n",
    "        \n",
    "        lc_handler.add_parameter(parameter=lc_params)\n",
    "        lib_chgs.append(lc_params)  # record library charges for reference\n",
    "    forcefield.to_file(output_path) # write modified library charges to new xml (avoid overwrites in case of mistakes)\n",
    "    \n",
    "    return forcefield, lib_chgs\n",
    "\n",
    "# OpenMM simulation methods\n",
    "def create_sim_from_interchange(interchange : Interchange) -> Simulation:\n",
    "    '''Sets up a Simulation object using topology and force field data as specified by an Interchange object\n",
    "    Converts topologies and positions to OpenMM format from OpenFF formats (can support GROMACS format too in future)'''\n",
    "    openmm_sys = interchange.to_openmm(combine_nonbonded_forces=True) \n",
    "    openmm_top = interchange.topology.to_openmm()\n",
    "    openmm_pos = interchange.positions.m_as(unit.nanometer) * nanometer\n",
    "    integrator = LangevinMiddleIntegrator(300*kelvin, 1/picosecond, 0.0005*picoseconds)\n",
    "\n",
    "    simulation = Simulation(openmm_top, openmm_sys, integrator)\n",
    "    simulation.context.setPositions(openmm_pos)\n",
    "\n",
    "    return simulation\n",
    "\n",
    "def run_simulation(simulation : Simulation, output_folder : Path, output_name : str='md_sim', num_steps=1000, record_freq=10) -> None:\n",
    "    '''Takes a Simulation object, performs energy minimization, and runs simulation for specified number of time steps\n",
    "    Recording PBD frames and numerical data to file at the specified frequency'''\n",
    "    folder_name = str(output_folder) # for some reason OpenMM simulations don;t like Path objects (only take strings)\n",
    "\n",
    "    # for saving pdb frames and reporting state/energy data\n",
    "    pdb_rep = PDBReporter(f'{folder_name}/{output_name}_frames.pdb', record_freq)  # save frames at the specified interval\n",
    "    state_rep = StateDataReporter(f'{folder_name}/{output_name}_data.csv', record_freq, step=True, potentialEnergy=True, temperature=True)\n",
    "    reporters = (pdb_rep, state_rep)\n",
    "\n",
    "    # minimize and run simulation\n",
    "    simulation.minimizeEnergy()\n",
    "    simulation.saveCheckpoint(f'{folder_name}/{output_name}_checkpoint.chk') # save initial minimal state to simplify reloading process\n",
    "    for rep in reporters:\n",
    "        simulation.reporters.append(rep) # add any desired reporters to simulaiton for tracking\n",
    "    simulation.step(num_steps)"
   ]
  },
  {
   "cell_type": "markdown",
   "metadata": {},
   "source": [
    "## Running averaging code for test molecule"
   ]
  },
  {
   "cell_type": "code",
   "execution_count": 47,
   "metadata": {},
   "outputs": [
    {
     "ename": "KeyboardInterrupt",
     "evalue": "",
     "output_type": "error",
     "traceback": [
      "\u001b[0;31m---------------------------------------------------------------------------\u001b[0m",
      "\u001b[0;31mKeyboardInterrupt\u001b[0m                         Traceback (most recent call last)",
      "\u001b[1;32m/home/tbernat/openff-workspace/polymer_examples/charge_averaging.ipynb Cell 5\u001b[0m in \u001b[0;36m<cell line: 2>\u001b[0;34m()\u001b[0m\n\u001b[1;32m      <a href='vscode-notebook-cell://wsl%2Bubuntu/home/tbernat/openff-workspace/polymer_examples/charge_averaging.ipynb#W4sdnNjb2RlLXJlbW90ZQ%3D%3D?line=0'>1</a>\u001b[0m \u001b[39m# Get all molecules which will be charge averaged and simulated\u001b[39;00m\n\u001b[0;32m----> <a href='vscode-notebook-cell://wsl%2Bubuntu/home/tbernat/openff-workspace/polymer_examples/charge_averaging.ipynb#W4sdnNjb2RlLXJlbW90ZQ%3D%3D?line=1'>2</a>\u001b[0m mol_sizes \u001b[39m=\u001b[39m poll_and_count_molecules(pdb_folder\u001b[39m=\u001b[39;49mPath\u001b[39m.\u001b[39;49mcwd()\u001b[39m/\u001b[39;49m\u001b[39m'\u001b[39;49m\u001b[39mcompatible_pdbs\u001b[39;49m\u001b[39m'\u001b[39;49m\u001b[39m/\u001b[39;49m\u001b[39m'\u001b[39;49m\u001b[39msimple_polymers\u001b[39;49m\u001b[39m'\u001b[39;49m)\u001b[39m#, outname='Available Polymers')  \u001b[39;00m\n\u001b[1;32m      <a href='vscode-notebook-cell://wsl%2Bubuntu/home/tbernat/openff-workspace/polymer_examples/charge_averaging.ipynb#W4sdnNjb2RlLXJlbW90ZQ%3D%3D?line=3'>4</a>\u001b[0m hard_polymers \u001b[39m=\u001b[39m [\u001b[39m'\u001b[39m\u001b[39mvulcanizedrubber\u001b[39m\u001b[39m'\u001b[39m, \u001b[39m'\u001b[39m\u001b[39mpolyphenylenesulfone\u001b[39m\u001b[39m'\u001b[39m] \u001b[39m# pathological or otherwise difficult-to-run polymers that I've encountered\u001b[39;00m\n\u001b[1;32m      <a href='vscode-notebook-cell://wsl%2Bubuntu/home/tbernat/openff-workspace/polymer_examples/charge_averaging.ipynb#W4sdnNjb2RlLXJlbW90ZQ%3D%3D?line=4'>5</a>\u001b[0m mols_to_use \u001b[39m=\u001b[39m [mol_name\n\u001b[1;32m      <a href='vscode-notebook-cell://wsl%2Bubuntu/home/tbernat/openff-workspace/polymer_examples/charge_averaging.ipynb#W4sdnNjb2RlLXJlbW90ZQ%3D%3D?line=5'>6</a>\u001b[0m     \u001b[39mfor\u001b[39;00m mol_name, mol_size \u001b[39min\u001b[39;00m mol_sizes\u001b[39m.\u001b[39mitems()\n\u001b[1;32m      <a href='vscode-notebook-cell://wsl%2Bubuntu/home/tbernat/openff-workspace/polymer_examples/charge_averaging.ipynb#W4sdnNjb2RlLXJlbW90ZQ%3D%3D?line=6'>7</a>\u001b[0m         \u001b[39mif\u001b[39;00m mol_size \u001b[39m<\u001b[39m \u001b[39m150\u001b[39m \u001b[39m# only keep polymers which are small enough for AM1BCC...\u001b[39;00m\n\u001b[1;32m      <a href='vscode-notebook-cell://wsl%2Bubuntu/home/tbernat/openff-workspace/polymer_examples/charge_averaging.ipynb#W4sdnNjb2RlLXJlbW90ZQ%3D%3D?line=7'>8</a>\u001b[0m             \u001b[39mand\u001b[39;00m mol_name \u001b[39mnot\u001b[39;00m \u001b[39min\u001b[39;00m hard_polymers \u001b[39m# ... and not manually excluded\u001b[39;00m\n\u001b[1;32m      <a href='vscode-notebook-cell://wsl%2Bubuntu/home/tbernat/openff-workspace/polymer_examples/charge_averaging.ipynb#W4sdnNjb2RlLXJlbW90ZQ%3D%3D?line=8'>9</a>\u001b[0m ]\n",
      "\u001b[1;32m/home/tbernat/openff-workspace/polymer_examples/charge_averaging.ipynb Cell 5\u001b[0m in \u001b[0;36mpoll_and_count_molecules\u001b[0;34m(pdb_folder, outname)\u001b[0m\n\u001b[1;32m     <a href='vscode-notebook-cell://wsl%2Bubuntu/home/tbernat/openff-workspace/polymer_examples/charge_averaging.ipynb#W4sdnNjb2RlLXJlbW90ZQ%3D%3D?line=30'>31</a>\u001b[0m \u001b[39mtry\u001b[39;00m:\n\u001b[1;32m     <a href='vscode-notebook-cell://wsl%2Bubuntu/home/tbernat/openff-workspace/polymer_examples/charge_averaging.ipynb#W4sdnNjb2RlLXJlbW90ZQ%3D%3D?line=31'>32</a>\u001b[0m     mol_files \u001b[39m=\u001b[39m search_mol_files(name)\n\u001b[0;32m---> <a href='vscode-notebook-cell://wsl%2Bubuntu/home/tbernat/openff-workspace/polymer_examples/charge_averaging.ipynb#W4sdnNjb2RlLXJlbW90ZQ%3D%3D?line=32'>33</a>\u001b[0m     mol, topology \u001b[39m=\u001b[39m load_mol_and_topo(mol_files[\u001b[39m'\u001b[39;49m\u001b[39mpdb\u001b[39;49m\u001b[39m'\u001b[39;49m], mol_files[\u001b[39m'\u001b[39;49m\u001b[39mjson\u001b[39;49m\u001b[39m'\u001b[39;49m])  \u001b[39m# will raise exception if files for molecule are not found\u001b[39;00m\n\u001b[1;32m     <a href='vscode-notebook-cell://wsl%2Bubuntu/home/tbernat/openff-workspace/polymer_examples/charge_averaging.ipynb#W4sdnNjb2RlLXJlbW90ZQ%3D%3D?line=33'>34</a>\u001b[0m     mol_sizes[name] \u001b[39m=\u001b[39m \u001b[39mlen\u001b[39m(mol\u001b[39m.\u001b[39matoms)\n\u001b[1;32m     <a href='vscode-notebook-cell://wsl%2Bubuntu/home/tbernat/openff-workspace/polymer_examples/charge_averaging.ipynb#W4sdnNjb2RlLXJlbW90ZQ%3D%3D?line=34'>35</a>\u001b[0m \u001b[39mexcept\u001b[39;00m \u001b[39mFileNotFoundError\u001b[39;00m:\n",
      "\u001b[1;32m/home/tbernat/openff-workspace/polymer_examples/charge_averaging.ipynb Cell 5\u001b[0m in \u001b[0;36mload_mol_and_topo\u001b[0;34m(pdb_path, json_path, verbose)\u001b[0m\n\u001b[1;32m     <a href='vscode-notebook-cell://wsl%2Bubuntu/home/tbernat/openff-workspace/polymer_examples/charge_averaging.ipynb#W4sdnNjb2RlLXJlbW90ZQ%3D%3D?line=16'>17</a>\u001b[0m \u001b[39mdef\u001b[39;00m \u001b[39mload_mol_and_topo\u001b[39m(pdb_path : Path, json_path : Path, verbose : \u001b[39mbool\u001b[39m\u001b[39m=\u001b[39m\u001b[39mFalse\u001b[39;00m):\n\u001b[1;32m     <a href='vscode-notebook-cell://wsl%2Bubuntu/home/tbernat/openff-workspace/polymer_examples/charge_averaging.ipynb#W4sdnNjb2RlLXJlbW90ZQ%3D%3D?line=17'>18</a>\u001b[0m     \u001b[39m'''Load Molecule and Topology from a pdb and a monomer json file, performing residue matching on monomer units\u001b[39;00m\n\u001b[1;32m     <a href='vscode-notebook-cell://wsl%2Bubuntu/home/tbernat/openff-workspace/polymer_examples/charge_averaging.ipynb#W4sdnNjb2RlLXJlbW90ZQ%3D%3D?line=18'>19</a>\u001b[0m \u001b[39m    Assumes that the pdb only contains has ONE simple homopolymer (will only load first molecule if multiple are present'''\u001b[39;00m\n\u001b[0;32m---> <a href='vscode-notebook-cell://wsl%2Bubuntu/home/tbernat/openff-workspace/polymer_examples/charge_averaging.ipynb#W4sdnNjb2RlLXJlbW90ZQ%3D%3D?line=19'>20</a>\u001b[0m     off_topology, _, error \u001b[39m=\u001b[39m Topology\u001b[39m.\u001b[39;49mfrom_pdb_and_monomer_info(\u001b[39mstr\u001b[39;49m(pdb_path), json_path, strict\u001b[39m=\u001b[39;49m\u001b[39mTrue\u001b[39;49;00m, verbose\u001b[39m=\u001b[39;49mverbose)\n\u001b[1;32m     <a href='vscode-notebook-cell://wsl%2Bubuntu/home/tbernat/openff-workspace/polymer_examples/charge_averaging.ipynb#W4sdnNjb2RlLXJlbW90ZQ%3D%3D?line=20'>21</a>\u001b[0m     mol \u001b[39m=\u001b[39m \u001b[39mnext\u001b[39m(off_topology\u001b[39m.\u001b[39mmolecules) \u001b[39m# get the first molecule (assumed to be the polymer of interest)\u001b[39;00m\n\u001b[1;32m     <a href='vscode-notebook-cell://wsl%2Bubuntu/home/tbernat/openff-workspace/polymer_examples/charge_averaging.ipynb#W4sdnNjb2RlLXJlbW90ZQ%3D%3D?line=22'>23</a>\u001b[0m     \u001b[39mreturn\u001b[39;00m mol, off_topology\n",
      "File \u001b[0;32m~/miniconda3/envs/openff-dev/lib/python3.10/site-packages/openff/utilities/utilities.py:75\u001b[0m, in \u001b[0;36mrequires_package.<locals>.inner_decorator.<locals>.wrapper\u001b[0;34m(*args, **kwargs)\u001b[0m\n\u001b[1;32m     72\u001b[0m \u001b[39mexcept\u001b[39;00m \u001b[39mException\u001b[39;00m \u001b[39mas\u001b[39;00m e:\n\u001b[1;32m     73\u001b[0m     \u001b[39mraise\u001b[39;00m e\n\u001b[0;32m---> 75\u001b[0m \u001b[39mreturn\u001b[39;00m function(\u001b[39m*\u001b[39;49margs, \u001b[39m*\u001b[39;49m\u001b[39m*\u001b[39;49mkwargs)\n",
      "File \u001b[0;32m~/openff-workspace/openff-toolkit/openff/toolkit/topology/topology.py:1387\u001b[0m, in \u001b[0;36mTopology.from_pdb_and_monomer_info\u001b[0;34m(cls, file_path, monomer_info_json, strict, verbose)\u001b[0m\n\u001b[1;32m   1385\u001b[0m subgraph_reindexed \u001b[39m=\u001b[39m nx\u001b[39m.\u001b[39mrelabel_nodes(subgraph, mapping)\n\u001b[1;32m   1386\u001b[0m reverse_mapping \u001b[39m=\u001b[39m \u001b[39mdict\u001b[39m([(j,i) \u001b[39mfor\u001b[39;00m i,j \u001b[39min\u001b[39;00m mapping\u001b[39m.\u001b[39mitems()])\n\u001b[0;32m-> 1387\u001b[0m offmol, substructure_summary \u001b[39m=\u001b[39m Molecule()\u001b[39m.\u001b[39;49mfrom_omm_topology_G(subgraph_reindexed, monomer_info_json, verbose\u001b[39m=\u001b[39;49mverbose)\n\u001b[1;32m   1388\u001b[0m substructure_summary \u001b[39m=\u001b[39m [\u001b[39mtuple\u001b[39m([name, [reverse_mapping[i] \u001b[39mfor\u001b[39;00m i \u001b[39min\u001b[39;00m ids], mapped]) \u001b[39mfor\u001b[39;00m name, ids, mapped \u001b[39min\u001b[39;00m substructure_summary]\n\u001b[1;32m   1389\u001b[0m topology_substructures \u001b[39m+\u001b[39m\u001b[39m=\u001b[39m substructure_summary\n",
      "File \u001b[0;32m~/miniconda3/envs/openff-dev/lib/python3.10/site-packages/openff/utilities/utilities.py:75\u001b[0m, in \u001b[0;36mrequires_package.<locals>.inner_decorator.<locals>.wrapper\u001b[0;34m(*args, **kwargs)\u001b[0m\n\u001b[1;32m     72\u001b[0m \u001b[39mexcept\u001b[39;00m \u001b[39mException\u001b[39;00m \u001b[39mas\u001b[39;00m e:\n\u001b[1;32m     73\u001b[0m     \u001b[39mraise\u001b[39;00m e\n\u001b[0;32m---> 75\u001b[0m \u001b[39mreturn\u001b[39;00m function(\u001b[39m*\u001b[39;49margs, \u001b[39m*\u001b[39;49m\u001b[39m*\u001b[39;49mkwargs)\n",
      "File \u001b[0;32m~/openff-workspace/openff-toolkit/openff/toolkit/topology/molecule.py:4178\u001b[0m, in \u001b[0;36mFrozenMolecule.from_omm_topology_G\u001b[0;34m(cls, omm_topology_G, monomer_info_json, verbose)\u001b[0m\n\u001b[1;32m   4175\u001b[0m         inter_monomer_bonds[\u001b[39mtuple\u001b[39m([bond\u001b[39m.\u001b[39mGetBeginAtomIdx(), bond\u001b[39m.\u001b[39mGetEndAtomIdx()])] \u001b[39m=\u001b[39m bond\u001b[39m.\u001b[39mGetBondType()\n\u001b[1;32m   4176\u001b[0m \u001b[39mif\u001b[39;00m is_isomorphic:\n\u001b[1;32m   4177\u001b[0m     \u001b[39m# build the isomorphisms information to use in `find_fitting_lists`\u001b[39;00m\n\u001b[0;32m-> 4178\u001b[0m     isomorphisms \u001b[39m=\u001b[39m \u001b[39mlist\u001b[39;49m(isomorphisms)\n\u001b[1;32m   4179\u001b[0m     iso_keys \u001b[39m=\u001b[39m [\u001b[39mset\u001b[39m(d\u001b[39m.\u001b[39mkeys()) \u001b[39mfor\u001b[39;00m d \u001b[39min\u001b[39;00m isomorphisms]\n\u001b[1;32m   4180\u001b[0m     deduplified_iso_ids \u001b[39m=\u001b[39m \u001b[39mdict\u001b[39m()\n",
      "File \u001b[0;32m~/miniconda3/envs/openff-dev/lib/python3.10/site-packages/networkx/algorithms/isomorphism/isomorphvf2.py:384\u001b[0m, in \u001b[0;36mGraphMatcher.subgraph_isomorphisms_iter\u001b[0;34m(self)\u001b[0m\n\u001b[1;32m    382\u001b[0m \u001b[39mself\u001b[39m\u001b[39m.\u001b[39mtest \u001b[39m=\u001b[39m \u001b[39m\"\u001b[39m\u001b[39msubgraph\u001b[39m\u001b[39m\"\u001b[39m\n\u001b[1;32m    383\u001b[0m \u001b[39mself\u001b[39m\u001b[39m.\u001b[39minitialize()\n\u001b[0;32m--> 384\u001b[0m \u001b[39myield from\u001b[39;00m \u001b[39mself\u001b[39m\u001b[39m.\u001b[39mmatch()\n",
      "File \u001b[0;32m~/miniconda3/envs/openff-dev/lib/python3.10/site-packages/networkx/algorithms/isomorphism/isomorphvf2.py:316\u001b[0m, in \u001b[0;36mGraphMatcher.match\u001b[0;34m(self)\u001b[0m\n\u001b[1;32m    313\u001b[0m \u001b[39mif\u001b[39;00m \u001b[39mself\u001b[39m\u001b[39m.\u001b[39msemantic_feasibility(G1_node, G2_node):\n\u001b[1;32m    314\u001b[0m     \u001b[39m# Recursive call, adding the feasible state.\u001b[39;00m\n\u001b[1;32m    315\u001b[0m     newstate \u001b[39m=\u001b[39m \u001b[39mself\u001b[39m\u001b[39m.\u001b[39mstate\u001b[39m.\u001b[39m\u001b[39m__class__\u001b[39m(\u001b[39mself\u001b[39m, G1_node, G2_node)\n\u001b[0;32m--> 316\u001b[0m     \u001b[39myield from\u001b[39;00m \u001b[39mself\u001b[39m\u001b[39m.\u001b[39mmatch()\n\u001b[1;32m    318\u001b[0m     \u001b[39m# restore data structures\u001b[39;00m\n\u001b[1;32m    319\u001b[0m     newstate\u001b[39m.\u001b[39mrestore()\n",
      "File \u001b[0;32m~/miniconda3/envs/openff-dev/lib/python3.10/site-packages/networkx/algorithms/isomorphism/isomorphvf2.py:316\u001b[0m, in \u001b[0;36mGraphMatcher.match\u001b[0;34m(self)\u001b[0m\n\u001b[1;32m    313\u001b[0m \u001b[39mif\u001b[39;00m \u001b[39mself\u001b[39m\u001b[39m.\u001b[39msemantic_feasibility(G1_node, G2_node):\n\u001b[1;32m    314\u001b[0m     \u001b[39m# Recursive call, adding the feasible state.\u001b[39;00m\n\u001b[1;32m    315\u001b[0m     newstate \u001b[39m=\u001b[39m \u001b[39mself\u001b[39m\u001b[39m.\u001b[39mstate\u001b[39m.\u001b[39m\u001b[39m__class__\u001b[39m(\u001b[39mself\u001b[39m, G1_node, G2_node)\n\u001b[0;32m--> 316\u001b[0m     \u001b[39myield from\u001b[39;00m \u001b[39mself\u001b[39m\u001b[39m.\u001b[39mmatch()\n\u001b[1;32m    318\u001b[0m     \u001b[39m# restore data structures\u001b[39;00m\n\u001b[1;32m    319\u001b[0m     newstate\u001b[39m.\u001b[39mrestore()\n",
      "    \u001b[0;31m[... skipping similar frames: GraphMatcher.match at line 316 (24 times)]\u001b[0m\n",
      "File \u001b[0;32m~/miniconda3/envs/openff-dev/lib/python3.10/site-packages/networkx/algorithms/isomorphism/isomorphvf2.py:316\u001b[0m, in \u001b[0;36mGraphMatcher.match\u001b[0;34m(self)\u001b[0m\n\u001b[1;32m    313\u001b[0m \u001b[39mif\u001b[39;00m \u001b[39mself\u001b[39m\u001b[39m.\u001b[39msemantic_feasibility(G1_node, G2_node):\n\u001b[1;32m    314\u001b[0m     \u001b[39m# Recursive call, adding the feasible state.\u001b[39;00m\n\u001b[1;32m    315\u001b[0m     newstate \u001b[39m=\u001b[39m \u001b[39mself\u001b[39m\u001b[39m.\u001b[39mstate\u001b[39m.\u001b[39m\u001b[39m__class__\u001b[39m(\u001b[39mself\u001b[39m, G1_node, G2_node)\n\u001b[0;32m--> 316\u001b[0m     \u001b[39myield from\u001b[39;00m \u001b[39mself\u001b[39m\u001b[39m.\u001b[39mmatch()\n\u001b[1;32m    318\u001b[0m     \u001b[39m# restore data structures\u001b[39;00m\n\u001b[1;32m    319\u001b[0m     newstate\u001b[39m.\u001b[39mrestore()\n",
      "File \u001b[0;32m~/miniconda3/envs/openff-dev/lib/python3.10/site-packages/networkx/algorithms/isomorphism/isomorphvf2.py:315\u001b[0m, in \u001b[0;36mGraphMatcher.match\u001b[0;34m(self)\u001b[0m\n\u001b[1;32m    312\u001b[0m \u001b[39mif\u001b[39;00m \u001b[39mself\u001b[39m\u001b[39m.\u001b[39msyntactic_feasibility(G1_node, G2_node):\n\u001b[1;32m    313\u001b[0m     \u001b[39mif\u001b[39;00m \u001b[39mself\u001b[39m\u001b[39m.\u001b[39msemantic_feasibility(G1_node, G2_node):\n\u001b[1;32m    314\u001b[0m         \u001b[39m# Recursive call, adding the feasible state.\u001b[39;00m\n\u001b[0;32m--> 315\u001b[0m         newstate \u001b[39m=\u001b[39m \u001b[39mself\u001b[39;49m\u001b[39m.\u001b[39;49mstate\u001b[39m.\u001b[39;49m\u001b[39m__class__\u001b[39;49m(\u001b[39mself\u001b[39;49m, G1_node, G2_node)\n\u001b[1;32m    316\u001b[0m         \u001b[39myield from\u001b[39;00m \u001b[39mself\u001b[39m\u001b[39m.\u001b[39mmatch()\n\u001b[1;32m    318\u001b[0m         \u001b[39m# restore data structures\u001b[39;00m\n",
      "File \u001b[0;32m~/miniconda3/envs/openff-dev/lib/python3.10/site-packages/networkx/algorithms/isomorphism/isomorphvf2.py:912\u001b[0m, in \u001b[0;36mGMState.__init__\u001b[0;34m(self, GM, G1_node, G2_node)\u001b[0m\n\u001b[1;32m    909\u001b[0m new_nodes \u001b[39m=\u001b[39m \u001b[39mset\u001b[39m()\n\u001b[1;32m    910\u001b[0m \u001b[39mfor\u001b[39;00m node \u001b[39min\u001b[39;00m GM\u001b[39m.\u001b[39mcore_2:\n\u001b[1;32m    911\u001b[0m     new_nodes\u001b[39m.\u001b[39mupdate(\n\u001b[0;32m--> 912\u001b[0m         [neighbor \u001b[39mfor\u001b[39;00m neighbor \u001b[39min\u001b[39;00m GM\u001b[39m.\u001b[39;49mG2[node] \u001b[39mif\u001b[39;00m neighbor \u001b[39mnot\u001b[39;00m \u001b[39min\u001b[39;00m GM\u001b[39m.\u001b[39mcore_2]\n\u001b[1;32m    913\u001b[0m     )\n\u001b[1;32m    914\u001b[0m \u001b[39mfor\u001b[39;00m node \u001b[39min\u001b[39;00m new_nodes:\n\u001b[1;32m    915\u001b[0m     \u001b[39mif\u001b[39;00m node \u001b[39mnot\u001b[39;00m \u001b[39min\u001b[39;00m GM\u001b[39m.\u001b[39minout_2:\n",
      "File \u001b[0;32m~/miniconda3/envs/openff-dev/lib/python3.10/site-packages/networkx/classes/graph.py:493\u001b[0m, in \u001b[0;36mGraph.__getitem__\u001b[0;34m(self, n)\u001b[0m\n\u001b[1;32m    472\u001b[0m     \u001b[39m\"\"\"Returns the number of nodes in the graph. Use: 'len(G)'.\u001b[39;00m\n\u001b[1;32m    473\u001b[0m \n\u001b[1;32m    474\u001b[0m \u001b[39m    Returns\u001b[39;00m\n\u001b[0;32m   (...)\u001b[0m\n\u001b[1;32m    489\u001b[0m \n\u001b[1;32m    490\u001b[0m \u001b[39m    \"\"\"\u001b[39;00m\n\u001b[1;32m    491\u001b[0m     \u001b[39mreturn\u001b[39;00m \u001b[39mlen\u001b[39m(\u001b[39mself\u001b[39m\u001b[39m.\u001b[39m_node)\n\u001b[0;32m--> 493\u001b[0m \u001b[39mdef\u001b[39;00m \u001b[39m__getitem__\u001b[39m(\u001b[39mself\u001b[39m, n):\n\u001b[1;32m    494\u001b[0m     \u001b[39m\"\"\"Returns a dict of neighbors of node n.  Use: 'G[n]'.\u001b[39;00m\n\u001b[1;32m    495\u001b[0m \n\u001b[1;32m    496\u001b[0m \u001b[39m    Parameters\u001b[39;00m\n\u001b[0;32m   (...)\u001b[0m\n\u001b[1;32m    515\u001b[0m \u001b[39m    AtlasView({1: {}})\u001b[39;00m\n\u001b[1;32m    516\u001b[0m \u001b[39m    \"\"\"\u001b[39;00m\n\u001b[1;32m    517\u001b[0m     \u001b[39mreturn\u001b[39;00m \u001b[39mself\u001b[39m\u001b[39m.\u001b[39madj[n]\n",
      "\u001b[0;31mKeyboardInterrupt\u001b[0m: "
     ]
    }
   ],
   "source": [
    "# Get all molecules which will be charge averaged and simulated\n",
    "mol_sizes = poll_and_count_molecules(pdb_folder=Path.cwd()/'compatible_pdbs'/'simple_polymers')#, outname='Available Polymers')  \n",
    "\n",
    "hard_polymers = ['vulcanizedrubber', 'polyphenylenesulfone'] # pathological or otherwise difficult-to-run polymers that I've encountered\n",
    "mols_to_use = [mol_name\n",
    "    for mol_name, mol_size in mol_sizes.items()\n",
    "        if mol_size < 150 # only keep polymers which are small enough for AM1BCC...\n",
    "            and mol_name not in hard_polymers # ... and not manually excluded\n",
    "]\n",
    "\n",
    "print(mols_to_use)"
   ]
  },
  {
   "cell_type": "code",
   "execution_count": 52,
   "metadata": {},
   "outputs": [
    {
     "name": "stderr",
     "output_type": "stream",
     "text": [
      "INFO:root:Current molecule: polyphenyleneII\n",
      "INFO:root:Found monomer JSON with precalculated charge data, using...\n",
      "INFO:root:Loading and matching molecule \"polyphenyleneII\"...\n",
      "INFO:root:Unpickling charged Molecule...\n",
      "INFO:root:Averaging charges over polyphenyleneII residues...\n",
      "WARNING:root:Library Charge file not found OR overwrite allowed, writing new Library Charge xml...\n"
     ]
    },
    {
     "name": "stdout",
     "output_type": "stream",
     "text": [
      "AvgResidueCharges(charges={8: -0.12990199881605802, 6: -0.12655199724249538, 2: -0.1073480005841702, 10: 0.12987399441190067, 1: -0.0354300010483712, 11: 0.13283800226636233, 3: -0.1073480005841702, 4: -0.12990199881605802, 5: 0.13283800226636233, 7: 0.12987399441190067, 9: 0.12830200237222017}, residue_name='polyphenylene1', SMARTS='*-[#6:1]1=[#6:2](-[#6:8](=[#6:6](-[#6:4](=[#6:3]-1-[#1:5])-[#1:7])-[#1:9])-[#1:10])-[#1:11]') \n",
      "\n",
      "AvgResidueCharges(charges={6: -0.017539999959990383, 2: -0.017949999822303653, 5: -0.01775000016205013, 4: -0.015429999260231853, 3: -0.01775000016205013, 1: -0.017539999959990383}, residue_name='polyphenylene6', SMARTS='*-[#6:1]1-[#6:2](=[#6:6](-[#6:5](=[#6:4](-[#6:3]=1-*)-*)-*)-*)-*') \n",
      "\n",
      "AvgResidueCharges(charges={12: -0.03998000132851302, 14: -0.10705999988131225, 13: -0.10705999988131225, 19: -0.12499000090174377, 21: 0.1328700040001422, 17: -0.0756200026255101, 20: 0.1362800006289035, 8: 0.0034600004553794863, 15: -0.12499000090174377, 18: 0.1362800006289035, 16: 0.1328700040001422, 1: -0.03998000132851302, 3: -0.10705999988131225, 2: -0.10705999988131225, 9: -0.12499000090174377, 11: 0.1328700040001422, 6: -0.0756200026255101, 10: 0.1362800006289035, 4: -0.12499000090174377, 7: 0.1362800006289035, 5: 0.1328700040001422, 22: 0.057410002173855904, 23: 0.057410002173855904}, residue_name='polyphenylene_mid', SMARTS='*-[#6:1]1-[#6:2](=[#6:9](-[#6:6](=[#6:4](-[#6:3]=1-[#1:5])-[#1:7])-[#6:8](-[#6:17]1-[#6:15](=[#6:14](-[#6:12](-*)=[#6:13](-[#6:19]=1-[#1:20])-[#1:21])-[#1:16])-[#1:18])(-[#1:22])-[#1:23])-[#1:10])-[#1:11]') \n",
      "\n"
     ]
    },
    {
     "name": "stderr",
     "output_type": "stream",
     "text": [
      "INFO:openff.toolkit.typing.engines.smirnoff.parameters:Attempting to up-convert Electrostatics section from 0.3 to 0.4\n",
      "INFO:openff.toolkit.typing.engines.smirnoff.parameters:Successfully up-converted Electrostatics section from 0.3 to 0.4. `method=\"PME\"` is now split into `periodic_potential=\"Ewald3D-ConductingBoundary\"`, `nonperiodic_potential=\"Coulomb\"`, and `exception_potential=\"Coulomb\"`.\n",
      "INFO:root:Running OpenMM sim...\n",
      "INFO:root:\n",
      "\n",
      "INFO:root:Current molecule: PEO_PLGA\n",
      "INFO:root:Found monomer JSON with precalculated charge data, using...\n",
      "INFO:root:Loading and matching molecule \"PEO_PLGA\"...\n",
      "INFO:root:Unpickling charged Molecule...\n",
      "INFO:root:Averaging charges over PEO_PLGA residues...\n",
      "WARNING:root:Library Charge file not found OR overwrite allowed, writing new Library Charge xml...\n"
     ]
    },
    {
     "name": "stdout",
     "output_type": "stream",
     "text": [
      "AvgResidueCharges(charges={1: -0.5940300232808416, 2: 0.13015000456168005, 3: 0.12320999735190223, 4: 0.40027999811961007, 5: 0.03387999841167281, 6: 0.03387999841167281, 7: 0.03731999852849791, 8: 0.03731999852849791}, residue_name='peg_TERM1', SMARTS='[#8:1](-[#6:2](-[#6:3](-*)(-[#1:7])-[#1:8])(-[#1:5])-[#1:6])-[#1:4]') \n",
      "\n",
      "AvgResidueCharges(charges={3: -0.4070160037915532, 2: 0.12583200120522328, 1: 0.1325919979174311, 6: 0.044027999873893955, 7: 0.044027999873893955, 4: 0.051851999099987243, 5: 0.051851999099987243}, residue_name='peg', SMARTS='*-[#6:1](-[#6:2](-[#8:3]-*)(-[#1:6])-[#1:7])(-[#1:4])-[#1:5]') \n",
      "\n",
      "AvgResidueCharges(charges={1: -0.4371033317487066, 2: 0.6301166805981969, 3: -0.514863332772317, 4: 0.11162666662130505, 5: -0.11567333406613518, 6: 0.1092099987824137, 7: 0.06476333423051983, 8: 0.06476333423051983, 9: 0.06476333423051983}, residue_name='plga1', SMARTS='*-[#8:1]-[#6:2](=[#8:3])-[#6:4](-*)(-[#6:5](-[#1:7])(-[#1:8])-[#1:9])-[#1:6]') \n",
      "\n",
      "AvgResidueCharges(charges={1: -0.4363533364376053, 2: 0.6391933355092382, 3: -0.5020599967877691, 4: 0.09038333280477673, 5: 0.0789933322230354, 6: 0.0789933322230354}, residue_name='plga2', SMARTS='*-[#8:1]-[#6:2](=[#8:3])-[#6:4](-*)(-[#1:5])-[#1:6]') \n",
      "\n",
      "AvgResidueCharges(charges={1: -0.41534999078915763, 2: 0.1302700036127741, 3: -0.09703999823735406, 4: 0.022719999115603667, 5: 0.022719999115603667, 6: 0.046190000410812594, 7: 0.046190000410812594, 8: 0.046190000410812594}, residue_name='peg_TERM2', SMARTS='*-[#8:1]-[#6:2](-[#6:3](-[#1:6])(-[#1:7])-[#1:8])(-[#1:4])-[#1:5]') \n",
      "\n"
     ]
    },
    {
     "name": "stderr",
     "output_type": "stream",
     "text": [
      "INFO:openff.toolkit.typing.engines.smirnoff.parameters:Attempting to up-convert Electrostatics section from 0.3 to 0.4\n",
      "INFO:openff.toolkit.typing.engines.smirnoff.parameters:Successfully up-converted Electrostatics section from 0.3 to 0.4. `method=\"PME\"` is now split into `periodic_potential=\"Ewald3D-ConductingBoundary\"`, `nonperiodic_potential=\"Coulomb\"`, and `exception_potential=\"Coulomb\"`.\n",
      "INFO:root:Running OpenMM sim...\n",
      "INFO:root:\n",
      "\n",
      "INFO:root:Current molecule: polyethylmethacrylate\n",
      "INFO:root:Found monomer JSON with precalculated charge data, using...\n",
      "INFO:root:Loading and matching molecule \"polyethylmethacrylate\"...\n",
      "INFO:root:Unpickling charged Molecule...\n",
      "INFO:root:Averaging charges over polyethylmethacrylate residues...\n",
      "WARNING:root:Library Charge file not found OR overwrite allowed, writing new Library Charge xml...\n"
     ]
    },
    {
     "name": "stdout",
     "output_type": "stream",
     "text": [
      "AvgResidueCharges(charges={1: 0.0989499986849048, 2: -0.11765000217340209, 3: -0.11234000318429686, 4: 0.6274700165472248, 5: -0.5382400154390118, 6: -0.45254999392411926, 7: 0.13782000548460266, 8: -0.09948000305078246, 9: 0.061900001086971974, 10: 0.061900001086971974, 11: 0.061900001086971974, 12: 0.05124000094153664, 13: 0.05124000094153664, 14: 0.046720001914284444, 15: 0.046720001914284444, 16: 0.046720001914284444, 17: -0.10041999810121276, 18: 0.08876000351526521, 19: 0.08876000351526521}, residue_name='polyethylmethacrylate_TERM2', SMARTS='[#1:1]-[#6:2](-[#6:3](-[#1:9])(-[#1:10])-[#1:11])(-[#6:4](=[#8:5])-[#8:6]-[#6:7](-[#6:8](-[#1:14])(-[#1:15])-[#1:16])(-[#1:12])-[#1:13])-[#6:17](-*)(-[#1:18])-[#1:19]') \n",
      "\n",
      "AvgResidueCharges(charges={2: -0.07083750136873938, 3: -0.11357749805531718, 4: 0.6422849894247272, 5: -0.5398924946107647, 6: -0.44977749877355316, 7: 0.13061250007965347, 8: -0.10563000098548152, 11: 0.05790250010111115, 12: 0.05790250010111115, 13: 0.05790250010111115, 14: 0.06169749896296046, 15: 0.06169749896296046, 16: 0.04607999983497641, 17: 0.04607999983497641, 18: 0.04607999983497641, 1: -0.07782500044188716, 9: 0.07190999954261564, 10: 0.07190999954261564}, residue_name='polyethylmethacrylate', SMARTS='[#6:1](-[#6:2](-*)(-[#6:3](-[#1:11])(-[#1:12])-[#1:13])-[#6:4](=[#8:5])-[#8:6]-[#6:7](-[#6:8](-[#1:16])(-[#1:17])-[#1:18])(-[#1:14])-[#1:15])(-[#1:9])(-*)-[#1:10]') \n",
      "\n",
      "AvgResidueCharges(charges={3: -0.09017000340602614, 2: -0.07710000120780684, 1: -0.09017000340602614, 4: 0.633000016280196, 5: -0.548409998349168, 6: -0.44828000657937744, 7: 0.13744999475099823, 8: -0.09980999671600081, 12: 0.052080001749775624, 13: 0.052080001749775624, 14: 0.052080001749775624, 9: 0.052080001749775624, 10: 0.052080001749775624, 11: 0.052080001749775624, 15: 0.05054999894716523, 16: 0.05054999894716523, 17: 0.04746999970891259, 18: 0.04746999970891259, 19: 0.04746999970891259}, residue_name='polyethylmethacrylate_TERM3', SMARTS='[#6:1](-[#6:2](-*)(-[#6:3](-[#1:12])(-[#1:13])-[#1:14])-[#6:4](=[#8:5])-[#8:6]-[#6:7](-[#6:8](-[#1:17])(-[#1:18])-[#1:19])(-[#1:15])-[#1:16])(-[#1:9])(-[#1:10])-[#1:11]') \n",
      "\n"
     ]
    },
    {
     "name": "stderr",
     "output_type": "stream",
     "text": [
      "INFO:openff.toolkit.typing.engines.smirnoff.parameters:Attempting to up-convert Electrostatics section from 0.3 to 0.4\n",
      "INFO:openff.toolkit.typing.engines.smirnoff.parameters:Successfully up-converted Electrostatics section from 0.3 to 0.4. `method=\"PME\"` is now split into `periodic_potential=\"Ewald3D-ConductingBoundary\"`, `nonperiodic_potential=\"Coulomb\"`, and `exception_potential=\"Coulomb\"`.\n",
      "INFO:root:Running OpenMM sim...\n",
      "INFO:root:\n",
      "\n",
      "INFO:root:Current molecule: polyvinylchloride\n",
      "INFO:root:Found monomer JSON with precalculated charge data, using...\n",
      "INFO:root:Loading and matching molecule \"polyvinylchloride\"...\n",
      "INFO:root:Unpickling charged Molecule...\n",
      "INFO:root:Averaging charges over polyvinylchloride residues...\n",
      "WARNING:root:Library Charge file not found OR overwrite allowed, writing new Library Charge xml...\n"
     ]
    },
    {
     "name": "stdout",
     "output_type": "stream",
     "text": [
      "AvgResidueCharges(charges={1: 0.06005999782393055, 2: 0.08577000313708859, 3: -0.19832000172426623, 4: -0.10657999700596256, 5: 0.05094999783942776, 6: 0.05094999783942776, 7: 0.05094999783942776}, residue_name='polyvinylchloride_TERM4', SMARTS='[#6:1](-*)(-[#1:2])(-[#17:3])-[#6:4](-[#1:5])(-[#1:6])-[#1:7]') \n",
      "\n",
      "AvgResidueCharges(charges={1: -0.09388499929299278, 2: 0.06823500023493843, 4: 0.054111250315702734, 5: -0.1955462492882244, 6: 0.09622124919006901, 3: 0.06823500023493843}, residue_name='polyvinylchloride', SMARTS='*-[#6:1](-[#1:2])(-[#1:3])-[#6:4](-[#17:5])(-[#1:6])-*') \n",
      "\n",
      "AvgResidueCharges(charges={1: -0.09653999692490024, 2: 0.028960000363088424, 3: -0.18433000183393877, 4: 0.06853999906489926, 5: 0.07103999668071347, 6: 0.07103999668071347, 7: 0.06853999906489926}, residue_name='polyvinylchloride_TERM2', SMARTS='*-[#6:1](-[#6:2](-[#17:3])(-[#1:4])-[#1:7])(-[#1:5])-[#1:6]') \n",
      "\n"
     ]
    },
    {
     "name": "stderr",
     "output_type": "stream",
     "text": [
      "INFO:openff.toolkit.typing.engines.smirnoff.parameters:Attempting to up-convert Electrostatics section from 0.3 to 0.4\n",
      "INFO:openff.toolkit.typing.engines.smirnoff.parameters:Successfully up-converted Electrostatics section from 0.3 to 0.4. `method=\"PME\"` is now split into `periodic_potential=\"Ewald3D-ConductingBoundary\"`, `nonperiodic_potential=\"Coulomb\"`, and `exception_potential=\"Coulomb\"`.\n",
      "INFO:root:Running OpenMM sim...\n",
      "INFO:root:\n",
      "\n",
      "INFO:root:Current molecule: naturalrubber\n",
      "INFO:root:Found monomer JSON with precalculated charge data, using...\n",
      "INFO:root:Loading and matching molecule \"naturalrubber\"...\n",
      "INFO:root:Unpickling charged Molecule...\n",
      "INFO:root:Averaging charges over naturalrubber residues...\n",
      "WARNING:root:Library Charge file not found OR overwrite allowed, writing new Library Charge xml...\n"
     ]
    },
    {
     "name": "stdout",
     "output_type": "stream",
     "text": [
      "AvgResidueCharges(charges={1: -0.03956999988207277, 2: 0.04400999858131949, 3: 0.04400999858131949, 4: -0.11754000172862467, 5: -0.1667100040698951, 6: 0.11830999716272894, 7: -0.06148999915370401, 8: 0.03898999854078833, 9: 0.03898999854078833, 10: -0.06092999861487802, 11: 0.03940000026574675, 12: 0.03940000026574675, 13: 0.03940000026574675, 14: 0.03898999854078833}, residue_name='natural_rubber_TERM1', SMARTS='[#6:1](-[#1:2])(-[#1:3])(-[#6:4](=[#6:5](-[#1:6])-[#6:7](-[#1:8])(-[#1:9])-[#1:14])-[#6:10](-[#1:11])(-[#1:12])-[#1:13])-*') \n",
      "\n",
      "AvgResidueCharges(charges={1: -0.040736666429530145, 2: 0.04569499953737799, 3: 0.04569499953737799, 4: -0.11052833235113875, 5: -0.16736499951133188, 6: 0.11831666791589006, 7: -0.043763332549224855, 8: 0.046198332822828925, 9: 0.046198332822828925, 10: -0.06138500060487843, 11: 0.04067166660379314, 12: 0.04067166660379314, 13: 0.04067166660379314}, residue_name='natural_rubber', SMARTS='*-[#6:7](-[#6:5](=[#6:4](-[#6:1](-[#1:2])(-[#1:3])-*)-[#6:10](-[#1:11])(-[#1:12])-[#1:13])-[#1:6])(-[#1:8])-[#1:9]') \n",
      "\n",
      "AvgResidueCharges(charges={1: -0.060880001493782365, 2: 0.03982999934902731, 3: 0.03982999934902731, 4: 0.03982999934902731, 5: -0.11063999668607172, 6: -0.17038999483832773, 7: 0.1154400037144715, 8: -0.040989998587459886, 9: 0.046029999992757475, 10: 0.046029999992757475, 11: -0.060880001493782365, 12: 0.03982999934902731, 13: 0.03982999934902731, 14: 0.03982999934902731}, residue_name='natural_rubber_TERM2', SMARTS='*-[#6:8](-[#6:6](=[#6:5](-[#6:1](-[#1:2])(-[#1:3])-[#1:4])-[#6:11](-[#1:12])(-[#1:13])-[#1:14])-[#1:7])(-[#1:9])-[#1:10]') \n",
      "\n"
     ]
    },
    {
     "name": "stderr",
     "output_type": "stream",
     "text": [
      "INFO:openff.toolkit.typing.engines.smirnoff.parameters:Attempting to up-convert Electrostatics section from 0.3 to 0.4\n",
      "INFO:openff.toolkit.typing.engines.smirnoff.parameters:Successfully up-converted Electrostatics section from 0.3 to 0.4. `method=\"PME\"` is now split into `periodic_potential=\"Ewald3D-ConductingBoundary\"`, `nonperiodic_potential=\"Coulomb\"`, and `exception_potential=\"Coulomb\"`.\n",
      "INFO:root:Running OpenMM sim...\n",
      "INFO:root:\n",
      "\n",
      "INFO:root:Current molecule: polymethylketone\n",
      "INFO:root:Found monomer JSON with precalculated charge data, using...\n",
      "INFO:root:Loading and matching molecule \"polymethylketone\"...\n",
      "INFO:root:Unpickling charged Molecule...\n",
      "INFO:root:Averaging charges over polymethylketone residues...\n",
      "WARNING:root:Library Charge file not found OR overwrite allowed, writing new Library Charge xml...\n"
     ]
    },
    {
     "name": "stdout",
     "output_type": "stream",
     "text": [
      "AvgResidueCharges(charges={1: -0.2483700068778027, 2: -0.2518100144452084, 3: 0.13902999440965763, 4: 0.04984999800858609, 11: 0.041859999101735275, 12: 0.041859999101735275, 10: 0.04984999800858609, 8: 0.041859999101735275, 9: 0.041859999101735275, 7: 0.04984999800858609, 5: 0.041859999101735275, 6: 0.041859999101735275, 13: 0.0478300003224384, 14: 0.0478300003224384, 17: 0.0478300003224384, 18: 0.0478300003224384, 15: 0.0478300003224384, 16: 0.0478300003224384, 19: 0.14724999646482578, 20: 0.15615999678907505, 21: 0.16062000374136082, 25: 0.15369999388990513, 24: 0.14357000569639317, 23: 0.14357000569639317, 22: 0.15369999388990513, 29: 0.14702999572095982, 28: 0.13861000518140904, 27: 0.13861000518140904, 26: 0.14702999572095982, 30: -0.06126999874772914, 35: -0.07030999680223354, 34: -0.06126999874772914, 33: -0.07030999680223354, 32: -0.06126999874772914, 31: -0.07030999680223354, 36: -0.06763999928893932, 38: -0.06763999928893932, 37: -0.06763999928893932, 39: 0.004059999983884015, 40: -0.07266999800863155, 41: -0.10523000379266628, 42: -0.14372999985875973, 43: 0.1071299983078014, 44: -0.1890300067252148, 45: 0.10818999985990635, 46: 0.10745999942360035, 51: -0.15121999402704128, 50: -0.08393000086011776, 49: -0.16439999659719357, 48: -0.08393000086011776, 47: -0.15121999402704128, 52: 0.5882899759226811, 53: -0.17690999825658688, 58: -0.07989999671640285, 57: -0.14646999557676205, 56: -0.09361000378789791, 55: -0.14646999557676205, 54: -0.07989999671640285, 59: -0.5183399917668331}, residue_name='polymethylketone_TERM25', SMARTS='[#8:1](-[#6:43]1=[#6:42](-[#1:20])-[#6:41](-[#1:19])=[#6:40](-[#6:39]23-[#6:36](-[#1:13])(-[#1:14])-[#6:30]4(-[#1:4])-[#6:31](-[#1:5])(-[#1:6])-[#6:32](-[#1:7])(-[#6:33](-[#1:8])(-[#1:9])-[#6:34](-[#1:10])(-[#6:35]-4(-[#1:11])-[#1:12])-[#6:37]-2(-[#1:15])-[#1:16])-[#6:38]-3(-[#1:17])-[#1:18])-[#6:45](-[#8:2]-*)=[#6:44]-1-[#1:21])-[#6:46]1-[#6:47](-[#1:22])=[#6:48](-[#1:23])-[#6:49](=[#6:50](-[#1:24])-[#6:51]=1-[#1:25])-[#6:52](-[#6:53]1-[#6:54](-[#1:26])=[#6:55](-[#1:27])-[#6:56](-[#1:3])=[#6:57](-[#1:28])-[#6:58]=1-[#1:29])=[#8:59]') \n",
      "\n",
      "AvgResidueCharges(charges={5: -0.06043000166478046, 6: -0.07062999923887142, 1: -0.06043000166478046, 2: -0.07062999923887142, 3: -0.06043000166478046, 4: -0.07062999923887142, 8: -0.06730999817314037, 9: -0.06730999817314037, 7: -0.06730999817314037, 10: 0.012950000155843416, 11: -0.08771000077190289, 12: -0.08257000168027767, 13: -0.19582000394525417, 14: 0.12375999967393986, 15: -0.2259799989050854, 16: 0.1451900003367435, 17: 0.1292400060111057, 22: -0.16599999387922176, 21: -0.06712000091733822, 20: -0.1850699933356274, 19: -0.06712000091733822, 18: -0.16599999387922176, 23: 0.5924800036364567, 24: -0.18539999445142635, 29: -0.06729000081481823, 28: -0.16883000751199612, 27: 0.1238500026875507, 26: -0.16883000751199612, 25: -0.06729000081481823, 30: -0.5340099932736385, 37: 0.047129999648905914, 38: 0.04050999860105626, 39: 0.04050999860105626, 31: 0.047129999648905914, 32: 0.04050999860105626, 33: 0.04050999860105626, 34: 0.047129999648905914, 35: 0.04050999860105626, 36: 0.04050999860105626, 42: 0.048780001502610366, 43: 0.048780001502610366, 44: 0.048780001502610366, 45: 0.048780001502610366, 40: 0.048780001502610366, 41: 0.048780001502610366, 46: 0.1427599934750568, 47: 0.14857999960718266, 48: 0.15001000444231144, 52: 0.15462000648317448, 51: 0.14956000427541843, 50: 0.14956000427541843, 49: 0.15462000648317448, 56: 0.151549994748212, 55: 0.15629999319849125, 54: 0.15629999319849125, 53: 0.151549994748212, 57: -0.4938899876660336, 58: 0.4186199901515018, 59: -0.2514899971074093}, residue_name='polymethylketone_TERM24', SMARTS='*-[#6:27]1=[#6:26](-[#6:25](=[#6:24](-[#6:23](-[#6:20]2=[#6:19](-[#6:18](=[#6:17](-[#6:22](=[#6:21]-2-[#1:51])-[#1:52])-[#8:59]-[#6:14]2=[#6:13](-[#6:12](=[#6:11](-[#6:10]34-[#6:7](-[#6:1]5(-[#6:2](-[#6:3](-[#6:4](-[#6:5](-[#6:6]-5(-[#1:38])-[#1:39])(-[#6:8]-3(-[#1:42])-[#1:43])-[#1:37])(-[#1:35])-[#1:36])(-[#6:9]-4(-[#1:44])-[#1:45])-[#1:34])(-[#1:32])-[#1:33])-[#1:31])(-[#1:40])-[#1:41])-[#6:16](=[#6:15]-2-[#1:48])-[#8:57]-[#1:58])-[#1:46])-[#1:47])-[#1:49])-[#1:50])=[#8:30])-[#6:29](=[#6:28]-1-[#1:55])-[#1:56])-[#1:53])-[#1:54]') \n",
      "\n"
     ]
    },
    {
     "name": "stderr",
     "output_type": "stream",
     "text": [
      "INFO:openff.toolkit.typing.engines.smirnoff.parameters:Attempting to up-convert Electrostatics section from 0.3 to 0.4\n",
      "INFO:openff.toolkit.typing.engines.smirnoff.parameters:Successfully up-converted Electrostatics section from 0.3 to 0.4. `method=\"PME\"` is now split into `periodic_potential=\"Ewald3D-ConductingBoundary\"`, `nonperiodic_potential=\"Coulomb\"`, and `exception_potential=\"Coulomb\"`.\n",
      "INFO:root:Running OpenMM sim...\n",
      "INFO:root:\n",
      "\n"
     ]
    }
   ],
   "source": [
    "# Perform charge averaging on all target molecules which don't already have averaged LCs; \n",
    "# Load forcefield for those which already do \n",
    "sample_mols = ['PEO_PLGA']\n",
    "run_sims = True\n",
    "prevent_overwrites = False\n",
    "distrib_mono_charges = False\n",
    "\n",
    "offxml_src = Path('xml examples/base_library_charges.offxml')\n",
    "polymer_folder = Path('compatible_pdbs/simple_polymers')\n",
    "pickle_folder = Path('pickled_molecules')\n",
    "\n",
    "def get_cmol(mol : Molecule, pickle_path : Path) -> Molecule:\n",
    "    '''More efficient method for repeatedly obtaining a charged Molecule\n",
    "    If no molecule file is found, perform AM1BCC and save to file, otherwise load from file'''\n",
    "    if not pickle_path.exists():\n",
    "        logging.info('No extant pickled charged Molecule found, performing charging...')\n",
    "        cmol = generate_molecule_charges(mol, toolkit_method='openeye', partial_charge_method='am1bcc') # perform AM1BCC\n",
    "        with pickle_path.open('wb') as pickle_file: # write charged molecule to pickle to avoid constantly redoing AM1\n",
    "            pickle.dump(cmol, pickle_file)\n",
    "    else:\n",
    "        logging.info('Unpickling charged Molecule...')\n",
    "        with pickle_path.open('rb') as pickle_file: # read cmol from file if already extant\n",
    "            cmol = pickle.load(pickle_file)\n",
    "    return cmol\n",
    "\n",
    "for mol_name in mols_to_use:#sample_mols: \n",
    "    # DEFINING PATHS, CREATING FOLDERS, AND FETCHING FILES\n",
    "    logging.info(f'Current molecule: {mol_name}')\n",
    "    pdb_path = Path(f'compatible_pdbs/simple_polymers/{mol_name}.pdb')\n",
    "    charged_json = Path(f'charged_jsons/{mol_name}_with_charges.json')\n",
    "    default_json = polymer_folder/f'{mol_name}.json'\n",
    "    if charged_json.exists():\n",
    "        logging.info('Found monomer JSON with precalculated charge data, using...')\n",
    "        json_path = charged_json\n",
    "    else:\n",
    "        logging.info('Using default monomer JSON...')\n",
    "        json_path = default_json\n",
    "\n",
    "    with json_path.open('r') as json_file:\n",
    "        json_data = json.load(json_file)\n",
    "    \n",
    "    output_folder = Path(f'averaged_polymers/{mol_name}')\n",
    "    output_folder.mkdir(exist_ok=True)\n",
    "    lc_path = output_folder/f'new {mol_name} charges.offxml' # path to output library charges to\n",
    "    pickle_path = pickle_folder/f'{mol_name}.pkl'\n",
    "\n",
    "    # LOAD MOLECULE AND TOPOLOGY, ATTEMPT TO APPLY LIBRARY CHARGES\n",
    "    logging.info(f'Loading and matching molecule \"{mol_name}\"...')\n",
    "    mol, topology = load_mol_and_topo(pdb_path, json_path)  # will raise exception if files for molecule are not found\n",
    "    \n",
    "    if prevent_overwrites and lc_path.exists(): # check if library charges have already been generated for this molecule\n",
    "        logging.info('Obtaining partial charges from Library Charge xml...')\n",
    "        forcefield = ForceField(lc_path, allow_cosmetic_attributes=True)\n",
    "    else:\n",
    "        cmol = get_cmol(mol, pickle_path=pickle_path)\n",
    "        #clear_output() # for Jupyter notebooks only, can freely comment this out\n",
    "        logging.info(f'Averaging charges over {mol_name} residues...')\n",
    "        avgs = get_averaged_charges(cmol, monomer_data=json_data, distrib_mono_charges=distrib_mono_charges) # average charges over unique residues - placed after clear so we can see what averages are computed\n",
    "        for averaged_res in avgs:\n",
    "            print(averaged_res, '\\n')\n",
    "\n",
    "        logging.warning('Library Charge file not found OR overwrite allowed, writing new Library Charge xml...')\n",
    "        forcefield, lib_chgs = write_new_library_charges(avgs, offxml_src, output_path=lc_path)\n",
    "        \n",
    "        # CREATE JSON WITH AVERAGED CHARGES IF ONE DOES NOT ALREADY EXIST\n",
    "        if not charged_json.exists():\n",
    "            logging.info('Writing new monomer JSON with charge data...')\n",
    "            with default_json.open('r') as old_json:\n",
    "                json_dat = json.load(old_json)\n",
    "\n",
    "            charge_entry = {avgd_res.residue_name : avgd_res.charges for avgd_res in avgs}\n",
    "            json_dat['charges'] = charge_entry\n",
    "\n",
    "            charged_json.touch()\n",
    "            with charged_json.open('w') as new_json:\n",
    "                json.dump(json_dat, new_json, indent=4)\n",
    "\n",
    "# RUN OpenMM SIMULATION FOR TARGET MOLECULE\n",
    "    if run_sims:\n",
    "        logging.info('Running OpenMM sim...')\n",
    "        forcefield = ForceField(lc_path, allow_cosmetic_attributes=True)\n",
    "        interchange = Interchange.from_smirnoff(force_field=forcefield, topology=topology, charge_from_molecules=[cmol]) # generate Interchange with new library charges prior to writing to file\n",
    "        sim = create_sim_from_interchange(interchange)\n",
    "        run_simulation(sim, output_folder=output_folder, output_name=mol_name, num_steps=10000, record_freq=10)\n",
    "    logging.info('\\n')"
   ]
  },
  {
   "cell_type": "code",
   "execution_count": null,
   "metadata": {},
   "outputs": [
    {
     "name": "stderr",
     "output_type": "stream",
     "text": [
      "INFO:root:test\n",
      "WARNING:root:help!\n"
     ]
    }
   ],
   "source": [
    "import logging\n",
    "\n",
    "logging.basicConfig(level=logging.WARNING)\n",
    "logging.info('test')\n",
    "logging.warning('help!')"
   ]
  },
  {
   "cell_type": "code",
   "execution_count": null,
   "metadata": {},
   "outputs": [
    {
     "data": {
      "text/html": [
       "-3.58046925441613e-15 elementary_charge"
      ],
      "text/latex": [
       "$-3.58046925441613\\times 10^{-15}\\ \\mathrm{elementary\\_charge}$"
      ],
      "text/plain": [
       "-3.58046925441613e-15 <Unit('elementary_charge')>"
      ]
     },
     "execution_count": 34,
     "metadata": {},
     "output_type": "execute_result"
    }
   ],
   "source": [
    "sum(cmol.partial_charges)"
   ]
  },
  {
   "cell_type": "code",
   "execution_count": null,
   "metadata": {},
   "outputs": [],
   "source": [
    "mol_name = 'naturalrubber'\n",
    "\n",
    "polymer_folder = Path('compatible_pdbs/simple_polymers')\n",
    "pickle_folder = Path('pickled_molecules')\n",
    "\n",
    "pdb_path = Path(f'compatible_pdbs/simple_polymers/{mol_name}.pdb')\n",
    "charged_json = Path(f'charged_jsons/{mol_name}_with_charges.json')\n",
    "default_json = polymer_folder/f'{mol_name}.json'\n",
    "json_path = charged_json if charged_json.exists() else default_json\n",
    "\n",
    "def get_cmol(mol : Molecule, pickle_path : Path):\n",
    "    '''More efficient method for repeatedly obtaining a charged Molecule\n",
    "    If no molecule file is found, perform AM1BCC and save to file, otherwise load from file'''\n",
    "    if not pickle_path.exists():\n",
    "        cmol = generate_molecule_charges(mol, toolkit_method='openeye', partial_charge_method='am1bcc') # perform AM1BCC\n",
    "        with pickle_path.open('wb') as pickle_file: # write charged molecule to pickle to avoid constantly redoing AM1\n",
    "            pickle.dump(cmol, pickle_file)\n",
    "    else:\n",
    "        with pickle_path.open('rb') as pickle_file: # read cmol from file if already extant\n",
    "            cmol = pickle.load(pickle_file)\n",
    "    return cmol\n",
    "\n",
    "cmol = get_cmol(mol, pickle_path)"
   ]
  },
  {
   "cell_type": "markdown",
   "metadata": {},
   "source": [
    "## Testing to determine if correct substructure ids are being applied"
   ]
  },
  {
   "cell_type": "code",
   "execution_count": null,
   "metadata": {},
   "outputs": [],
   "source": [
    "rdmol = cmol.to_rdkit() # create rdkit representation of Molecule to allow for SMARTS generation\n",
    "targ_res_num = 3\n",
    "\n",
    "atom_ids_for_SMARTS = []\n",
    "for atom in cmol.atoms: # accumulate counts and charge values across matching substructures\n",
    "    res_name, res_num     = atom.metadata['residue_name']   , atom.metadata['residue_number']\n",
    "    substruct_id, atom_id = atom.metadata['substructure_id'], atom.metadata['pdb_atom_id']\n",
    "\n",
    "    if res_num == targ_res_num: # if atom is member of representative group for any residue...\n",
    "        atom_ids_for_SMARTS.append(atom_id)             # ...collect pdb id...\n",
    "        rdmol.GetAtomWithIdx(atom_id).SetAtomMapNum(substruct_id) # ...and set atom number for labelling in SMARTS string\n",
    "\n",
    "SMARTS = Chem.rdmolfiles.MolFragmentToSmarts(rdmol, atomsToUse=atom_ids_for_SMARTS) # determine SMARTS for the current residue's representative group\n",
    "print(SMARTS)"
   ]
  },
  {
   "cell_type": "code",
   "execution_count": null,
   "metadata": {},
   "outputs": [],
   "source": [
    "for res in avgs:\n",
    "    print(res.residue_name, sum(chg for chg in res.charges.values()))"
   ]
  },
  {
   "cell_type": "code",
   "execution_count": null,
   "metadata": {},
   "outputs": [],
   "source": [
    "mol_name = 'polyphenyleneII'\n",
    "\n",
    "polymer_folder = Path('compatible_pdbs/simple_polymers')\n",
    "output_folder = Path(f'averaged_polymers/{mol_name}')\n",
    "\n",
    "pdb_path = Path(f'compatible_pdbs/simple_polymers/{mol_name}.pdb')\n",
    "default_json = polymer_folder/f'{mol_name}.json'\n",
    "charged_json = Path(f'charged_jsons/{mol_name}_with_charges.json')\n",
    "json_path = charged_json if charged_json.exists() else default_json\n",
    "\n",
    "lc_path = output_folder/f'new {mol_name} charges.offxml' # path to output library charges to\n",
    "\n",
    "# LOAD MOLECULE AND TOPOLOGY, ATTEMPT TO APPLY LIBRARY CHARGES\n",
    "mol, topology = load_mol_and_topo(pdb_path, json_path)  # will raise exception if files for molecule are not found\n"
   ]
  },
  {
   "cell_type": "code",
   "execution_count": null,
   "metadata": {},
   "outputs": [],
   "source": [
    "lc_path = output_folder/f'new {mol_name} charges.offxml' # path to output library charges to\n",
    "\n",
    "forcefield = ForceField(lc_path, allow_cosmetic_attributes=True)\n",
    "interchange = Interchange.from_smirnoff(force_field=forcefield, topology=topology, allow_nonintegral_charges=False) # generate Interchange with new library charges prior to writing to file\n",
    "sim = create_sim_from_interchange(interchange)\n",
    "run_simulation(sim, output_folder=Path(f'averaged_polymers/all_sims'), output_name=mol_name, num_steps=1000, record_freq=10)"
   ]
  },
  {
   "cell_type": "markdown",
   "metadata": {},
   "source": [
    "## Testing to determine which atoms are not being covered by Smirnoff load from LCs"
   ]
  },
  {
   "cell_type": "code",
   "execution_count": null,
   "metadata": {},
   "outputs": [],
   "source": [
    "PVC_matches = {0, 2, 3, 4, 5, 6, 7, 8, 9, 10, 12, 13, 14, 15, 16, 18, 19, 20, 21, 22, 23, 25, 26, 27, 28, 29, 31, 32, 34, 35, 36, 37, 38, 39, 40, 42, 44, 45, 46, 47, 48, 49, 50, 51, 52, 53, 55, 56, 57, 58, 59, 60, 61}\n",
    "PEO_matches = {0, 1, 2, 3, 4, 5, 6, 7, 8, 9, 10, 11, 12, 14, 15, 16, 18, 19, 20, 22, 23, 24, 25, 26, 27, 28, 29, 30, 31, 33, 34, 35, 36, 37, 38, 39, 40, 41, 42, 43, 44, 45, 46, 47, 48, 49, 50, 51, 52, 53, 54, 55, 56, 57, 58, 59, 60, 61, 62, 63, 64, 65, 66, 67, 68, 69, 70, 71, 72, 73, 74, 75, 76, 77, 78, 79, 80, 81, 82, 83, 84, 85, 86, 87, 88, 89, 90, 91, 92, 93, 94, 95}"
   ]
  },
  {
   "cell_type": "code",
   "execution_count": null,
   "metadata": {},
   "outputs": [],
   "source": [
    "for atom in mol.atoms:\n",
    "    if atom.metadata['pdb_atom_id'] not in PEO_matches:\n",
    "        print(atom.metadata)"
   ]
  },
  {
   "cell_type": "code",
   "execution_count": null,
   "metadata": {},
   "outputs": [],
   "source": [
    "import re\n",
    "\n",
    "with default_json.open('r') as mono_file:\n",
    "    jdat = json.load(mono_file)\n",
    "\n",
    "sub_ids = defaultdict(set)\n",
    "for atom in mol.atoms:\n",
    "    sub_ids[atom.metadata['residue_name']].add(atom.metadata['substructure_id'])\n",
    "\n",
    "for res_name, smirks in jdat['monomers'].items():\n",
    "    ids = {int(i) for i in re.findall('\\:(\\d+)', smirks)}\n",
    "    print(smirks, sub_ids[res_name], ids)"
   ]
  },
  {
   "cell_type": "markdown",
   "metadata": {},
   "source": [
    "## Permutation Experiment"
   ]
  },
  {
   "cell_type": "code",
   "execution_count": null,
   "metadata": {},
   "outputs": [],
   "source": [
    "# Create every permutation of library charges to test which orderings produce full atomic coverage (i.e. don't need charge recalculation) \n",
    "from itertools import permutations\n",
    "\n",
    "mol_name = 'naturalrubber'\n",
    "offxml_src = Path('xml examples/openff_unconstrained_with_library_charges-2.0.0.offxml')\n",
    "perm_output_folder = Path(f'averaged_polymers/{mol_name} perms')\n",
    "perm_output_folder.mkdir(exist_ok=True)\n",
    "\n",
    "mol, topology, mol_files = fetch_mol(mol_name)  # will raise exception if files for molecule are not found\n",
    "cmol = generate_molecule_charges(mol, toolkit_method='openeye', partial_charge_method='am1bcc') # perform AM1BCC\n",
    "#clear_output() # for Jupyter notebooks only, can freely comment this out\n",
    "avgs = get_averaged_charges(cmol) # average charges over unique residues - placed after clear so we can see what averages are computed\n",
    "for averaged_res in avgs:\n",
    "    print(averaged_res, '\\n')\n",
    "\n",
    "for perm in permutations(avgs):\n",
    "    name = '-'.join(avg_res.residue_name for avg_res in perm)\n",
    "    perm_outpath = perm_output_folder/f'{name}.offxml'\n",
    "    forcefield, lib_chgs = write_new_library_charges(avgs, offxml_src, output_path=perm_outpath)\n",
    "\n",
    "for xml_path in perm_output_folder.iterdir():\n",
    "    print(xml_path.stem)\n",
    "    forcefield = ForceField(xml_path, allow_cosmetic_attributes=True)\n",
    "    interchange = Interchange.from_smirnoff(force_field=forcefield, topology=topology, charge_from_molecules=[cmol]) # generate Interchange with new library charges prior to writing to file\n",
    "    sim = create_sim_from_interchange(interchange)\n",
    "    run_simulation(sim, output_folder=perm_output_folder, output_name=name, num_steps=100, record_freq=10)"
   ]
  },
  {
   "cell_type": "markdown",
   "metadata": {},
   "source": [
    "## Example for assigning atom ids in SMARTS"
   ]
  },
  {
   "cell_type": "code",
   "execution_count": null,
   "metadata": {},
   "outputs": [],
   "source": [
    "rdmol = cmol.to_rdkit()\n",
    "smarts_no_map = Chem.rdmolfiles.MolFragmentToSmarts(rdmol, atomsToUse=[i for i in range(5,10)])\n",
    "# how to specify atom map numbers\n",
    "i = 0\n",
    "for atom in rdmol.GetAtoms():\n",
    "    i += 1\n",
    "    atom.SetAtomMapNum(atom.GetIdx())\n",
    "smarts_yes_map = Chem.rdmolfiles.MolFragmentToSmarts(rdmol, atomsToUse=[i for i in range(5,10)])\n",
    "\n",
    "print(smarts_no_map)\n",
    "print(smarts_yes_map)"
   ]
  },
  {
   "cell_type": "code",
   "execution_count": null,
   "metadata": {},
   "outputs": [],
   "source": [
    "for atom in rdmol.GetAtoms(): # checking that atom types match between rdkit and openff version\n",
    "    n = atom.GetIdx()\n",
    "    if atom.GetAtomicNum() != cmol.atoms[n].metadata['atomic_number']:\n",
    "        print(f'Mismatch at atom {n}')\n",
    "        break\n",
    "else:\n",
    "    print('All good!')\n"
   ]
  },
  {
   "cell_type": "markdown",
   "metadata": {},
   "source": [
    "## Playing with NX to get a feel for it"
   ]
  },
  {
   "cell_type": "code",
   "execution_count": null,
   "metadata": {},
   "outputs": [],
   "source": [
    "import networkx as nx\n",
    "\n",
    "G = nx.Graph()\n",
    "G.add_node(0, val=6, attr='stuff')\n",
    "G.add_node(3, val=7, attr='other')\n",
    "G.nodes[3]['attr']"
   ]
  },
  {
   "cell_type": "code",
   "execution_count": null,
   "metadata": {},
   "outputs": [],
   "source": [
    "G.add_edge(1, 2, weight=10)\n",
    "G.edges[1, 2]['weight']"
   ]
  },
  {
   "cell_type": "markdown",
   "metadata": {},
   "source": [
    "## Testing XML encoding"
   ]
  },
  {
   "cell_type": "code",
   "execution_count": null,
   "metadata": {},
   "outputs": [],
   "source": [
    "import xml\n",
    "import xml.etree.ElementTree as ET\n",
    "\n",
    "p = Path('xml examples/test.offxml')\n",
    "p.touch()\n",
    "\n",
    "top = ET.Element('a')\n",
    "new = ET.SubElement(top, 'b')\n",
    "new.attrib = {'first' : '4', 'second' : '5'}\n",
    " \n",
    "tree = ET.ElementTree(top)\n",
    "\n",
    "ET.dump(top) # print out tree\n",
    "tree.write(p, encoding='utf-8', xml_declaration=True) # write to file"
   ]
  },
  {
   "cell_type": "code",
   "execution_count": null,
   "metadata": {},
   "outputs": [],
   "source": []
  }
 ],
 "metadata": {
  "kernelspec": {
   "display_name": "Python 3.10.6 ('openff-dev': conda)",
   "language": "python",
   "name": "python3"
  },
  "language_info": {
   "codemirror_mode": {
    "name": "ipython",
    "version": 3
   },
   "file_extension": ".py",
   "mimetype": "text/x-python",
   "name": "python",
   "nbconvert_exporter": "python",
   "pygments_lexer": "ipython3",
   "version": "3.10.6"
  },
  "orig_nbformat": 4,
  "vscode": {
   "interpreter": {
    "hash": "6f9cdd2e387d00c633121ae0d6167f9bd222ae4f015041a103877077aa42441e"
   }
  }
 },
 "nbformat": 4,
 "nbformat_minor": 2
}
