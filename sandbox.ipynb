{
 "cells": [
  {
   "cell_type": "code",
   "execution_count": 1,
   "metadata": {},
   "outputs": [],
   "source": [
    "import csv, json, pickle\n",
    "from pathlib import Path\n",
    "from collections import defaultdict\n",
    "from dataclasses import dataclass, field\n",
    "from typing import Any, Callable, Optional, Union\n",
    "from IPython.display import clear_output\n",
    "\n",
    "from rdkit import Chem\n",
    "from openff.units import unit\n",
    "from openff.interchange import Interchange\n",
    "\n",
    "from openff.toolkit.topology import Topology\n",
    "from openff.toolkit.topology.molecule import FrozenMolecule, Molecule, Atom\n",
    "from openff.toolkit.utils import toolkit_registry\n",
    "from openff.toolkit.utils.toolkits import RDKitToolkitWrapper, OpenEyeToolkitWrapper, AmberToolsToolkitWrapper\n",
    "from openff.toolkit.typing.engines.smirnoff import ForceField\n",
    "from openff.toolkit.typing.engines.smirnoff import parameters as offtk_parameters\n",
    "\n",
    "from openmm import LangevinMiddleIntegrator\n",
    "from openmm.app import Simulation, PDBReporter, StateDataReporter\n",
    "from openmm.unit import kelvin, picosecond, picoseconds, nanometer # need to do some unit conversion with both packages"
   ]
  },
  {
   "cell_type": "markdown",
   "metadata": {},
   "source": [
    "## Useful functions for charge averaging and simulation"
   ]
  },
  {
   "cell_type": "code",
   "execution_count": 2,
   "metadata": {},
   "outputs": [],
   "source": [
    "# Charge calculation methods\n",
    "def search_mol_files(filename : str, parent_path : Path=Path.cwd()/'compatible_pdbs', extensions : tuple[str, ...]=('pdb', 'json')) -> dict[str, Path]:\n",
    "    '''Search file tree for a pdb and monomer file with matching names'''\n",
    "    mol_files = {\n",
    "        ext : path\n",
    "            for path in parent_path.glob('**/*.*')\n",
    "                for ext in extensions\n",
    "                    if path.name == f'{filename}.{ext}'\n",
    "    }\n",
    "\n",
    "    for ext in extensions:\n",
    "        if ext not in mol_files:\n",
    "            raise FileNotFoundError(f'Could not find a(n) {ext} file \\\"{filename}.{ext}\\\"')\n",
    "    else:\n",
    "        return mol_files\n",
    "\n",
    "def load_mol_and_topo(pdb_path : Path, json_path : Path, verbose : bool=False):\n",
    "    '''Load Molecule and Topology from a pdb and a monomer json file, performing residue matching on monomer units\n",
    "    Assumes that the pdb only contains has ONE simple homopolymer (will only load first molecule if multiple are present'''\n",
    "    off_topology, _, error = Topology.from_pdb_and_monomer_info(str(pdb_path), json_path, strict=True, verbose=verbose)\n",
    "    mol = next(off_topology.molecules) # get the first molecule (assumed to be the polymer of interest)\n",
    "\n",
    "    return mol, off_topology\n",
    "\n",
    "def poll_and_count_molecules(pdb_folder : Path, outname : str=None) -> dict[str, int]:\n",
    "    '''Takes a path to a folder containing multiple .pdb files and produces\n",
    "    a csv listing all found molecules and how many atoms each contains'''\n",
    "    mol_sizes = {}\n",
    "    mol_names = {path.stem for path in pdb_folder.iterdir()}\n",
    "    for name in mol_names:\n",
    "        try:\n",
    "            mol_files = search_mol_files(name)\n",
    "            mol, topology = load_mol_and_topo(mol_files['pdb'], mol_files['json'])  # will raise exception if files for molecule are not found\n",
    "            mol_sizes[name] = len(mol.atoms)\n",
    "        except FileNotFoundError:\n",
    "            pass\n",
    "\n",
    "    if outname is not None: # also write to file if a name for the output is specified\n",
    "        outpath = pdb_folder/f'{outname}.csv'\n",
    "        outpath.touch()\n",
    "\n",
    "        with outpath.open('w') as mol_file:\n",
    "            writer = csv.writer(mol_file, delimiter=',')\n",
    "            writer.writerow(['Molecule Name', '# Atoms']) # add columns headers\n",
    "            for mol_name, mol_size in mol_sizes.items():\n",
    "                writer.writerow([mol_name, mol_size])\n",
    "\n",
    "    return mol_sizes\n",
    "\n",
    "def generate_molecule_charges(mol : Molecule, toolkit_method : str='openeye', partial_charge_method : str='am1bcc') -> Molecule:\n",
    "    '''Takes a Molecule object and computes partial charges with AM1BCC using toolkit method of choice. Returns charged molecule'''\n",
    "    toolkits = {\n",
    "        'rdkit' : RDKitToolkitWrapper,\n",
    "        'openeye' : OpenEyeToolkitWrapper,\n",
    "        'ambertools' : AmberToolsToolkitWrapper\n",
    "    }\n",
    "\n",
    "    mol.assign_partial_charges( # finally, assign partial charges using those 10 conformers generated \n",
    "        partial_charge_method=partial_charge_method, \n",
    "        toolkit_registry=toolkits.get(toolkit_method)()\n",
    "    )\n",
    "    charged_mol = mol # rename for clarity\n",
    "    # get some conformers to run elf10 charge method. By default, `mol.assign_partial_charges`\n",
    "    # uses 500 conformers, but we can generate and use 10 here for demonstration\n",
    "    # charged_mol.generate_conformers(\n",
    "    #     n_conformers=10,\n",
    "    #     rms_cutoff=0.25 * unit.angstrom,\n",
    "    #     make_carboxylic_acids_cis=True,\n",
    "    #     toolkit_registry=RDKitToolkitWrapper()\n",
    "    # ) # very slow for large polymers! \n",
    "\n",
    "    print(f'final molecular charges: {charged_mol.partial_charges}')\n",
    "    # note: the charged_mol has metadata about which monomers were assigned where as a result of the chemicaly info assignment.\n",
    "    # This can be a way to break up the molecule into repeating sections to partition the library charges \n",
    "    for atom in charged_mol.atoms:\n",
    "        assert(atom.metadata['already_matched'] == True)\n",
    "        # print(atom.metadata['residue_name'])\n",
    "    \n",
    "    return charged_mol # code for exact how thely above function works can be found in openff/toolkit/utils/openeye_wrapper.py under the assign_partial_charges()\n",
    "\n",
    "# charge averaging methods\n",
    "AveragedChargeMap = defaultdict[str, dict[int, float]] # makes typehinting clearer\n",
    "\n",
    "@dataclass\n",
    "class Accumulator:\n",
    "    '''Compact container for accumulating averages'''\n",
    "    sum : float = 0.0\n",
    "    count : int = 0\n",
    "\n",
    "    @property\n",
    "    def average(self) -> float:\n",
    "        return self.sum / self.count\n",
    "\n",
    "@dataclass\n",
    "class AvgResidueCharges:\n",
    "    '''Dataclass for more conveniently storing averaged charges for a residue group'''\n",
    "    charges : dict[int, float]\n",
    "    residue_name : str\n",
    "    SMARTS : str\n",
    "\n",
    "def find_repr_residues(cmol : Molecule) -> dict[str, int]:\n",
    "    '''Determine names and smallest residue numbers of all unique residues in charged molecule\n",
    "    Used as representatives for generating labelled SMARTS strings '''\n",
    "    rep_res_nums = defaultdict(set) # numbers of representative groups for each unique residue, used to build SMARTS strings\n",
    "    for atom in cmol.atoms: \n",
    "        rep_res_nums[atom.metadata['residue_name']].add(atom.metadata['residue_number']) # collect unique residue numbers\n",
    "\n",
    "    for res_name, ids in rep_res_nums.items():\n",
    "        rep_res_nums[res_name] = min(ids) # choose group with smallest id of each residue to denote representative group\n",
    "\n",
    "    return rep_res_nums\n",
    "\n",
    "def get_averaged_charges(cmol : Molecule, monomer_data : dict[str, dict], distrib_mono_charges : bool=False) -> list[AvgResidueCharges]:\n",
    "    '''Takes a charged molecule and a dict of monomer structure data and averages charges for each repeating residue. \n",
    "    Returns a list of AvgResidueCharge objects each of which holds:\n",
    "        - A dict of the averaged charges by atom \n",
    "        - The name of the residue associated with the charges\n",
    "        - A SMARTS string of the residue's structure'''\n",
    "    rdmol = cmol.to_rdkit() # create rdkit representation of Molecule to allow for SMARTS generation\n",
    "    rep_res_nums = find_repr_residues(cmol) # determine ids of representatives of each unique residue\n",
    "\n",
    "    atom_ids_for_SMARTS = defaultdict(list)\n",
    "    res_charge_accums   = defaultdict(lambda : defaultdict(Accumulator))\n",
    "    for atom in cmol.atoms: # accumulate counts and charge values across matching substructures\n",
    "        res_name, res_num     = atom.metadata['residue_name']   , atom.metadata['residue_number']\n",
    "        substruct_id, atom_id = atom.metadata['substructure_id'], atom.metadata['pdb_atom_id']\n",
    "\n",
    "        if res_num == rep_res_nums[res_name]: # if atom is member of representative group for any residue...\n",
    "            atom_ids_for_SMARTS[res_name].append(atom_id)             # ...collect pdb id...\n",
    "            rdmol.GetAtomWithIdx(atom_id).SetAtomMapNum(substruct_id) # ...and set atom number for labelling in SMARTS string\n",
    "\n",
    "        curr_accum = res_charge_accums[res_name][substruct_id] # accumulate charge info for averaging\n",
    "        curr_accum.sum += atom.partial_charge.magnitude # eschew units (easier to handle, added back when writing to XML)\n",
    "        curr_accum.count += 1\n",
    "\n",
    "    avg_charges_by_residue = []\n",
    "    for res_name, charge_map in res_charge_accums.items():\n",
    "        # SMARTS = Chem.rdmolfiles.MolFragmentToSmarts(rdmol, atomsToUse=atom_ids_for_SMARTS[res_name]) # determine SMARTS for the current residue's representative group\n",
    "        SMARTS = monomer_data['monomers'][res_name] # extract SMARTS string from monomer data\n",
    "        charge_map = {substruct_id : accum.average for substruct_id, accum in charge_map.items()} \n",
    "\n",
    "        if distrib_mono_charges: # distribute any excess average charge among monomer atoms to ensure no net charge per monomer\n",
    "            chg_offset = sum(avg for avg in charge_map.values()) / len(charge_map)\n",
    "            charge_map = {sub_id : avg - chg_offset for sub_id, avg in charge_map.items()}\n",
    "        \n",
    "        avg_charges_by_residue.append(AvgResidueCharges(charges=charge_map, residue_name=res_name, SMARTS=SMARTS))\n",
    "\n",
    "    return avg_charges_by_residue\n",
    "\n",
    "def write_new_library_charges(avgs : list[AvgResidueCharges], offxml_src : Path, output_path : Path) -> tuple[ForceField, list[offtk_parameters.LibraryChargeHandler]]:\n",
    "    '''Takes dict of residue-averaged charges to generate and append library charges to an .offxml file of choice, creating a new xml with the specified filename'''\n",
    "    assert(output_path.suffix == '.offxml') # ensure output path is pointing to correct file type\n",
    "    forcefield = ForceField(offxml_src)     # simpler to add library charges through forcefield API than to directly write to xml\n",
    "    lc_handler = forcefield[\"LibraryCharges\"]\n",
    "\n",
    "    lib_chgs = [] #  all library charges generated from the averaged charges for each residue\n",
    "    for averaged_res in avgs:\n",
    "        lc_entry = { # stringify charges into form usable for library charges\n",
    "            f'charge{cid}' : f'{charge} * elementary_charge' # +1 accounts for 1-index to 0-index when going from smirks atom ids to substructure ids\n",
    "                for cid, charge in averaged_res.charges.items()\n",
    "        } \n",
    "\n",
    "        lc_entry['smirks'] = averaged_res.SMARTS # add SMIRKS string to library charge entry to allow for correct labelling\n",
    "        lc_params = offtk_parameters.LibraryChargeHandler.LibraryChargeType(allow_cosmetic_attributes=True, **lc_entry) # must enable cosmetic params for general kwarg passing\n",
    "        \n",
    "        lc_handler.add_parameter(parameter=lc_params)\n",
    "        lib_chgs.append(lc_params)  # record library charges for reference\n",
    "    forcefield.to_file(output_path) # write modified library charges to new xml (avoid overwrites in case of mistakes)\n",
    "    \n",
    "    return forcefield, lib_chgs\n",
    "\n",
    "# OpenMM simulation methods\n",
    "def create_sim_from_interchange(interchange : Interchange) -> Simulation:\n",
    "    '''Sets up a Simulation object using topology and force field data as specified by an Interchange object\n",
    "    Converts topologies and positions to OpenMM format from OpenFF formats (can support GROMACS format too in future)'''\n",
    "    openmm_sys = interchange.to_openmm(combine_nonbonded_forces=True) \n",
    "    openmm_top = interchange.topology.to_openmm()\n",
    "    openmm_pos = interchange.positions.m_as(unit.nanometer) * nanometer\n",
    "    integrator = LangevinMiddleIntegrator(300*kelvin, 1/picosecond, 0.0005*picoseconds)\n",
    "\n",
    "    simulation = Simulation(openmm_top, openmm_sys, integrator)\n",
    "    simulation.context.setPositions(openmm_pos)\n",
    "\n",
    "    return simulation\n",
    "\n",
    "def run_simulation(simulation : Simulation, output_folder : Path, output_name : str='md_sim', num_steps=1000, record_freq=10) -> None:\n",
    "    '''Takes a Simulation object, performs energy minimization, and runs simulation for specified number of time steps\n",
    "    Recording PBD frames and numerical data to file at the specified frequency'''\n",
    "    folder_name = str(output_folder) # for some reason OpenMM simulations don;t like Path objects (only take strings)\n",
    "\n",
    "    # for saving pdb frames and reporting state/energy data\n",
    "    pdb_rep = PDBReporter(f'{folder_name}/{output_name}_frames.pdb', record_freq)  # save frames at the specified interval\n",
    "    state_rep = StateDataReporter(f'{folder_name}/{output_name}_data.csv', record_freq, step=True, potentialEnergy=True, temperature=True)\n",
    "    reporters = (pdb_rep, state_rep)\n",
    "\n",
    "    # minimize and run simulation\n",
    "    simulation.minimizeEnergy()\n",
    "    simulation.saveCheckpoint(f'{folder_name}/{output_name}_checkpoint.chk') # save initial minimal state to simplify reloading process\n",
    "    for rep in reporters:\n",
    "        simulation.reporters.append(rep) # add any desired reporters to simulaiton for tracking\n",
    "    simulation.step(num_steps)"
   ]
  },
  {
   "cell_type": "markdown",
   "metadata": {},
   "source": [
    "## Running averaging code for test molecule"
   ]
  },
  {
   "cell_type": "code",
   "execution_count": 3,
   "metadata": {},
   "outputs": [
    {
     "name": "stdout",
     "output_type": "stream",
     "text": [
      "['polyvinylchloride', 'PEO_PLGA', 'polyphenyleneII', 'polyethylmethacrylate', 'naturalrubber', 'polymethylketone']\n"
     ]
    }
   ],
   "source": [
    "# Get all molecules which will be charge averaged and simulated\n",
    "mol_sizes = poll_and_count_molecules(pdb_folder=Path.cwd()/'compatible_pdbs'/'simple_polymers')#, outname='Available Polymers')  \n",
    "\n",
    "hard_polymers = ['vulcanizedrubber', 'polyphenylenesulfone'] # pathological or otherwise difficult-to-run polymers that I've encountered\n",
    "mols_to_use = [mol_name\n",
    "    for mol_name, mol_size in mol_sizes.items()\n",
    "        if mol_size < 150 # only keep polymers which are small enough for AM1BCC...\n",
    "            and mol_name not in hard_polymers # ... and not manually excluded\n",
    "]\n",
    "\n",
    "print(mols_to_use)"
   ]
  },
  {
   "cell_type": "code",
   "execution_count": 7,
   "metadata": {},
   "outputs": [
    {
     "name": "stdout",
     "output_type": "stream",
     "text": [
      "polyvinylchloride\n"
     ]
    },
    {
     "name": "stderr",
     "output_type": "stream",
     "text": [
      "Warning: : Failed due to unspecified stereochemistry\n",
      "Warning (not error because allow_undefined_stereo=True): OEMol has unspecified stereochemistry. oemol.GetTitle(): \n",
      "Problematic atoms are:\n",
      "Atom atomic num: 6, name: , idx: 0, aromatic: False, chiral: True with bonds:\n",
      "bond order: 1, chiral: False to atom atomic num: 6, name: , idx: 1, aromatic: False, chiral: False\n",
      "bond order: 1, chiral: False to atom atomic num: 1, name: , idx: 3, aromatic: False, chiral: False\n",
      "bond order: 1, chiral: False to atom atomic num: 17, name: , idx: 4, aromatic: False, chiral: False\n",
      "bond order: 1, chiral: False to atom atomic num: 6, name: , idx: 5, aromatic: False, chiral: False\n",
      "Atom atomic num: 6, name: , idx: 8, aromatic: False, chiral: True with bonds:\n",
      "bond order: 1, chiral: False to atom atomic num: 6, name: , idx: 1, aromatic: False, chiral: False\n",
      "bond order: 1, chiral: False to atom atomic num: 17, name: , idx: 9, aromatic: False, chiral: False\n",
      "bond order: 1, chiral: False to atom atomic num: 1, name: , idx: 10, aromatic: False, chiral: False\n",
      "bond order: 1, chiral: False to atom atomic num: 6, name: , idx: 11, aromatic: False, chiral: False\n",
      "Atom atomic num: 6, name: , idx: 12, aromatic: False, chiral: True with bonds:\n",
      "bond order: 1, chiral: False to atom atomic num: 6, name: , idx: 11, aromatic: False, chiral: False\n",
      "bond order: 1, chiral: False to atom atomic num: 17, name: , idx: 13, aromatic: False, chiral: False\n",
      "bond order: 1, chiral: False to atom atomic num: 1, name: , idx: 14, aromatic: False, chiral: False\n",
      "bond order: 1, chiral: False to atom atomic num: 6, name: , idx: 17, aromatic: False, chiral: False\n",
      "Atom atomic num: 6, name: , idx: 18, aromatic: False, chiral: True with bonds:\n",
      "bond order: 1, chiral: False to atom atomic num: 6, name: , idx: 17, aromatic: False, chiral: False\n",
      "bond order: 1, chiral: False to atom atomic num: 1, name: , idx: 19, aromatic: False, chiral: False\n",
      "bond order: 1, chiral: False to atom atomic num: 17, name: , idx: 20, aromatic: False, chiral: False\n",
      "bond order: 1, chiral: False to atom atomic num: 6, name: , idx: 24, aromatic: False, chiral: False\n",
      "Atom atomic num: 6, name: , idx: 25, aromatic: False, chiral: True with bonds:\n",
      "bond order: 1, chiral: False to atom atomic num: 6, name: , idx: 24, aromatic: False, chiral: False\n",
      "bond order: 1, chiral: False to atom atomic num: 17, name: , idx: 26, aromatic: False, chiral: False\n",
      "bond order: 1, chiral: False to atom atomic num: 1, name: , idx: 27, aromatic: False, chiral: False\n",
      "bond order: 1, chiral: False to atom atomic num: 6, name: , idx: 30, aromatic: False, chiral: False\n",
      "Atom atomic num: 6, name: , idx: 32, aromatic: False, chiral: True with bonds:\n",
      "bond order: 1, chiral: False to atom atomic num: 6, name: , idx: 30, aromatic: False, chiral: False\n",
      "bond order: 1, chiral: False to atom atomic num: 6, name: , idx: 33, aromatic: False, chiral: False\n",
      "bond order: 1, chiral: False to atom atomic num: 17, name: , idx: 36, aromatic: False, chiral: False\n",
      "bond order: 1, chiral: False to atom atomic num: 1, name: , idx: 37, aromatic: False, chiral: False\n",
      "Atom atomic num: 6, name: , idx: 38, aromatic: False, chiral: True with bonds:\n",
      "bond order: 1, chiral: False to atom atomic num: 6, name: , idx: 33, aromatic: False, chiral: False\n",
      "bond order: 1, chiral: False to atom atomic num: 17, name: , idx: 39, aromatic: False, chiral: False\n",
      "bond order: 1, chiral: False to atom atomic num: 1, name: , idx: 40, aromatic: False, chiral: False\n",
      "bond order: 1, chiral: False to atom atomic num: 6, name: , idx: 41, aromatic: False, chiral: False\n",
      "Atom atomic num: 6, name: , idx: 42, aromatic: False, chiral: True with bonds:\n",
      "bond order: 1, chiral: False to atom atomic num: 6, name: , idx: 41, aromatic: False, chiral: False\n",
      "bond order: 1, chiral: False to atom atomic num: 6, name: , idx: 43, aromatic: False, chiral: False\n",
      "bond order: 1, chiral: False to atom atomic num: 1, name: , idx: 46, aromatic: False, chiral: False\n",
      "bond order: 1, chiral: False to atom atomic num: 17, name: , idx: 47, aromatic: False, chiral: False\n",
      "Atom atomic num: 6, name: , idx: 50, aromatic: False, chiral: True with bonds:\n",
      "bond order: 1, chiral: False to atom atomic num: 6, name: , idx: 43, aromatic: False, chiral: False\n",
      "bond order: 1, chiral: False to atom atomic num: 17, name: , idx: 51, aromatic: False, chiral: False\n",
      "bond order: 1, chiral: False to atom atomic num: 1, name: , idx: 52, aromatic: False, chiral: False\n",
      "bond order: 1, chiral: False to atom atomic num: 6, name: , idx: 54, aromatic: False, chiral: False\n",
      "\n"
     ]
    },
    {
     "name": "stdout",
     "output_type": "stream",
     "text": [
      "final molecular charges: [0.06005999782393055 -0.09777999705364628 0.06671000235984402 0.08577000313708859 -0.19832000172426623 -0.10657999700596256 0.05094999783942776 0.05094999783942776 0.05623000079104977 -0.19452999568273943 0.09013999962518292 -0.09280999785950107 0.05369000100801068 -0.19507999754240435 0.10411000215718823 0.06477999651143627 0.06477999651143627 -0.09116999841024799 0.05801000037500935 0.10344999992559033 -0.19844999945452135 0.06470999830672818 0.06470999830672818 0.06671000235984402 -0.09511999821951313 0.050919998076654246 -0.18851000106623095 0.08737999909827786 0.06955999844977932 0.06955999844977932 -0.09153000301411075 0.06941000336120205 0.05705000051567631 -0.09663999861767215 0.07118999921987133 0.07118999921987133 -0.20332999563505572 0.10369999670693951 0.05369000100801068 -0.18885000086119097 0.08800999784181195 -0.09437000042488498 0.0510400008530386 -0.09166000074436588 0.06829000228355007 0.06829000228355007 0.08970999681661206 -0.19584000146677416 0.07123000138709622 0.07123000138709622 0.05225999989817219 -0.19978000259687823 0.10327000134894924 0.06941000336120205 -0.09653999692490024 0.028960000363088424 -0.18433000183393877 0.06853999906489926 0.07103999668071347 0.07103999668071347 0.05094999783942776 0.06853999906489926] elementary_charge\n",
      "AvgResidueCharges(charges={1: 0.06005999782393055, 2: 0.08577000313708859, 3: -0.19832000172426623, 4: -0.10657999700596256, 5: 0.05094999783942776, 6: 0.05094999783942776, 7: 0.05094999783942776}, residue_name='polyvinylchloride_TERM4', SMARTS='[#6:1](-*)(-[#1:2])(-[#17:3])-[#6:4](-[#1:5])(-[#1:6])-[#1:7]') \n",
      "\n",
      "AvgResidueCharges(charges={1: -0.09388499929299278, 2: 0.06823500023493843, 4: 0.054111250315702734, 5: -0.1955462492882244, 6: 0.09622124919006901, 3: 0.06823500023493843}, residue_name='polyvinylchloride', SMARTS='*-[#6:1](-[#1:2])(-[#1:3])-[#6:4](-[#17:5])(-[#1:6])-*') \n",
      "\n",
      "AvgResidueCharges(charges={1: -0.09653999692490024, 2: 0.028960000363088424, 3: -0.18433000183393877, 4: 0.06853999906489926, 5: 0.07103999668071347, 6: 0.07103999668071347, 7: 0.06853999906489926}, residue_name='polyvinylchloride_TERM2', SMARTS='*-[#6:1](-[#6:2](-[#17:3])(-[#1:4])-[#1:7])(-[#1:5])-[#1:6]') \n",
      "\n",
      "PEO_PLGA\n"
     ]
    },
    {
     "name": "stderr",
     "output_type": "stream",
     "text": [
      "Warning: : Failed due to unspecified stereochemistry\n",
      "Warning (not error because allow_undefined_stereo=True): OEMol has unspecified stereochemistry. oemol.GetTitle(): \n",
      "Problematic atoms are:\n",
      "Atom atomic num: 6, name: , idx: 12, aromatic: False, chiral: True with bonds:\n",
      "bond order: 1, chiral: False to atom atomic num: 6, name: , idx: 10, aromatic: False, chiral: False\n",
      "bond order: 1, chiral: False to atom atomic num: 8, name: , idx: 13, aromatic: False, chiral: False\n",
      "bond order: 1, chiral: False to atom atomic num: 6, name: , idx: 47, aromatic: False, chiral: False\n",
      "bond order: 1, chiral: False to atom atomic num: 1, name: , idx: 61, aromatic: False, chiral: False\n",
      "Atom atomic num: 6, name: , idx: 31, aromatic: False, chiral: True with bonds:\n",
      "bond order: 1, chiral: False to atom atomic num: 6, name: , idx: 29, aromatic: False, chiral: False\n",
      "bond order: 1, chiral: False to atom atomic num: 8, name: , idx: 32, aromatic: False, chiral: False\n",
      "bond order: 1, chiral: False to atom atomic num: 6, name: , idx: 45, aromatic: False, chiral: False\n",
      "bond order: 1, chiral: False to atom atomic num: 1, name: , idx: 71, aromatic: False, chiral: False\n",
      "\n"
     ]
    },
    {
     "name": "stdout",
     "output_type": "stream",
     "text": [
      "final molecular charges: [-0.5940300232808416 0.13015000456168005 0.12320999735190223 -0.410880000058872 0.1260699921209986 0.12843999200655767 -0.41780999368832755 0.1250600063164408 0.13741999798609564 -0.4364300078790014 0.629480003650921 -0.5175399786870306 0.11289999568058799 -0.4301599866788213 0.6330400102694208 -0.512600005332691 0.11274000191284965 -0.4300000078122442 0.6384400122721369 -0.5083600289265936 0.09820000016285728 -0.4400799877087896 0.6378499858935053 -0.49761998719380546 0.08703999900414298 -0.39945000476048637 0.12302000009610008 0.1396200054247553 -0.44472000068829703 0.6278300278742487 -0.5144500142972296 0.10924000227047752 -0.43898001379178214 0.6412900083620722 -0.5001999742429083 0.08590999924732994 -0.39386001295254874 0.12689000302149603 0.12829999559714148 -0.41308000749753165 0.128120004471081 0.12917999857260534 -0.41534999078915763 0.1302700036127741 -0.09703999823735406 -0.11214999920533349 -0.11438000268147637 -0.1204900003115957 0.40027999811961007 0.03387999841167281 0.03387999841167281 0.03731999852849791 0.03731999852849791 0.0421899997551615 0.0421899997551615 0.042049999620455004 0.042049999620455004 0.04486000099374602 0.04486000099374602 0.0661099993546183 0.0661099993546183 0.10520999812676261 0.11089000039889167 0.09452000194384406 0.09452000194384406 0.07367999785734962 0.07367999785734962 0.04913999819351981 0.04913999819351981 0.07017999821497749 0.07017999821497749 0.11152999782158683 0.06877999686791252 0.06877999686791252 0.0436500006277735 0.0436500006277735 0.04413000055744002 0.04413000055744002 0.04029999979926894 0.04029999979926894 0.03678999775244544 0.03678999775244544 0.022719999115603667 0.022719999115603667 0.046190000410812594 0.046190000410812594 0.046190000410812594 0.06298000299527 0.06298000299527 0.06298000299527 0.06518000298334907 0.06518000298334907 0.06518000298334907 0.06612999671294044 0.06612999671294044 0.06612999671294044] elementary_charge\n",
      "AvgResidueCharges(charges={1: -0.5940300232808416, 2: 0.13015000456168005, 3: 0.12320999735190223, 4: 0.40027999811961007, 5: 0.03387999841167281, 6: 0.03387999841167281, 7: 0.03731999852849791, 8: 0.03731999852849791}, residue_name='peg_TERM1', SMARTS='[#8:1](-[#6:2](-[#6:3](-*)(-[#1:7])-[#1:8])(-[#1:5])-[#1:6])-[#1:4]') \n",
      "\n",
      "AvgResidueCharges(charges={3: -0.4070160037915532, 2: 0.12583200120522328, 1: 0.1325919979174311, 6: 0.044027999873893955, 7: 0.044027999873893955, 4: 0.051851999099987243, 5: 0.051851999099987243}, residue_name='peg', SMARTS='*-[#6:1](-[#6:2](-[#8:3]-*)(-[#1:6])-[#1:7])(-[#1:4])-[#1:5]') \n",
      "\n",
      "AvgResidueCharges(charges={1: -0.4371033317487066, 2: 0.6301166805981969, 3: -0.514863332772317, 4: 0.11162666662130505, 5: -0.11567333406613518, 6: 0.1092099987824137, 7: 0.06476333423051983, 8: 0.06476333423051983, 9: 0.06476333423051983}, residue_name='plga1', SMARTS='*-[#8:1]-[#6:2](=[#8:3])-[#6:4](-*)(-[#6:5](-[#1:7])(-[#1:8])-[#1:9])-[#1:6]') \n",
      "\n",
      "AvgResidueCharges(charges={1: -0.4363533364376053, 2: 0.6391933355092382, 3: -0.5020599967877691, 4: 0.09038333280477673, 5: 0.0789933322230354, 6: 0.0789933322230354}, residue_name='plga2', SMARTS='*-[#8:1]-[#6:2](=[#8:3])-[#6:4](-*)(-[#1:5])-[#1:6]') \n",
      "\n",
      "AvgResidueCharges(charges={1: -0.41534999078915763, 2: 0.1302700036127741, 3: -0.09703999823735406, 4: 0.022719999115603667, 5: 0.022719999115603667, 6: 0.046190000410812594, 7: 0.046190000410812594, 8: 0.046190000410812594}, residue_name='peg_TERM2', SMARTS='*-[#8:1]-[#6:2](-[#6:3](-[#1:6])(-[#1:7])-[#1:8])(-[#1:4])-[#1:5]') \n",
      "\n",
      "polyphenyleneII\n",
      "final molecular charges: [-0.12976999538950623 -0.12635000008158387 -0.10741999703459441 0.12989999395795165 -0.03595000091008842 0.1328700040001422 -0.017539999959990383 -0.10741999703459441 -0.12976999538950623 0.1328700040001422 0.12989999395795165 -0.017949999822303653 -0.01775000016205013 -0.015429999260231853 -0.03465000125579536 -0.10715000289492309 -0.10715000289492309 -0.13007000046782197 0.13278000098653137 -0.1269699926953763 0.12988999527879058 -0.13007000046782197 0.12804999989457427 0.12988999527879058 0.13278000098653137 -0.03998000132851302 -0.01775000016205013 -0.017539999959990383 -0.03465000125579536 -0.10715000289492309 -0.10715000289492309 -0.13007000046782197 0.13278000098653137 -0.1269699926953763 0.12988999527879058 -0.13007000046782197 0.12804999989457427 0.12988999527879058 0.13278000098653137 -0.03595000091008842 -0.10741999703459441 -0.10741999703459441 -0.12976999538950623 0.1328700040001422 -0.12635000008158387 0.12989999395795165 -0.12976999538950623 0.12845000666566192 0.12989999395795165 0.1328700040001422 -0.10705999988131225 -0.10705999988131225 -0.12499000090174377 0.1328700040001422 -0.0756200026255101 0.1362800006289035 0.0034600004553794863 -0.12499000090174377 0.1362800006289035 0.1328700040001422 -0.03595000091008842 -0.1076000030618161 -0.1076000030618161 -0.12983000236563386 0.13289000135846435 -0.12612000065855683 0.12978999358601867 -0.12983000236563386 0.12850999874062835 0.12978999358601867 0.13289000135846435 0.12845000666566192 -0.12976999538950623 -0.12635000008158387 -0.10741999703459441 0.12989999395795165 -0.03595000091008842 0.1328700040001422 -0.017539999959990383 -0.10741999703459441 -0.12976999538950623 0.1328700040001422 0.12989999395795165 -0.017949999822303653 -0.01775000016205013 -0.015429999260231853 -0.03465000125579536 -0.10715000289492309 -0.10715000289492309 -0.13007000046782197 0.13278000098653137 -0.1269699926953763 0.12988999527879058 -0.13007000046782197 0.12804999989457427 0.12988999527879058 0.13278000098653137 -0.03998000132851302 -0.01775000016205013 -0.017539999959990383 -0.03465000125579536 -0.10715000289492309 -0.10715000289492309 -0.13007000046782197 0.13278000098653137 -0.1269699926953763 0.12988999527879058 -0.13007000046782197 0.12804999989457427 0.12988999527879058 0.13278000098653137 -0.03595000091008842 -0.10741999703459441 -0.10741999703459441 -0.12976999538950623 0.1328700040001422 -0.12635000008158387 0.12989999395795165 -0.12976999538950623 0.12845000666566192 0.12989999395795165 0.1328700040001422 -0.10705999988131225 -0.10705999988131225 -0.12499000090174377 0.1328700040001422 -0.0756200026255101 0.1362800006289035 -0.12499000090174377 0.1362800006289035 0.1328700040001422 -0.03595000091008842 -0.1076000030618161 -0.1076000030618161 -0.12983000236563386 0.13289000135846435 -0.12612000065855683 0.12978999358601867 -0.12983000236563386 0.12850999874062835 0.12978999358601867 0.13289000135846435 0.12845000666566192 0.057410002173855904 0.057410002173855904] elementary_charge\n",
      "AvgResidueCharges(charges={8: -0.12990199881605802, 6: -0.12655199724249538, 2: -0.1073480005841702, 10: 0.12987399441190067, 1: -0.0354300010483712, 11: 0.13283800226636233, 3: -0.1073480005841702, 4: -0.12990199881605802, 5: 0.13283800226636233, 7: 0.12987399441190067, 9: 0.12830200237222017}, residue_name='polyphenylene1', SMARTS='*-[#6:1]1=[#6:2](-[#6:8](=[#6:6](-[#6:4](=[#6:3]-1-[#1:5])-[#1:7])-[#1:9])-[#1:10])-[#1:11]') \n",
      "\n",
      "AvgResidueCharges(charges={6: -0.017539999959990383, 2: -0.017949999822303653, 5: -0.01775000016205013, 4: -0.015429999260231853, 3: -0.01775000016205013, 1: -0.017539999959990383}, residue_name='polyphenylene6', SMARTS='*-[#6:1]1-[#6:2](=[#6:6](-[#6:5](=[#6:4](-[#6:3]=1-*)-*)-*)-*)-*') \n",
      "\n",
      "AvgResidueCharges(charges={12: -0.03998000132851302, 14: -0.10705999988131225, 13: -0.10705999988131225, 19: -0.12499000090174377, 21: 0.1328700040001422, 17: -0.0756200026255101, 20: 0.1362800006289035, 8: 0.0034600004553794863, 15: -0.12499000090174377, 18: 0.1362800006289035, 16: 0.1328700040001422, 1: -0.03998000132851302, 3: -0.10705999988131225, 2: -0.10705999988131225, 9: -0.12499000090174377, 11: 0.1328700040001422, 6: -0.0756200026255101, 10: 0.1362800006289035, 4: -0.12499000090174377, 7: 0.1362800006289035, 5: 0.1328700040001422, 22: 0.057410002173855904, 23: 0.057410002173855904}, residue_name='polyphenylene_mid', SMARTS='*-[#6:1]1-[#6:2](=[#6:9](-[#6:6](=[#6:4](-[#6:3]=1-[#1:5])-[#1:7])-[#6:8](-[#6:17]1-[#6:15](=[#6:14](-[#6:12](-*)=[#6:13](-[#6:19]=1-[#1:20])-[#1:21])-[#1:16])-[#1:18])(-[#1:22])-[#1:23])-[#1:10])-[#1:11]') \n",
      "\n",
      "polyethylmethacrylate\n"
     ]
    },
    {
     "name": "stderr",
     "output_type": "stream",
     "text": [
      "Warning: : Failed due to unspecified stereochemistry\n",
      "Warning (not error because allow_undefined_stereo=True): OEMol has unspecified stereochemistry. oemol.GetTitle(): \n",
      "Problematic atoms are:\n",
      "Atom atomic num: 6, name: , idx: 1, aromatic: False, chiral: True with bonds:\n",
      "bond order: 1, chiral: False to atom atomic num: 1, name: , idx: 0, aromatic: False, chiral: False\n",
      "bond order: 1, chiral: False to atom atomic num: 6, name: , idx: 2, aromatic: False, chiral: False\n",
      "bond order: 1, chiral: False to atom atomic num: 6, name: , idx: 3, aromatic: False, chiral: False\n",
      "bond order: 1, chiral: False to atom atomic num: 6, name: , idx: 17, aromatic: False, chiral: False\n",
      "Atom atomic num: 6, name: , idx: 16, aromatic: False, chiral: True with bonds:\n",
      "bond order: 1, chiral: False to atom atomic num: 6, name: , idx: 17, aromatic: False, chiral: False\n",
      "bond order: 1, chiral: False to atom atomic num: 6, name: , idx: 18, aromatic: False, chiral: False\n",
      "bond order: 1, chiral: False to atom atomic num: 6, name: , idx: 19, aromatic: False, chiral: False\n",
      "bond order: 1, chiral: False to atom atomic num: 6, name: , idx: 35, aromatic: False, chiral: False\n",
      "Atom atomic num: 6, name: , idx: 34, aromatic: False, chiral: True with bonds:\n",
      "bond order: 1, chiral: False to atom atomic num: 6, name: , idx: 35, aromatic: False, chiral: False\n",
      "bond order: 1, chiral: False to atom atomic num: 6, name: , idx: 36, aromatic: False, chiral: False\n",
      "bond order: 1, chiral: False to atom atomic num: 6, name: , idx: 37, aromatic: False, chiral: False\n",
      "bond order: 1, chiral: False to atom atomic num: 6, name: , idx: 53, aromatic: False, chiral: False\n",
      "Atom atomic num: 6, name: , idx: 52, aromatic: False, chiral: True with bonds:\n",
      "bond order: 1, chiral: False to atom atomic num: 6, name: , idx: 53, aromatic: False, chiral: False\n",
      "bond order: 1, chiral: False to atom atomic num: 6, name: , idx: 54, aromatic: False, chiral: False\n",
      "bond order: 1, chiral: False to atom atomic num: 6, name: , idx: 55, aromatic: False, chiral: False\n",
      "bond order: 1, chiral: False to atom atomic num: 6, name: , idx: 71, aromatic: False, chiral: False\n",
      "Atom atomic num: 6, name: , idx: 70, aromatic: False, chiral: True with bonds:\n",
      "bond order: 1, chiral: False to atom atomic num: 6, name: , idx: 71, aromatic: False, chiral: False\n",
      "bond order: 1, chiral: False to atom atomic num: 6, name: , idx: 72, aromatic: False, chiral: False\n",
      "bond order: 1, chiral: False to atom atomic num: 6, name: , idx: 73, aromatic: False, chiral: False\n",
      "bond order: 1, chiral: False to atom atomic num: 6, name: , idx: 90, aromatic: False, chiral: False\n",
      "\n"
     ]
    },
    {
     "name": "stdout",
     "output_type": "stream",
     "text": [
      "final molecular charges: [0.0989499986849048 -0.11765000217340209 -0.11234000318429686 0.6274700165472248 -0.5382400154390118 -0.45254999392411926 0.13782000548460266 -0.09948000305078246 0.061900001086971974 0.061900001086971974 0.061900001086971974 0.05124000094153664 0.05124000094153664 0.046720001914284444 0.046720001914284444 0.046720001914284444 -0.07564000033519484 -0.10041999810121276 -0.10431999706409194 0.6419199705801227 -0.5364400147714398 -0.454309999875047 0.1299500019035556 -0.10379999869249083 0.08876000351526521 0.08876000351526521 0.056880001046440816 0.056880001046440816 0.056880001046440816 0.05948999903418801 0.05948999903418801 0.046709999509833074 0.046709999509833074 0.046709999509833074 -0.06593000136993148 -0.0730499997057698 -0.10095000260255553 0.6347900033674457 -0.5411300062455914 -0.4482299982824109 0.1232099980793216 -0.11755000048063018 0.07154999680139802 0.07154999680139802 0.05268999940969727 0.05268999940969727 0.05268999940969727 0.07058999694206498 0.07058999694206498 0.04768000177361748 0.04768000177361748 0.04768000177361748 -0.0719000025906346 -0.0737800001420758 -0.14431999617002228 0.6552699804983356 -0.5468099712648175 -0.4391199945726178 0.1391600073061206 -0.09852000319144942 0.06841000176288865 0.06841000176288865 0.06599999971010469 0.06599999971010469 0.06599999971010469 0.056710001148960805 0.056710001148960805 0.043559998341582036 0.043559998341582036 0.043559998341582036 -0.06988000117919661 -0.07405000173232772 -0.10471999638459899 0.6371600032530048 -0.5351899861612103 -0.45745000236413697 0.1301299930296161 -0.10265000157735564 0.06751000142910264 0.06751000142910264 0.05604000023820183 0.05604000023820183 0.05604000023820183 0.05999999872662804 0.05999999872662804 0.04636999971487305 0.04636999971487305 0.04636999971487305 -0.09017000340602614 -0.07710000120780684 -0.09042000018737532 -0.09017000340602614 0.633000016280196 -0.548409998349168 -0.44828000657937744 0.13744999475099823 -0.09980999671600081 0.052080001749775624 0.052080001749775624 0.052080001749775624 0.08016999817707322 0.08016999817707322 0.052080001749775624 0.052080001749775624 0.052080001749775624 0.05054999894716523 0.05054999894716523 0.04746999970891259 0.04746999970891259 0.04746999970891259] elementary_charge\n",
      "AvgResidueCharges(charges={1: 0.0989499986849048, 2: -0.11765000217340209, 3: -0.11234000318429686, 4: 0.6274700165472248, 5: -0.5382400154390118, 6: -0.45254999392411926, 7: 0.13782000548460266, 8: -0.09948000305078246, 9: 0.061900001086971974, 10: 0.061900001086971974, 11: 0.061900001086971974, 12: 0.05124000094153664, 13: 0.05124000094153664, 14: 0.046720001914284444, 15: 0.046720001914284444, 16: 0.046720001914284444, 17: -0.10041999810121276, 18: 0.08876000351526521, 19: 0.08876000351526521}, residue_name='polyethylmethacrylate_TERM2', SMARTS='[#1:1]-[#6:2](-[#6:3](-[#1:9])(-[#1:10])-[#1:11])(-[#6:4](=[#8:5])-[#8:6]-[#6:7](-[#6:8](-[#1:14])(-[#1:15])-[#1:16])(-[#1:12])-[#1:13])-[#6:17](-*)(-[#1:18])-[#1:19]') \n",
      "\n",
      "AvgResidueCharges(charges={2: -0.07083750136873938, 3: -0.11357749805531718, 4: 0.6422849894247272, 5: -0.5398924946107647, 6: -0.44977749877355316, 7: 0.13061250007965347, 8: -0.10563000098548152, 11: 0.05790250010111115, 12: 0.05790250010111115, 13: 0.05790250010111115, 14: 0.06169749896296046, 15: 0.06169749896296046, 16: 0.04607999983497641, 17: 0.04607999983497641, 18: 0.04607999983497641, 1: -0.07782500044188716, 9: 0.07190999954261564, 10: 0.07190999954261564}, residue_name='polyethylmethacrylate', SMARTS='[#6:1](-[#6:2](-*)(-[#6:3](-[#1:11])(-[#1:12])-[#1:13])-[#6:4](=[#8:5])-[#8:6]-[#6:7](-[#6:8](-[#1:16])(-[#1:17])-[#1:18])(-[#1:14])-[#1:15])(-[#1:9])(-*)-[#1:10]') \n",
      "\n",
      "AvgResidueCharges(charges={3: -0.09017000340602614, 2: -0.07710000120780684, 1: -0.09017000340602614, 4: 0.633000016280196, 5: -0.548409998349168, 6: -0.44828000657937744, 7: 0.13744999475099823, 8: -0.09980999671600081, 12: 0.052080001749775624, 13: 0.052080001749775624, 14: 0.052080001749775624, 9: 0.052080001749775624, 10: 0.052080001749775624, 11: 0.052080001749775624, 15: 0.05054999894716523, 16: 0.05054999894716523, 17: 0.04746999970891259, 18: 0.04746999970891259, 19: 0.04746999970891259}, residue_name='polyethylmethacrylate_TERM3', SMARTS='[#6:1](-[#6:2](-*)(-[#6:3](-[#1:12])(-[#1:13])-[#1:14])-[#6:4](=[#8:5])-[#8:6]-[#6:7](-[#6:8](-[#1:17])(-[#1:18])-[#1:19])(-[#1:15])-[#1:16])(-[#1:9])(-[#1:10])-[#1:11]') \n",
      "\n",
      "naturalrubber\n"
     ]
    },
    {
     "name": "stderr",
     "output_type": "stream",
     "text": [
      "Warning: : Failed due to unspecified stereochemistry\n"
     ]
    },
    {
     "name": "stdout",
     "output_type": "stream",
     "text": [
      "final molecular charges: [-0.03956999988207277 0.04400999858131949 0.04400999858131949 -0.11754000172862467 -0.1667100040698951 0.11830999716272894 -0.06148999915370401 0.03898999854078833 0.03898999854078833 -0.06092999861487802 0.03940000026574675 0.03940000026574675 0.03940000026574675 0.03898999854078833 -0.03875000015744623 0.04459999888291899 0.04459999888291899 -0.11007999614724573 -0.16137999282130655 0.1184300036644036 -0.04427999989041742 0.04656000076880995 0.04656000076880995 -0.05877999947318491 0.04004000141373221 0.04004000141373221 0.04004000141373221 -0.040899999299139345 0.04746999978175703 0.04746999978175703 -0.11568000153550562 -0.16482000038871225 0.12092000260105673 -0.04434999809512552 0.0432399997030789 0.0432399997030789 -0.060299999871343934 0.04030999927869383 0.04030999927869383 0.04030999927869383 -0.04061999902972635 0.04380999892106596 0.04380999892106596 -0.10523000345477518 -0.17204999909648355 0.11647000177851263 -0.04408999890932497 0.04662999897351805 0.04662999897351805 -0.06049000085243639 0.0412600004588658 0.0412600004588658 0.0412600004588658 -0.041710000344604814 0.04422000064602438 0.04422000064602438 -0.11210999623784479 -0.1646600066209739 0.11751999720087591 -0.04343999908217844 0.04589999853721205 0.04589999853721205 -0.05945000038394388 0.04011999829760138 0.04011999829760138 0.04011999829760138 -0.04207999990233835 0.0504699984108502 0.0504699984108502 -0.10955999777564462 -0.17468999312171396 0.11839000149717871 -0.041629999735445344 0.04890999957075659 0.04890999957075659 -0.06693000332364496 0.0409800001894528 0.0409800001894528 0.0409800001894528 -0.0403599998439258 0.043600000581651366 0.043600000581651366 -0.11050999895581659 -0.16659000501880106 0.11817000075331274 -0.044789999582857454 0.045949999383598006 0.045949999383598006 -0.06235999972471651 0.041319999984412825 0.041319999984412825 0.041319999984412825 -0.060880001493782365 0.03982999934902731 0.03982999934902731 0.03982999934902731 -0.11063999668607172 -0.17038999483832773 0.1154400037144715 -0.040989998587459886 0.046029999992757475 0.046029999992757475 -0.060880001493782365 0.03982999934902731 0.03982999934902731 0.03982999934902731] elementary_charge\n",
      "AvgResidueCharges(charges={1: -0.03956999988207277, 2: 0.04400999858131949, 3: 0.04400999858131949, 4: -0.11754000172862467, 5: -0.1667100040698951, 6: 0.11830999716272894, 7: -0.06148999915370401, 8: 0.03898999854078833, 9: 0.03898999854078833, 10: -0.06092999861487802, 11: 0.03940000026574675, 12: 0.03940000026574675, 13: 0.03940000026574675, 14: 0.03898999854078833}, residue_name='natural_rubber_TERM1', SMARTS='[#6:1](-[#1:2])(-[#1:3])(-[#6:4](=[#6:5](-[#1:6])-[#6:7](-[#1:8])(-[#1:9])-[#1:14])-[#6:10](-[#1:11])(-[#1:12])-[#1:13])-*') \n",
      "\n",
      "AvgResidueCharges(charges={1: -0.040736666429530145, 2: 0.04569499953737799, 3: 0.04569499953737799, 4: -0.11052833235113875, 5: -0.16736499951133188, 6: 0.11831666791589006, 7: -0.043763332549224855, 8: 0.046198332822828925, 9: 0.046198332822828925, 10: -0.06138500060487843, 11: 0.04067166660379314, 12: 0.04067166660379314, 13: 0.04067166660379314}, residue_name='natural_rubber', SMARTS='*-[#6:7](-[#6:5](=[#6:4](-[#6:1](-[#1:2])(-[#1:3])-*)-[#6:10](-[#1:11])(-[#1:12])-[#1:13])-[#1:6])(-[#1:8])-[#1:9]') \n",
      "\n",
      "AvgResidueCharges(charges={1: -0.060880001493782365, 2: 0.03982999934902731, 3: 0.03982999934902731, 4: 0.03982999934902731, 5: -0.11063999668607172, 6: -0.17038999483832773, 7: 0.1154400037144715, 8: -0.040989998587459886, 9: 0.046029999992757475, 10: 0.046029999992757475, 11: -0.060880001493782365, 12: 0.03982999934902731, 13: 0.03982999934902731, 14: 0.03982999934902731}, residue_name='natural_rubber_TERM2', SMARTS='*-[#6:8](-[#6:6](=[#6:5](-[#6:1](-[#1:2])(-[#1:3])-[#1:4])-[#6:11](-[#1:12])(-[#1:13])-[#1:14])-[#1:7])(-[#1:9])-[#1:10]') \n",
      "\n",
      "polymethylketone\n",
      "final molecular charges: [-0.2483700068778027 -0.2518100144452084 0.13902999440965763 0.04984999800858609 0.041859999101735275 0.041859999101735275 0.04984999800858609 0.041859999101735275 0.041859999101735275 0.04984999800858609 0.041859999101735275 0.041859999101735275 0.0478300003224384 0.0478300003224384 0.0478300003224384 0.0478300003224384 0.0478300003224384 0.0478300003224384 0.14724999646482578 0.15615999678907505 0.16062000374136082 0.15369999388990513 0.14357000569639317 0.14357000569639317 0.15369999388990513 0.14702999572095982 0.13861000518140904 0.13861000518140904 0.14702999572095982 -0.06126999874772914 -0.07030999680223354 -0.06126999874772914 -0.07030999680223354 -0.06126999874772914 -0.07030999680223354 -0.06763999928893932 -0.06763999928893932 -0.06763999928893932 0.004059999983884015 -0.07266999800863155 -0.10523000379266628 -0.14372999985875973 0.1071299983078014 -0.1890300067252148 0.10818999985990635 0.10745999942360035 -0.15121999402704128 -0.08393000086011776 -0.16439999659719357 -0.08393000086011776 -0.15121999402704128 0.5882899759226811 -0.17690999825658688 -0.07989999671640285 -0.14646999557676205 -0.09361000378789791 -0.14646999557676205 -0.07989999671640285 -0.5183399917668331 -0.06043000166478046 -0.07062999923887142 -0.06043000166478046 -0.07062999923887142 -0.06043000166478046 -0.07062999923887142 -0.06730999817314037 -0.06730999817314037 -0.06730999817314037 0.012950000155843416 -0.08771000077190289 -0.08257000168027767 -0.19582000394525417 0.12375999967393986 -0.2259799989050854 0.1451900003367435 0.1292400060111057 -0.16599999387922176 -0.06712000091733822 -0.1850699933356274 -0.06712000091733822 -0.16599999387922176 0.5924800036364567 -0.18539999445142635 -0.06729000081481823 -0.16883000751199612 0.1238500026875507 -0.16883000751199612 -0.06729000081481823 -0.5340099932736385 0.047129999648905914 0.04050999860105626 0.04050999860105626 0.047129999648905914 0.04050999860105626 0.04050999860105626 0.047129999648905914 0.04050999860105626 0.04050999860105626 0.048780001502610366 0.048780001502610366 0.048780001502610366 0.048780001502610366 0.048780001502610366 0.048780001502610366 0.1427599934750568 0.14857999960718266 0.15001000444231144 0.15462000648317448 0.14956000427541843 0.14956000427541843 0.15462000648317448 0.151549994748212 0.15629999319849125 0.15629999319849125 0.151549994748212 -0.4938899876660336 0.4186199901515018 -0.2514899971074093] elementary_charge\n",
      "AvgResidueCharges(charges={1: -0.2483700068778027, 2: -0.2518100144452084, 3: 0.13902999440965763, 4: 0.04984999800858609, 11: 0.041859999101735275, 12: 0.041859999101735275, 10: 0.04984999800858609, 8: 0.041859999101735275, 9: 0.041859999101735275, 7: 0.04984999800858609, 5: 0.041859999101735275, 6: 0.041859999101735275, 13: 0.0478300003224384, 14: 0.0478300003224384, 17: 0.0478300003224384, 18: 0.0478300003224384, 15: 0.0478300003224384, 16: 0.0478300003224384, 19: 0.14724999646482578, 20: 0.15615999678907505, 21: 0.16062000374136082, 25: 0.15369999388990513, 24: 0.14357000569639317, 23: 0.14357000569639317, 22: 0.15369999388990513, 29: 0.14702999572095982, 28: 0.13861000518140904, 27: 0.13861000518140904, 26: 0.14702999572095982, 30: -0.06126999874772914, 35: -0.07030999680223354, 34: -0.06126999874772914, 33: -0.07030999680223354, 32: -0.06126999874772914, 31: -0.07030999680223354, 36: -0.06763999928893932, 38: -0.06763999928893932, 37: -0.06763999928893932, 39: 0.004059999983884015, 40: -0.07266999800863155, 41: -0.10523000379266628, 42: -0.14372999985875973, 43: 0.1071299983078014, 44: -0.1890300067252148, 45: 0.10818999985990635, 46: 0.10745999942360035, 51: -0.15121999402704128, 50: -0.08393000086011776, 49: -0.16439999659719357, 48: -0.08393000086011776, 47: -0.15121999402704128, 52: 0.5882899759226811, 53: -0.17690999825658688, 58: -0.07989999671640285, 57: -0.14646999557676205, 56: -0.09361000378789791, 55: -0.14646999557676205, 54: -0.07989999671640285, 59: -0.5183399917668331}, residue_name='polymethylketone_TERM25', SMARTS='[#8:1](-[#6:43]1=[#6:42](-[#1:20])-[#6:41](-[#1:19])=[#6:40](-[#6:39]23-[#6:36](-[#1:13])(-[#1:14])-[#6:30]4(-[#1:4])-[#6:31](-[#1:5])(-[#1:6])-[#6:32](-[#1:7])(-[#6:33](-[#1:8])(-[#1:9])-[#6:34](-[#1:10])(-[#6:35]-4(-[#1:11])-[#1:12])-[#6:37]-2(-[#1:15])-[#1:16])-[#6:38]-3(-[#1:17])-[#1:18])-[#6:45](-[#8:2]-*)=[#6:44]-1-[#1:21])-[#6:46]1-[#6:47](-[#1:22])=[#6:48](-[#1:23])-[#6:49](=[#6:50](-[#1:24])-[#6:51]=1-[#1:25])-[#6:52](-[#6:53]1-[#6:54](-[#1:26])=[#6:55](-[#1:27])-[#6:56](-[#1:3])=[#6:57](-[#1:28])-[#6:58]=1-[#1:29])=[#8:59]') \n",
      "\n",
      "AvgResidueCharges(charges={5: -0.06043000166478046, 6: -0.07062999923887142, 1: -0.06043000166478046, 2: -0.07062999923887142, 3: -0.06043000166478046, 4: -0.07062999923887142, 8: -0.06730999817314037, 9: -0.06730999817314037, 7: -0.06730999817314037, 10: 0.012950000155843416, 11: -0.08771000077190289, 12: -0.08257000168027767, 13: -0.19582000394525417, 14: 0.12375999967393986, 15: -0.2259799989050854, 16: 0.1451900003367435, 17: 0.1292400060111057, 22: -0.16599999387922176, 21: -0.06712000091733822, 20: -0.1850699933356274, 19: -0.06712000091733822, 18: -0.16599999387922176, 23: 0.5924800036364567, 24: -0.18539999445142635, 29: -0.06729000081481823, 28: -0.16883000751199612, 27: 0.1238500026875507, 26: -0.16883000751199612, 25: -0.06729000081481823, 30: -0.5340099932736385, 37: 0.047129999648905914, 38: 0.04050999860105626, 39: 0.04050999860105626, 31: 0.047129999648905914, 32: 0.04050999860105626, 33: 0.04050999860105626, 34: 0.047129999648905914, 35: 0.04050999860105626, 36: 0.04050999860105626, 42: 0.048780001502610366, 43: 0.048780001502610366, 44: 0.048780001502610366, 45: 0.048780001502610366, 40: 0.048780001502610366, 41: 0.048780001502610366, 46: 0.1427599934750568, 47: 0.14857999960718266, 48: 0.15001000444231144, 52: 0.15462000648317448, 51: 0.14956000427541843, 50: 0.14956000427541843, 49: 0.15462000648317448, 56: 0.151549994748212, 55: 0.15629999319849125, 54: 0.15629999319849125, 53: 0.151549994748212, 57: -0.4938899876660336, 58: 0.4186199901515018, 59: -0.2514899971074093}, residue_name='polymethylketone_TERM24', SMARTS='*-[#6:27]1=[#6:26](-[#6:25](=[#6:24](-[#6:23](-[#6:20]2=[#6:19](-[#6:18](=[#6:17](-[#6:22](=[#6:21]-2-[#1:51])-[#1:52])-[#8:59]-[#6:14]2=[#6:13](-[#6:12](=[#6:11](-[#6:10]34-[#6:7](-[#6:1]5(-[#6:2](-[#6:3](-[#6:4](-[#6:5](-[#6:6]-5(-[#1:38])-[#1:39])(-[#6:8]-3(-[#1:42])-[#1:43])-[#1:37])(-[#1:35])-[#1:36])(-[#6:9]-4(-[#1:44])-[#1:45])-[#1:34])(-[#1:32])-[#1:33])-[#1:31])(-[#1:40])-[#1:41])-[#6:16](=[#6:15]-2-[#1:48])-[#8:57]-[#1:58])-[#1:46])-[#1:47])-[#1:49])-[#1:50])=[#8:30])-[#6:29](=[#6:28]-1-[#1:55])-[#1:56])-[#1:53])-[#1:54]') \n",
      "\n"
     ]
    }
   ],
   "source": [
    "# Perform charge averaging on all target molecules which don't already have averaged LCs; \n",
    "# Load forcefield for those which already do \n",
    "sample_mols = ['PEO_PLGA']\n",
    "prevent_overwrites = True\n",
    "run_sims = False\n",
    "distrib_mono_charges = False\n",
    "\n",
    "offxml_src = Path('xml examples/base_library_charges.offxml')\n",
    "polymer_folder = Path('compatible_pdbs/simple_polymers')\n",
    "pickle_folder = Path('pickled_molecules')\n",
    "\n",
    "for mol_name in mols_to_use: #sample_mols: \n",
    "    # DEFINING PATHS, CREATING FOLDERS, AND FETCHING FILES\n",
    "    print(mol_name)\n",
    "    pdb_path = Path(f'compatible_pdbs/simple_polymers/{mol_name}.pdb')\n",
    "    charged_json = Path(f'charged_jsons/{mol_name}_with_charges.json')\n",
    "    default_json = polymer_folder/f'{mol_name}.json'\n",
    "    json_path = charged_json if charged_json.exists() else default_json\n",
    "\n",
    "    with json_path.open('r') as json_file:\n",
    "        json_data = json.load(json_file)\n",
    "    \n",
    "    output_folder = Path(f'averaged_polymers/{mol_name}')\n",
    "    output_folder.mkdir(exist_ok=True)\n",
    "    lc_path = output_folder/f'new {mol_name} charges.offxml' # path to output library charges to\n",
    "    pickle_path = pickle_folder/f'{mol_name}.pkl'\n",
    "\n",
    "    # LOAD MOLECULE AND TOPOLOGY, ATTEMPT TO APPLY LIBRARY CHARGES\n",
    "    mol, topology = load_mol_and_topo(pdb_path, json_path)  # will raise exception if files for molecule are not found\n",
    "    \n",
    "    if prevent_overwrites and lc_path.exists(): # check if library charges have already been generated for this molecule\n",
    "        forcefield = ForceField(lc_path, allow_cosmetic_attributes=True)\n",
    "    else:\n",
    "        cmol = generate_molecule_charges(mol, toolkit_method='openeye', partial_charge_method='am1bcc') # perform AM1BCC\n",
    "        with pickle_path.open('wb') as pickle_file: # write charged molecule to pickle to avoid constantly redoing AM1\n",
    "            pickle.dump(cmol, pickle_file)\n",
    "\n",
    "        #clear_output() # for Jupyter notebooks only, can freely comment this out\n",
    "        avgs = get_averaged_charges(cmol, monomer_data=json_data, distrib_mono_charges=distrib_mono_charges) # average charges over unique residues - placed after clear so we can see what averages are computed\n",
    "        for averaged_res in avgs:\n",
    "            print(averaged_res, '\\n')\n",
    "\n",
    "        forcefield, lib_chgs = write_new_library_charges(avgs, offxml_src, output_path=lc_path)\n",
    "        \n",
    "        # CREATE JSON WITH AVERAGED CHARGES IF ONE DOES NOT ALREADY EXIST\n",
    "        if not charged_json.exists():\n",
    "            with default_json.open('r') as old_json:\n",
    "                json_dat = json.load(old_json)\n",
    "\n",
    "            charge_entry = {avgd_res.residue_name : avgd_res.charges for avgd_res in avgs}\n",
    "            json_dat['charges'] = charge_entry\n",
    "\n",
    "            charged_json.touch()\n",
    "            with charged_json.open('w') as new_json:\n",
    "                json.dump(json_dat, new_json, indent=4)\n",
    "\n",
    "    # RUN OpenMM SIMULATION FOR TARGET MOLECULE\n",
    "    if run_sims:\n",
    "        forcefield = ForceField(lc_path, allow_cosmetic_attributes=True)\n",
    "        interchange = Interchange.from_smirnoff(force_field=forcefield, topology=topology)#, charge_from_molecules=[cmol]) # generate Interchange with new library charges prior to writing to file\n",
    "        sim = create_sim_from_interchange(interchange)\n",
    "        run_simulation(sim, output_folder=output_folder, output_name=mol_name, num_steps=10000, record_freq=10)"
   ]
  },
  {
   "cell_type": "code",
   "execution_count": null,
   "metadata": {},
   "outputs": [
    {
     "name": "stdout",
     "output_type": "stream",
     "text": [
      "[#6](-[#6:3](-[H:5])-[#17:4])(-[H:1])-[H:2]\n"
     ]
    }
   ],
   "source": [
    "rdmol = cmol.to_rdkit() # create rdkit representation of Molecule to allow for SMARTS generation\n",
    "targ_res_num = 3\n",
    "\n",
    "atom_ids_for_SMARTS = []\n",
    "for atom in cmol.atoms: # accumulate counts and charge values across matching substructures\n",
    "    res_name, res_num     = atom.metadata['residue_name']   , atom.metadata['residue_number']\n",
    "    substruct_id, atom_id = atom.metadata['substructure_id'], atom.metadata['pdb_atom_id']\n",
    "\n",
    "    if res_num == targ_res_num: # if atom is member of representative group for any residue...\n",
    "        atom_ids_for_SMARTS.append(atom_id)             # ...collect pdb id...\n",
    "        rdmol.GetAtomWithIdx(atom_id).SetAtomMapNum(substruct_id) # ...and set atom number for labelling in SMARTS string\n",
    "\n",
    "SMARTS = Chem.rdmolfiles.MolFragmentToSmarts(rdmol, atomsToUse=atom_ids_for_SMARTS) # determine SMARTS for the current residue's representative group\n",
    "print(SMARTS)"
   ]
  },
  {
   "cell_type": "code",
   "execution_count": 9,
   "metadata": {},
   "outputs": [
    {
     "data": {
      "image/svg+xml": "<svg xmlns=\"http://www.w3.org/2000/svg\" xmlns:rdkit=\"http://www.rdkit.org/xml\" xmlns:xlink=\"http://www.w3.org/1999/xlink\" version=\"1.1\" baseProfile=\"full\" xml:space=\"preserve\" width=\"500px\" height=\"300px\" viewBox=\"0 0 500 300\">\n<!-- END OF HEADER -->\n<rect style=\"opacity:1.0;fill:#FFFFFF;stroke:none\" width=\"500.0\" height=\"300.0\" x=\"0.0\" y=\"0.0\"> </rect>\n<path class=\"bond-0 atom-0 atom-1\" d=\"M 447.4,168.8 L 447.8,192.6\" style=\"fill:none;fill-rule:evenodd;stroke:#000000;stroke-width:2.0px;stroke-linecap:butt;stroke-linejoin:miter;stroke-opacity:1\"/>\n<path class=\"bond-0 atom-0 atom-1\" d=\"M 443.1,172.5 L 443.4,189.1\" style=\"fill:none;fill-rule:evenodd;stroke:#000000;stroke-width:2.0px;stroke-linecap:butt;stroke-linejoin:miter;stroke-opacity:1\"/>\n<path class=\"bond-1 atom-0 atom-2\" d=\"M 447.4,168.8 L 426.4,157.3\" style=\"fill:none;fill-rule:evenodd;stroke:#000000;stroke-width:2.0px;stroke-linecap:butt;stroke-linejoin:miter;stroke-opacity:1\"/>\n<path class=\"bond-2 atom-0 atom-3\" d=\"M 447.4,168.8 L 463.3,159.3\" style=\"fill:none;fill-rule:evenodd;stroke:#000000;stroke-width:2.0px;stroke-linecap:butt;stroke-linejoin:miter;stroke-opacity:1\"/>\n<path class=\"bond-3 atom-1 atom-8\" d=\"M 447.8,192.6 L 427.3,204.5\" style=\"fill:none;fill-rule:evenodd;stroke:#000000;stroke-width:2.0px;stroke-linecap:butt;stroke-linejoin:miter;stroke-opacity:1\"/>\n<path class=\"bond-4 atom-1 atom-71\" d=\"M 447.8,192.6 L 463.9,201.7\" style=\"fill:none;fill-rule:evenodd;stroke:#000000;stroke-width:2.0px;stroke-linecap:butt;stroke-linejoin:miter;stroke-opacity:1\"/>\n<path class=\"bond-5 atom-2 atom-4\" d=\"M 426.4,157.3 L 406.4,169.2\" style=\"fill:none;fill-rule:evenodd;stroke:#000000;stroke-width:2.0px;stroke-linecap:butt;stroke-linejoin:miter;stroke-opacity:1\"/>\n<path class=\"bond-5 atom-2 atom-4\" d=\"M 425.6,162.8 L 411.6,171.1\" style=\"fill:none;fill-rule:evenodd;stroke:#000000;stroke-width:2.0px;stroke-linecap:butt;stroke-linejoin:miter;stroke-opacity:1\"/>\n<path class=\"bond-6 atom-2 atom-5\" d=\"M 426.4,157.3 L 422.0,154.0\" style=\"fill:none;fill-rule:evenodd;stroke:#000000;stroke-width:2.0px;stroke-linecap:butt;stroke-linejoin:miter;stroke-opacity:1\"/>\n<path class=\"bond-7 atom-4 atom-6\" d=\"M 406.4,169.2 L 382.1,155.5\" style=\"fill:none;fill-rule:evenodd;stroke:#000000;stroke-width:2.0px;stroke-linecap:butt;stroke-linejoin:miter;stroke-opacity:1\"/>\n<path class=\"bond-8 atom-4 atom-7\" d=\"M 406.4,169.2 L 406.6,192.5\" style=\"fill:none;fill-rule:evenodd;stroke:#000000;stroke-width:2.0px;stroke-linecap:butt;stroke-linejoin:miter;stroke-opacity:1\"/>\n<path class=\"bond-9 atom-6 atom-11\" d=\"M 382.1,155.5 L 383.4,131.4\" style=\"fill:none;fill-rule:evenodd;stroke:#000000;stroke-width:2.0px;stroke-linecap:butt;stroke-linejoin:miter;stroke-opacity:1\"/>\n<path class=\"bond-9 atom-6 atom-11\" d=\"M 378.0,151.6 L 378.9,134.8\" style=\"fill:none;fill-rule:evenodd;stroke:#000000;stroke-width:2.0px;stroke-linecap:butt;stroke-linejoin:miter;stroke-opacity:1\"/>\n<path class=\"bond-10 atom-6 atom-12\" d=\"M 382.1,155.5 L 360.6,166.4\" style=\"fill:none;fill-rule:evenodd;stroke:#000000;stroke-width:2.0px;stroke-linecap:butt;stroke-linejoin:miter;stroke-opacity:1\"/>\n<path class=\"bond-11 atom-7 atom-8\" d=\"M 406.6,192.5 L 427.3,204.5\" style=\"fill:none;fill-rule:evenodd;stroke:#000000;stroke-width:2.0px;stroke-linecap:butt;stroke-linejoin:miter;stroke-opacity:1\"/>\n<path class=\"bond-11 atom-7 atom-8\" d=\"M 411.9,190.6 L 426.4,198.9\" style=\"fill:none;fill-rule:evenodd;stroke:#000000;stroke-width:2.0px;stroke-linecap:butt;stroke-linejoin:miter;stroke-opacity:1\"/>\n<path class=\"bond-12 atom-7 atom-9\" d=\"M 406.6,192.5 L 400.7,189.6\" style=\"fill:none;fill-rule:evenodd;stroke:#000000;stroke-width:2.0px;stroke-linecap:butt;stroke-linejoin:miter;stroke-opacity:1\"/>\n<path class=\"bond-13 atom-8 atom-10\" d=\"M 427.3,204.5 L 427.2,222.4\" style=\"fill:none;fill-rule:evenodd;stroke:#000000;stroke-width:2.0px;stroke-linecap:butt;stroke-linejoin:miter;stroke-opacity:1\"/>\n<path class=\"bond-14 atom-11 atom-27\" d=\"M 383.4,131.4 L 363.2,118.1\" style=\"fill:none;fill-rule:evenodd;stroke:#000000;stroke-width:2.0px;stroke-linecap:butt;stroke-linejoin:miter;stroke-opacity:1\"/>\n<path class=\"bond-15 atom-11 atom-60\" d=\"M 383.4,131.4 L 409.4,119.3\" style=\"fill:none;fill-rule:evenodd;stroke:#000000;stroke-width:2.0px;stroke-linecap:butt;stroke-linejoin:miter;stroke-opacity:1\"/>\n<path class=\"bond-16 atom-12 atom-13\" d=\"M 360.6,166.4 L 340.2,153.2\" style=\"fill:none;fill-rule:evenodd;stroke:#000000;stroke-width:2.0px;stroke-linecap:butt;stroke-linejoin:miter;stroke-opacity:1\"/>\n<path class=\"bond-16 atom-12 atom-13\" d=\"M 359.9,160.8 L 345.6,151.6\" style=\"fill:none;fill-rule:evenodd;stroke:#000000;stroke-width:2.0px;stroke-linecap:butt;stroke-linejoin:miter;stroke-opacity:1\"/>\n<path class=\"bond-17 atom-12 atom-14\" d=\"M 360.6,166.4 L 361.9,198.2\" style=\"fill:none;fill-rule:evenodd;stroke:#000000;stroke-width:2.0px;stroke-linecap:butt;stroke-linejoin:miter;stroke-opacity:1\"/>\n<path class=\"bond-18 atom-13 atom-25\" d=\"M 340.2,153.2 L 314.8,166.2\" style=\"fill:none;fill-rule:evenodd;stroke:#000000;stroke-width:2.0px;stroke-linecap:butt;stroke-linejoin:miter;stroke-opacity:1\"/>\n<path class=\"bond-19 atom-13 atom-26\" d=\"M 340.2,153.2 L 341.6,129.0\" style=\"fill:none;fill-rule:evenodd;stroke:#000000;stroke-width:2.0px;stroke-linecap:butt;stroke-linejoin:miter;stroke-opacity:1\"/>\n<path class=\"bond-20 atom-14 atom-15\" d=\"M 361.9,198.2 L 341.3,210.4\" style=\"fill:none;fill-rule:evenodd;stroke:#000000;stroke-width:2.0px;stroke-linecap:butt;stroke-linejoin:miter;stroke-opacity:1\"/>\n<path class=\"bond-20 atom-14 atom-15\" d=\"M 361.0,203.8 L 346.6,212.3\" style=\"fill:none;fill-rule:evenodd;stroke:#000000;stroke-width:2.0px;stroke-linecap:butt;stroke-linejoin:miter;stroke-opacity:1\"/>\n<path class=\"bond-21 atom-14 atom-16\" d=\"M 361.9,198.2 L 382.5,210.2\" style=\"fill:none;fill-rule:evenodd;stroke:#000000;stroke-width:2.0px;stroke-linecap:butt;stroke-linejoin:miter;stroke-opacity:1\"/>\n<path class=\"bond-22 atom-15 atom-21\" d=\"M 341.3,210.4 L 341.3,234.2\" style=\"fill:none;fill-rule:evenodd;stroke:#000000;stroke-width:2.0px;stroke-linecap:butt;stroke-linejoin:miter;stroke-opacity:1\"/>\n<path class=\"bond-23 atom-15 atom-24\" d=\"M 341.3,210.4 L 337.6,208.4\" style=\"fill:none;fill-rule:evenodd;stroke:#000000;stroke-width:2.0px;stroke-linecap:butt;stroke-linejoin:miter;stroke-opacity:1\"/>\n<path class=\"bond-24 atom-16 atom-17\" d=\"M 382.5,210.2 L 382.6,234.1\" style=\"fill:none;fill-rule:evenodd;stroke:#000000;stroke-width:2.0px;stroke-linecap:butt;stroke-linejoin:miter;stroke-opacity:1\"/>\n<path class=\"bond-24 atom-16 atom-17\" d=\"M 378.2,213.8 L 378.3,230.5\" style=\"fill:none;fill-rule:evenodd;stroke:#000000;stroke-width:2.0px;stroke-linecap:butt;stroke-linejoin:miter;stroke-opacity:1\"/>\n<path class=\"bond-25 atom-16 atom-18\" d=\"M 382.5,210.2 L 386.3,208.2\" style=\"fill:none;fill-rule:evenodd;stroke:#000000;stroke-width:2.0px;stroke-linecap:butt;stroke-linejoin:miter;stroke-opacity:1\"/>\n<path class=\"bond-26 atom-17 atom-19\" d=\"M 382.6,234.1 L 362.0,246.0\" style=\"fill:none;fill-rule:evenodd;stroke:#000000;stroke-width:2.0px;stroke-linecap:butt;stroke-linejoin:miter;stroke-opacity:1\"/>\n<path class=\"bond-27 atom-17 atom-20\" d=\"M 382.6,234.1 L 398.5,242.6\" style=\"fill:none;fill-rule:evenodd;stroke:#000000;stroke-width:2.0px;stroke-linecap:butt;stroke-linejoin:miter;stroke-opacity:1\"/>\n<path class=\"bond-28 atom-19 atom-21\" d=\"M 362.0,246.0 L 341.3,234.2\" style=\"fill:none;fill-rule:evenodd;stroke:#000000;stroke-width:2.0px;stroke-linecap:butt;stroke-linejoin:miter;stroke-opacity:1\"/>\n<path class=\"bond-28 atom-19 atom-21\" d=\"M 361.0,240.5 L 346.6,232.2\" style=\"fill:none;fill-rule:evenodd;stroke:#000000;stroke-width:2.0px;stroke-linecap:butt;stroke-linejoin:miter;stroke-opacity:1\"/>\n<path class=\"bond-29 atom-19 atom-22\" d=\"M 362.0,246.0 L 361.9,263.2\" style=\"fill:none;fill-rule:evenodd;stroke:#000000;stroke-width:2.0px;stroke-linecap:butt;stroke-linejoin:miter;stroke-opacity:1\"/>\n<path class=\"bond-30 atom-21 atom-23\" d=\"M 341.3,234.2 L 325.3,242.5\" style=\"fill:none;fill-rule:evenodd;stroke:#000000;stroke-width:2.0px;stroke-linecap:butt;stroke-linejoin:miter;stroke-opacity:1\"/>\n<path class=\"bond-31 atom-25 atom-50\" d=\"M 314.8,166.2 L 292.8,157.2\" style=\"fill:none;fill-rule:evenodd;stroke:#000000;stroke-width:2.0px;stroke-linecap:butt;stroke-linejoin:miter;stroke-opacity:1\"/>\n<path class=\"bond-31 atom-25 atom-50\" d=\"M 309.9,168.9 L 294.5,162.5\" style=\"fill:none;fill-rule:evenodd;stroke:#000000;stroke-width:2.0px;stroke-linecap:butt;stroke-linejoin:miter;stroke-opacity:1\"/>\n<path class=\"bond-32 atom-25 atom-51\" d=\"M 314.8,166.2 L 317.8,189.5\" style=\"fill:none;fill-rule:evenodd;stroke:#000000;stroke-width:2.0px;stroke-linecap:butt;stroke-linejoin:miter;stroke-opacity:1\"/>\n<path class=\"bond-33 atom-26 atom-27\" d=\"M 341.6,129.0 L 363.2,118.1\" style=\"fill:none;fill-rule:evenodd;stroke:#000000;stroke-width:2.0px;stroke-linecap:butt;stroke-linejoin:miter;stroke-opacity:1\"/>\n<path class=\"bond-33 atom-26 atom-27\" d=\"M 346.8,131.3 L 361.9,123.6\" style=\"fill:none;fill-rule:evenodd;stroke:#000000;stroke-width:2.0px;stroke-linecap:butt;stroke-linejoin:miter;stroke-opacity:1\"/>\n<path class=\"bond-34 atom-26 atom-28\" d=\"M 341.6,129.0 L 318.4,112.3\" style=\"fill:none;fill-rule:evenodd;stroke:#000000;stroke-width:2.0px;stroke-linecap:butt;stroke-linejoin:miter;stroke-opacity:1\"/>\n<path class=\"bond-35 atom-27 atom-39\" d=\"M 363.2,118.1 L 365.8,89.3\" style=\"fill:none;fill-rule:evenodd;stroke:#000000;stroke-width:2.0px;stroke-linecap:butt;stroke-linejoin:miter;stroke-opacity:1\"/>\n<path class=\"bond-36 atom-28 atom-29\" d=\"M 318.4,112.3 L 300.4,127.4\" style=\"fill:none;fill-rule:evenodd;stroke:#000000;stroke-width:2.0px;stroke-linecap:butt;stroke-linejoin:miter;stroke-opacity:1\"/>\n<path class=\"bond-36 atom-28 atom-29\" d=\"M 313.0,111.2 L 300.3,121.8\" style=\"fill:none;fill-rule:evenodd;stroke:#000000;stroke-width:2.0px;stroke-linecap:butt;stroke-linejoin:miter;stroke-opacity:1\"/>\n<path class=\"bond-37 atom-28 atom-30\" d=\"M 318.4,112.3 L 314.2,88.8\" style=\"fill:none;fill-rule:evenodd;stroke:#000000;stroke-width:2.0px;stroke-linecap:butt;stroke-linejoin:miter;stroke-opacity:1\"/>\n<path class=\"bond-38 atom-29 atom-35\" d=\"M 300.4,127.4 L 277.8,119.2\" style=\"fill:none;fill-rule:evenodd;stroke:#000000;stroke-width:2.0px;stroke-linecap:butt;stroke-linejoin:miter;stroke-opacity:1\"/>\n<path class=\"bond-39 atom-29 atom-38\" d=\"M 300.4,127.4 L 302.2,129.7\" style=\"fill:none;fill-rule:evenodd;stroke:#000000;stroke-width:2.0px;stroke-linecap:butt;stroke-linejoin:miter;stroke-opacity:1\"/>\n<path class=\"bond-40 atom-30 atom-31\" d=\"M 314.2,88.8 L 292.0,80.4\" style=\"fill:none;fill-rule:evenodd;stroke:#000000;stroke-width:2.0px;stroke-linecap:butt;stroke-linejoin:miter;stroke-opacity:1\"/>\n<path class=\"bond-40 atom-30 atom-31\" d=\"M 309.3,91.6 L 293.8,85.7\" style=\"fill:none;fill-rule:evenodd;stroke:#000000;stroke-width:2.0px;stroke-linecap:butt;stroke-linejoin:miter;stroke-opacity:1\"/>\n<path class=\"bond-41 atom-30 atom-32\" d=\"M 314.2,88.8 L 317.6,86.9\" style=\"fill:none;fill-rule:evenodd;stroke:#000000;stroke-width:2.0px;stroke-linecap:butt;stroke-linejoin:miter;stroke-opacity:1\"/>\n<path class=\"bond-42 atom-31 atom-33\" d=\"M 292.0,80.4 L 273.7,95.6\" style=\"fill:none;fill-rule:evenodd;stroke:#000000;stroke-width:2.0px;stroke-linecap:butt;stroke-linejoin:miter;stroke-opacity:1\"/>\n<path class=\"bond-43 atom-31 atom-34\" d=\"M 292.0,80.4 L 292.1,62.7\" style=\"fill:none;fill-rule:evenodd;stroke:#000000;stroke-width:2.0px;stroke-linecap:butt;stroke-linejoin:miter;stroke-opacity:1\"/>\n<path class=\"bond-44 atom-33 atom-35\" d=\"M 273.7,95.6 L 277.8,119.2\" style=\"fill:none;fill-rule:evenodd;stroke:#000000;stroke-width:2.0px;stroke-linecap:butt;stroke-linejoin:miter;stroke-opacity:1\"/>\n<path class=\"bond-44 atom-33 atom-35\" d=\"M 278.6,98.4 L 281.5,114.9\" style=\"fill:none;fill-rule:evenodd;stroke:#000000;stroke-width:2.0px;stroke-linecap:butt;stroke-linejoin:miter;stroke-opacity:1\"/>\n<path class=\"bond-45 atom-33 atom-36\" d=\"M 273.7,95.6 L 257.5,87.5\" style=\"fill:none;fill-rule:evenodd;stroke:#000000;stroke-width:2.0px;stroke-linecap:butt;stroke-linejoin:miter;stroke-opacity:1\"/>\n<path class=\"bond-46 atom-35 atom-37\" d=\"M 277.8,119.2 L 263.8,129.6\" style=\"fill:none;fill-rule:evenodd;stroke:#000000;stroke-width:2.0px;stroke-linecap:butt;stroke-linejoin:miter;stroke-opacity:1\"/>\n<path class=\"bond-47 atom-39 atom-40\" d=\"M 365.8,89.3 L 344.0,80.7\" style=\"fill:none;fill-rule:evenodd;stroke:#000000;stroke-width:2.0px;stroke-linecap:butt;stroke-linejoin:miter;stroke-opacity:1\"/>\n<path class=\"bond-47 atom-39 atom-40\" d=\"M 364.1,84.0 L 348.9,77.9\" style=\"fill:none;fill-rule:evenodd;stroke:#000000;stroke-width:2.0px;stroke-linecap:butt;stroke-linejoin:miter;stroke-opacity:1\"/>\n<path class=\"bond-48 atom-39 atom-41\" d=\"M 365.8,89.3 L 384.4,74.4\" style=\"fill:none;fill-rule:evenodd;stroke:#000000;stroke-width:2.0px;stroke-linecap:butt;stroke-linejoin:miter;stroke-opacity:1\"/>\n<path class=\"bond-49 atom-40 atom-46\" d=\"M 344.0,80.7 L 340.4,56.9\" style=\"fill:none;fill-rule:evenodd;stroke:#000000;stroke-width:2.0px;stroke-linecap:butt;stroke-linejoin:miter;stroke-opacity:1\"/>\n<path class=\"bond-50 atom-40 atom-49\" d=\"M 344.0,80.7 L 342.6,84.2\" style=\"fill:none;fill-rule:evenodd;stroke:#000000;stroke-width:2.0px;stroke-linecap:butt;stroke-linejoin:miter;stroke-opacity:1\"/>\n<path class=\"bond-51 atom-41 atom-42\" d=\"M 384.4,74.4 L 381.2,51.0\" style=\"fill:none;fill-rule:evenodd;stroke:#000000;stroke-width:2.0px;stroke-linecap:butt;stroke-linejoin:miter;stroke-opacity:1\"/>\n<path class=\"bond-51 atom-41 atom-42\" d=\"M 379.6,71.5 L 377.3,55.1\" style=\"fill:none;fill-rule:evenodd;stroke:#000000;stroke-width:2.0px;stroke-linecap:butt;stroke-linejoin:miter;stroke-opacity:1\"/>\n<path class=\"bond-52 atom-41 atom-43\" d=\"M 384.4,74.4 L 387.5,76.4\" style=\"fill:none;fill-rule:evenodd;stroke:#000000;stroke-width:2.0px;stroke-linecap:butt;stroke-linejoin:miter;stroke-opacity:1\"/>\n<path class=\"bond-53 atom-42 atom-44\" d=\"M 381.2,51.0 L 359.2,42.2\" style=\"fill:none;fill-rule:evenodd;stroke:#000000;stroke-width:2.0px;stroke-linecap:butt;stroke-linejoin:miter;stroke-opacity:1\"/>\n<path class=\"bond-54 atom-42 atom-45\" d=\"M 381.2,51.0 L 396.8,42.0\" style=\"fill:none;fill-rule:evenodd;stroke:#000000;stroke-width:2.0px;stroke-linecap:butt;stroke-linejoin:miter;stroke-opacity:1\"/>\n<path class=\"bond-55 atom-44 atom-46\" d=\"M 359.2,42.2 L 340.4,56.9\" style=\"fill:none;fill-rule:evenodd;stroke:#000000;stroke-width:2.0px;stroke-linecap:butt;stroke-linejoin:miter;stroke-opacity:1\"/>\n<path class=\"bond-55 atom-44 atom-46\" d=\"M 359.0,47.8 L 345.9,58.1\" style=\"fill:none;fill-rule:evenodd;stroke:#000000;stroke-width:2.0px;stroke-linecap:butt;stroke-linejoin:miter;stroke-opacity:1\"/>\n<path class=\"bond-56 atom-44 atom-47\" d=\"M 359.2,42.2 L 358.1,24.6\" style=\"fill:none;fill-rule:evenodd;stroke:#000000;stroke-width:2.0px;stroke-linecap:butt;stroke-linejoin:miter;stroke-opacity:1\"/>\n<path class=\"bond-57 atom-46 atom-48\" d=\"M 340.4,56.9 L 323.8,49.6\" style=\"fill:none;fill-rule:evenodd;stroke:#000000;stroke-width:2.0px;stroke-linecap:butt;stroke-linejoin:miter;stroke-opacity:1\"/>\n<path class=\"bond-58 atom-50 atom-57\" d=\"M 292.8,157.2 L 274.0,171.2\" style=\"fill:none;fill-rule:evenodd;stroke:#000000;stroke-width:2.0px;stroke-linecap:butt;stroke-linejoin:miter;stroke-opacity:1\"/>\n<path class=\"bond-59 atom-50 atom-59\" d=\"M 292.8,157.2 L 292.6,153.8\" style=\"fill:none;fill-rule:evenodd;stroke:#000000;stroke-width:2.0px;stroke-linecap:butt;stroke-linejoin:miter;stroke-opacity:1\"/>\n<path class=\"bond-60 atom-51 atom-52\" d=\"M 317.8,189.5 L 298.8,204.1\" style=\"fill:none;fill-rule:evenodd;stroke:#000000;stroke-width:2.0px;stroke-linecap:butt;stroke-linejoin:miter;stroke-opacity:1\"/>\n<path class=\"bond-60 atom-51 atom-52\" d=\"M 312.3,188.2 L 299.0,198.4\" style=\"fill:none;fill-rule:evenodd;stroke:#000000;stroke-width:2.0px;stroke-linecap:butt;stroke-linejoin:miter;stroke-opacity:1\"/>\n<path class=\"bond-61 atom-51 atom-53\" d=\"M 317.8,189.5 L 323.4,188.3\" style=\"fill:none;fill-rule:evenodd;stroke:#000000;stroke-width:2.0px;stroke-linecap:butt;stroke-linejoin:miter;stroke-opacity:1\"/>\n<path class=\"bond-62 atom-52 atom-54\" d=\"M 298.8,204.1 L 276.8,194.8\" style=\"fill:none;fill-rule:evenodd;stroke:#000000;stroke-width:2.0px;stroke-linecap:butt;stroke-linejoin:miter;stroke-opacity:1\"/>\n<path class=\"bond-63 atom-52 atom-55\" d=\"M 298.8,204.1 L 300.3,221.3\" style=\"fill:none;fill-rule:evenodd;stroke:#000000;stroke-width:2.0px;stroke-linecap:butt;stroke-linejoin:miter;stroke-opacity:1\"/>\n<path class=\"bond-64 atom-54 atom-56\" d=\"M 276.8,194.8 L 260.5,203.6\" style=\"fill:none;fill-rule:evenodd;stroke:#000000;stroke-width:2.0px;stroke-linecap:butt;stroke-linejoin:miter;stroke-opacity:1\"/>\n<path class=\"bond-65 atom-54 atom-57\" d=\"M 276.8,194.8 L 274.0,171.2\" style=\"fill:none;fill-rule:evenodd;stroke:#000000;stroke-width:2.0px;stroke-linecap:butt;stroke-linejoin:miter;stroke-opacity:1\"/>\n<path class=\"bond-65 atom-54 atom-57\" d=\"M 280.7,190.7 L 278.7,174.2\" style=\"fill:none;fill-rule:evenodd;stroke:#000000;stroke-width:2.0px;stroke-linecap:butt;stroke-linejoin:miter;stroke-opacity:1\"/>\n<path class=\"bond-66 atom-56 atom-126\" d=\"M 260.5,203.6 L 241.1,193.1\" style=\"fill:none;fill-rule:evenodd;stroke:#000000;stroke-width:2.0px;stroke-linecap:butt;stroke-linejoin:miter;stroke-opacity:1\"/>\n<path class=\"bond-67 atom-56 atom-143\" d=\"M 260.5,203.6 L 268.1,218.1\" style=\"fill:none;fill-rule:evenodd;stroke:#000000;stroke-width:2.0px;stroke-linecap:butt;stroke-linejoin:miter;stroke-opacity:1\"/>\n<path class=\"bond-68 atom-56 atom-144\" d=\"M 260.5,203.6 L 251.4,218.1\" style=\"fill:none;fill-rule:evenodd;stroke:#000000;stroke-width:2.0px;stroke-linecap:butt;stroke-linejoin:miter;stroke-opacity:1\"/>\n<path class=\"bond-69 atom-57 atom-58\" d=\"M 274.0,171.2 L 264.9,162.7\" style=\"fill:none;fill-rule:evenodd;stroke:#000000;stroke-width:2.0px;stroke-linecap:butt;stroke-linejoin:miter;stroke-opacity:1\"/>\n<path class=\"bond-70 atom-60 atom-61\" d=\"M 409.4,119.3 L 406.1,96.2\" style=\"fill:none;fill-rule:evenodd;stroke:#000000;stroke-width:2.0px;stroke-linecap:butt;stroke-linejoin:miter;stroke-opacity:1\"/>\n<path class=\"bond-70 atom-60 atom-61\" d=\"M 413.2,115.2 L 410.9,99.0\" style=\"fill:none;fill-rule:evenodd;stroke:#000000;stroke-width:2.0px;stroke-linecap:butt;stroke-linejoin:miter;stroke-opacity:1\"/>\n<path class=\"bond-71 atom-60 atom-62\" d=\"M 409.4,119.3 L 431.5,128.1\" style=\"fill:none;fill-rule:evenodd;stroke:#000000;stroke-width:2.0px;stroke-linecap:butt;stroke-linejoin:miter;stroke-opacity:1\"/>\n<path class=\"bond-72 atom-61 atom-67\" d=\"M 406.1,96.2 L 424.9,81.3\" style=\"fill:none;fill-rule:evenodd;stroke:#000000;stroke-width:2.0px;stroke-linecap:butt;stroke-linejoin:miter;stroke-opacity:1\"/>\n<path class=\"bond-73 atom-61 atom-70\" d=\"M 406.1,96.2 L 400.9,97.0\" style=\"fill:none;fill-rule:evenodd;stroke:#000000;stroke-width:2.0px;stroke-linecap:butt;stroke-linejoin:miter;stroke-opacity:1\"/>\n<path class=\"bond-74 atom-62 atom-63\" d=\"M 431.5,128.1 L 450.2,113.6\" style=\"fill:none;fill-rule:evenodd;stroke:#000000;stroke-width:2.0px;stroke-linecap:butt;stroke-linejoin:miter;stroke-opacity:1\"/>\n<path class=\"bond-74 atom-62 atom-63\" d=\"M 431.6,122.5 L 444.8,112.3\" style=\"fill:none;fill-rule:evenodd;stroke:#000000;stroke-width:2.0px;stroke-linecap:butt;stroke-linejoin:miter;stroke-opacity:1\"/>\n<path class=\"bond-75 atom-62 atom-64\" d=\"M 431.5,128.1 L 431.4,131.5\" style=\"fill:none;fill-rule:evenodd;stroke:#000000;stroke-width:2.0px;stroke-linecap:butt;stroke-linejoin:miter;stroke-opacity:1\"/>\n<path class=\"bond-76 atom-63 atom-65\" d=\"M 450.2,113.6 L 447.1,90.1\" style=\"fill:none;fill-rule:evenodd;stroke:#000000;stroke-width:2.0px;stroke-linecap:butt;stroke-linejoin:miter;stroke-opacity:1\"/>\n<path class=\"bond-77 atom-63 atom-66\" d=\"M 450.2,113.6 L 465.9,122.6\" style=\"fill:none;fill-rule:evenodd;stroke:#000000;stroke-width:2.0px;stroke-linecap:butt;stroke-linejoin:miter;stroke-opacity:1\"/>\n<path class=\"bond-78 atom-65 atom-67\" d=\"M 447.1,90.1 L 424.9,81.3\" style=\"fill:none;fill-rule:evenodd;stroke:#000000;stroke-width:2.0px;stroke-linecap:butt;stroke-linejoin:miter;stroke-opacity:1\"/>\n<path class=\"bond-78 atom-65 atom-67\" d=\"M 442.1,92.8 L 426.6,86.6\" style=\"fill:none;fill-rule:evenodd;stroke:#000000;stroke-width:2.0px;stroke-linecap:butt;stroke-linejoin:miter;stroke-opacity:1\"/>\n<path class=\"bond-79 atom-65 atom-68\" d=\"M 447.1,90.1 L 461.9,80.3\" style=\"fill:none;fill-rule:evenodd;stroke:#000000;stroke-width:2.0px;stroke-linecap:butt;stroke-linejoin:miter;stroke-opacity:1\"/>\n<path class=\"bond-80 atom-67 atom-69\" d=\"M 424.9,81.3 L 423.1,63.8\" style=\"fill:none;fill-rule:evenodd;stroke:#000000;stroke-width:2.0px;stroke-linecap:butt;stroke-linejoin:miter;stroke-opacity:1\"/>\n<path class=\"bond-81 atom-72 atom-73\" d=\"M 62.9,223.5 L 70.2,246.7\" style=\"fill:none;fill-rule:evenodd;stroke:#000000;stroke-width:2.0px;stroke-linecap:butt;stroke-linejoin:miter;stroke-opacity:1\"/>\n<path class=\"bond-81 atom-72 atom-73\" d=\"M 68.1,225.7 L 73.2,241.9\" style=\"fill:none;fill-rule:evenodd;stroke:#000000;stroke-width:2.0px;stroke-linecap:butt;stroke-linejoin:miter;stroke-opacity:1\"/>\n<path class=\"bond-82 atom-72 atom-74\" d=\"M 62.9,223.5 L 78.8,206.3\" style=\"fill:none;fill-rule:evenodd;stroke:#000000;stroke-width:2.0px;stroke-linecap:butt;stroke-linejoin:miter;stroke-opacity:1\"/>\n<path class=\"bond-83 atom-72 atom-75\" d=\"M 62.9,223.5 L 45.2,218.1\" style=\"fill:none;fill-rule:evenodd;stroke:#000000;stroke-width:2.0px;stroke-linecap:butt;stroke-linejoin:miter;stroke-opacity:1\"/>\n<path class=\"bond-84 atom-73 atom-80\" d=\"M 70.2,246.7 L 93.6,252.0\" style=\"fill:none;fill-rule:evenodd;stroke:#000000;stroke-width:2.0px;stroke-linecap:butt;stroke-linejoin:miter;stroke-opacity:1\"/>\n<path class=\"bond-85 atom-73 atom-142\" d=\"M 70.2,246.7 L 59.7,258.1\" style=\"fill:none;fill-rule:evenodd;stroke:#000000;stroke-width:2.0px;stroke-linecap:butt;stroke-linejoin:miter;stroke-opacity:1\"/>\n<path class=\"bond-86 atom-74 atom-76\" d=\"M 78.8,206.3 L 100.8,211.8\" style=\"fill:none;fill-rule:evenodd;stroke:#000000;stroke-width:2.0px;stroke-linecap:butt;stroke-linejoin:miter;stroke-opacity:1\"/>\n<path class=\"bond-86 atom-74 atom-76\" d=\"M 81.0,211.4 L 96.4,215.2\" style=\"fill:none;fill-rule:evenodd;stroke:#000000;stroke-width:2.0px;stroke-linecap:butt;stroke-linejoin:miter;stroke-opacity:1\"/>\n<path class=\"bond-87 atom-74 atom-77\" d=\"M 78.8,206.3 L 76.7,201.5\" style=\"fill:none;fill-rule:evenodd;stroke:#000000;stroke-width:2.0px;stroke-linecap:butt;stroke-linejoin:miter;stroke-opacity:1\"/>\n<path class=\"bond-88 atom-76 atom-78\" d=\"M 100.8,211.8 L 123.2,187.5\" style=\"fill:none;fill-rule:evenodd;stroke:#000000;stroke-width:2.0px;stroke-linecap:butt;stroke-linejoin:miter;stroke-opacity:1\"/>\n<path class=\"bond-89 atom-76 atom-79\" d=\"M 100.8,211.8 L 108.3,235.6\" style=\"fill:none;fill-rule:evenodd;stroke:#000000;stroke-width:2.0px;stroke-linecap:butt;stroke-linejoin:miter;stroke-opacity:1\"/>\n<path class=\"bond-90 atom-78 atom-83\" d=\"M 123.2,187.5 L 117.4,164.3\" style=\"fill:none;fill-rule:evenodd;stroke:#000000;stroke-width:2.0px;stroke-linecap:butt;stroke-linejoin:miter;stroke-opacity:1\"/>\n<path class=\"bond-90 atom-78 atom-83\" d=\"M 126.5,183.0 L 122.5,166.7\" style=\"fill:none;fill-rule:evenodd;stroke:#000000;stroke-width:2.0px;stroke-linecap:butt;stroke-linejoin:miter;stroke-opacity:1\"/>\n<path class=\"bond-91 atom-78 atom-84\" d=\"M 123.2,187.5 L 146.5,194.3\" style=\"fill:none;fill-rule:evenodd;stroke:#000000;stroke-width:2.0px;stroke-linecap:butt;stroke-linejoin:miter;stroke-opacity:1\"/>\n<path class=\"bond-92 atom-79 atom-80\" d=\"M 108.3,235.6 L 93.6,252.0\" style=\"fill:none;fill-rule:evenodd;stroke:#000000;stroke-width:2.0px;stroke-linecap:butt;stroke-linejoin:miter;stroke-opacity:1\"/>\n<path class=\"bond-92 atom-79 atom-80\" d=\"M 102.9,235.1 L 92.6,246.6\" style=\"fill:none;fill-rule:evenodd;stroke:#000000;stroke-width:2.0px;stroke-linecap:butt;stroke-linejoin:miter;stroke-opacity:1\"/>\n<path class=\"bond-93 atom-79 atom-81\" d=\"M 108.3,235.6 L 126.6,240.9\" style=\"fill:none;fill-rule:evenodd;stroke:#000000;stroke-width:2.0px;stroke-linecap:butt;stroke-linejoin:miter;stroke-opacity:1\"/>\n<path class=\"bond-94 atom-80 atom-82\" d=\"M 93.6,252.0 L 99.8,268.4\" style=\"fill:none;fill-rule:evenodd;stroke:#000000;stroke-width:2.0px;stroke-linecap:butt;stroke-linejoin:miter;stroke-opacity:1\"/>\n<path class=\"bond-95 atom-83 atom-99\" d=\"M 117.4,164.3 L 134.9,147.6\" style=\"fill:none;fill-rule:evenodd;stroke:#000000;stroke-width:2.0px;stroke-linecap:butt;stroke-linejoin:miter;stroke-opacity:1\"/>\n<path class=\"bond-96 atom-83 atom-131\" d=\"M 117.4,164.3 L 97.1,161.7\" style=\"fill:none;fill-rule:evenodd;stroke:#000000;stroke-width:2.0px;stroke-linecap:butt;stroke-linejoin:miter;stroke-opacity:1\"/>\n<path class=\"bond-97 atom-84 atom-85\" d=\"M 146.5,194.3 L 164.0,177.9\" style=\"fill:none;fill-rule:evenodd;stroke:#000000;stroke-width:2.0px;stroke-linecap:butt;stroke-linejoin:miter;stroke-opacity:1\"/>\n<path class=\"bond-97 atom-84 atom-85\" d=\"M 146.1,188.7 L 158.4,177.2\" style=\"fill:none;fill-rule:evenodd;stroke:#000000;stroke-width:2.0px;stroke-linecap:butt;stroke-linejoin:miter;stroke-opacity:1\"/>\n<path class=\"bond-98 atom-84 atom-86\" d=\"M 146.5,194.3 L 154.4,212.3\" style=\"fill:none;fill-rule:evenodd;stroke:#000000;stroke-width:2.0px;stroke-linecap:butt;stroke-linejoin:miter;stroke-opacity:1\"/>\n<path class=\"bond-99 atom-85 atom-97\" d=\"M 164.0,177.9 L 196.1,183.8\" style=\"fill:none;fill-rule:evenodd;stroke:#000000;stroke-width:2.0px;stroke-linecap:butt;stroke-linejoin:miter;stroke-opacity:1\"/>\n<path class=\"bond-100 atom-85 atom-98\" d=\"M 164.0,177.9 L 158.6,154.6\" style=\"fill:none;fill-rule:evenodd;stroke:#000000;stroke-width:2.0px;stroke-linecap:butt;stroke-linejoin:miter;stroke-opacity:1\"/>\n<path class=\"bond-101 atom-86 atom-87\" d=\"M 154.4,212.3 L 140.1,227.1\" style=\"fill:none;fill-rule:evenodd;stroke:#000000;stroke-width:2.0px;stroke-linecap:butt;stroke-linejoin:miter;stroke-opacity:1\"/>\n<path class=\"bond-101 atom-86 atom-87\" d=\"M 155.4,217.5 L 145.4,227.9\" style=\"fill:none;fill-rule:evenodd;stroke:#000000;stroke-width:2.0px;stroke-linecap:butt;stroke-linejoin:miter;stroke-opacity:1\"/>\n<path class=\"bond-102 atom-86 atom-88\" d=\"M 154.4,212.3 L 176.5,218.4\" style=\"fill:none;fill-rule:evenodd;stroke:#000000;stroke-width:2.0px;stroke-linecap:butt;stroke-linejoin:miter;stroke-opacity:1\"/>\n<path class=\"bond-103 atom-87 atom-93\" d=\"M 140.1,227.1 L 147.0,251.5\" style=\"fill:none;fill-rule:evenodd;stroke:#000000;stroke-width:2.0px;stroke-linecap:butt;stroke-linejoin:miter;stroke-opacity:1\"/>\n<path class=\"bond-104 atom-87 atom-96\" d=\"M 140.1,227.1 L 121.2,220.8\" style=\"fill:none;fill-rule:evenodd;stroke:#000000;stroke-width:2.0px;stroke-linecap:butt;stroke-linejoin:miter;stroke-opacity:1\"/>\n<path class=\"bond-105 atom-88 atom-89\" d=\"M 176.5,218.4 L 183.4,241.6\" style=\"fill:none;fill-rule:evenodd;stroke:#000000;stroke-width:2.0px;stroke-linecap:butt;stroke-linejoin:miter;stroke-opacity:1\"/>\n<path class=\"bond-105 atom-88 atom-89\" d=\"M 173.4,223.2 L 178.2,239.3\" style=\"fill:none;fill-rule:evenodd;stroke:#000000;stroke-width:2.0px;stroke-linecap:butt;stroke-linejoin:miter;stroke-opacity:1\"/>\n<path class=\"bond-106 atom-88 atom-90\" d=\"M 176.5,218.4 L 181.2,220.6\" style=\"fill:none;fill-rule:evenodd;stroke:#000000;stroke-width:2.0px;stroke-linecap:butt;stroke-linejoin:miter;stroke-opacity:1\"/>\n<path class=\"bond-107 atom-89 atom-91\" d=\"M 183.4,241.6 L 168.3,257.4\" style=\"fill:none;fill-rule:evenodd;stroke:#000000;stroke-width:2.0px;stroke-linecap:butt;stroke-linejoin:miter;stroke-opacity:1\"/>\n<path class=\"bond-108 atom-89 atom-92\" d=\"M 183.4,241.6 L 198.8,250.0\" style=\"fill:none;fill-rule:evenodd;stroke:#000000;stroke-width:2.0px;stroke-linecap:butt;stroke-linejoin:miter;stroke-opacity:1\"/>\n<path class=\"bond-109 atom-91 atom-93\" d=\"M 168.3,257.4 L 147.0,251.5\" style=\"fill:none;fill-rule:evenodd;stroke:#000000;stroke-width:2.0px;stroke-linecap:butt;stroke-linejoin:miter;stroke-opacity:1\"/>\n<path class=\"bond-109 atom-91 atom-93\" d=\"M 166.3,252.3 L 151.4,248.2\" style=\"fill:none;fill-rule:evenodd;stroke:#000000;stroke-width:2.0px;stroke-linecap:butt;stroke-linejoin:miter;stroke-opacity:1\"/>\n<path class=\"bond-110 atom-91 atom-94\" d=\"M 168.3,257.4 L 172.6,275.4\" style=\"fill:none;fill-rule:evenodd;stroke:#000000;stroke-width:2.0px;stroke-linecap:butt;stroke-linejoin:miter;stroke-opacity:1\"/>\n<path class=\"bond-111 atom-93 atom-95\" d=\"M 147.0,251.5 L 135.4,270.2\" style=\"fill:none;fill-rule:evenodd;stroke:#000000;stroke-width:2.0px;stroke-linecap:butt;stroke-linejoin:miter;stroke-opacity:1\"/>\n<path class=\"bond-112 atom-97 atom-122\" d=\"M 196.1,183.8 L 213.0,165.7\" style=\"fill:none;fill-rule:evenodd;stroke:#000000;stroke-width:2.0px;stroke-linecap:butt;stroke-linejoin:miter;stroke-opacity:1\"/>\n<path class=\"bond-112 atom-97 atom-122\" d=\"M 201.8,184.0 L 213.6,171.4\" style=\"fill:none;fill-rule:evenodd;stroke:#000000;stroke-width:2.0px;stroke-linecap:butt;stroke-linejoin:miter;stroke-opacity:1\"/>\n<path class=\"bond-113 atom-97 atom-123\" d=\"M 196.1,183.8 L 202.0,205.3\" style=\"fill:none;fill-rule:evenodd;stroke:#000000;stroke-width:2.0px;stroke-linecap:butt;stroke-linejoin:miter;stroke-opacity:1\"/>\n<path class=\"bond-114 atom-98 atom-99\" d=\"M 158.6,154.6 L 134.9,147.6\" style=\"fill:none;fill-rule:evenodd;stroke:#000000;stroke-width:2.0px;stroke-linecap:butt;stroke-linejoin:miter;stroke-opacity:1\"/>\n<path class=\"bond-114 atom-98 atom-99\" d=\"M 153.8,157.7 L 137.2,152.8\" style=\"fill:none;fill-rule:evenodd;stroke:#000000;stroke-width:2.0px;stroke-linecap:butt;stroke-linejoin:miter;stroke-opacity:1\"/>\n<path class=\"bond-115 atom-98 atom-100\" d=\"M 158.6,154.6 L 173.8,132.5\" style=\"fill:none;fill-rule:evenodd;stroke:#000000;stroke-width:2.0px;stroke-linecap:butt;stroke-linejoin:miter;stroke-opacity:1\"/>\n<path class=\"bond-116 atom-99 atom-111\" d=\"M 134.9,147.6 L 124.7,122.2\" style=\"fill:none;fill-rule:evenodd;stroke:#000000;stroke-width:2.0px;stroke-linecap:butt;stroke-linejoin:miter;stroke-opacity:1\"/>\n<path class=\"bond-117 atom-100 atom-101\" d=\"M 173.8,132.5 L 171.6,105.7\" style=\"fill:none;fill-rule:evenodd;stroke:#000000;stroke-width:2.0px;stroke-linecap:butt;stroke-linejoin:miter;stroke-opacity:1\"/>\n<path class=\"bond-117 atom-100 atom-101\" d=\"M 177.8,128.1 L 176.3,109.4\" style=\"fill:none;fill-rule:evenodd;stroke:#000000;stroke-width:2.0px;stroke-linecap:butt;stroke-linejoin:miter;stroke-opacity:1\"/>\n<path class=\"bond-118 atom-100 atom-102\" d=\"M 173.8,132.5 L 190.5,140.4\" style=\"fill:none;fill-rule:evenodd;stroke:#000000;stroke-width:2.0px;stroke-linecap:butt;stroke-linejoin:miter;stroke-opacity:1\"/>\n<path class=\"bond-119 atom-101 atom-107\" d=\"M 171.6,105.7 L 188.9,92.2\" style=\"fill:none;fill-rule:evenodd;stroke:#000000;stroke-width:2.0px;stroke-linecap:butt;stroke-linejoin:miter;stroke-opacity:1\"/>\n<path class=\"bond-120 atom-101 atom-110\" d=\"M 171.6,105.7 L 155.1,100.6\" style=\"fill:none;fill-rule:evenodd;stroke:#000000;stroke-width:2.0px;stroke-linecap:butt;stroke-linejoin:miter;stroke-opacity:1\"/>\n<path class=\"bond-121 atom-102 atom-103\" d=\"M 190.5,140.4 L 211.2,124.6\" style=\"fill:none;fill-rule:evenodd;stroke:#000000;stroke-width:2.0px;stroke-linecap:butt;stroke-linejoin:miter;stroke-opacity:1\"/>\n<path class=\"bond-121 atom-102 atom-103\" d=\"M 191.0,134.6 L 205.4,123.5\" style=\"fill:none;fill-rule:evenodd;stroke:#000000;stroke-width:2.0px;stroke-linecap:butt;stroke-linejoin:miter;stroke-opacity:1\"/>\n<path class=\"bond-122 atom-102 atom-104\" d=\"M 190.5,140.4 L 193.9,161.0\" style=\"fill:none;fill-rule:evenodd;stroke:#000000;stroke-width:2.0px;stroke-linecap:butt;stroke-linejoin:miter;stroke-opacity:1\"/>\n<path class=\"bond-123 atom-103 atom-105\" d=\"M 211.2,124.6 L 209.1,101.1\" style=\"fill:none;fill-rule:evenodd;stroke:#000000;stroke-width:2.0px;stroke-linecap:butt;stroke-linejoin:miter;stroke-opacity:1\"/>\n<path class=\"bond-124 atom-103 atom-106\" d=\"M 211.2,124.6 L 231.5,125.7\" style=\"fill:none;fill-rule:evenodd;stroke:#000000;stroke-width:2.0px;stroke-linecap:butt;stroke-linejoin:miter;stroke-opacity:1\"/>\n<path class=\"bond-125 atom-105 atom-107\" d=\"M 209.1,101.1 L 188.9,92.2\" style=\"fill:none;fill-rule:evenodd;stroke:#000000;stroke-width:2.0px;stroke-linecap:butt;stroke-linejoin:miter;stroke-opacity:1\"/>\n<path class=\"bond-125 atom-105 atom-107\" d=\"M 204.3,103.8 L 190.2,97.5\" style=\"fill:none;fill-rule:evenodd;stroke:#000000;stroke-width:2.0px;stroke-linecap:butt;stroke-linejoin:miter;stroke-opacity:1\"/>\n<path class=\"bond-126 atom-105 atom-108\" d=\"M 209.1,101.1 L 222.5,90.0\" style=\"fill:none;fill-rule:evenodd;stroke:#000000;stroke-width:2.0px;stroke-linecap:butt;stroke-linejoin:miter;stroke-opacity:1\"/>\n<path class=\"bond-127 atom-107 atom-109\" d=\"M 188.9,92.2 L 183.9,74.4\" style=\"fill:none;fill-rule:evenodd;stroke:#000000;stroke-width:2.0px;stroke-linecap:butt;stroke-linejoin:miter;stroke-opacity:1\"/>\n<path class=\"bond-128 atom-111 atom-112\" d=\"M 124.7,122.2 L 102.8,109.7\" style=\"fill:none;fill-rule:evenodd;stroke:#000000;stroke-width:2.0px;stroke-linecap:butt;stroke-linejoin:miter;stroke-opacity:1\"/>\n<path class=\"bond-128 atom-111 atom-112\" d=\"M 123.6,116.6 L 108.3,107.8\" style=\"fill:none;fill-rule:evenodd;stroke:#000000;stroke-width:2.0px;stroke-linecap:butt;stroke-linejoin:miter;stroke-opacity:1\"/>\n<path class=\"bond-129 atom-111 atom-113\" d=\"M 124.7,122.2 L 140.6,112.5\" style=\"fill:none;fill-rule:evenodd;stroke:#000000;stroke-width:2.0px;stroke-linecap:butt;stroke-linejoin:miter;stroke-opacity:1\"/>\n<path class=\"bond-130 atom-112 atom-118\" d=\"M 102.8,109.7 L 101.5,87.4\" style=\"fill:none;fill-rule:evenodd;stroke:#000000;stroke-width:2.0px;stroke-linecap:butt;stroke-linejoin:miter;stroke-opacity:1\"/>\n<path class=\"bond-131 atom-112 atom-121\" d=\"M 102.8,109.7 L 100.0,111.3\" style=\"fill:none;fill-rule:evenodd;stroke:#000000;stroke-width:2.0px;stroke-linecap:butt;stroke-linejoin:miter;stroke-opacity:1\"/>\n<path class=\"bond-132 atom-113 atom-114\" d=\"M 140.6,112.5 L 138.7,86.6\" style=\"fill:none;fill-rule:evenodd;stroke:#000000;stroke-width:2.0px;stroke-linecap:butt;stroke-linejoin:miter;stroke-opacity:1\"/>\n<path class=\"bond-132 atom-113 atom-114\" d=\"M 136.0,108.9 L 134.7,90.8\" style=\"fill:none;fill-rule:evenodd;stroke:#000000;stroke-width:2.0px;stroke-linecap:butt;stroke-linejoin:miter;stroke-opacity:1\"/>\n<path class=\"bond-133 atom-113 atom-115\" d=\"M 140.6,112.5 L 159.3,119.3\" style=\"fill:none;fill-rule:evenodd;stroke:#000000;stroke-width:2.0px;stroke-linecap:butt;stroke-linejoin:miter;stroke-opacity:1\"/>\n<path class=\"bond-134 atom-114 atom-116\" d=\"M 138.7,86.6 L 119.3,75.9\" style=\"fill:none;fill-rule:evenodd;stroke:#000000;stroke-width:2.0px;stroke-linecap:butt;stroke-linejoin:miter;stroke-opacity:1\"/>\n<path class=\"bond-135 atom-114 atom-117\" d=\"M 138.7,86.6 L 147.3,70.6\" style=\"fill:none;fill-rule:evenodd;stroke:#000000;stroke-width:2.0px;stroke-linecap:butt;stroke-linejoin:miter;stroke-opacity:1\"/>\n<path class=\"bond-136 atom-116 atom-118\" d=\"M 119.3,75.9 L 101.5,87.4\" style=\"fill:none;fill-rule:evenodd;stroke:#000000;stroke-width:2.0px;stroke-linecap:butt;stroke-linejoin:miter;stroke-opacity:1\"/>\n<path class=\"bond-136 atom-116 atom-118\" d=\"M 119.0,81.3 L 106.5,89.3\" style=\"fill:none;fill-rule:evenodd;stroke:#000000;stroke-width:2.0px;stroke-linecap:butt;stroke-linejoin:miter;stroke-opacity:1\"/>\n<path class=\"bond-137 atom-116 atom-119\" d=\"M 119.3,75.9 L 117.6,58.7\" style=\"fill:none;fill-rule:evenodd;stroke:#000000;stroke-width:2.0px;stroke-linecap:butt;stroke-linejoin:miter;stroke-opacity:1\"/>\n<path class=\"bond-138 atom-118 atom-120\" d=\"M 101.5,87.4 L 84.5,82.0\" style=\"fill:none;fill-rule:evenodd;stroke:#000000;stroke-width:2.0px;stroke-linecap:butt;stroke-linejoin:miter;stroke-opacity:1\"/>\n<path class=\"bond-139 atom-122 atom-128\" d=\"M 213.0,165.7 L 234.0,170.0\" style=\"fill:none;fill-rule:evenodd;stroke:#000000;stroke-width:2.0px;stroke-linecap:butt;stroke-linejoin:miter;stroke-opacity:1\"/>\n<path class=\"bond-140 atom-122 atom-130\" d=\"M 213.0,165.7 L 208.8,148.3\" style=\"fill:none;fill-rule:evenodd;stroke:#000000;stroke-width:2.0px;stroke-linecap:butt;stroke-linejoin:miter;stroke-opacity:1\"/>\n<path class=\"bond-141 atom-123 atom-124\" d=\"M 202.0,205.3 L 224.6,210.9\" style=\"fill:none;fill-rule:evenodd;stroke:#000000;stroke-width:2.0px;stroke-linecap:butt;stroke-linejoin:miter;stroke-opacity:1\"/>\n<path class=\"bond-141 atom-123 atom-124\" d=\"M 206.4,202.0 L 222.3,205.8\" style=\"fill:none;fill-rule:evenodd;stroke:#000000;stroke-width:2.0px;stroke-linecap:butt;stroke-linejoin:miter;stroke-opacity:1\"/>\n<path class=\"bond-142 atom-123 atom-125\" d=\"M 202.0,205.3 L 191.7,203.4\" style=\"fill:none;fill-rule:evenodd;stroke:#000000;stroke-width:2.0px;stroke-linecap:butt;stroke-linejoin:miter;stroke-opacity:1\"/>\n<path class=\"bond-143 atom-124 atom-126\" d=\"M 224.6,210.9 L 241.1,193.1\" style=\"fill:none;fill-rule:evenodd;stroke:#000000;stroke-width:2.0px;stroke-linecap:butt;stroke-linejoin:miter;stroke-opacity:1\"/>\n<path class=\"bond-144 atom-124 atom-127\" d=\"M 224.6,210.9 L 228.7,227.6\" style=\"fill:none;fill-rule:evenodd;stroke:#000000;stroke-width:2.0px;stroke-linecap:butt;stroke-linejoin:miter;stroke-opacity:1\"/>\n<path class=\"bond-145 atom-126 atom-128\" d=\"M 241.1,193.1 L 234.0,170.0\" style=\"fill:none;fill-rule:evenodd;stroke:#000000;stroke-width:2.0px;stroke-linecap:butt;stroke-linejoin:miter;stroke-opacity:1\"/>\n<path class=\"bond-145 atom-126 atom-128\" d=\"M 235.9,190.9 L 230.9,174.8\" style=\"fill:none;fill-rule:evenodd;stroke:#000000;stroke-width:2.0px;stroke-linecap:butt;stroke-linejoin:miter;stroke-opacity:1\"/>\n<path class=\"bond-146 atom-128 atom-129\" d=\"M 234.0,170.0 L 238.4,161.1\" style=\"fill:none;fill-rule:evenodd;stroke:#000000;stroke-width:2.0px;stroke-linecap:butt;stroke-linejoin:miter;stroke-opacity:1\"/>\n<path class=\"bond-147 atom-131 atom-132\" d=\"M 97.1,161.7 L 77.4,175.2\" style=\"fill:none;fill-rule:evenodd;stroke:#000000;stroke-width:2.0px;stroke-linecap:butt;stroke-linejoin:miter;stroke-opacity:1\"/>\n<path class=\"bond-147 atom-131 atom-132\" d=\"M 91.7,160.2 L 77.9,169.6\" style=\"fill:none;fill-rule:evenodd;stroke:#000000;stroke-width:2.0px;stroke-linecap:butt;stroke-linejoin:miter;stroke-opacity:1\"/>\n<path class=\"bond-148 atom-131 atom-133\" d=\"M 97.1,161.7 L 95.5,138.5\" style=\"fill:none;fill-rule:evenodd;stroke:#000000;stroke-width:2.0px;stroke-linecap:butt;stroke-linejoin:miter;stroke-opacity:1\"/>\n<path class=\"bond-149 atom-132 atom-138\" d=\"M 77.4,175.2 L 55.4,165.0\" style=\"fill:none;fill-rule:evenodd;stroke:#000000;stroke-width:2.0px;stroke-linecap:butt;stroke-linejoin:miter;stroke-opacity:1\"/>\n<path class=\"bond-150 atom-132 atom-141\" d=\"M 77.4,175.2 L 80.9,177.4\" style=\"fill:none;fill-rule:evenodd;stroke:#000000;stroke-width:2.0px;stroke-linecap:butt;stroke-linejoin:miter;stroke-opacity:1\"/>\n<path class=\"bond-151 atom-133 atom-134\" d=\"M 95.5,138.5 L 73.3,127.7\" style=\"fill:none;fill-rule:evenodd;stroke:#000000;stroke-width:2.0px;stroke-linecap:butt;stroke-linejoin:miter;stroke-opacity:1\"/>\n<path class=\"bond-151 atom-133 atom-134\" d=\"M 90.3,140.8 L 74.8,133.3\" style=\"fill:none;fill-rule:evenodd;stroke:#000000;stroke-width:2.0px;stroke-linecap:butt;stroke-linejoin:miter;stroke-opacity:1\"/>\n<path class=\"bond-152 atom-133 atom-135\" d=\"M 95.5,138.5 L 102.0,131.9\" style=\"fill:none;fill-rule:evenodd;stroke:#000000;stroke-width:2.0px;stroke-linecap:butt;stroke-linejoin:miter;stroke-opacity:1\"/>\n<path class=\"bond-153 atom-134 atom-136\" d=\"M 73.3,127.7 L 53.5,141.2\" style=\"fill:none;fill-rule:evenodd;stroke:#000000;stroke-width:2.0px;stroke-linecap:butt;stroke-linejoin:miter;stroke-opacity:1\"/>\n<path class=\"bond-154 atom-134 atom-137\" d=\"M 73.3,127.7 L 68.6,109.3\" style=\"fill:none;fill-rule:evenodd;stroke:#000000;stroke-width:2.0px;stroke-linecap:butt;stroke-linejoin:miter;stroke-opacity:1\"/>\n<path class=\"bond-155 atom-136 atom-138\" d=\"M 53.5,141.2 L 55.4,165.0\" style=\"fill:none;fill-rule:evenodd;stroke:#000000;stroke-width:2.0px;stroke-linecap:butt;stroke-linejoin:miter;stroke-opacity:1\"/>\n<path class=\"bond-155 atom-136 atom-138\" d=\"M 58.1,144.4 L 59.4,161.1\" style=\"fill:none;fill-rule:evenodd;stroke:#000000;stroke-width:2.0px;stroke-linecap:butt;stroke-linejoin:miter;stroke-opacity:1\"/>\n<path class=\"bond-156 atom-136 atom-139\" d=\"M 53.5,141.2 L 34.1,133.9\" style=\"fill:none;fill-rule:evenodd;stroke:#000000;stroke-width:2.0px;stroke-linecap:butt;stroke-linejoin:miter;stroke-opacity:1\"/>\n<path class=\"bond-157 atom-138 atom-140\" d=\"M 55.4,165.0 L 40.3,175.5\" style=\"fill:none;fill-rule:evenodd;stroke:#000000;stroke-width:2.0px;stroke-linecap:butt;stroke-linejoin:miter;stroke-opacity:1\"/>\n<path class=\"atom-3\" d=\"M 464.0 151.4 L 465.4 151.4 L 465.4 155.7 L 470.6 155.7 L 470.6 151.4 L 472.0 151.4 L 472.0 161.6 L 470.6 161.6 L 470.6 156.9 L 465.4 156.9 L 465.4 161.6 L 464.0 161.6 L 464.0 151.4 \" fill=\"#000000\"/>\n<path class=\"atom-5\" d=\"M 413.2 145.3 L 414.6 145.3 L 414.6 149.7 L 419.9 149.7 L 419.9 145.3 L 421.3 145.3 L 421.3 155.6 L 419.9 155.6 L 419.9 150.8 L 414.6 150.8 L 414.6 155.6 L 413.2 155.6 L 413.2 145.3 \" fill=\"#000000\"/>\n<path class=\"atom-9\" d=\"M 391.9 182.0 L 393.3 182.0 L 393.3 186.4 L 398.5 186.4 L 398.5 182.0 L 399.9 182.0 L 399.9 192.3 L 398.5 192.3 L 398.5 187.5 L 393.3 187.5 L 393.3 192.3 L 391.9 192.3 L 391.9 182.0 \" fill=\"#000000\"/>\n<path class=\"atom-10\" d=\"M 423.1 223.2 L 424.5 223.2 L 424.5 227.5 L 429.7 227.5 L 429.7 223.2 L 431.1 223.2 L 431.1 233.4 L 429.7 233.4 L 429.7 228.7 L 424.5 228.7 L 424.5 233.4 L 423.1 233.4 L 423.1 223.2 \" fill=\"#000000\"/>\n<path class=\"atom-18\" d=\"M 387.1 200.7 L 388.4 200.7 L 388.4 205.1 L 393.7 205.1 L 393.7 200.7 L 395.1 200.7 L 395.1 211.0 L 393.7 211.0 L 393.7 206.2 L 388.4 206.2 L 388.4 211.0 L 387.1 211.0 L 387.1 200.7 \" fill=\"#000000\"/>\n<path class=\"atom-20\" d=\"M 399.2 240.0 L 400.6 240.0 L 400.6 244.4 L 405.9 244.4 L 405.9 240.0 L 407.3 240.0 L 407.3 250.2 L 405.9 250.2 L 405.9 245.5 L 400.6 245.5 L 400.6 250.2 L 399.2 250.2 L 399.2 240.0 \" fill=\"#000000\"/>\n<path class=\"atom-22\" d=\"M 357.8 263.9 L 359.2 263.9 L 359.2 268.2 L 364.5 268.2 L 364.5 263.9 L 365.9 263.9 L 365.9 274.1 L 364.5 274.1 L 364.5 269.4 L 359.2 269.4 L 359.2 274.1 L 357.8 274.1 L 357.8 263.9 \" fill=\"#000000\"/>\n<path class=\"atom-23\" d=\"M 316.6 239.8 L 317.9 239.8 L 317.9 244.1 L 323.2 244.1 L 323.2 239.8 L 324.6 239.8 L 324.6 250.0 L 323.2 250.0 L 323.2 245.3 L 317.9 245.3 L 317.9 250.0 L 316.6 250.0 L 316.6 239.8 \" fill=\"#000000\"/>\n<path class=\"atom-24\" d=\"M 328.8 200.7 L 330.2 200.7 L 330.2 205.0 L 335.4 205.0 L 335.4 200.7 L 336.8 200.7 L 336.8 210.9 L 335.4 210.9 L 335.4 206.2 L 330.2 206.2 L 330.2 210.9 L 328.8 210.9 L 328.8 200.7 \" fill=\"#000000\"/>\n<path class=\"atom-32\" d=\"M 318.3 79.1 L 319.7 79.1 L 319.7 83.5 L 324.9 83.5 L 324.9 79.1 L 326.3 79.1 L 326.3 89.4 L 324.9 89.4 L 324.9 84.6 L 319.7 84.6 L 319.7 89.4 L 318.3 89.4 L 318.3 79.1 \" fill=\"#000000\"/>\n<path class=\"atom-34\" d=\"M 288.1 51.7 L 289.5 51.7 L 289.5 56.1 L 294.7 56.1 L 294.7 51.7 L 296.1 51.7 L 296.1 61.9 L 294.7 61.9 L 294.7 57.2 L 289.5 57.2 L 289.5 61.9 L 288.1 61.9 L 288.1 51.7 \" fill=\"#000000\"/>\n<path class=\"atom-36\" d=\"M 248.7 80.0 L 250.1 80.0 L 250.1 84.3 L 255.4 84.3 L 255.4 80.0 L 256.8 80.0 L 256.8 90.2 L 255.4 90.2 L 255.4 85.5 L 250.1 85.5 L 250.1 90.2 L 248.7 90.2 L 248.7 80.0 \" fill=\"#000000\"/>\n<path class=\"atom-37\" d=\"M 255.0 128.1 L 256.4 128.1 L 256.4 132.4 L 261.6 132.4 L 261.6 128.1 L 263.0 128.1 L 263.0 138.3 L 261.6 138.3 L 261.6 133.6 L 256.4 133.6 L 256.4 138.3 L 255.0 138.3 L 255.0 128.1 \" fill=\"#000000\"/>\n<path class=\"atom-38\" d=\"M 302.5 130.5 L 303.9 130.5 L 303.9 134.8 L 309.2 134.8 L 309.2 130.5 L 310.6 130.5 L 310.6 140.7 L 309.2 140.7 L 309.2 136.0 L 303.9 136.0 L 303.9 140.7 L 302.5 140.7 L 302.5 130.5 \" fill=\"#000000\"/>\n<path class=\"atom-43\" d=\"M 388.2 74.2 L 389.6 74.2 L 389.6 78.6 L 394.8 78.6 L 394.8 74.2 L 396.2 74.2 L 396.2 84.5 L 394.8 84.5 L 394.8 79.7 L 389.6 79.7 L 389.6 84.5 L 388.2 84.5 L 388.2 74.2 \" fill=\"#000000\"/>\n<path class=\"atom-45\" d=\"M 397.5 34.1 L 398.9 34.1 L 398.9 38.5 L 404.1 38.5 L 404.1 34.1 L 405.5 34.1 L 405.5 44.4 L 404.1 44.4 L 404.1 39.6 L 398.9 39.6 L 398.9 44.4 L 397.5 44.4 L 397.5 34.1 \" fill=\"#000000\"/>\n<path class=\"atom-47\" d=\"M 353.7 13.6 L 355.1 13.6 L 355.1 18.0 L 360.3 18.0 L 360.3 13.6 L 361.7 13.6 L 361.7 23.9 L 360.3 23.9 L 360.3 19.1 L 355.1 19.1 L 355.1 23.9 L 353.7 23.9 L 353.7 13.6 \" fill=\"#000000\"/>\n<path class=\"atom-48\" d=\"M 315.0 42.4 L 316.4 42.4 L 316.4 46.7 L 321.7 46.7 L 321.7 42.4 L 323.0 42.4 L 323.0 52.6 L 321.7 52.6 L 321.7 47.9 L 316.4 47.9 L 316.4 52.6 L 315.0 52.6 L 315.0 42.4 \" fill=\"#000000\"/>\n<path class=\"atom-49\" d=\"M 336.3 84.9 L 337.7 84.9 L 337.7 89.3 L 342.9 89.3 L 342.9 84.9 L 344.3 84.9 L 344.3 95.2 L 342.9 95.2 L 342.9 90.4 L 337.7 90.4 L 337.7 95.2 L 336.3 95.2 L 336.3 84.9 \" fill=\"#000000\"/>\n<path class=\"atom-53\" d=\"M 324.1 182.2 L 325.5 182.2 L 325.5 186.5 L 330.7 186.5 L 330.7 182.2 L 332.1 182.2 L 332.1 192.4 L 330.7 192.4 L 330.7 187.7 L 325.5 187.7 L 325.5 192.4 L 324.1 192.4 L 324.1 182.2 \" fill=\"#000000\"/>\n<path class=\"atom-55\" d=\"M 296.7 222.0 L 298.1 222.0 L 298.1 226.4 L 303.4 226.4 L 303.4 222.0 L 304.8 222.0 L 304.8 232.3 L 303.4 232.3 L 303.4 227.5 L 298.1 227.5 L 298.1 232.3 L 296.7 232.3 L 296.7 222.0 \" fill=\"#000000\"/>\n<path class=\"atom-58\" d=\"M 256.2 153.1 L 257.6 153.1 L 257.6 157.5 L 262.8 157.5 L 262.8 153.1 L 264.2 153.1 L 264.2 163.4 L 262.8 163.4 L 262.8 158.7 L 257.6 158.7 L 257.6 163.4 L 256.2 163.4 L 256.2 153.1 \" fill=\"#000000\"/>\n<path class=\"atom-59\" d=\"M 288.2 142.8 L 289.6 142.8 L 289.6 147.2 L 294.8 147.2 L 294.8 142.8 L 296.2 142.8 L 296.2 153.1 L 294.8 153.1 L 294.8 148.4 L 289.6 148.4 L 289.6 153.1 L 288.2 153.1 L 288.2 142.8 \" fill=\"#000000\"/>\n<path class=\"atom-64\" d=\"M 427.2 132.3 L 428.6 132.3 L 428.6 136.6 L 433.8 136.6 L 433.8 132.3 L 435.2 132.3 L 435.2 142.5 L 433.8 142.5 L 433.8 137.8 L 428.6 137.8 L 428.6 142.5 L 427.2 142.5 L 427.2 132.3 \" fill=\"#000000\"/>\n<path class=\"atom-66\" d=\"M 466.6 120.2 L 468.0 120.2 L 468.0 124.6 L 473.3 124.6 L 473.3 120.2 L 474.7 120.2 L 474.7 130.5 L 473.3 130.5 L 473.3 125.8 L 468.0 125.8 L 468.0 130.5 L 466.6 130.5 L 466.6 120.2 \" fill=\"#000000\"/>\n<path class=\"atom-68\" d=\"M 462.6 72.1 L 464.0 72.1 L 464.0 76.4 L 469.2 76.4 L 469.2 72.1 L 470.6 72.1 L 470.6 82.3 L 469.2 82.3 L 469.2 77.6 L 464.0 77.6 L 464.0 82.3 L 462.6 82.3 L 462.6 72.1 \" fill=\"#000000\"/>\n<path class=\"atom-69\" d=\"M 418.4 52.8 L 419.8 52.8 L 419.8 57.2 L 425.1 57.2 L 425.1 52.8 L 426.5 52.8 L 426.5 63.1 L 425.1 63.1 L 425.1 58.3 L 419.8 58.3 L 419.8 63.1 L 418.4 63.1 L 418.4 52.8 \" fill=\"#000000\"/>\n<path class=\"atom-70\" d=\"M 392.1 92.7 L 393.5 92.7 L 393.5 97.1 L 398.8 97.1 L 398.8 92.7 L 400.2 92.7 L 400.2 103.0 L 398.8 103.0 L 398.8 98.2 L 393.5 98.2 L 393.5 103.0 L 392.1 103.0 L 392.1 92.7 \" fill=\"#000000\"/>\n<path class=\"atom-71\" d=\"M 464.6 199.3 L 466.0 199.3 L 466.0 203.6 L 471.2 203.6 L 471.2 199.3 L 472.6 199.3 L 472.6 209.5 L 471.2 209.5 L 471.2 204.8 L 466.0 204.8 L 466.0 209.5 L 464.6 209.5 L 464.6 199.3 \" fill=\"#000000\"/>\n<path class=\"atom-75\" d=\"M 36.5 211.5 L 37.9 211.5 L 37.9 215.9 L 43.1 215.9 L 43.1 211.5 L 44.5 211.5 L 44.5 221.8 L 43.1 221.8 L 43.1 217.1 L 37.9 217.1 L 37.9 221.8 L 36.5 221.8 L 36.5 211.5 \" fill=\"#000000\"/>\n<path class=\"atom-77\" d=\"M 70.1 190.5 L 71.5 190.5 L 71.5 194.8 L 76.7 194.8 L 76.7 190.5 L 78.1 190.5 L 78.1 200.7 L 76.7 200.7 L 76.7 196.0 L 71.5 196.0 L 71.5 200.7 L 70.1 200.7 L 70.1 190.5 \" fill=\"#000000\"/>\n<path class=\"atom-81\" d=\"M 127.4 237.1 L 128.7 237.1 L 128.7 241.5 L 134.0 241.5 L 134.0 237.1 L 135.4 237.1 L 135.4 247.4 L 134.0 247.4 L 134.0 242.7 L 128.7 242.7 L 128.7 247.4 L 127.4 247.4 L 127.4 237.1 \" fill=\"#000000\"/>\n<path class=\"atom-82\" d=\"M 98.0 269.2 L 99.4 269.2 L 99.4 273.5 L 104.6 273.5 L 104.6 269.2 L 106.0 269.2 L 106.0 279.4 L 104.6 279.4 L 104.6 274.7 L 99.4 274.7 L 99.4 279.4 L 98.0 279.4 L 98.0 269.2 \" fill=\"#000000\"/>\n<path class=\"atom-90\" d=\"M 182.0 217.7 L 183.4 217.7 L 183.4 222.1 L 188.6 222.1 L 188.6 217.7 L 190.0 217.7 L 190.0 227.9 L 188.6 227.9 L 188.6 223.2 L 183.4 223.2 L 183.4 227.9 L 182.0 227.9 L 182.0 217.7 \" fill=\"#000000\"/>\n<path class=\"atom-92\" d=\"M 199.5 247.5 L 200.9 247.5 L 200.9 251.8 L 206.2 251.8 L 206.2 247.5 L 207.5 247.5 L 207.5 257.7 L 206.2 257.7 L 206.2 253.0 L 200.9 253.0 L 200.9 257.7 L 199.5 257.7 L 199.5 247.5 \" fill=\"#000000\"/>\n<path class=\"atom-94\" d=\"M 170.0 276.1 L 171.4 276.1 L 171.4 280.5 L 176.6 280.5 L 176.6 276.1 L 178.0 276.1 L 178.0 286.4 L 176.6 286.4 L 176.6 281.6 L 171.4 281.6 L 171.4 286.4 L 170.0 286.4 L 170.0 276.1 \" fill=\"#000000\"/>\n<path class=\"atom-95\" d=\"M 127.8 270.9 L 129.2 270.9 L 129.2 275.3 L 134.4 275.3 L 134.4 270.9 L 135.8 270.9 L 135.8 281.2 L 134.4 281.2 L 134.4 276.5 L 129.2 276.5 L 129.2 281.2 L 127.8 281.2 L 127.8 270.9 \" fill=\"#000000\"/>\n<path class=\"atom-96\" d=\"M 112.5 214.0 L 113.9 214.0 L 113.9 218.4 L 119.1 218.4 L 119.1 214.0 L 120.5 214.0 L 120.5 224.3 L 119.1 224.3 L 119.1 219.6 L 113.9 219.6 L 113.9 224.3 L 112.5 224.3 L 112.5 214.0 \" fill=\"#000000\"/>\n<path class=\"atom-104\" d=\"M 190.8 161.7 L 192.2 161.7 L 192.2 166.1 L 197.5 166.1 L 197.5 161.7 L 198.8 161.7 L 198.8 172.0 L 197.5 172.0 L 197.5 167.2 L 192.2 167.2 L 192.2 172.0 L 190.8 172.0 L 190.8 161.7 \" fill=\"#000000\"/>\n<path class=\"atom-106\" d=\"M 232.2 120.8 L 233.6 120.8 L 233.6 125.2 L 238.8 125.2 L 238.8 120.8 L 240.2 120.8 L 240.2 131.1 L 238.8 131.1 L 238.8 126.3 L 233.6 126.3 L 233.6 131.1 L 232.2 131.1 L 232.2 120.8 \" fill=\"#000000\"/>\n<path class=\"atom-108\" d=\"M 223.2 81.0 L 224.6 81.0 L 224.6 85.4 L 229.9 85.4 L 229.9 81.0 L 231.2 81.0 L 231.2 91.2 L 229.9 91.2 L 229.9 86.5 L 224.6 86.5 L 224.6 91.2 L 223.2 91.2 L 223.2 81.0 \" fill=\"#000000\"/>\n<path class=\"atom-109\" d=\"M 178.2 63.4 L 179.6 63.4 L 179.6 67.8 L 184.9 67.8 L 184.9 63.4 L 186.3 63.4 L 186.3 73.6 L 184.9 73.6 L 184.9 68.9 L 179.6 68.9 L 179.6 73.6 L 178.2 73.6 L 178.2 63.4 \" fill=\"#000000\"/>\n<path class=\"atom-110\" d=\"M 146.3 93.9 L 147.7 93.9 L 147.7 98.3 L 152.9 98.3 L 152.9 93.9 L 154.3 93.9 L 154.3 104.2 L 152.9 104.2 L 152.9 99.5 L 147.7 99.5 L 147.7 104.2 L 146.3 104.2 L 146.3 93.9 \" fill=\"#000000\"/>\n<path class=\"atom-115\" d=\"M 160.0 115.9 L 161.4 115.9 L 161.4 120.2 L 166.6 120.2 L 166.6 115.9 L 168.0 115.9 L 168.0 126.1 L 166.6 126.1 L 166.6 121.4 L 161.4 121.4 L 161.4 126.1 L 160.0 126.1 L 160.0 115.9 \" fill=\"#000000\"/>\n<path class=\"atom-117\" d=\"M 146.4 59.7 L 147.8 59.7 L 147.8 64.0 L 153.0 64.0 L 153.0 59.7 L 154.4 59.7 L 154.4 69.9 L 153.0 69.9 L 153.0 65.2 L 147.8 65.2 L 147.8 69.9 L 146.4 69.9 L 146.4 59.7 \" fill=\"#000000\"/>\n<path class=\"atom-119\" d=\"M 113.0 47.8 L 114.4 47.8 L 114.4 52.1 L 119.6 52.1 L 119.6 47.8 L 121.0 47.8 L 121.0 58.0 L 119.6 58.0 L 119.6 53.3 L 114.4 53.3 L 114.4 58.0 L 113.0 58.0 L 113.0 47.8 \" fill=\"#000000\"/>\n<path class=\"atom-120\" d=\"M 75.8 75.4 L 77.2 75.4 L 77.2 79.7 L 82.4 79.7 L 82.4 75.4 L 83.8 75.4 L 83.8 85.6 L 82.4 85.6 L 82.4 80.9 L 77.2 80.9 L 77.2 85.6 L 75.8 85.6 L 75.8 75.4 \" fill=\"#000000\"/>\n<path class=\"atom-121\" d=\"M 91.2 109.0 L 92.6 109.0 L 92.6 113.3 L 97.9 113.3 L 97.9 109.0 L 99.3 109.0 L 99.3 119.2 L 97.9 119.2 L 97.9 114.5 L 92.6 114.5 L 92.6 119.2 L 91.2 119.2 L 91.2 109.0 \" fill=\"#000000\"/>\n<path class=\"atom-125\" d=\"M 182.9 197.3 L 184.3 197.3 L 184.3 201.7 L 189.5 201.7 L 189.5 197.3 L 190.9 197.3 L 190.9 207.6 L 189.5 207.6 L 189.5 202.8 L 184.3 202.8 L 184.3 207.6 L 182.9 207.6 L 182.9 197.3 \" fill=\"#000000\"/>\n<path class=\"atom-127\" d=\"M 226.1 228.4 L 227.5 228.4 L 227.5 232.7 L 232.7 232.7 L 232.7 228.4 L 234.1 228.4 L 234.1 238.6 L 232.7 238.6 L 232.7 233.9 L 227.5 233.9 L 227.5 238.6 L 226.1 238.6 L 226.1 228.4 \" fill=\"#000000\"/>\n<path class=\"atom-129\" d=\"M 237.3 150.2 L 238.6 150.2 L 238.6 154.5 L 243.9 154.5 L 243.9 150.2 L 245.3 150.2 L 245.3 160.4 L 243.9 160.4 L 243.9 155.7 L 238.6 155.7 L 238.6 160.4 L 237.3 160.4 L 237.3 150.2 \" fill=\"#000000\"/>\n<path class=\"atom-130\" d=\"M 203.4 137.3 L 204.8 137.3 L 204.8 141.7 L 210.0 141.7 L 210.0 137.3 L 211.4 137.3 L 211.4 147.5 L 210.0 147.5 L 210.0 142.8 L 204.8 142.8 L 204.8 147.5 L 203.4 147.5 L 203.4 137.3 \" fill=\"#000000\"/>\n<path class=\"atom-135\" d=\"M 102.7 121.9 L 104.1 121.9 L 104.1 126.3 L 109.3 126.3 L 109.3 121.9 L 110.7 121.9 L 110.7 132.2 L 109.3 132.2 L 109.3 127.4 L 104.1 127.4 L 104.1 132.2 L 102.7 132.2 L 102.7 121.9 \" fill=\"#000000\"/>\n<path class=\"atom-137\" d=\"M 63.1 98.3 L 64.5 98.3 L 64.5 102.7 L 69.8 102.7 L 69.8 98.3 L 71.2 98.3 L 71.2 108.6 L 69.8 108.6 L 69.8 103.8 L 64.5 103.8 L 64.5 108.6 L 63.1 108.6 L 63.1 98.3 \" fill=\"#000000\"/>\n<path class=\"atom-139\" d=\"M 25.3 127.0 L 26.7 127.0 L 26.7 131.3 L 32.0 131.3 L 32.0 127.0 L 33.4 127.0 L 33.4 137.2 L 32.0 137.2 L 32.0 132.5 L 26.7 132.5 L 26.7 137.2 L 25.3 137.2 L 25.3 127.0 \" fill=\"#000000\"/>\n<path class=\"atom-140\" d=\"M 31.5 173.6 L 32.9 173.6 L 32.9 178.0 L 38.1 178.0 L 38.1 173.6 L 39.5 173.6 L 39.5 183.9 L 38.1 183.9 L 38.1 179.1 L 32.9 179.1 L 32.9 183.9 L 31.5 183.9 L 31.5 173.6 \" fill=\"#000000\"/>\n<path class=\"atom-141\" d=\"M 81.7 175.1 L 83.1 175.1 L 83.1 179.5 L 88.3 179.5 L 88.3 175.1 L 89.7 175.1 L 89.7 185.4 L 88.3 185.4 L 88.3 180.7 L 83.1 180.7 L 83.1 185.4 L 81.7 185.4 L 81.7 175.1 \" fill=\"#000000\"/>\n<path class=\"atom-142\" d=\"M 50.9 258.2 L 52.3 258.2 L 52.3 262.5 L 57.5 262.5 L 57.5 258.2 L 58.9 258.2 L 58.9 268.4 L 57.5 268.4 L 57.5 263.7 L 52.3 263.7 L 52.3 268.4 L 50.9 268.4 L 50.9 258.2 \" fill=\"#000000\"/>\n<path class=\"atom-143\" d=\"M 267.2 218.9 L 268.6 218.9 L 268.6 223.2 L 273.9 223.2 L 273.9 218.9 L 275.2 218.9 L 275.2 229.1 L 273.9 229.1 L 273.9 224.4 L 268.6 224.4 L 268.6 229.1 L 267.2 229.1 L 267.2 218.9 \" fill=\"#000000\"/>\n<path class=\"atom-144\" d=\"M 243.8 218.8 L 245.1 218.8 L 245.1 223.2 L 250.4 223.2 L 250.4 218.8 L 251.8 218.8 L 251.8 229.1 L 250.4 229.1 L 250.4 224.3 L 245.1 224.3 L 245.1 229.1 L 243.8 229.1 L 243.8 218.8 \" fill=\"#000000\"/>\n</svg>",
      "text/plain": [
       "<IPython.core.display.SVG object>"
      ]
     },
     "execution_count": 9,
     "metadata": {},
     "output_type": "execute_result"
    }
   ],
   "source": [
    "with Path('pickled_molecules/polyphenyleneII.pkl').open('rb') as file:\n",
    "    new_mol = pickle.load(file)\n",
    "\n",
    "new_mol.visualize()"
   ]
  },
  {
   "cell_type": "code",
   "execution_count": null,
   "metadata": {},
   "outputs": [
    {
     "name": "stdout",
     "output_type": "stream",
     "text": [
      "polyphenylene1 -5.551115123125783e-17\n",
      "polyphenylene6 0.0\n",
      "polyphenylene_mid 1.942890293094024e-16\n"
     ]
    }
   ],
   "source": [
    "for res in avgs:\n",
    "    print(res.residue_name, sum(chg for chg in res.charges.values()))"
   ]
  },
  {
   "cell_type": "code",
   "execution_count": 6,
   "metadata": {},
   "outputs": [],
   "source": [
    "mol_name = 'polyphenyleneII'\n",
    "\n",
    "polymer_folder = Path('compatible_pdbs/simple_polymers')\n",
    "output_folder = Path(f'averaged_polymers/{mol_name}')\n",
    "\n",
    "pdb_path = Path(f'compatible_pdbs/simple_polymers/{mol_name}.pdb')\n",
    "default_json = polymer_folder/f'{mol_name}.json'\n",
    "charged_json = Path(f'charged_jsons/{mol_name}_with_charges.json')\n",
    "json_path = charged_json if charged_json.exists() else default_json\n",
    "\n",
    "lc_path = output_folder/f'new {mol_name} charges.offxml' # path to output library charges to\n",
    "\n",
    "# LOAD MOLECULE AND TOPOLOGY, ATTEMPT TO APPLY LIBRARY CHARGES\n",
    "mol, topology = load_mol_and_topo(pdb_path, json_path)  # will raise exception if files for molecule are not found\n"
   ]
  },
  {
   "cell_type": "code",
   "execution_count": null,
   "metadata": {},
   "outputs": [],
   "source": [
    "lc_path = output_folder/f'new {mol_name} charges.offxml' # path to output library charges to\n",
    "\n",
    "forcefield = ForceField(lc_path, allow_cosmetic_attributes=True)\n",
    "interchange = Interchange.from_smirnoff(force_field=forcefield, topology=topology, allow_nonintegral_charges=False) # generate Interchange with new library charges prior to writing to file\n",
    "sim = create_sim_from_interchange(interchange)\n",
    "run_simulation(sim, output_folder=Path(f'averaged_polymers/all_sims'), output_name=mol_name, num_steps=1000, record_freq=10)"
   ]
  },
  {
   "cell_type": "markdown",
   "metadata": {},
   "source": [
    "## Testing to determine which atoms are not being covered by Smirnoff load from LCs"
   ]
  },
  {
   "cell_type": "code",
   "execution_count": null,
   "metadata": {},
   "outputs": [],
   "source": [
    "PVC_matches = {0, 2, 3, 4, 5, 6, 7, 8, 9, 10, 12, 13, 14, 15, 16, 18, 19, 20, 21, 22, 23, 25, 26, 27, 28, 29, 31, 32, 34, 35, 36, 37, 38, 39, 40, 42, 44, 45, 46, 47, 48, 49, 50, 51, 52, 53, 55, 56, 57, 58, 59, 60, 61}\n",
    "PEO_matches = {0, 1, 2, 3, 4, 5, 6, 7, 8, 9, 10, 11, 12, 14, 15, 16, 18, 19, 20, 22, 23, 24, 25, 26, 27, 28, 29, 30, 31, 33, 34, 35, 36, 37, 38, 39, 40, 41, 42, 43, 44, 45, 46, 47, 48, 49, 50, 51, 52, 53, 54, 55, 56, 57, 58, 59, 60, 61, 62, 63, 64, 65, 66, 67, 68, 69, 70, 71, 72, 73, 74, 75, 76, 77, 78, 79, 80, 81, 82, 83, 84, 85, 86, 87, 88, 89, 90, 91, 92, 93, 94, 95}"
   ]
  },
  {
   "cell_type": "code",
   "execution_count": null,
   "metadata": {},
   "outputs": [
    {
     "name": "stdout",
     "output_type": "stream",
     "text": [
      "{'pdb_atom_id': 13, 'atomic_number': 8, 'formal_charge': 0, 'atom_name': 'O6', 'residue_name': 'plga1', 'residue_number': 7, 'already_matched': True, 'substructure_id': 0}\n",
      "{'pdb_atom_id': 17, 'atomic_number': 8, 'formal_charge': 0, 'atom_name': 'O8', 'residue_name': 'plga2', 'residue_number': 9, 'already_matched': True, 'substructure_id': 0}\n",
      "{'pdb_atom_id': 21, 'atomic_number': 8, 'formal_charge': 0, 'atom_name': 'Oa', 'residue_name': 'plga2', 'residue_number': 10, 'already_matched': True, 'substructure_id': 0}\n",
      "{'pdb_atom_id': 32, 'atomic_number': 8, 'formal_charge': 0, 'atom_name': 'Of', 'residue_name': 'plga2', 'residue_number': 11, 'already_matched': True, 'substructure_id': 0}\n"
     ]
    }
   ],
   "source": [
    "for atom in mol.atoms:\n",
    "    if atom.metadata['pdb_atom_id'] not in PEO_matches:\n",
    "        print(atom.metadata)"
   ]
  },
  {
   "cell_type": "code",
   "execution_count": null,
   "metadata": {},
   "outputs": [
    {
     "name": "stdout",
     "output_type": "stream",
     "text": [
      "*-[#6:1](-[#6:2](-[#8:3]-*)(-[#1:6])-[#1:7])(-[#1:4])-[#1:5] {0, 1, 2, 3, 4, 5, 6} {1, 2, 3, 4, 5, 6, 7}\n",
      "*-[#8:1]-[#6:2](=[#8:3])-[#6:4](-*)(-[#6:5](-[#1:7])(-[#1:8])-[#1:9])-[#1:6] {0, 1, 2, 3, 4, 5, 6, 7, 8} {1, 2, 3, 4, 5, 6, 7, 8, 9}\n",
      "*-[#8:1]-[#6:2](=[#8:3])-[#6:4](-*)(-[#1:5])-[#1:6] {0, 1, 2, 3, 4, 5} {1, 2, 3, 4, 5, 6}\n",
      "[#8:1](-[#6:2](-[#6:3](-*)(-[#1:7])-[#1:8])(-[#1:5])-[#1:6])-[#1:4] {0, 1, 2, 3, 4, 5, 6, 7} {1, 2, 3, 4, 5, 6, 7, 8}\n",
      "*-[#8:1]-[#6:2](-[#6:3](-[#1:6])(-[#1:7])-[#1:8])(-[#1:4])-[#1:5] {0, 1, 2, 3, 4, 5, 6, 7} {1, 2, 3, 4, 5, 6, 7, 8}\n"
     ]
    }
   ],
   "source": [
    "import re\n",
    "\n",
    "with default_json.open('r') as mono_file:\n",
    "    jdat = json.load(mono_file)\n",
    "\n",
    "sub_ids = defaultdict(set)\n",
    "for atom in mol.atoms:\n",
    "    sub_ids[atom.metadata['residue_name']].add(atom.metadata['substructure_id'])\n",
    "\n",
    "for res_name, smirks in jdat['monomers'].items():\n",
    "    ids = {int(i) for i in re.findall('\\:(\\d+)', smirks)}\n",
    "    print(smirks, sub_ids[res_name], ids)"
   ]
  },
  {
   "cell_type": "markdown",
   "metadata": {},
   "source": [
    "## Permutation Experiment"
   ]
  },
  {
   "cell_type": "code",
   "execution_count": null,
   "metadata": {},
   "outputs": [],
   "source": [
    "# Create every permutation of library charges to test which orderings produce full atomic coverage (i.e. don't need charge recalculation) \n",
    "from itertools import permutations\n",
    "\n",
    "mol_name = 'naturalrubber'\n",
    "offxml_src = Path('xml examples/openff_unconstrained_with_library_charges-2.0.0.offxml')\n",
    "perm_output_folder = Path(f'averaged_polymers/{mol_name} perms')\n",
    "perm_output_folder.mkdir(exist_ok=True)\n",
    "\n",
    "mol, topology, mol_files = fetch_mol(mol_name)  # will raise exception if files for molecule are not found\n",
    "cmol = generate_molecule_charges(mol, toolkit_method='openeye', partial_charge_method='am1bcc') # perform AM1BCC\n",
    "#clear_output() # for Jupyter notebooks only, can freely comment this out\n",
    "avgs = get_averaged_charges(cmol) # average charges over unique residues - placed after clear so we can see what averages are computed\n",
    "for averaged_res in avgs:\n",
    "    print(averaged_res, '\\n')\n",
    "\n",
    "for perm in permutations(avgs):\n",
    "    name = '-'.join(avg_res.residue_name for avg_res in perm)\n",
    "    perm_outpath = perm_output_folder/f'{name}.offxml'\n",
    "    forcefield, lib_chgs = write_new_library_charges(avgs, offxml_src, output_path=perm_outpath)\n",
    "\n",
    "for xml_path in perm_output_folder.iterdir():\n",
    "    print(xml_path.stem)\n",
    "    forcefield = ForceField(xml_path, allow_cosmetic_attributes=True)\n",
    "    interchange = Interchange.from_smirnoff(force_field=forcefield, topology=topology, charge_from_molecules=[cmol]) # generate Interchange with new library charges prior to writing to file\n",
    "    sim = create_sim_from_interchange(interchange)\n",
    "    run_simulation(sim, output_folder=perm_output_folder, output_name=name, num_steps=100, record_freq=10)"
   ]
  },
  {
   "cell_type": "markdown",
   "metadata": {},
   "source": [
    "## Example for assigning atom ids in SMARTS"
   ]
  },
  {
   "cell_type": "code",
   "execution_count": null,
   "metadata": {},
   "outputs": [],
   "source": [
    "rdmol = cmol.to_rdkit()\n",
    "smarts_no_map = Chem.rdmolfiles.MolFragmentToSmarts(rdmol, atomsToUse=[i for i in range(5,10)])\n",
    "# how to specify atom map numbers\n",
    "i = 0\n",
    "for atom in rdmol.GetAtoms():\n",
    "    i += 1\n",
    "    atom.SetAtomMapNum(atom.GetIdx())\n",
    "smarts_yes_map = Chem.rdmolfiles.MolFragmentToSmarts(rdmol, atomsToUse=[i for i in range(5,10)])\n",
    "\n",
    "print(smarts_no_map)\n",
    "print(smarts_yes_map)"
   ]
  },
  {
   "cell_type": "code",
   "execution_count": null,
   "metadata": {},
   "outputs": [],
   "source": [
    "for atom in rdmol.GetAtoms(): # checking that atom types match between rdkit and openff version\n",
    "    n = atom.GetIdx()\n",
    "    if atom.GetAtomicNum() != cmol.atoms[n].metadata['atomic_number']:\n",
    "        print(f'Mismatch at atom {n}')\n",
    "        break\n",
    "else:\n",
    "    print('All good!')\n"
   ]
  },
  {
   "cell_type": "markdown",
   "metadata": {},
   "source": [
    "## Playing with NX to get a feel for it"
   ]
  },
  {
   "cell_type": "code",
   "execution_count": null,
   "metadata": {},
   "outputs": [],
   "source": [
    "import networkx as nx\n",
    "\n",
    "G = nx.Graph()\n",
    "G.add_node(0, val=6, attr='stuff')\n",
    "G.add_node(3, val=7, attr='other')\n",
    "G.nodes[3]['attr']"
   ]
  },
  {
   "cell_type": "code",
   "execution_count": null,
   "metadata": {},
   "outputs": [],
   "source": [
    "G.add_edge(1, 2, weight=10)\n",
    "G.edges[1, 2]['weight']"
   ]
  },
  {
   "cell_type": "markdown",
   "metadata": {},
   "source": [
    "## Testing XML encoding"
   ]
  },
  {
   "cell_type": "code",
   "execution_count": null,
   "metadata": {},
   "outputs": [],
   "source": [
    "import xml\n",
    "import xml.etree.ElementTree as ET\n",
    "\n",
    "p = Path('xml examples/test.offxml')\n",
    "p.touch()\n",
    "\n",
    "top = ET.Element('a')\n",
    "new = ET.SubElement(top, 'b')\n",
    "new.attrib = {'first' : '4', 'second' : '5'}\n",
    " \n",
    "tree = ET.ElementTree(top)\n",
    "\n",
    "ET.dump(top) # print out tree\n",
    "tree.write(p, encoding='utf-8', xml_declaration=True) # write to file"
   ]
  },
  {
   "cell_type": "code",
   "execution_count": null,
   "metadata": {},
   "outputs": [],
   "source": []
  }
 ],
 "metadata": {
  "kernelspec": {
   "display_name": "Python 3.10.6 ('openff-dev': conda)",
   "language": "python",
   "name": "python3"
  },
  "language_info": {
   "codemirror_mode": {
    "name": "ipython",
    "version": 3
   },
   "file_extension": ".py",
   "mimetype": "text/x-python",
   "name": "python",
   "nbconvert_exporter": "python",
   "pygments_lexer": "ipython3",
   "version": "3.10.6"
  },
  "orig_nbformat": 4,
  "vscode": {
   "interpreter": {
    "hash": "6f9cdd2e387d00c633121ae0d6167f9bd222ae4f015041a103877077aa42441e"
   }
  }
 },
 "nbformat": 4,
 "nbformat_minor": 2
}
