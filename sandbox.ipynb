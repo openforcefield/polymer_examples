{
 "cells": [
  {
   "cell_type": "code",
   "execution_count": 1,
   "metadata": {},
   "outputs": [],
   "source": [
    "from pathlib import Path\n",
    "from collections import defaultdict\n",
    "from dataclasses import dataclass, field\n",
    "from typing import Any, Callable, Optional, Union\n",
    "from IPython.display import clear_output\n",
    "\n",
    "from rdkit import Chem\n",
    "from openff.units import unit\n",
    "from openff.interchange import Interchange\n",
    "\n",
    "from openff.toolkit.topology import Topology\n",
    "from openff.toolkit.topology.molecule import FrozenMolecule, Molecule, Atom\n",
    "from openff.toolkit.utils import toolkit_registry\n",
    "from openff.toolkit.utils.toolkits import RDKitToolkitWrapper, OpenEyeToolkitWrapper, AmberToolsToolkitWrapper\n",
    "from openff.toolkit.typing.engines.smirnoff import ForceField\n",
    "from openff.toolkit.typing.engines.smirnoff import parameters as offtk_parameters\n",
    "\n",
    "from openmm import LangevinMiddleIntegrator\n",
    "from openmm.app import Simulation, PDBReporter, StateDataReporter\n",
    "from openmm.unit import kelvin, picosecond, picoseconds, nanometer # need to do some unit conversion with both packages"
   ]
  },
  {
   "cell_type": "markdown",
   "metadata": {},
   "source": [
    "## Useful functions for charge averaging and simulation"
   ]
  },
  {
   "cell_type": "code",
   "execution_count": 2,
   "metadata": {},
   "outputs": [
    {
     "name": "stdout",
     "output_type": "stream",
     "text": [
      "Help on method from_pdb_and_monomer_info in module openff.toolkit.topology.topology:\n",
      "\n",
      "from_pdb_and_monomer_info(file_path, monomer_info_json='', strict=True, verbose=False) method of abc.ABCMeta instance\n",
      "\n"
     ]
    }
   ],
   "source": [
    "help(Topology.from_pdb_and_monomer_info)"
   ]
  },
  {
   "cell_type": "code",
   "execution_count": 3,
   "metadata": {},
   "outputs": [],
   "source": [
    "# Charge calculation methods\n",
    "def fetch_mol(filename : str, parent_path : Path=Path.cwd()/'compatible_pdbs', extensions : tuple[str, ...]=('pdb', 'json'), verbose : bool=False) -> tuple[Molecule, Topology]:\n",
    "    '''Takes the name of a molecule and searches for associated .pbd and .json files\n",
    "    If found, will load Topology and extract first found molecule (assume that the topology only has ONE simple homopolymer)\n",
    "    Returns the found Topology and Molecule'''\n",
    "    mol_files = {\n",
    "        ext : path\n",
    "            for path in parent_path.glob('**/*.*')\n",
    "                for ext in extensions\n",
    "                    if path.name == f'{filename}.{ext}'\n",
    "    }\n",
    "\n",
    "    for ext in extensions:\n",
    "        if ext not in mol_files:\n",
    "            raise FileNotFoundError(f'Could not find a(n) {ext} file \\\"{filename}.{ext}\\\"')\n",
    "    else:\n",
    "        off_topology, _, error = Topology.from_pdb_and_monomer_info(str(mol_files['pdb']), mol_files['json'], strict=True, verbose=verbose)\n",
    "        mol = next(off_topology.molecules) # get the first molecule (assumed to be the polymer of interest)\n",
    "\n",
    "        return mol, off_topology\n",
    "\n",
    "def generate_molecule_charges(mol : Molecule, toolkit_method : str='openeye', partial_charge_method : str='am1bcc') -> Molecule:\n",
    "    '''Takes a Molecule object and computes partial charges with AM1BCC using toolkit method of choice. Returns charged molecule'''\n",
    "    toolkits = {\n",
    "        'openeye' : OpenEyeToolkitWrapper,\n",
    "        'ambertools' : AmberToolsToolkitWrapper\n",
    "    }\n",
    "\n",
    "    mol.assign_partial_charges( # finally, assign partial charges using those 10 conformers generated \n",
    "        partial_charge_method=partial_charge_method, \n",
    "        toolkit_registry=toolkits.get(toolkit_method)()\n",
    "    )\n",
    "    charged_mol = mol # rename for clarity\n",
    "    # get some conformers to run elf10 charge method. By default, `mol.assign_partial_charges`\n",
    "    # uses 500 conformers, but we can generate and use 10 here for demonstration\n",
    "    # charged_mol.generate_conformers(\n",
    "    #     n_conformers=10,\n",
    "    #     rms_cutoff=0.25 * unit.angstrom,\n",
    "    #     make_carboxylic_acids_cis=True,\n",
    "    #     toolkit_registry=RDKitToolkitWrapper()\n",
    "    # ) # very slow for large polymers! \n",
    "\n",
    "    print(f'final molecular charges: {charged_mol.partial_charges}')\n",
    "    # note: the charged_mol has metadata about which monomers were assigned where as a result of the chemicaly info assignment.\n",
    "    # This can be a way to break up the molecule into repeating sections to partition the library charges \n",
    "    for atom in charged_mol.atoms:\n",
    "        assert(atom.metadata['already_matched'] == True)\n",
    "        # print(atom.metadata['residue_name'])\n",
    "    \n",
    "    return charged_mol # code for exact how thely above function works can be found in openff/toolkit/utils/openeye_wrapper.py under the assign_partial_charges()\n",
    "\n",
    "# charge averaging methods\n",
    "@dataclass\n",
    "class Accumulator:\n",
    "    '''Compact container for accumulating averages'''\n",
    "    sum : float = 0.0\n",
    "    count : int = 0\n",
    "\n",
    "    @property\n",
    "    def average(self) -> float:\n",
    "        return self.sum / self.count\n",
    "\n",
    "AveragedChargeMap = defaultdict[str, dict[int, float]] # makes typehinting clearer\n",
    "\n",
    "def find_repr_residues(cmol : Molecule) -> dict[str, int]:\n",
    "    '''Determine names and smallest residue numbers of all unique residues in charged molecule\n",
    "    Used as representatives for generating labelled SMARTS strings '''\n",
    "    rep_res_nums = defaultdict(set) # numbers of representative groups for each unique residue, used to build SMARTS strings\n",
    "    for atom in cmol.atoms: \n",
    "        rep_res_nums[atom.metadata['residue_name']].add(atom.metadata['residue_number']) # collect unique residue numbers\n",
    "\n",
    "    for res_name, ids in rep_res_nums.items():\n",
    "        rep_res_nums[res_name] = min(ids) # choose group with smallest id of each residue to denote representative group\n",
    "\n",
    "    return rep_res_nums\n",
    "\n",
    "def averaged_charges_by_SMARTS(cmol : Molecule) -> AveragedChargeMap:\n",
    "    '''Takes a charged molecule and averages charges for each repeating residues\n",
    "    Returns a dict (indexed by SMARTS strings) of subdicts containing averaged charges for each atom in a residue'''\n",
    "    rdmol = cmol.to_rdkit() # create rdkit representation of Molecule to allow for SMARTS generation\n",
    "    rep_res_nums = find_repr_residues(cmol) # determine ids of representatives of each unique residue\n",
    "\n",
    "    atom_ids_for_SMARTS = defaultdict(list)\n",
    "    avg_charges_by_res = defaultdict(lambda : defaultdict(Accumulator))\n",
    "    for atom in cmol.atoms: # accumulate counts and charge values across matching substructures\n",
    "        res_name, substruct_id, atom_id = atom.metadata['residue_name'], atom.metadata['substructure_id'], atom.metadata['pdb_atom_id']\n",
    "        if atom.metadata['residue_number'] == rep_res_nums[res_name]: # if atom is member of representative group for any residue...\n",
    "            atom_ids_for_SMARTS[res_name].append(atom_id)             # ...collect pdb id...\n",
    "            rdmol.GetAtomWithIdx(atom_id).SetAtomMapNum(substruct_id) # ...and set atom number for labelling in SMARTS string\n",
    "\n",
    "        curr_accum = avg_charges_by_res[res_name][substruct_id] # accumulate charge info for averaging\n",
    "        curr_accum.sum += atom.partial_charge.magnitude # eschew units (easier to handle, added back when writing to XML)\n",
    "        curr_accum.count += 1\n",
    "\n",
    "    avg_charges_by_SMARTS = defaultdict(dict)\n",
    "    for res_name, charge_map in avg_charges_by_res.items():\n",
    "        SMARTS = Chem.rdmolfiles.MolFragmentToSmarts(rdmol, atomsToUse=atom_ids_for_SMARTS[res_name]) # determine SMARTS for the current residue's representative group\n",
    "        for substruct_id, accum in charge_map.items():\n",
    "            avg_charges_by_SMARTS[SMARTS][substruct_id] = accum.average # collapse accumulators into actual average values\n",
    "\n",
    "    return avg_charges_by_SMARTS\n",
    "\n",
    "def write_new_library_charges(avgs : AveragedChargeMap, offxml_file : Path, output_name : str) -> ForceField:\n",
    "    '''Takes dict of residue-averaged charges to generate and append library charges to an .offxml file of choice, creating a new xml with the specified filename'''\n",
    "    forcefield = ForceField(offxml_file) # simpler to add library charges through forcefield API than to directly write to xml\n",
    "    lc_handler = forcefield[\"LibraryCharges\"]\n",
    "\n",
    "    for smirks, charges in avgs.items():\n",
    "        lc_entry = {f'charge{cid}' : f'{charge} * elementary_charge' for cid, charge in charges.items()} # stringify charges into form usable for library charges\n",
    "        lc_entry['smirks'] = smirks # add SMIRKS string to library charge entry to allow for labelling\n",
    "\n",
    "        lc_params = offtk_parameters.LibraryChargeHandler.LibraryChargeType(allow_cosmetic_attributes=True, **lc_entry) # must enable cosmetic params for general kwarg passing\n",
    "        lc_handler.add_parameter(parameter=lc_params)\n",
    "    forcefield.to_file(offxml_file.parent/f'{output_name}.offxml') # write modified library charges to new xml (avoid overwrites in case of mistakes)\n",
    "    \n",
    "    return forcefield\n",
    "\n",
    "# OpenMM simulation methods\n",
    "def create_sim_from_interchange(interchange : Interchange) -> Simulation:\n",
    "    '''Sets up a Simulation object using topology and force field data as specified by an Interchange object\n",
    "    Converts topologies and positions to OpenMM format from OpenFF formats (can support GROMACS format too in future)'''\n",
    "    openmm_sys = interchange.to_openmm(combine_nonbonded_forces=True) \n",
    "    openmm_top = interchange.topology.to_openmm()\n",
    "    openmm_pos = interchange.positions.m_as(unit.nanometer) * nanometer\n",
    "    integrator = LangevinMiddleIntegrator(300*kelvin, 1/picosecond, 0.0005*picoseconds)\n",
    "\n",
    "    simulation = Simulation(openmm_top, openmm_sys, integrator)\n",
    "    simulation.context.setPositions(openmm_pos)\n",
    "\n",
    "    return simulation\n",
    "\n",
    "def run_simulation(simulation : Simulation, num_steps=1000, record_freq=10, output_name='md_output') -> None:\n",
    "    '''Takes a Simulation object, performs energy minimization, and runs the simulation for the specified number of time steps,\n",
    "    recording PBD frames and numerical data to file at the specified frequency using '''\n",
    "    outdir = Path(output_name)\n",
    "    outdir.mkdir(exist_ok=True) # ensure a folder for output exists\n",
    "\n",
    "    # for saving pdb frames and reporting state/energy data\n",
    "    pdb_rep = PDBReporter(f'{output_name}/{output_name}_frames.pdb', record_freq)\n",
    "    state_rep = StateDataReporter(f'{output_name}/{output_name}_data.csv', record_freq, step=True, potentialEnergy=True, temperature=True)\n",
    "\n",
    "    # minimize and run simulation\n",
    "    simulation.minimizeEnergy()\n",
    "    simulation.saveCheckpoint(f'{output_name}/{output_name}_checkpoint.chk') # save initial minimal state to simplify reloading process\n",
    "    simulation.reporters.append(pdb_rep) # save frames at the specified interval\n",
    "    simulation.reporters.append(state_rep)\n",
    "    simulation.step(num_steps)"
   ]
  },
  {
   "cell_type": "markdown",
   "metadata": {},
   "source": [
    "## Running averaging code for test molecule"
   ]
  },
  {
   "cell_type": "code",
   "execution_count": 4,
   "metadata": {},
   "outputs": [
    {
     "name": "stdout",
     "output_type": "stream",
     "text": [
      "[#8](-[#6:1](-[#6:2](-[H:3])-[H:4])(-[H:5])-[H:6])-[H:7]\n",
      "\t{0: -0.5940300232808416, 1: 0.13015000456168005, 2: 0.12320999735190223, 7: 0.40027999811961007, 5: 0.03387999841167281, 6: 0.03387999841167281, 3: 0.03731999852849791, 4: 0.03731999852849791}\n",
      "\n",
      "[#8:2]-[#6:1](-[#6](-[H:5])-[H:6])(-[H:3])-[H:4]\n",
      "\t{2: -0.4070160037915532, 1: 0.12583200120522328, 0: 0.1325919979174311, 3: 0.044027999873893955, 4: 0.044027999873893955, 5: 0.051851999099987243, 6: 0.051851999099987243}\n",
      "\n",
      "[#8]-[#6:1](=[#8:2])-[#6:3](-[#6:4](-[H:5])(-[H:6])-[H:7])-[H:8]\n",
      "\t{0: -0.4371033317487066, 1: 0.6301166805981969, 2: -0.514863332772317, 3: 0.11162666662130505, 4: -0.11567333406613518, 8: 0.1092099987824137, 5: 0.06476333423051983, 6: 0.06476333423051983, 7: 0.06476333423051983}\n",
      "\n",
      "[#8]-[#6:1](=[#8:2])-[#6:3](-[H:4])-[H:5]\n",
      "\t{0: -0.4363533364376053, 1: 0.6391933355092382, 2: -0.5020599967877691, 3: 0.09038333280477673, 4: 0.0789933322230354, 5: 0.0789933322230354}\n",
      "\n",
      "[#8]-[#6:1](-[#6:2](-[H:3])(-[H:4])-[H:5])(-[H:6])-[H:7]\n",
      "\t{0: -0.41534999078915763, 1: 0.1302700036127741, 2: -0.09703999823735406, 6: 0.022719999115603667, 7: 0.022719999115603667, 3: 0.046190000410812594, 4: 0.046190000410812594, 5: 0.046190000410812594}\n",
      "\n"
     ]
    }
   ],
   "source": [
    "mol_name = 'PEO_PLGA'\n",
    "offxml_file = Path('xml examples/openff_unconstrained_with_library_charges-2.0.0.offxml')\n",
    "\n",
    "mol, topology = fetch_mol(mol_name)  # will raise exception if files for molecule are not found\n",
    "cmol = generate_molecule_charges(mol, toolkit_method='openeye', partial_charge_method='am1bcc') # perform AM1BCC\n",
    "clear_output() # for Jupyter notebooks only, can freely comment this out\n",
    "\n",
    "avgs = averaged_charges_by_SMARTS(cmol) # average charges over unique residues - placed after clear so we can see what averages are computed\n",
    "for smiles, subdict in avgs.items():\n",
    "    print(f'{smiles}\\n\\t{subdict}\\n')\n",
    "\n",
    "forcefield = write_new_library_charges(avgs, offxml_file, output_name=f'new {mol_name} charges')"
   ]
  },
  {
   "cell_type": "code",
   "execution_count": 5,
   "metadata": {},
   "outputs": [
    {
     "name": "stderr",
     "output_type": "stream",
     "text": [
      "Warning: : Failed due to unspecified stereochemistry\n",
      "Warning (not error because allow_undefined_stereo=True): OEMol has unspecified stereochemistry. oemol.GetTitle(): \n",
      "Problematic atoms are:\n",
      "Atom atomic num: 6, name: , idx: 12, aromatic: False, chiral: True with bonds:\n",
      "bond order: 1, chiral: False to atom atomic num: 6, name: , idx: 10, aromatic: False, chiral: False\n",
      "bond order: 1, chiral: False to atom atomic num: 8, name: , idx: 13, aromatic: False, chiral: False\n",
      "bond order: 1, chiral: False to atom atomic num: 6, name: , idx: 47, aromatic: False, chiral: False\n",
      "bond order: 1, chiral: False to atom atomic num: 1, name: , idx: 61, aromatic: False, chiral: False\n",
      "Atom atomic num: 6, name: , idx: 31, aromatic: False, chiral: True with bonds:\n",
      "bond order: 1, chiral: False to atom atomic num: 6, name: , idx: 29, aromatic: False, chiral: False\n",
      "bond order: 1, chiral: False to atom atomic num: 8, name: , idx: 32, aromatic: False, chiral: False\n",
      "bond order: 1, chiral: False to atom atomic num: 6, name: , idx: 45, aromatic: False, chiral: False\n",
      "bond order: 1, chiral: False to atom atomic num: 1, name: , idx: 71, aromatic: False, chiral: False\n",
      "\n"
     ]
    }
   ],
   "source": [
    "# TOSELF: confirm whether creating Interchange is really re-doing AM1BCC\n",
    "interchange = Interchange.from_smirnoff(force_field=forcefield, topology=topology) # generate Interchange with new library charges prior to writing to file\n",
    "sim = create_sim_from_interchange(interchange)\n",
    "run_simulation(sim, output_name=f'{mol_name}_sim', num_steps=10000, record_freq=10)"
   ]
  },
  {
   "cell_type": "code",
   "execution_count": null,
   "metadata": {},
   "outputs": [],
   "source": [
    "cmol.visualize()"
   ]
  },
  {
   "cell_type": "markdown",
   "metadata": {},
   "source": [
    "## Example for assigning atom ids in SMARTS"
   ]
  },
  {
   "cell_type": "code",
   "execution_count": null,
   "metadata": {},
   "outputs": [],
   "source": [
    "rdmol = cmol.to_rdkit()\n",
    "smarts_no_map = Chem.rdmolfiles.MolFragmentToSmarts(rdmol, atomsToUse=[i for i in range(5,10)])\n",
    "# how to specify atom map numbers\n",
    "i = 0\n",
    "for atom in rdmol.GetAtoms():\n",
    "    i += 1\n",
    "    atom.SetAtomMapNum(atom.GetIdx())\n",
    "smarts_yes_map = Chem.rdmolfiles.MolFragmentToSmarts(rdmol, atomsToUse=[i for i in range(5,10)])\n",
    "\n",
    "print(smarts_no_map)\n",
    "print(smarts_yes_map)"
   ]
  },
  {
   "cell_type": "code",
   "execution_count": null,
   "metadata": {},
   "outputs": [],
   "source": [
    "for atom in rdmol.GetAtoms(): # checking that atom types match between rdkit and openff version\n",
    "    n = atom.GetIdx()\n",
    "    if atom.GetAtomicNum() != cmol.atoms[n].metadata['atomic_number']:\n",
    "        print(f'Mismatch at atom {n}')\n",
    "        break\n",
    "else:\n",
    "    print('All good!')\n"
   ]
  },
  {
   "cell_type": "markdown",
   "metadata": {},
   "source": [
    "## Playing with NX to get a feel for it"
   ]
  },
  {
   "cell_type": "code",
   "execution_count": null,
   "metadata": {},
   "outputs": [],
   "source": [
    "import networkx as nx\n",
    "\n",
    "G = nx.Graph()\n",
    "G.add_node(0, val=6, attr='stuff')\n",
    "G.add_node(3, val=7, attr='other')\n",
    "G.nodes[3]['attr']"
   ]
  },
  {
   "cell_type": "code",
   "execution_count": null,
   "metadata": {},
   "outputs": [],
   "source": [
    "G.add_edge(1, 2, weight=10)\n",
    "G.edges[1, 2]['weight']"
   ]
  },
  {
   "cell_type": "markdown",
   "metadata": {},
   "source": [
    "## Testing XML encoding"
   ]
  },
  {
   "cell_type": "code",
   "execution_count": null,
   "metadata": {},
   "outputs": [],
   "source": [
    "import xml\n",
    "import xml.etree.ElementTree as ET\n",
    "\n",
    "p = Path('xml examples/test.offxml')\n",
    "p.touch()\n",
    "\n",
    "top = ET.Element('a')\n",
    "new = ET.SubElement(top, 'b')\n",
    "new.attrib = {'first' : '4', 'second' : '5'}\n",
    " \n",
    "tree = ET.ElementTree(top)\n",
    "\n",
    "ET.dump(top) # print out tree\n",
    "tree.write(p, encoding='utf-8', xml_declaration=True) # write to file"
   ]
  },
  {
   "cell_type": "code",
   "execution_count": null,
   "metadata": {},
   "outputs": [],
   "source": []
  }
 ],
 "metadata": {
  "kernelspec": {
   "display_name": "Python 3.10.6 ('openff-dev': conda)",
   "language": "python",
   "name": "python3"
  },
  "language_info": {
   "codemirror_mode": {
    "name": "ipython",
    "version": 3
   },
   "file_extension": ".py",
   "mimetype": "text/x-python",
   "name": "python",
   "nbconvert_exporter": "python",
   "pygments_lexer": "ipython3",
   "version": "3.10.6"
  },
  "orig_nbformat": 4,
  "vscode": {
   "interpreter": {
    "hash": "6f9cdd2e387d00c633121ae0d6167f9bd222ae4f015041a103877077aa42441e"
   }
  }
 },
 "nbformat": 4,
 "nbformat_minor": 2
}
