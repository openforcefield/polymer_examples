{
 "cells": [
  {
   "cell_type": "code",
   "execution_count": 1,
   "metadata": {},
   "outputs": [],
   "source": [
    "from pathlib import Path\n",
    "from collections import defaultdict\n",
    "from dataclasses import dataclass, field\n",
    "from typing import Any, Callable, Optional, Union\n",
    "from IPython.display import clear_output\n",
    "\n",
    "from rdkit import Chem\n",
    "from openff.units import unit\n",
    "from openff.interchange import Interchange\n",
    "\n",
    "from openff.toolkit.topology import Topology\n",
    "from openff.toolkit.topology.molecule import FrozenMolecule, Molecule, Atom\n",
    "from openff.toolkit.utils import toolkit_registry\n",
    "from openff.toolkit.utils.toolkits import RDKitToolkitWrapper, OpenEyeToolkitWrapper, AmberToolsToolkitWrapper\n",
    "from openff.toolkit.typing.engines.smirnoff import ForceField\n",
    "from openff.toolkit.typing.engines.smirnoff import parameters as offtk_parameters\n",
    "\n",
    "from openmm import LangevinMiddleIntegrator\n",
    "from openmm.app import Simulation, PDBReporter, StateDataReporter\n",
    "from openmm.unit import kelvin, picosecond, picoseconds, nanometer # need to do some unit conversion with both packages"
   ]
  },
  {
   "cell_type": "markdown",
   "metadata": {},
   "source": [
    "## Useful functions for charge averaging and simulation"
   ]
  },
  {
   "cell_type": "code",
   "execution_count": 7,
   "metadata": {},
   "outputs": [],
   "source": [
    "# Charge calculation methods\n",
    "def generate_charged_molecule(pdbfile : str, substructure_file : Path, toolkit_method : str='openeye', partial_charge_method : str='am1bcc') -> tuple[Molecule, Topology]:\n",
    "    '''Takes a .pbd structural file and a .json monomer file and produces a Molecule object with calculated partial charges using method of choice'''\n",
    "    toolkits = {\n",
    "        'openeye' : OpenEyeToolkitWrapper,\n",
    "        'ambertools' : AmberToolsToolkitWrapper\n",
    "    }\n",
    "\n",
    "    off_topology, _, error = Topology.from_pdb_and_monomer_info(pdbfile, substructure_file, strict=True)\n",
    "    # here, we assume that the topology only has ONE simple homopolymer. Later, all molecules can be extracted and charged\n",
    "    mol = next(off_topology.molecules) # get the first molecule\n",
    "    # get some conformers to run elf10 charge method. By default, `mol.assign_partial_charges`\n",
    "    # uses 500 conformers, but we can generate and use 10 here for demonstration\n",
    "    # mol.generate_conformers(\n",
    "    #     n_conformers=10,\n",
    "    #     rms_cutoff=0.25 * unit.angstrom,\n",
    "    #     make_carboxylic_acids_cis=True,\n",
    "    #     toolkit_registry=RDKitToolkitWrapper()\n",
    "    # ) # very slow for large polymers! \n",
    "\n",
    "    mol.assign_partial_charges( # finally, assign partial charges using those 10 conformers generated \n",
    "        partial_charge_method=partial_charge_method, \n",
    "        toolkit_registry=toolkits.get(toolkit_method)()\n",
    "    )\n",
    "    \n",
    "    return mol, off_topology # code for exact how thely above function works can be found in openff/toolkit/utils/openeye_wrapper.py under the assign_partial_charges()\n",
    "\n",
    "def fetch_charged_mol(filename : str, parent_path : Path=Path.cwd()/'compatible_pdbs', extensions=('pdb', 'json'),\n",
    "                      toolkit_method : str='openeye', partial_charge_method : str='am1bcc') -> tuple[Molecule, Topology]:\n",
    "    '''Takes the name of a molecule and searches for associated .pbd and .json files\n",
    "    If found, will perform charge assignment and monomer labelling and return the resultant charged Molecule object'''\n",
    "    mol_files = {\n",
    "        ext : path\n",
    "            for path in parent_path.glob('**/*.*')\n",
    "                for ext in extensions\n",
    "                    if path.name == f'{filename}.{ext}'\n",
    "    }\n",
    "\n",
    "    for ext in extensions:\n",
    "        if ext not in mol_files:\n",
    "            raise FileNotFoundError(f'Could not find a(n) {ext} file \\\"{filename}.{ext}\\\"')\n",
    "    else:\n",
    "        charged_mol, topology = generate_charged_molecule(str(mol_files['pdb']), mol_files['json'], toolkit_method=toolkit_method)\n",
    "        print(f'final molecular charges: {charged_mol.partial_charges}')\n",
    "\n",
    "        # note: the charged_mol has metadata about which monomers were assigned where as a result of the chemicaly info assignment.\n",
    "        # This can be a way to break up the molecule into repeating sections to partition the library charges \n",
    "        for atom in charged_mol.atoms:\n",
    "            assert(atom.metadata['already_matched'] == True)\n",
    "            # print(atom.metadata['residue_name'])\n",
    "        \n",
    "        return charged_mol, topology\n",
    "\n",
    "# charge averaging methods\n",
    "@dataclass\n",
    "class Accumulator:\n",
    "    '''Compact container for accumulating averages'''\n",
    "    sum : float = 0.0\n",
    "    count : int = 0\n",
    "\n",
    "    @property\n",
    "    def average(self) -> float:\n",
    "        return self.sum / self.count\n",
    "\n",
    "AveragedChargeMap = defaultdict[str, dict[int, float]] # makes typehinting clearer\n",
    "\n",
    "def find_repr_residues(cmol : Molecule) -> dict[str, int]:\n",
    "    '''Determine names and smallest residue numbers of all unique residues in charged molecule\n",
    "    Used as representatives for generating labelled SMARTS strings '''\n",
    "    rep_res_nums = defaultdict(set) # numbers of representative groups for each unique residue, used to build SMARTS strings\n",
    "    for atom in cmol.atoms: \n",
    "        rep_res_nums[atom.metadata['residue_name']].add(atom.metadata['residue_number']) # collect unique residue numbers\n",
    "\n",
    "    for res_name, ids in rep_res_nums.items():\n",
    "        rep_res_nums[res_name] = min(ids) # choose group with smallest id of each residue to denote representative group\n",
    "\n",
    "    return rep_res_nums\n",
    "\n",
    "def averaged_charges_by_SMARTS(cmol : Molecule) -> AveragedChargeMap:\n",
    "    '''Takes a charged molecule and averages charges for each repeating residues\n",
    "    Returns a dict (indexed by SMARTS strings) of subdicts containing averaged charges for each atom in a residue'''\n",
    "    rdmol = cmol.to_rdkit() # create rdkit representation of Molecule to allow for SMARTS generation\n",
    "    rep_res_nums = find_repr_residues(cmol) # determine ids of representatives of each unique residue\n",
    "\n",
    "    atom_ids_for_SMARTS = defaultdict(list)\n",
    "    avg_charges_by_res = defaultdict(lambda : defaultdict(Accumulator))\n",
    "    for atom in cmol.atoms: # accumulate counts and charge values across matching substructures\n",
    "        res_name, substruct_id, atom_id = atom.metadata['residue_name'], atom.metadata['substructure_id'], atom.metadata['pdb_atom_id']\n",
    "        if atom.metadata['residue_number'] == rep_res_nums[res_name]: # if atom is member of representative group for any residue...\n",
    "            atom_ids_for_SMARTS[res_name].append(atom_id)             # ...collect pdb id...\n",
    "            rdmol.GetAtomWithIdx(atom_id).SetAtomMapNum(substruct_id) # ...and set atom number for labelling in SMARTS string\n",
    "\n",
    "        curr_accum = avg_charges_by_res[res_name][substruct_id] # accumulate charge info for averaging\n",
    "        curr_accum.sum += atom.partial_charge.magnitude # eschew units (easier to handle, added back when writing to XML)\n",
    "        curr_accum.count += 1\n",
    "\n",
    "    avg_charges_by_SMARTS = defaultdict(dict)\n",
    "    for res_name, charge_map in avg_charges_by_res.items():\n",
    "        SMARTS = Chem.rdmolfiles.MolFragmentToSmarts(rdmol, atomsToUse=atom_ids_for_SMARTS[res_name]) # determine SMARTS for the current residue's representative group\n",
    "        for substruct_id, accum in charge_map.items():\n",
    "            avg_charges_by_SMARTS[SMARTS][substruct_id] = accum.average # collapse accumulators into actual average values\n",
    "\n",
    "    return avg_charges_by_SMARTS\n",
    "\n",
    "def write_new_library_charges(mol_name : str, offxml_file : Path, output_name : str, toolkit_method : str='openeye',\n",
    "                              partial_charge_method : str='am1bcc') -> tuple[Molecule, AveragedChargeMap, Interchange]:\n",
    "    '''Loads a molecule, calculates partial charges, partitions molecule into monomer residues, computes average charges for atoms in distinct residues,\n",
    "     and appends library charges based on these averaged charges to a .offxml file of choice, creating a new xml with the sspecified filename'''\n",
    "    cmol, topology = fetch_charged_mol(mol_name, toolkit_method=toolkit_method, partial_charge_method=partial_charge_method) # will raise exception if files for molecule are not found\n",
    "    clear_output() # for Jupyter notebooks only, can freely comment this out\n",
    "    avgs = averaged_charges_by_SMARTS(cmol) # average charges over unique residues\n",
    "\n",
    "    forcefield = ForceField(offxml_file) # simpler to add library charges through forcefield API than to directly write to xml\n",
    "    lc_handler = forcefield[\"LibraryCharges\"]\n",
    "\n",
    "    for smirks, charges in avgs.items():\n",
    "        lc_entry = {f'charge{cid}' : f'{charge} * elementary_charge' for cid, charge in charges.items()} # stringify charges into form usable for library charges\n",
    "        lc_entry['smirks'] = smirks # add SMIRKS string to library charge entry to allow for labelling\n",
    "\n",
    "        lc_params = offtk_parameters.LibraryChargeHandler.LibraryChargeType(allow_cosmetic_attributes=True, **lc_entry) # must enable cosmetic params for general kwarg passing\n",
    "        lc_handler.add_parameter(parameter=lc_params)\n",
    "\n",
    "    interchange = Interchange.from_smirnoff(force_field=forcefield, topology=topology) # generate Interchange with new library charges prior to writing to file\n",
    "    forcefield.to_file(offxml_file.parent/f'{output_name}.offxml') # write modified library charges to new xml (avoid overwrites in case of mistakes)\n",
    "    \n",
    "    return cmol, avgs, interchange\n",
    "\n",
    "# OpenMM simulation methods\n",
    "def create_sim_from_interchange(interchange : Interchange) -> Simulation:\n",
    "    '''Sets up a Simulation object using topology and force field data as specified by an Interchange object\n",
    "    Converts topologies and positions to OpenMM format from OpenFF formats (can support GROMACS format too in future)'''\n",
    "    openmm_sys = interchange.to_openmm(combine_nonbonded_forces=True) \n",
    "    openmm_top = interchange.topology.to_openmm()\n",
    "    openmm_pos = interchange.positions.m_as(unit.nanometer) * nanometer\n",
    "    integrator = LangevinMiddleIntegrator(300*kelvin, 1/picosecond, 0.0005*picoseconds)\n",
    "\n",
    "    simulation = Simulation(openmm_top, openmm_sys, integrator)\n",
    "    simulation.context.setPositions(openmm_pos)\n",
    "\n",
    "    return simulation\n",
    "\n",
    "def run_simulation(simulation : Simulation, num_steps=1000, record_freq=10, output_name='md_output') -> None:\n",
    "    '''Takes a Simulation object, performs energy minimization, and runs the simulation for the specified number of time steps,\n",
    "    recording PBD frames and numerical data to file at the specified frequency using '''\n",
    "    outdir = Path(output_name)\n",
    "    outdir.mkdir(exist_ok=True) # ensure a folder for output exists\n",
    "\n",
    "    # for saving pdb frames and reporting state/energy data\n",
    "    pdb_rep = PDBReporter(f'{output_name}/{output_name}_frames.pdb', record_freq)\n",
    "    state_rep = StateDataReporter(f'{output_name}/{output_name}_data.csv', record_freq, step=True, potentialEnergy=True, temperature=True)\n",
    "\n",
    "    # minimize and run simulation\n",
    "    simulation.minimizeEnergy()\n",
    "    simulation.saveCheckpoint(f'{output_name}/{output_name}_checkpoint.chk') # save initial minimal state to simplify reloading process\n",
    "    simulation.reporters.append(pdb_rep) # save frames at the specified interval\n",
    "    simulation.reporters.append(state_rep)\n",
    "    simulation.step(num_steps)"
   ]
  },
  {
   "cell_type": "markdown",
   "metadata": {},
   "source": [
    "## Running averaging code for test molecule"
   ]
  },
  {
   "cell_type": "code",
   "execution_count": 4,
   "metadata": {},
   "outputs": [
    {
     "name": "stdout",
     "output_type": "stream",
     "text": [
      "[#8](-[#6:1]1:[#6:2](-[H:3]):[#6:4](-[H:5]):[#6:6](-[#6:7]23-[#6:8](-[H:9])(-[H:10])-[#6:11]4(-[H:12])-[#6:23](-[H:24])(-[H:25])-[#6:21](-[H:22])(-[#6:18](-[H:19])(-[H:20])-[#6:16](-[H:17])(-[#6:13]-4(-[H:14])-[H:15])-[#6:29]-2(-[H:30])-[H:31])-[#6:26]-3(-[H:27])-[H:28]):[#6:32](-[#8:33]):[#6:34]:1-[H:35])-[#6:36]1:[#6:44](-[H:45]):[#6:42](-[H:43]):[#6:41](:[#6:39](-[H:40]):[#6:37]:1-[H:38])-[#6:46](-[#6:47]1:[#6:56](-[H:57]):[#6:54](-[H:55]):[#6:52](-[H:53]):[#6:50](-[H:51]):[#6:48]:1-[H:49])=[#8:58]\n",
      "\t{0: -0.2483700068778027, 33: -0.2518100144452084, 53: 0.13902999440965763, 12: 0.04984999800858609, 24: 0.041859999101735275, 25: 0.041859999101735275, 22: 0.04984999800858609, 19: 0.041859999101735275, 20: 0.041859999101735275, 17: 0.04984999800858609, 14: 0.041859999101735275, 15: 0.041859999101735275, 9: 0.0478300003224384, 10: 0.0478300003224384, 30: 0.0478300003224384, 31: 0.0478300003224384, 27: 0.0478300003224384, 28: 0.0478300003224384, 5: 0.14724999646482578, 3: 0.15615999678907505, 35: 0.16062000374136082, 45: 0.15369999388990513, 43: 0.14357000569639317, 40: 0.14357000569639317, 38: 0.15369999388990513, 57: 0.14702999572095982, 55: 0.13861000518140904, 51: 0.13861000518140904, 49: 0.14702999572095982, 11: -0.06126999874772914, 23: -0.07030999680223354, 21: -0.06126999874772914, 18: -0.07030999680223354, 16: -0.06126999874772914, 13: -0.07030999680223354, 8: -0.06763999928893932, 29: -0.06763999928893932, 26: -0.06763999928893932, 7: 0.004059999983884015, 6: -0.07266999800863155, 4: -0.10523000379266628, 2: -0.14372999985875973, 1: 0.1071299983078014, 34: -0.1890300067252148, 32: 0.10818999985990635, 36: 0.10745999942360035, 44: -0.15121999402704128, 42: -0.08393000086011776, 41: -0.16439999659719357, 39: -0.08393000086011776, 37: -0.15121999402704128, 46: 0.5882899759226811, 47: -0.17690999825658688, 56: -0.07989999671640285, 54: -0.14646999557676205, 52: -0.09361000378789791, 50: -0.14646999557676205, 48: -0.07989999671640285, 58: -0.5183399917668331}\n",
      "\n",
      "[#6:20]12(-[#6:25](-[#6:24]3(-[#6:23](-[#6:22](-[#6:21]-1(-[H:38])-[H:39])(-[#6:34](-[#6:18](-[#6:19]-2(-[H:41])-[H:42])(-[#6:28]-3(-[H:29])-[H:30])-[#6:17]1:[#6:16](:[#6:15](:[#6:14](:[#6:44](:[#6:43]:1-[#8:46]-[H:47])-[H:45])-[#8:13]-[#6:8]1:[#6:7](:[#6:6](:[#6:5](:[#6:10](:[#6:9]:1-[H:12])-[H:11])-[#6:4](-[#6:3]1:[#6:2](:[#6:1](:[#6]:[#6:54](:[#6:53]:1-[H:56])-[H:55])-[H:58])-[H:57])=[#8:52])-[H:51])-[H:50])-[H:49])-[H:48])(-[H:35])-[H:36])-[H:37])(-[H:32])-[H:33])-[H:31])(-[H:26])-[H:27])-[H:40]\n",
      "\t{20: -0.06043000166478046, 25: -0.07062999923887142, 24: -0.06043000166478046, 23: -0.07062999923887142, 22: -0.06043000166478046, 21: -0.07062999923887142, 19: -0.06730999817314037, 34: -0.06730999817314037, 28: -0.06730999817314037, 18: 0.012950000155843416, 17: -0.08771000077190289, 16: -0.08257000168027767, 15: -0.19582000394525417, 14: 0.12375999967393986, 44: -0.2259799989050854, 43: 0.1451900003367435, 8: 0.1292400060111057, 7: -0.16599999387922176, 6: -0.06712000091733822, 5: -0.1850699933356274, 10: -0.06712000091733822, 9: -0.16599999387922176, 4: 0.5924800036364567, 3: -0.18539999445142635, 2: -0.06729000081481823, 1: -0.16883000751199612, 0: 0.1238500026875507, 54: -0.16883000751199612, 53: -0.06729000081481823, 52: -0.5340099932736385, 40: 0.047129999648905914, 26: 0.04050999860105626, 27: 0.04050999860105626, 31: 0.047129999648905914, 32: 0.04050999860105626, 33: 0.04050999860105626, 37: 0.047129999648905914, 38: 0.04050999860105626, 39: 0.04050999860105626, 41: 0.048780001502610366, 42: 0.048780001502610366, 35: 0.048780001502610366, 36: 0.048780001502610366, 29: 0.048780001502610366, 30: 0.048780001502610366, 48: 0.1427599934750568, 49: 0.14857999960718266, 45: 0.15001000444231144, 50: 0.15462000648317448, 51: 0.14956000427541843, 11: 0.14956000427541843, 12: 0.15462000648317448, 57: 0.151549994748212, 58: 0.15629999319849125, 55: 0.15629999319849125, 56: 0.151549994748212, 46: -0.4938899876660336, 47: 0.4186199901515018, 13: -0.2514899971074093}\n",
      "\n"
     ]
    }
   ],
   "source": [
    "mol_name = 'polymethylketone'\n",
    "offxml_file = Path('xml examples/openff_unconstrained_with_library_charges-2.0.0.offxml')\n",
    "\n",
    "cmol, avgs, interchange = write_new_library_charges(mol_name, offxml_file, output_name=f'new {mol_name} charges')\n",
    "for smiles, subdict in avgs.items():\n",
    "    print(f'{smiles}\\n\\t{subdict}\\n')\n",
    "\n",
    "# TOSELF: add method to load from newly generated file rather than regenerating/re-averaging each time\n",
    "sim = create_sim_from_interchange(interchange)\n",
    "run_simulation(sim, output_name=f'{mol_name}_sim')"
   ]
  },
  {
   "cell_type": "code",
   "execution_count": null,
   "metadata": {},
   "outputs": [],
   "source": [
    "cmol.visualize()"
   ]
  },
  {
   "cell_type": "markdown",
   "metadata": {},
   "source": [
    "## Example for assigning atom ids in SMARTS"
   ]
  },
  {
   "cell_type": "code",
   "execution_count": null,
   "metadata": {},
   "outputs": [],
   "source": [
    "rdmol = cmol.to_rdkit()\n",
    "smarts_no_map = Chem.rdmolfiles.MolFragmentToSmarts(rdmol, atomsToUse=[i for i in range(5,10)])\n",
    "# how to specify atom map numbers\n",
    "i = 0\n",
    "for atom in rdmol.GetAtoms():\n",
    "    i += 1\n",
    "    atom.SetAtomMapNum(atom.GetIdx())\n",
    "smarts_yes_map = Chem.rdmolfiles.MolFragmentToSmarts(rdmol, atomsToUse=[i for i in range(5,10)])\n",
    "\n",
    "print(smarts_no_map)\n",
    "print(smarts_yes_map)"
   ]
  },
  {
   "cell_type": "code",
   "execution_count": null,
   "metadata": {},
   "outputs": [],
   "source": [
    "for atom in rdmol.GetAtoms(): # checking that atom types match between rdkit and openff version\n",
    "    n = atom.GetIdx()\n",
    "    if atom.GetAtomicNum() != cmol.atoms[n].metadata['atomic_number']:\n",
    "        print(f'Mismatch at atom {n}')\n",
    "        break\n",
    "else:\n",
    "    print('All good!')\n"
   ]
  },
  {
   "cell_type": "markdown",
   "metadata": {},
   "source": [
    "## Playing with NX to get a feel for it"
   ]
  },
  {
   "cell_type": "code",
   "execution_count": null,
   "metadata": {},
   "outputs": [],
   "source": [
    "import networkx as nx\n",
    "\n",
    "G = nx.Graph()\n",
    "G.add_node(0, val=6, attr='stuff')\n",
    "G.add_node(3, val=7, attr='other')\n",
    "G.nodes[3]['attr']"
   ]
  },
  {
   "cell_type": "code",
   "execution_count": null,
   "metadata": {},
   "outputs": [],
   "source": [
    "G.add_edge(1, 2, weight=10)\n",
    "G.edges[1, 2]['weight']"
   ]
  },
  {
   "cell_type": "markdown",
   "metadata": {},
   "source": [
    "## Testing XML encoding"
   ]
  },
  {
   "cell_type": "code",
   "execution_count": null,
   "metadata": {},
   "outputs": [],
   "source": [
    "import xml\n",
    "import xml.etree.ElementTree as ET\n",
    "\n",
    "p = Path('xml examples/test.offxml')\n",
    "p.touch()\n",
    "\n",
    "top = ET.Element('a')\n",
    "new = ET.SubElement(top, 'b')\n",
    "new.attrib = {'first' : '4', 'second' : '5'}\n",
    " \n",
    "tree = ET.ElementTree(top)\n",
    "\n",
    "ET.dump(top) # print out tree\n",
    "tree.write(p, encoding='utf-8', xml_declaration=True) # write to file"
   ]
  },
  {
   "cell_type": "code",
   "execution_count": null,
   "metadata": {},
   "outputs": [],
   "source": []
  }
 ],
 "metadata": {
  "kernelspec": {
   "display_name": "Python 3.10.6 ('openff-dev': conda)",
   "language": "python",
   "name": "python3"
  },
  "language_info": {
   "codemirror_mode": {
    "name": "ipython",
    "version": 3
   },
   "file_extension": ".py",
   "mimetype": "text/x-python",
   "name": "python",
   "nbconvert_exporter": "python",
   "pygments_lexer": "ipython3",
   "version": "3.10.6"
  },
  "orig_nbformat": 4,
  "vscode": {
   "interpreter": {
    "hash": "6f9cdd2e387d00c633121ae0d6167f9bd222ae4f015041a103877077aa42441e"
   }
  }
 },
 "nbformat": 4,
 "nbformat_minor": 2
}
