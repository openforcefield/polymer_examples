{
 "cells": [
  {
   "cell_type": "code",
   "execution_count": 1,
   "metadata": {},
   "outputs": [],
   "source": [
    "import csv\n",
    "from pathlib import Path\n",
    "from collections import defaultdict\n",
    "from dataclasses import dataclass, field\n",
    "from typing import Any, Callable, Optional, Union\n",
    "from IPython.display import clear_output\n",
    "\n",
    "from rdkit import Chem\n",
    "from openff.units import unit\n",
    "from openff.interchange import Interchange\n",
    "\n",
    "from openff.toolkit.topology import Topology\n",
    "from openff.toolkit.topology.molecule import FrozenMolecule, Molecule, Atom\n",
    "from openff.toolkit.utils import toolkit_registry\n",
    "from openff.toolkit.utils.toolkits import RDKitToolkitWrapper, OpenEyeToolkitWrapper, AmberToolsToolkitWrapper\n",
    "from openff.toolkit.typing.engines.smirnoff import ForceField\n",
    "from openff.toolkit.typing.engines.smirnoff import parameters as offtk_parameters\n",
    "\n",
    "from openmm import LangevinMiddleIntegrator\n",
    "from openmm.app import Simulation, PDBReporter, StateDataReporter\n",
    "from openmm.unit import kelvin, picosecond, picoseconds, nanometer # need to do some unit conversion with both packages"
   ]
  },
  {
   "cell_type": "markdown",
   "metadata": {},
   "source": [
    "## Useful functions for charge averaging and simulation"
   ]
  },
  {
   "cell_type": "code",
   "execution_count": 2,
   "metadata": {},
   "outputs": [],
   "source": [
    "# Charge calculation methods\n",
    "def fetch_mol(filename : str, parent_path : Path=Path.cwd()/'compatible_pdbs', extensions : tuple[str, ...]=('pdb', 'json'), verbose : bool=False) -> tuple[Molecule, Topology]:\n",
    "    '''Takes the name of a molecule and searches for associated .pbd and .json files\n",
    "    If found, will load Topology and extract first found molecule (assume that the topology only has ONE simple homopolymer)\n",
    "    Returns the found Topology and Molecule'''\n",
    "    mol_files = {\n",
    "        ext : path\n",
    "            for path in parent_path.glob('**/*.*')\n",
    "                for ext in extensions\n",
    "                    if path.name == f'{filename}.{ext}'\n",
    "    }\n",
    "\n",
    "    for ext in extensions:\n",
    "        if ext not in mol_files:\n",
    "            raise FileNotFoundError(f'Could not find a(n) {ext} file \\\"{filename}.{ext}\\\"')\n",
    "    else:\n",
    "        off_topology, _, error = Topology.from_pdb_and_monomer_info(str(mol_files['pdb']), mol_files['json'], strict=True, verbose=verbose)\n",
    "        mol = next(off_topology.molecules) # get the first molecule (assumed to be the polymer of interest)\n",
    "\n",
    "        return mol, off_topology\n",
    "\n",
    "def poll_and_count_molecules(pdb_folder : Path, outname : str=None) -> dict[str, int]:\n",
    "    '''Takes a path to a folder containing multiple .pdb files and produces\n",
    "    a csv listing all found molecules and how many atoms each contains'''\n",
    "    mol_sizes = {}\n",
    "    mol_names = {path.stem for path in pdb_folder.iterdir()}\n",
    "    for name in mol_names:\n",
    "        try:\n",
    "            mol, topology = fetch_mol(name)  # will raise exception if files for molecule are not found\n",
    "            mol_sizes[name] = len(mol.atoms)\n",
    "        except FileNotFoundError:\n",
    "            pass\n",
    "\n",
    "    if outname is not None: # also write to file if a name for the output is specified\n",
    "        outpath = pdb_folder/f'{outname}.csv'\n",
    "        outpath.touch()\n",
    "\n",
    "        with outpath.open('w') as mol_file:\n",
    "            writer = csv.writer(mol_file, delimiter=',')\n",
    "            writer.writerow(['Molecule Name', '# Atoms']) # add columns headers\n",
    "            for mol_name, mol_size in mol_sizes.items():\n",
    "                writer.writerow([mol_name, mol_size])\n",
    "\n",
    "    return mol_sizes\n",
    "\n",
    "def generate_molecule_charges(mol : Molecule, toolkit_method : str='openeye', partial_charge_method : str='am1bcc') -> Molecule:\n",
    "    '''Takes a Molecule object and computes partial charges with AM1BCC using toolkit method of choice. Returns charged molecule'''\n",
    "    toolkits = {\n",
    "        'rdkit' : RDKitToolkitWrapper,\n",
    "        'openeye' : OpenEyeToolkitWrapper,\n",
    "        'ambertools' : AmberToolsToolkitWrapper\n",
    "    }\n",
    "\n",
    "    mol.assign_partial_charges( # finally, assign partial charges using those 10 conformers generated \n",
    "        partial_charge_method=partial_charge_method, \n",
    "        toolkit_registry=toolkits.get(toolkit_method)()\n",
    "    )\n",
    "    charged_mol = mol # rename for clarity\n",
    "    # get some conformers to run elf10 charge method. By default, `mol.assign_partial_charges`\n",
    "    # uses 500 conformers, but we can generate and use 10 here for demonstration\n",
    "    # charged_mol.generate_conformers(\n",
    "    #     n_conformers=10,\n",
    "    #     rms_cutoff=0.25 * unit.angstrom,\n",
    "    #     make_carboxylic_acids_cis=True,\n",
    "    #     toolkit_registry=RDKitToolkitWrapper()\n",
    "    # ) # very slow for large polymers! \n",
    "\n",
    "    print(f'final molecular charges: {charged_mol.partial_charges}')\n",
    "    # note: the charged_mol has metadata about which monomers were assigned where as a result of the chemicaly info assignment.\n",
    "    # This can be a way to break up the molecule into repeating sections to partition the library charges \n",
    "    for atom in charged_mol.atoms:\n",
    "        assert(atom.metadata['already_matched'] == True)\n",
    "        # print(atom.metadata['residue_name'])\n",
    "    \n",
    "    return charged_mol # code for exact how thely above function works can be found in openff/toolkit/utils/openeye_wrapper.py under the assign_partial_charges()\n",
    "\n",
    "# charge averaging methods\n",
    "AveragedChargeMap = defaultdict[str, dict[int, float]] # makes typehinting clearer\n",
    "\n",
    "@dataclass\n",
    "class Accumulator:\n",
    "    '''Compact container for accumulating averages'''\n",
    "    sum : float = 0.0\n",
    "    count : int = 0\n",
    "\n",
    "    @property\n",
    "    def average(self) -> float:\n",
    "        return self.sum / self.count\n",
    "\n",
    "@dataclass\n",
    "class AvgResidueCharges:\n",
    "    '''Dataclass for more conveniently storing averaged charges for a residue group'''\n",
    "    charges : dict[int, float]\n",
    "    residue_name : str\n",
    "    SMARTS : str\n",
    "\n",
    "def find_repr_residues(cmol : Molecule) -> dict[str, int]:\n",
    "    '''Determine names and smallest residue numbers of all unique residues in charged molecule\n",
    "    Used as representatives for generating labelled SMARTS strings '''\n",
    "    rep_res_nums = defaultdict(set) # numbers of representative groups for each unique residue, used to build SMARTS strings\n",
    "    for atom in cmol.atoms: \n",
    "        rep_res_nums[atom.metadata['residue_name']].add(atom.metadata['residue_number']) # collect unique residue numbers\n",
    "\n",
    "    for res_name, ids in rep_res_nums.items():\n",
    "        rep_res_nums[res_name] = min(ids) # choose group with smallest id of each residue to denote representative group\n",
    "\n",
    "    return rep_res_nums\n",
    "\n",
    "def get_averaged_charges(cmol : Molecule, index_by : str='SMARTS') -> list[AvgResidueCharges]:\n",
    "    '''Takes a charged molecule and averages charges for each repeating residue. \n",
    "    Returns a list of AvgResidueCharge objects each of which holds:\n",
    "        - A dict of the averaged charges by atom \n",
    "        - The name of the residue associated with the charges\n",
    "        - A SMARTS string of the residue's structure'''\n",
    "    rdmol = cmol.to_rdkit() # create rdkit representation of Molecule to allow for SMARTS generation\n",
    "    rep_res_nums = find_repr_residues(cmol) # determine ids of representatives of each unique residue\n",
    "\n",
    "    atom_ids_for_SMARTS = defaultdict(list)\n",
    "    res_charge_accums   = defaultdict(lambda : defaultdict(Accumulator))\n",
    "    for atom in cmol.atoms: # accumulate counts and charge values across matching substructures\n",
    "        res_name, substruct_id, atom_id = atom.metadata['residue_name'], atom.metadata['substructure_id'], atom.metadata['pdb_atom_id']\n",
    "        if atom.metadata['residue_number'] == rep_res_nums[res_name]: # if atom is member of representative group for any residue...\n",
    "            atom_ids_for_SMARTS[res_name].append(atom_id)             # ...collect pdb id...\n",
    "            rdmol.GetAtomWithIdx(atom_id).SetAtomMapNum(substruct_id) # ...and set atom number for labelling in SMARTS string\n",
    "\n",
    "        curr_accum = res_charge_accums[res_name][substruct_id] # accumulate charge info for averaging\n",
    "        curr_accum.sum += atom.partial_charge.magnitude # eschew units (easier to handle, added back when writing to XML)\n",
    "        curr_accum.count += 1\n",
    "\n",
    "    avg_charges_by_residue = []\n",
    "    for res_name, charge_map in res_charge_accums.items():\n",
    "        SMARTS = Chem.rdmolfiles.MolFragmentToSmarts(rdmol, atomsToUse=atom_ids_for_SMARTS[res_name]) # determine SMARTS for the current residue's representative group\n",
    "        charge_map = {substruct_id : accum.average for substruct_id, accum in charge_map.items()}\n",
    "        charge_container = AvgResidueCharges(charges=charge_map, residue_name=res_name, SMARTS=SMARTS)\n",
    "        avg_charges_by_residue.append(charge_container)\n",
    "\n",
    "    return avg_charges_by_residue\n",
    "\n",
    "def write_new_library_charges(avgs : list[AvgResidueCharges], offxml_src : Path, output_path : Path) -> tuple[ForceField, list[offtk_parameters.LibraryChargeHandler]]:\n",
    "    '''Takes dict of residue-averaged charges to generate and append library charges to an .offxml file of choice, creating a new xml with the specified filename'''\n",
    "    assert(output_path.suffix == '.offxml') # ensure output path is pointing to correct file type\n",
    "    forcefield = ForceField(offxml_src)     # simpler to add library charges through forcefield API than to directly write to xml\n",
    "    lc_handler = forcefield[\"LibraryCharges\"]\n",
    "\n",
    "    lib_chgs = [] #  all library charges generated from the averaged charges for each residue\n",
    "    for averaged_res in avgs:\n",
    "        lc_entry = {f'charge{cid}' : f'{charge} * elementary_charge' for cid, charge in averaged_res.charges.items()} # stringify charges into form usable for library charges\n",
    "        lc_entry['smirks'] = averaged_res.SMARTS # add SMIRKS string to library charge entry to allow for correct labelling\n",
    "        lc_params = offtk_parameters.LibraryChargeHandler.LibraryChargeType(allow_cosmetic_attributes=True, **lc_entry) # must enable cosmetic params for general kwarg passing\n",
    "        \n",
    "        lc_handler.add_parameter(parameter=lc_params)\n",
    "        lib_chgs.append(lc_params)   # record library charges for reference\n",
    "    forcefield.to_file(output_path) # write modified library charges to new xml (avoid overwrites in case of mistakes)\n",
    "    \n",
    "    return forcefield, lib_chgs\n",
    "\n",
    "# OpenMM simulation methods\n",
    "def create_sim_from_interchange(interchange : Interchange) -> Simulation:\n",
    "    '''Sets up a Simulation object using topology and force field data as specified by an Interchange object\n",
    "    Converts topologies and positions to OpenMM format from OpenFF formats (can support GROMACS format too in future)'''\n",
    "    openmm_sys = interchange.to_openmm(combine_nonbonded_forces=True) \n",
    "    openmm_top = interchange.topology.to_openmm()\n",
    "    openmm_pos = interchange.positions.m_as(unit.nanometer) * nanometer\n",
    "    integrator = LangevinMiddleIntegrator(300*kelvin, 1/picosecond, 0.0005*picoseconds)\n",
    "\n",
    "    simulation = Simulation(openmm_top, openmm_sys, integrator)\n",
    "    simulation.context.setPositions(openmm_pos)\n",
    "\n",
    "    return simulation\n",
    "\n",
    "def run_simulation(simulation : Simulation, output_folder : Path, output_name : str='md_sim', num_steps=1000, record_freq=10) -> None:\n",
    "    '''Takes a Simulation object, performs energy minimization, and runs simulation for specified number of time steps\n",
    "    Recording PBD frames and numerical data to file at the specified frequency'''\n",
    "    folder_name = str(output_folder) # for some reason OpenMM simulations don;t like Path objects (only take strings)\n",
    "\n",
    "    # for saving pdb frames and reporting state/energy data\n",
    "    pdb_rep = PDBReporter(f'{folder_name}/{output_name}_frames.pdb', record_freq)  # save frames at the specified interval\n",
    "    state_rep = StateDataReporter(f'{folder_name}/{output_name}_data.csv', record_freq, step=True, potentialEnergy=True, temperature=True)\n",
    "    reporters = (pdb_rep, state_rep)\n",
    "\n",
    "    # minimize and run simulation\n",
    "    simulation.minimizeEnergy()\n",
    "    simulation.saveCheckpoint(f'{folder_name}/{output_name}_checkpoint.chk') # save initial minimal state to simplify reloading process\n",
    "    for rep in reporters:\n",
    "        simulation.reporters.append(rep) # add any desired reporters to simulaiton for tracking\n",
    "    simulation.step(num_steps)"
   ]
  },
  {
   "cell_type": "markdown",
   "metadata": {},
   "source": [
    "## Running averaging code for test molecule"
   ]
  },
  {
   "cell_type": "code",
   "execution_count": 3,
   "metadata": {},
   "outputs": [
    {
     "name": "stdout",
     "output_type": "stream",
     "text": [
      "['PEO_PLGA', 'naturalrubber', 'polyphenyleneII', 'polyethylmethacrylate', 'polyvinylchloride', 'polymethylketone']\n"
     ]
    }
   ],
   "source": [
    "# Get all molecules which will be charge averaged and simulated\n",
    "mol_sizes = poll_and_count_molecules(pdb_folder=Path.cwd()/'compatible_pdbs'/'simple_polymers')#, outname='Available Polymers')  \n",
    "\n",
    "hard_polymers = ['vulcanizedrubber', 'polyphenylenesulfone'] # pathological or otherwise difficult-to-run polymers that I've encountered\n",
    "mols_to_use = [mol_name\n",
    "    for mol_name, mol_size in mol_sizes.items()\n",
    "        if mol_size < 150 # only keep polymers which are small enough for AM1BCC...\n",
    "            and mol_name not in hard_polymers # ... and not manually excluded\n",
    "]\n",
    "\n",
    "print(mols_to_use)"
   ]
  },
  {
   "cell_type": "code",
   "execution_count": null,
   "metadata": {},
   "outputs": [],
   "source": [
    "# Perform charge averaging on all target molecules which don't already have averaged LCs; \n",
    "# Load forcefield for those which already do \n",
    "sample_mols = ['polyvinylchloride']\n",
    "for mol_name in sample_mols: #mols_to_use:\n",
    "    print(mol_name)\n",
    "    offxml_src = Path('xml examples/openff_unconstrained_with_library_charges-2.0.0.offxml')\n",
    "    output_folder = Path(f'averaged_polymers/{mol_name}')\n",
    "    output_folder.mkdir(exist_ok=True)\n",
    "    lc_path = output_folder/f'new {mol_name} charges.offxml' # path to output library charges to\n",
    "\n",
    "    mol, topology = fetch_mol(mol_name)  # will raise exception if files for molecule are not found\n",
    "    if lc_path.exists(): # check if library charges have already been generated for this molecule\n",
    "        forcefield = ForceField(lc_path, allow_cosmetic_attributes=True)\n",
    "    else:\n",
    "        cmol = generate_molecule_charges(mol, toolkit_method='openeye', partial_charge_method='am1bcc') # perform AM1BCC\n",
    "        clear_output() # for Jupyter notebooks only, can freely comment this out\n",
    "        avgs = get_averaged_charges(cmol) # average charges over unique residues - placed after clear so we can see what averages are computed\n",
    "        for averaged_res in avgs:\n",
    "            print(averaged_res, '\\n')\n",
    "\n",
    "        forcefield, lib_chgs = write_new_library_charges(avgs, offxml_src, output_path=lc_path)"
   ]
  },
  {
   "cell_type": "code",
   "execution_count": null,
   "metadata": {},
   "outputs": [],
   "source": [
    "# Run OpenMM simulations for target molecules\n",
    "for mol_name in mols_to_use:\n",
    "    forcefield = ForceField(lc_path, allow_cosmetic_attributes=True)\n",
    "    interchange = Interchange.from_smirnoff(force_field=forcefield, topology=topology) # generate Interchange with new library charges prior to writing to file\n",
    "    sim = create_sim_from_interchange(interchange)\n",
    "    run_simulation(sim, output_folder=output_folder, output_name=mol_name, num_steps=1000, record_freq=10)"
   ]
  },
  {
   "cell_type": "markdown",
   "metadata": {},
   "source": [
    "## Permutation Experiment"
   ]
  },
  {
   "cell_type": "code",
   "execution_count": 4,
   "metadata": {},
   "outputs": [
    {
     "name": "stderr",
     "output_type": "stream",
     "text": [
      "Warning: : Failed due to unspecified stereochemistry\n"
     ]
    },
    {
     "name": "stdout",
     "output_type": "stream",
     "text": [
      "final molecular charges: [-0.03956999988207277 0.04400999858131949 0.04400999858131949 -0.11754000172862467 -0.1667100040698951 0.11830999716272894 -0.06148999915370401 0.03898999854078833 0.03898999854078833 -0.06092999861487802 0.03940000026574675 0.03940000026574675 0.03940000026574675 0.03898999854078833 -0.03875000015744623 0.04459999888291899 0.04459999888291899 -0.11007999614724573 -0.16137999282130655 0.1184300036644036 -0.04427999989041742 0.04656000076880995 0.04656000076880995 -0.05877999947318491 0.04004000141373221 0.04004000141373221 0.04004000141373221 -0.040899999299139345 0.04746999978175703 0.04746999978175703 -0.11568000153550562 -0.16482000038871225 0.12092000260105673 -0.04434999809512552 0.0432399997030789 0.0432399997030789 -0.060299999871343934 0.04030999927869383 0.04030999927869383 0.04030999927869383 -0.04061999902972635 0.04380999892106596 0.04380999892106596 -0.10523000345477518 -0.17204999909648355 0.11647000177851263 -0.04408999890932497 0.04662999897351805 0.04662999897351805 -0.06049000085243639 0.0412600004588658 0.0412600004588658 0.0412600004588658 -0.041710000344604814 0.04422000064602438 0.04422000064602438 -0.11210999623784479 -0.1646600066209739 0.11751999720087591 -0.04343999908217844 0.04589999853721205 0.04589999853721205 -0.05945000038394388 0.04011999829760138 0.04011999829760138 0.04011999829760138 -0.04207999990233835 0.0504699984108502 0.0504699984108502 -0.10955999777564462 -0.17468999312171396 0.11839000149717871 -0.041629999735445344 0.04890999957075659 0.04890999957075659 -0.06693000332364496 0.0409800001894528 0.0409800001894528 0.0409800001894528 -0.0403599998439258 0.043600000581651366 0.043600000581651366 -0.11050999895581659 -0.16659000501880106 0.11817000075331274 -0.044789999582857454 0.045949999383598006 0.045949999383598006 -0.06235999972471651 0.041319999984412825 0.041319999984412825 0.041319999984412825 -0.060880001493782365 0.03982999934902731 0.03982999934902731 0.03982999934902731 -0.11063999668607172 -0.17038999483832773 0.1154400037144715 -0.040989998587459886 0.046029999992757475 0.046029999992757475 -0.060880001493782365 0.03982999934902731 0.03982999934902731 0.03982999934902731] elementary_charge\n",
      "AvgResidueCharges(charges={0: -0.03956999988207277, 1: 0.04400999858131949, 2: 0.04400999858131949, 3: -0.11754000172862467, 4: -0.1667100040698951, 5: 0.11830999716272894, 6: -0.06148999915370401, 7: 0.03898999854078833, 8: 0.03898999854078833, 10: -0.06092999861487802, 11: 0.03940000026574675, 12: 0.03940000026574675, 13: 0.03940000026574675, 9: 0.03898999854078833}, residue_name='natural_rubber_TERM1', SMARTS='[#6](-[H:1])(-[H:2])-[#6:3](=[#6:4](-[H:5])-[#6:6](-[H:7])(-[H:8])-[H:9])-[#6:10](-[H:11])(-[H:12])-[H:13]') \n",
      "\n",
      "AvgResidueCharges(charges={3: -0.040736666429530145, 4: 0.04569499953737799, 5: 0.04569499953737799, 2: -0.11052833235113875, 1: -0.16736499951133188, 10: 0.11831666791589006, 0: -0.043763332549224855, 11: 0.046198332822828925, 12: 0.046198332822828925, 6: -0.06138500060487843, 7: 0.04067166660379314, 8: 0.04067166660379314, 9: 0.04067166660379314}, residue_name='natural_rubber', SMARTS='[#6:3](-[H:4])(-[H:5])-[#6:2](=[#6:1](-[H:10])-[#6](-[H:11])-[H:12])-[#6:6](-[H:7])(-[H:8])-[H:9]') \n",
      "\n",
      "AvgResidueCharges(charges={3: -0.060880001493782365, 4: 0.03982999934902731, 5: 0.03982999934902731, 6: 0.03982999934902731, 2: -0.11063999668607172, 1: -0.17038999483832773, 11: 0.1154400037144715, 0: -0.040989998587459886, 12: 0.046029999992757475, 13: 0.046029999992757475, 7: -0.060880001493782365, 8: 0.03982999934902731, 9: 0.03982999934902731, 10: 0.03982999934902731}, residue_name='natural_rubber_TERM2', SMARTS='[#6:3](-[H:4])(-[H:5])(-[H:6])-[#6:2](=[#6:1](-[H:11])-[#6](-[H:12])-[H:13])-[#6:7](-[H:8])(-[H:9])-[H:10]') \n",
      "\n",
      "natural_rubber_TERM2-natural_rubber_TERM1-natural_rubber\n"
     ]
    },
    {
     "ename": "NameError",
     "evalue": "name 'output_folder' is not defined",
     "output_type": "error",
     "traceback": [
      "\u001b[0;31m---------------------------------------------------------------------------\u001b[0m",
      "\u001b[0;31mNameError\u001b[0m                                 Traceback (most recent call last)",
      "\u001b[1;32m/home/tbernat/openff-workspace/polymer_examples/sandbox.ipynb Cell 9\u001b[0m in \u001b[0;36m<cell line: 21>\u001b[0;34m()\u001b[0m\n\u001b[1;32m     <a href='vscode-notebook-cell://wsl%2Bubuntu/home/tbernat/openff-workspace/polymer_examples/sandbox.ipynb#X25sdnNjb2RlLXJlbW90ZQ%3D%3D?line=23'>24</a>\u001b[0m interchange \u001b[39m=\u001b[39m Interchange\u001b[39m.\u001b[39mfrom_smirnoff(force_field\u001b[39m=\u001b[39mforcefield, topology\u001b[39m=\u001b[39mtopology, charge_from_molecules\u001b[39m=\u001b[39m[cmol]) \u001b[39m# generate Interchange with new library charges prior to writing to file\u001b[39;00m\n\u001b[1;32m     <a href='vscode-notebook-cell://wsl%2Bubuntu/home/tbernat/openff-workspace/polymer_examples/sandbox.ipynb#X25sdnNjb2RlLXJlbW90ZQ%3D%3D?line=24'>25</a>\u001b[0m sim \u001b[39m=\u001b[39m create_sim_from_interchange(interchange)\n\u001b[0;32m---> <a href='vscode-notebook-cell://wsl%2Bubuntu/home/tbernat/openff-workspace/polymer_examples/sandbox.ipynb#X25sdnNjb2RlLXJlbW90ZQ%3D%3D?line=25'>26</a>\u001b[0m run_simulation(sim, output_folder\u001b[39m=\u001b[39moutput_folder, output_name\u001b[39m=\u001b[39mname, num_steps\u001b[39m=\u001b[39m\u001b[39m100\u001b[39m, record_freq\u001b[39m=\u001b[39m\u001b[39m10\u001b[39m)\n",
      "\u001b[0;31mNameError\u001b[0m: name 'output_folder' is not defined"
     ]
    }
   ],
   "source": [
    "# Create every permutation of library charges to test which orderings produce full atomic coverage (i.e. don't need charge recalculation) \n",
    "from itertools import permutations\n",
    "\n",
    "mol_name = 'naturalrubber'\n",
    "offxml_src = Path('xml examples/openff_unconstrained_with_library_charges-2.0.0.offxml')\n",
    "perm_output_folder = Path(f'averaged_polymers/{mol_name} perms')\n",
    "perm_output_folder.mkdir(exist_ok=True)\n",
    "\n",
    "mol, topology = fetch_mol(mol_name)  # will raise exception if files for molecule are not found\n",
    "cmol = generate_molecule_charges(mol, toolkit_method='openeye', partial_charge_method='am1bcc') # perform AM1BCC\n",
    "#clear_output() # for Jupyter notebooks only, can freely comment this out\n",
    "avgs = get_averaged_charges(cmol) # average charges over unique residues - placed after clear so we can see what averages are computed\n",
    "for averaged_res in avgs:\n",
    "    print(averaged_res, '\\n')\n",
    "\n",
    "for perm in permutations(avgs):\n",
    "    name = '-'.join(avg_res.residue_name for avg_res in perm)\n",
    "    perm_outpath = perm_output_folder/f'{name}.offxml'\n",
    "    forcefield, lib_chgs = write_new_library_charges(avgs, offxml_src, output_path=perm_outpath)\n",
    "\n",
    "for xml_path in perm_output_folder.iterdir():\n",
    "    print(xml_path.stem)\n",
    "    forcefield = ForceField(xml_path, allow_cosmetic_attributes=True)\n",
    "    interchange = Interchange.from_smirnoff(force_field=forcefield, topology=topology, charge_from_molecules=[cmol]) # generate Interchange with new library charges prior to writing to file\n",
    "    sim = create_sim_from_interchange(interchange)\n",
    "    run_simulation(sim, output_folder=perm_output_folder, output_name=name, num_steps=100, record_freq=10)"
   ]
  },
  {
   "cell_type": "code",
   "execution_count": null,
   "metadata": {},
   "outputs": [],
   "source": [
    "cmol.visualize()"
   ]
  },
  {
   "cell_type": "code",
   "execution_count": null,
   "metadata": {},
   "outputs": [],
   "source": [
    "from itertools import permutations\n",
    "\n",
    "[i for i in permutations(range(3))]"
   ]
  },
  {
   "cell_type": "markdown",
   "metadata": {},
   "source": [
    "## Example for assigning atom ids in SMARTS"
   ]
  },
  {
   "cell_type": "code",
   "execution_count": null,
   "metadata": {},
   "outputs": [],
   "source": [
    "rdmol = cmol.to_rdkit()\n",
    "smarts_no_map = Chem.rdmolfiles.MolFragmentToSmarts(rdmol, atomsToUse=[i for i in range(5,10)])\n",
    "# how to specify atom map numbers\n",
    "i = 0\n",
    "for atom in rdmol.GetAtoms():\n",
    "    i += 1\n",
    "    atom.SetAtomMapNum(atom.GetIdx())\n",
    "smarts_yes_map = Chem.rdmolfiles.MolFragmentToSmarts(rdmol, atomsToUse=[i for i in range(5,10)])\n",
    "\n",
    "print(smarts_no_map)\n",
    "print(smarts_yes_map)"
   ]
  },
  {
   "cell_type": "code",
   "execution_count": null,
   "metadata": {},
   "outputs": [],
   "source": [
    "for atom in rdmol.GetAtoms(): # checking that atom types match between rdkit and openff version\n",
    "    n = atom.GetIdx()\n",
    "    if atom.GetAtomicNum() != cmol.atoms[n].metadata['atomic_number']:\n",
    "        print(f'Mismatch at atom {n}')\n",
    "        break\n",
    "else:\n",
    "    print('All good!')\n"
   ]
  },
  {
   "cell_type": "markdown",
   "metadata": {},
   "source": [
    "## Playing with NX to get a feel for it"
   ]
  },
  {
   "cell_type": "code",
   "execution_count": null,
   "metadata": {},
   "outputs": [],
   "source": [
    "import networkx as nx\n",
    "\n",
    "G = nx.Graph()\n",
    "G.add_node(0, val=6, attr='stuff')\n",
    "G.add_node(3, val=7, attr='other')\n",
    "G.nodes[3]['attr']"
   ]
  },
  {
   "cell_type": "code",
   "execution_count": null,
   "metadata": {},
   "outputs": [],
   "source": [
    "G.add_edge(1, 2, weight=10)\n",
    "G.edges[1, 2]['weight']"
   ]
  },
  {
   "cell_type": "markdown",
   "metadata": {},
   "source": [
    "## Testing XML encoding"
   ]
  },
  {
   "cell_type": "code",
   "execution_count": null,
   "metadata": {},
   "outputs": [],
   "source": [
    "import xml\n",
    "import xml.etree.ElementTree as ET\n",
    "\n",
    "p = Path('xml examples/test.offxml')\n",
    "p.touch()\n",
    "\n",
    "top = ET.Element('a')\n",
    "new = ET.SubElement(top, 'b')\n",
    "new.attrib = {'first' : '4', 'second' : '5'}\n",
    " \n",
    "tree = ET.ElementTree(top)\n",
    "\n",
    "ET.dump(top) # print out tree\n",
    "tree.write(p, encoding='utf-8', xml_declaration=True) # write to file"
   ]
  },
  {
   "cell_type": "code",
   "execution_count": null,
   "metadata": {},
   "outputs": [],
   "source": []
  }
 ],
 "metadata": {
  "kernelspec": {
   "display_name": "Python 3.10.6 ('openff-dev': conda)",
   "language": "python",
   "name": "python3"
  },
  "language_info": {
   "codemirror_mode": {
    "name": "ipython",
    "version": 3
   },
   "file_extension": ".py",
   "mimetype": "text/x-python",
   "name": "python",
   "nbconvert_exporter": "python",
   "pygments_lexer": "ipython3",
   "version": "3.10.6"
  },
  "orig_nbformat": 4,
  "vscode": {
   "interpreter": {
    "hash": "6f9cdd2e387d00c633121ae0d6167f9bd222ae4f015041a103877077aa42441e"
   }
  }
 },
 "nbformat": 4,
 "nbformat_minor": 2
}
