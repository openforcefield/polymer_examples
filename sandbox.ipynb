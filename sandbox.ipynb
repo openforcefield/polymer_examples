{
 "cells": [
  {
   "cell_type": "code",
   "execution_count": null,
   "metadata": {},
   "outputs": [],
   "source": [
    "import sys\n",
    "\n",
    "from collections import defaultdict\n",
    "from dataclasses import dataclass, field\n",
    "from typing import Any, Callable, Optional, Union\n",
    "from pathlib import Path\n",
    "\n",
    "from rdkit import Chem\n",
    "from openff.units import unit\n",
    "\n",
    "from openff.toolkit.utils import toolkit_registry\n",
    "from openff.toolkit.utils.toolkits import RDKitToolkitWrapper, OpenEyeToolkitWrapper, AmberToolsToolkitWrapper\n",
    "\n",
    "from openff.toolkit.topology import Topology\n",
    "from openff.toolkit.topology.molecule import FrozenMolecule, Molecule"
   ]
  },
  {
   "cell_type": "markdown",
   "metadata": {},
   "source": [
    "## Useful functions for charge averaging"
   ]
  },
  {
   "cell_type": "code",
   "execution_count": null,
   "metadata": {},
   "outputs": [],
   "source": [
    "def generate_charged_molecule(pdbfile, substructure_file, toolkit_method='openeye'):\n",
    "    # mol should already have one conformer...\n",
    "    toolkits = {\n",
    "        'openeye' : OpenEyeToolkitWrapper,\n",
    "        'ambertools' : AmberToolsToolkitWrapper\n",
    "    }\n",
    "\n",
    "    off_topology, _, error = Topology.from_pdb_and_monomer_info(pdbfile, substructure_file, strict=True)\n",
    "    # here, we assume that the topology only has ONE simple homopolymer. Later, all molecules can be extracted and charged\n",
    "    mol = next(off_topology.molecules) # get the first molecule\n",
    "    # get some conformers to run elf10 charge method. By default, `mol.assign_partial_charges`\n",
    "    # uses 500 conformers, but we can generate and use 10 here for demonstration\n",
    "    # mol.generate_conformers(\n",
    "    #     n_conformers=10,\n",
    "    #     rms_cutoff=0.25 * unit.angstrom,\n",
    "    #     make_carboxylic_acids_cis=True,\n",
    "    #     toolkit_registry=RDKitToolkitWrapper()\n",
    "    # ) # very slow for large polymers! \n",
    "\n",
    "    # finally, assign partial charges using those 10 conformers generated \n",
    "    mol.assign_partial_charges(\n",
    "        partial_charge_method='am1bcc', \n",
    "        toolkit_registry=toolkits.get(toolkit_method)()\n",
    "    )\n",
    "    # code for exact how the above function works can be found in openff/toolkit/utils/openeye_wrapper.py under the assign_partial_charges() function\n",
    "    return mol\n",
    "\n",
    "def fetch_charged_mol(filename : str, parent_path : Path=Path.cwd()/'compatible_pdbs', extensions=('pdb', 'json'), toolkit_method : str='openeye') -> Optional[Molecule]:\n",
    "    ''''''\n",
    "    mol_files = {\n",
    "        ext : path\n",
    "            for path in parent_path.glob('**/*.*')\n",
    "                for ext in extensions\n",
    "                    if path.name == f'{filename}.{ext}'\n",
    "    }\n",
    "\n",
    "    for ext in extensions:\n",
    "        if ext not in mol_files:\n",
    "            print(f'Could not find a(n) {ext} file \\\"{filename}.{ext}\\\"')\n",
    "            return\n",
    "            # sys.exit(0)\n",
    "    else:\n",
    "        charged_mol = generate_charged_molecule(str(mol_files['pdb']), mol_files['json'], toolkit_method=toolkit_method)\n",
    "        print(f'final molecular charges: {charged_mol.partial_charges}')\n",
    "\n",
    "        # note: the charged_mol has metadata about which monomers were assigned where as a result of the chemicaly info assignment.\n",
    "        # This can be a way to break up the molecule into repeating sections to partition the library charges \n",
    "        for atom in charged_mol.atoms:\n",
    "            assert(atom.metadata['already_matched'] == True)\n",
    "            # print(atom.metadata['residue_name'])\n",
    "        \n",
    "        return charged_mol\n",
    "\n",
    "\n",
    "@dataclass\n",
    "class Accumulator:\n",
    "    sum : float = 0.0\n",
    "    count : int = 0\n",
    "\n",
    "    @property\n",
    "    def average(self):\n",
    "        return self.sum / self.count\n",
    "\n",
    "def averaged_charges_by_SMARTS(cmol : Molecule) -> defaultdict:\n",
    "    '''Takes a charged molecule and averages charges for each repeating residue\n",
    "    Returns a dict indexed by SMARTS string of subdicts containing the averaged charges for each atom in the residue'''\n",
    "    rep_res_nums = defaultdict(set) # numbers of representative groups for each unique residue, used to build SMARTS strings\n",
    "    for atom in cmol.atoms: \n",
    "        rep_res_nums[atom.metadata['residue_name']].add(atom.metadata['residue_number']) # collect unique residue numbers\n",
    "\n",
    "    for res_name, ids in rep_res_nums.items():\n",
    "        rep_res_nums[res_name] = min(ids) # choose group with smallest id of each residue to denote representative group\n",
    "    \n",
    "    atom_ids_for_SMARTS = defaultdict(list)\n",
    "    avg_charges_by_res = defaultdict(lambda : defaultdict(Accumulator))\n",
    "    for atom in cmol.atoms: # accumulate counts and charge values across matching substructures\n",
    "        res_name = atom.metadata['residue_name'] # for notational convenience, given how often this is used here\n",
    "        if atom.metadata['residue_number'] == rep_res_nums[res_name]: # collect pdb ids if atom is member of representative group for any residue\n",
    "            atom_ids_for_SMARTS[res_name].append(atom.metadata['pdb_atom_id'])\n",
    "\n",
    "        curr_accum = avg_charges_by_res[res_name][atom.metadata['substructure_id']] \n",
    "        curr_accum.sum += atom.partial_charge.magnitude\n",
    "        curr_accum.count += 1\n",
    "\n",
    "    rdmol = cmol.to_rdkit()\n",
    "    avg_charges_by_SMARTS = defaultdict(dict)\n",
    "    for res_name, charge_map in avg_charges_by_res.items():\n",
    "        SMARTS = Chem.rdmolfiles.MolFragmentToSmarts(rdmol, atomsToUse=atom_ids_for_SMARTS[res_name]) # determine SMARTS for the current residue's representative group\n",
    "\n",
    "        for substruct_id, accum in charge_map.items():\n",
    "            avg_charges_by_SMARTS[SMARTS][substruct_id] = accum.average # collapse accumulators into actual average values\n",
    "\n",
    "    return avg_charges_by_SMARTS"
   ]
  },
  {
   "cell_type": "code",
   "execution_count": null,
   "metadata": {},
   "outputs": [],
   "source": [
    "cmol = fetch_charged_mol('naturalrubber', toolkit_method='openeye')\n",
    "avgs = averaged_charges_by_SMARTS(cmol)"
   ]
  },
  {
   "cell_type": "code",
   "execution_count": 5,
   "metadata": {},
   "outputs": [
    {
     "data": {
      "image/svg+xml": "<svg xmlns=\"http://www.w3.org/2000/svg\" xmlns:rdkit=\"http://www.rdkit.org/xml\" xmlns:xlink=\"http://www.w3.org/1999/xlink\" version=\"1.1\" baseProfile=\"full\" xml:space=\"preserve\" width=\"500px\" height=\"300px\" viewBox=\"0 0 500 300\">\n<!-- END OF HEADER -->\n<rect style=\"opacity:1.0;fill:#FFFFFF;stroke:none\" width=\"500.0\" height=\"300.0\" x=\"0.0\" y=\"0.0\"> </rect>\n<path class=\"bond-0 atom-0 atom-1\" d=\"M 189.7,249.1 L 185.8,242.7\" style=\"fill:none;fill-rule:evenodd;stroke:#000000;stroke-width:2.0px;stroke-linecap:butt;stroke-linejoin:miter;stroke-opacity:1\"/>\n<path class=\"bond-1 atom-0 atom-2\" d=\"M 189.7,249.1 L 181.3,249.2\" style=\"fill:none;fill-rule:evenodd;stroke:#000000;stroke-width:2.0px;stroke-linecap:butt;stroke-linejoin:miter;stroke-opacity:1\"/>\n<path class=\"bond-2 atom-0 atom-3\" d=\"M 189.7,249.1 L 189.9,259.9\" style=\"fill:none;fill-rule:evenodd;stroke:#000000;stroke-width:2.0px;stroke-linecap:butt;stroke-linejoin:miter;stroke-opacity:1\"/>\n<path class=\"bond-3 atom-0 atom-20\" d=\"M 189.7,249.1 L 198.9,243.6\" style=\"fill:none;fill-rule:evenodd;stroke:#000000;stroke-width:2.0px;stroke-linecap:butt;stroke-linejoin:miter;stroke-opacity:1\"/>\n<path class=\"bond-4 atom-3 atom-4\" d=\"M 189.9,259.9 L 199.1,265.0\" style=\"fill:none;fill-rule:evenodd;stroke:#000000;stroke-width:2.0px;stroke-linecap:butt;stroke-linejoin:miter;stroke-opacity:1\"/>\n<path class=\"bond-4 atom-3 atom-4\" d=\"M 192.2,259.0 L 198.6,262.6\" style=\"fill:none;fill-rule:evenodd;stroke:#000000;stroke-width:2.0px;stroke-linecap:butt;stroke-linejoin:miter;stroke-opacity:1\"/>\n<path class=\"bond-5 atom-3 atom-9\" d=\"M 189.9,259.9 L 180.9,265.4\" style=\"fill:none;fill-rule:evenodd;stroke:#000000;stroke-width:2.0px;stroke-linecap:butt;stroke-linejoin:miter;stroke-opacity:1\"/>\n<path class=\"bond-6 atom-4 atom-5\" d=\"M 199.1,265.0 L 205.8,261.0\" style=\"fill:none;fill-rule:evenodd;stroke:#000000;stroke-width:2.0px;stroke-linecap:butt;stroke-linejoin:miter;stroke-opacity:1\"/>\n<path class=\"bond-7 atom-4 atom-6\" d=\"M 199.1,265.0 L 199.4,275.3\" style=\"fill:none;fill-rule:evenodd;stroke:#000000;stroke-width:2.0px;stroke-linecap:butt;stroke-linejoin:miter;stroke-opacity:1\"/>\n<path class=\"bond-8 atom-6 atom-7\" d=\"M 199.4,275.3 L 207.8,275.0\" style=\"fill:none;fill-rule:evenodd;stroke:#000000;stroke-width:2.0px;stroke-linecap:butt;stroke-linejoin:miter;stroke-opacity:1\"/>\n<path class=\"bond-9 atom-6 atom-8\" d=\"M 199.4,275.3 L 203.4,281.6\" style=\"fill:none;fill-rule:evenodd;stroke:#000000;stroke-width:2.0px;stroke-linecap:butt;stroke-linejoin:miter;stroke-opacity:1\"/>\n<path class=\"bond-10 atom-6 atom-13\" d=\"M 199.4,275.3 L 192.6,279.5\" style=\"fill:none;fill-rule:evenodd;stroke:#000000;stroke-width:2.0px;stroke-linecap:butt;stroke-linejoin:miter;stroke-opacity:1\"/>\n<path class=\"bond-11 atom-9 atom-10\" d=\"M 180.9,265.4 L 176.9,259.2\" style=\"fill:none;fill-rule:evenodd;stroke:#000000;stroke-width:2.0px;stroke-linecap:butt;stroke-linejoin:miter;stroke-opacity:1\"/>\n<path class=\"bond-12 atom-9 atom-11\" d=\"M 180.9,265.4 L 172.5,265.7\" style=\"fill:none;fill-rule:evenodd;stroke:#000000;stroke-width:2.0px;stroke-linecap:butt;stroke-linejoin:miter;stroke-opacity:1\"/>\n<path class=\"bond-13 atom-9 atom-12\" d=\"M 180.9,265.4 L 181.1,273.3\" style=\"fill:none;fill-rule:evenodd;stroke:#000000;stroke-width:2.0px;stroke-linecap:butt;stroke-linejoin:miter;stroke-opacity:1\"/>\n<path class=\"bond-14 atom-14 atom-15\" d=\"M 207.6,216.0 L 199.2,216.6\" style=\"fill:none;fill-rule:evenodd;stroke:#000000;stroke-width:2.0px;stroke-linecap:butt;stroke-linejoin:miter;stroke-opacity:1\"/>\n<path class=\"bond-15 atom-14 atom-16\" d=\"M 207.6,216.0 L 203.7,209.9\" style=\"fill:none;fill-rule:evenodd;stroke:#000000;stroke-width:2.0px;stroke-linecap:butt;stroke-linejoin:miter;stroke-opacity:1\"/>\n<path class=\"bond-16 atom-14 atom-17\" d=\"M 207.6,216.0 L 208.4,228.1\" style=\"fill:none;fill-rule:evenodd;stroke:#000000;stroke-width:2.0px;stroke-linecap:butt;stroke-linejoin:miter;stroke-opacity:1\"/>\n<path class=\"bond-17 atom-14 atom-33\" d=\"M 207.6,216.0 L 217.2,210.6\" style=\"fill:none;fill-rule:evenodd;stroke:#000000;stroke-width:2.0px;stroke-linecap:butt;stroke-linejoin:miter;stroke-opacity:1\"/>\n<path class=\"bond-18 atom-17 atom-18\" d=\"M 208.4,228.1 L 199.0,233.6\" style=\"fill:none;fill-rule:evenodd;stroke:#000000;stroke-width:2.0px;stroke-linecap:butt;stroke-linejoin:miter;stroke-opacity:1\"/>\n<path class=\"bond-18 atom-17 atom-18\" d=\"M 206.0,227.3 L 199.4,231.2\" style=\"fill:none;fill-rule:evenodd;stroke:#000000;stroke-width:2.0px;stroke-linecap:butt;stroke-linejoin:miter;stroke-opacity:1\"/>\n<path class=\"bond-19 atom-17 atom-23\" d=\"M 208.4,228.1 L 220.2,233.3\" style=\"fill:none;fill-rule:evenodd;stroke:#000000;stroke-width:2.0px;stroke-linecap:butt;stroke-linejoin:miter;stroke-opacity:1\"/>\n<path class=\"bond-20 atom-18 atom-19\" d=\"M 199.0,233.6 L 191.8,229.5\" style=\"fill:none;fill-rule:evenodd;stroke:#000000;stroke-width:2.0px;stroke-linecap:butt;stroke-linejoin:miter;stroke-opacity:1\"/>\n<path class=\"bond-21 atom-18 atom-20\" d=\"M 199.0,233.6 L 198.9,243.6\" style=\"fill:none;fill-rule:evenodd;stroke:#000000;stroke-width:2.0px;stroke-linecap:butt;stroke-linejoin:miter;stroke-opacity:1\"/>\n<path class=\"bond-22 atom-20 atom-21\" d=\"M 198.9,243.6 L 207.1,243.5\" style=\"fill:none;fill-rule:evenodd;stroke:#000000;stroke-width:2.0px;stroke-linecap:butt;stroke-linejoin:miter;stroke-opacity:1\"/>\n<path class=\"bond-23 atom-20 atom-22\" d=\"M 198.9,243.6 L 202.6,249.7\" style=\"fill:none;fill-rule:evenodd;stroke:#000000;stroke-width:2.0px;stroke-linecap:butt;stroke-linejoin:miter;stroke-opacity:1\"/>\n<path class=\"bond-24 atom-23 atom-24\" d=\"M 220.2,233.3 L 220.0,227.8\" style=\"fill:none;fill-rule:evenodd;stroke:#000000;stroke-width:2.0px;stroke-linecap:butt;stroke-linejoin:miter;stroke-opacity:1\"/>\n<path class=\"bond-25 atom-23 atom-25\" d=\"M 220.2,233.3 L 227.4,231.2\" style=\"fill:none;fill-rule:evenodd;stroke:#000000;stroke-width:2.0px;stroke-linecap:butt;stroke-linejoin:miter;stroke-opacity:1\"/>\n<path class=\"bond-26 atom-23 atom-26\" d=\"M 220.2,233.3 L 220.2,241.1\" style=\"fill:none;fill-rule:evenodd;stroke:#000000;stroke-width:2.0px;stroke-linecap:butt;stroke-linejoin:miter;stroke-opacity:1\"/>\n<path class=\"bond-27 atom-27 atom-28\" d=\"M 224.9,183.9 L 216.4,184.7\" style=\"fill:none;fill-rule:evenodd;stroke:#000000;stroke-width:2.0px;stroke-linecap:butt;stroke-linejoin:miter;stroke-opacity:1\"/>\n<path class=\"bond-28 atom-27 atom-29\" d=\"M 224.9,183.9 L 220.9,177.8\" style=\"fill:none;fill-rule:evenodd;stroke:#000000;stroke-width:2.0px;stroke-linecap:butt;stroke-linejoin:miter;stroke-opacity:1\"/>\n<path class=\"bond-29 atom-27 atom-30\" d=\"M 224.9,183.9 L 225.9,196.1\" style=\"fill:none;fill-rule:evenodd;stroke:#000000;stroke-width:2.0px;stroke-linecap:butt;stroke-linejoin:miter;stroke-opacity:1\"/>\n<path class=\"bond-30 atom-27 atom-46\" d=\"M 224.9,183.9 L 234.2,178.5\" style=\"fill:none;fill-rule:evenodd;stroke:#000000;stroke-width:2.0px;stroke-linecap:butt;stroke-linejoin:miter;stroke-opacity:1\"/>\n<path class=\"bond-31 atom-30 atom-31\" d=\"M 225.9,196.1 L 217.5,201.1\" style=\"fill:none;fill-rule:evenodd;stroke:#000000;stroke-width:2.0px;stroke-linecap:butt;stroke-linejoin:miter;stroke-opacity:1\"/>\n<path class=\"bond-31 atom-30 atom-31\" d=\"M 223.7,195.2 L 217.8,198.8\" style=\"fill:none;fill-rule:evenodd;stroke:#000000;stroke-width:2.0px;stroke-linecap:butt;stroke-linejoin:miter;stroke-opacity:1\"/>\n<path class=\"bond-32 atom-30 atom-36\" d=\"M 225.9,196.1 L 237.1,201.2\" style=\"fill:none;fill-rule:evenodd;stroke:#000000;stroke-width:2.0px;stroke-linecap:butt;stroke-linejoin:miter;stroke-opacity:1\"/>\n<path class=\"bond-33 atom-31 atom-32\" d=\"M 217.5,201.1 L 210.4,197.2\" style=\"fill:none;fill-rule:evenodd;stroke:#000000;stroke-width:2.0px;stroke-linecap:butt;stroke-linejoin:miter;stroke-opacity:1\"/>\n<path class=\"bond-34 atom-31 atom-33\" d=\"M 217.5,201.1 L 217.2,210.6\" style=\"fill:none;fill-rule:evenodd;stroke:#000000;stroke-width:2.0px;stroke-linecap:butt;stroke-linejoin:miter;stroke-opacity:1\"/>\n<path class=\"bond-35 atom-33 atom-34\" d=\"M 217.2,210.6 L 217.4,216.0\" style=\"fill:none;fill-rule:evenodd;stroke:#000000;stroke-width:2.0px;stroke-linecap:butt;stroke-linejoin:miter;stroke-opacity:1\"/>\n<path class=\"bond-36 atom-33 atom-35\" d=\"M 217.2,210.6 L 225.7,212.4\" style=\"fill:none;fill-rule:evenodd;stroke:#000000;stroke-width:2.0px;stroke-linecap:butt;stroke-linejoin:miter;stroke-opacity:1\"/>\n<path class=\"bond-37 atom-36 atom-37\" d=\"M 237.1,201.2 L 237.0,195.7\" style=\"fill:none;fill-rule:evenodd;stroke:#000000;stroke-width:2.0px;stroke-linecap:butt;stroke-linejoin:miter;stroke-opacity:1\"/>\n<path class=\"bond-38 atom-36 atom-38\" d=\"M 237.1,201.2 L 244.4,199.1\" style=\"fill:none;fill-rule:evenodd;stroke:#000000;stroke-width:2.0px;stroke-linecap:butt;stroke-linejoin:miter;stroke-opacity:1\"/>\n<path class=\"bond-39 atom-36 atom-39\" d=\"M 237.1,201.2 L 237.2,208.9\" style=\"fill:none;fill-rule:evenodd;stroke:#000000;stroke-width:2.0px;stroke-linecap:butt;stroke-linejoin:miter;stroke-opacity:1\"/>\n<path class=\"bond-40 atom-40 atom-41\" d=\"M 241.9,151.9 L 233.4,152.6\" style=\"fill:none;fill-rule:evenodd;stroke:#000000;stroke-width:2.0px;stroke-linecap:butt;stroke-linejoin:miter;stroke-opacity:1\"/>\n<path class=\"bond-41 atom-40 atom-42\" d=\"M 241.9,151.9 L 237.9,145.8\" style=\"fill:none;fill-rule:evenodd;stroke:#000000;stroke-width:2.0px;stroke-linecap:butt;stroke-linejoin:miter;stroke-opacity:1\"/>\n<path class=\"bond-42 atom-40 atom-43\" d=\"M 241.9,151.9 L 242.9,164.0\" style=\"fill:none;fill-rule:evenodd;stroke:#000000;stroke-width:2.0px;stroke-linecap:butt;stroke-linejoin:miter;stroke-opacity:1\"/>\n<path class=\"bond-43 atom-40 atom-59\" d=\"M 241.9,151.9 L 251.2,146.4\" style=\"fill:none;fill-rule:evenodd;stroke:#000000;stroke-width:2.0px;stroke-linecap:butt;stroke-linejoin:miter;stroke-opacity:1\"/>\n<path class=\"bond-44 atom-43 atom-44\" d=\"M 242.9,164.0 L 234.5,169.1\" style=\"fill:none;fill-rule:evenodd;stroke:#000000;stroke-width:2.0px;stroke-linecap:butt;stroke-linejoin:miter;stroke-opacity:1\"/>\n<path class=\"bond-44 atom-43 atom-44\" d=\"M 240.7,163.2 L 234.8,166.7\" style=\"fill:none;fill-rule:evenodd;stroke:#000000;stroke-width:2.0px;stroke-linecap:butt;stroke-linejoin:miter;stroke-opacity:1\"/>\n<path class=\"bond-45 atom-43 atom-49\" d=\"M 242.9,164.0 L 254.1,169.2\" style=\"fill:none;fill-rule:evenodd;stroke:#000000;stroke-width:2.0px;stroke-linecap:butt;stroke-linejoin:miter;stroke-opacity:1\"/>\n<path class=\"bond-46 atom-44 atom-45\" d=\"M 234.5,169.1 L 227.3,165.1\" style=\"fill:none;fill-rule:evenodd;stroke:#000000;stroke-width:2.0px;stroke-linecap:butt;stroke-linejoin:miter;stroke-opacity:1\"/>\n<path class=\"bond-47 atom-44 atom-46\" d=\"M 234.5,169.1 L 234.2,178.5\" style=\"fill:none;fill-rule:evenodd;stroke:#000000;stroke-width:2.0px;stroke-linecap:butt;stroke-linejoin:miter;stroke-opacity:1\"/>\n<path class=\"bond-48 atom-46 atom-47\" d=\"M 234.2,178.5 L 234.4,184.0\" style=\"fill:none;fill-rule:evenodd;stroke:#000000;stroke-width:2.0px;stroke-linecap:butt;stroke-linejoin:miter;stroke-opacity:1\"/>\n<path class=\"bond-49 atom-46 atom-48\" d=\"M 234.2,178.5 L 242.7,180.3\" style=\"fill:none;fill-rule:evenodd;stroke:#000000;stroke-width:2.0px;stroke-linecap:butt;stroke-linejoin:miter;stroke-opacity:1\"/>\n<path class=\"bond-50 atom-49 atom-50\" d=\"M 254.1,169.2 L 254.0,163.7\" style=\"fill:none;fill-rule:evenodd;stroke:#000000;stroke-width:2.0px;stroke-linecap:butt;stroke-linejoin:miter;stroke-opacity:1\"/>\n<path class=\"bond-51 atom-49 atom-51\" d=\"M 254.1,169.2 L 261.4,167.0\" style=\"fill:none;fill-rule:evenodd;stroke:#000000;stroke-width:2.0px;stroke-linecap:butt;stroke-linejoin:miter;stroke-opacity:1\"/>\n<path class=\"bond-52 atom-49 atom-52\" d=\"M 254.1,169.2 L 254.2,176.9\" style=\"fill:none;fill-rule:evenodd;stroke:#000000;stroke-width:2.0px;stroke-linecap:butt;stroke-linejoin:miter;stroke-opacity:1\"/>\n<path class=\"bond-53 atom-53 atom-54\" d=\"M 258.9,119.8 L 250.4,120.5\" style=\"fill:none;fill-rule:evenodd;stroke:#000000;stroke-width:2.0px;stroke-linecap:butt;stroke-linejoin:miter;stroke-opacity:1\"/>\n<path class=\"bond-54 atom-53 atom-55\" d=\"M 258.9,119.8 L 254.9,113.7\" style=\"fill:none;fill-rule:evenodd;stroke:#000000;stroke-width:2.0px;stroke-linecap:butt;stroke-linejoin:miter;stroke-opacity:1\"/>\n<path class=\"bond-55 atom-53 atom-56\" d=\"M 258.9,119.8 L 259.9,131.9\" style=\"fill:none;fill-rule:evenodd;stroke:#000000;stroke-width:2.0px;stroke-linecap:butt;stroke-linejoin:miter;stroke-opacity:1\"/>\n<path class=\"bond-56 atom-53 atom-72\" d=\"M 258.9,119.8 L 268.2,114.4\" style=\"fill:none;fill-rule:evenodd;stroke:#000000;stroke-width:2.0px;stroke-linecap:butt;stroke-linejoin:miter;stroke-opacity:1\"/>\n<path class=\"bond-57 atom-56 atom-57\" d=\"M 259.9,131.9 L 251.5,137.0\" style=\"fill:none;fill-rule:evenodd;stroke:#000000;stroke-width:2.0px;stroke-linecap:butt;stroke-linejoin:miter;stroke-opacity:1\"/>\n<path class=\"bond-57 atom-56 atom-57\" d=\"M 257.7,131.1 L 251.8,134.6\" style=\"fill:none;fill-rule:evenodd;stroke:#000000;stroke-width:2.0px;stroke-linecap:butt;stroke-linejoin:miter;stroke-opacity:1\"/>\n<path class=\"bond-58 atom-56 atom-62\" d=\"M 259.9,131.9 L 271.1,137.1\" style=\"fill:none;fill-rule:evenodd;stroke:#000000;stroke-width:2.0px;stroke-linecap:butt;stroke-linejoin:miter;stroke-opacity:1\"/>\n<path class=\"bond-59 atom-57 atom-58\" d=\"M 251.5,137.0 L 244.3,133.1\" style=\"fill:none;fill-rule:evenodd;stroke:#000000;stroke-width:2.0px;stroke-linecap:butt;stroke-linejoin:miter;stroke-opacity:1\"/>\n<path class=\"bond-60 atom-57 atom-59\" d=\"M 251.5,137.0 L 251.2,146.4\" style=\"fill:none;fill-rule:evenodd;stroke:#000000;stroke-width:2.0px;stroke-linecap:butt;stroke-linejoin:miter;stroke-opacity:1\"/>\n<path class=\"bond-61 atom-59 atom-60\" d=\"M 251.2,146.4 L 251.4,151.9\" style=\"fill:none;fill-rule:evenodd;stroke:#000000;stroke-width:2.0px;stroke-linecap:butt;stroke-linejoin:miter;stroke-opacity:1\"/>\n<path class=\"bond-62 atom-59 atom-61\" d=\"M 251.2,146.4 L 259.6,148.3\" style=\"fill:none;fill-rule:evenodd;stroke:#000000;stroke-width:2.0px;stroke-linecap:butt;stroke-linejoin:miter;stroke-opacity:1\"/>\n<path class=\"bond-63 atom-62 atom-63\" d=\"M 271.1,137.1 L 270.9,131.6\" style=\"fill:none;fill-rule:evenodd;stroke:#000000;stroke-width:2.0px;stroke-linecap:butt;stroke-linejoin:miter;stroke-opacity:1\"/>\n<path class=\"bond-64 atom-62 atom-64\" d=\"M 271.1,137.1 L 278.4,135.0\" style=\"fill:none;fill-rule:evenodd;stroke:#000000;stroke-width:2.0px;stroke-linecap:butt;stroke-linejoin:miter;stroke-opacity:1\"/>\n<path class=\"bond-65 atom-62 atom-65\" d=\"M 271.1,137.1 L 271.2,144.8\" style=\"fill:none;fill-rule:evenodd;stroke:#000000;stroke-width:2.0px;stroke-linecap:butt;stroke-linejoin:miter;stroke-opacity:1\"/>\n<path class=\"bond-66 atom-66 atom-67\" d=\"M 275.8,87.7 L 267.4,88.5\" style=\"fill:none;fill-rule:evenodd;stroke:#000000;stroke-width:2.0px;stroke-linecap:butt;stroke-linejoin:miter;stroke-opacity:1\"/>\n<path class=\"bond-67 atom-66 atom-68\" d=\"M 275.8,87.7 L 271.9,81.6\" style=\"fill:none;fill-rule:evenodd;stroke:#000000;stroke-width:2.0px;stroke-linecap:butt;stroke-linejoin:miter;stroke-opacity:1\"/>\n<path class=\"bond-68 atom-66 atom-69\" d=\"M 275.8,87.7 L 276.9,99.9\" style=\"fill:none;fill-rule:evenodd;stroke:#000000;stroke-width:2.0px;stroke-linecap:butt;stroke-linejoin:miter;stroke-opacity:1\"/>\n<path class=\"bond-69 atom-66 atom-85\" d=\"M 275.8,87.7 L 285.2,82.3\" style=\"fill:none;fill-rule:evenodd;stroke:#000000;stroke-width:2.0px;stroke-linecap:butt;stroke-linejoin:miter;stroke-opacity:1\"/>\n<path class=\"bond-70 atom-69 atom-70\" d=\"M 276.9,99.9 L 268.5,105.0\" style=\"fill:none;fill-rule:evenodd;stroke:#000000;stroke-width:2.0px;stroke-linecap:butt;stroke-linejoin:miter;stroke-opacity:1\"/>\n<path class=\"bond-70 atom-69 atom-70\" d=\"M 274.7,99.0 L 268.8,102.6\" style=\"fill:none;fill-rule:evenodd;stroke:#000000;stroke-width:2.0px;stroke-linecap:butt;stroke-linejoin:miter;stroke-opacity:1\"/>\n<path class=\"bond-71 atom-69 atom-75\" d=\"M 276.9,99.9 L 288.1,105.0\" style=\"fill:none;fill-rule:evenodd;stroke:#000000;stroke-width:2.0px;stroke-linecap:butt;stroke-linejoin:miter;stroke-opacity:1\"/>\n<path class=\"bond-72 atom-70 atom-71\" d=\"M 268.5,105.0 L 261.3,101.0\" style=\"fill:none;fill-rule:evenodd;stroke:#000000;stroke-width:2.0px;stroke-linecap:butt;stroke-linejoin:miter;stroke-opacity:1\"/>\n<path class=\"bond-73 atom-70 atom-72\" d=\"M 268.5,105.0 L 268.2,114.4\" style=\"fill:none;fill-rule:evenodd;stroke:#000000;stroke-width:2.0px;stroke-linecap:butt;stroke-linejoin:miter;stroke-opacity:1\"/>\n<path class=\"bond-74 atom-72 atom-73\" d=\"M 268.2,114.4 L 268.4,119.8\" style=\"fill:none;fill-rule:evenodd;stroke:#000000;stroke-width:2.0px;stroke-linecap:butt;stroke-linejoin:miter;stroke-opacity:1\"/>\n<path class=\"bond-75 atom-72 atom-74\" d=\"M 268.2,114.4 L 276.6,116.2\" style=\"fill:none;fill-rule:evenodd;stroke:#000000;stroke-width:2.0px;stroke-linecap:butt;stroke-linejoin:miter;stroke-opacity:1\"/>\n<path class=\"bond-76 atom-75 atom-76\" d=\"M 288.1,105.0 L 287.9,99.5\" style=\"fill:none;fill-rule:evenodd;stroke:#000000;stroke-width:2.0px;stroke-linecap:butt;stroke-linejoin:miter;stroke-opacity:1\"/>\n<path class=\"bond-77 atom-75 atom-77\" d=\"M 288.1,105.0 L 295.4,102.9\" style=\"fill:none;fill-rule:evenodd;stroke:#000000;stroke-width:2.0px;stroke-linecap:butt;stroke-linejoin:miter;stroke-opacity:1\"/>\n<path class=\"bond-78 atom-75 atom-78\" d=\"M 288.1,105.0 L 288.1,112.7\" style=\"fill:none;fill-rule:evenodd;stroke:#000000;stroke-width:2.0px;stroke-linecap:butt;stroke-linejoin:miter;stroke-opacity:1\"/>\n<path class=\"bond-79 atom-79 atom-80\" d=\"M 292.9,55.7 L 284.4,56.4\" style=\"fill:none;fill-rule:evenodd;stroke:#000000;stroke-width:2.0px;stroke-linecap:butt;stroke-linejoin:miter;stroke-opacity:1\"/>\n<path class=\"bond-80 atom-79 atom-81\" d=\"M 292.9,55.7 L 288.9,49.6\" style=\"fill:none;fill-rule:evenodd;stroke:#000000;stroke-width:2.0px;stroke-linecap:butt;stroke-linejoin:miter;stroke-opacity:1\"/>\n<path class=\"bond-81 atom-79 atom-82\" d=\"M 292.9,55.7 L 293.9,67.8\" style=\"fill:none;fill-rule:evenodd;stroke:#000000;stroke-width:2.0px;stroke-linecap:butt;stroke-linejoin:miter;stroke-opacity:1\"/>\n<path class=\"bond-82 atom-79 atom-99\" d=\"M 292.9,55.7 L 302.2,50.2\" style=\"fill:none;fill-rule:evenodd;stroke:#000000;stroke-width:2.0px;stroke-linecap:butt;stroke-linejoin:miter;stroke-opacity:1\"/>\n<path class=\"bond-83 atom-82 atom-83\" d=\"M 293.9,67.8 L 285.5,72.9\" style=\"fill:none;fill-rule:evenodd;stroke:#000000;stroke-width:2.0px;stroke-linecap:butt;stroke-linejoin:miter;stroke-opacity:1\"/>\n<path class=\"bond-83 atom-82 atom-83\" d=\"M 291.7,67.0 L 285.8,70.5\" style=\"fill:none;fill-rule:evenodd;stroke:#000000;stroke-width:2.0px;stroke-linecap:butt;stroke-linejoin:miter;stroke-opacity:1\"/>\n<path class=\"bond-84 atom-82 atom-88\" d=\"M 293.9,67.8 L 305.1,72.9\" style=\"fill:none;fill-rule:evenodd;stroke:#000000;stroke-width:2.0px;stroke-linecap:butt;stroke-linejoin:miter;stroke-opacity:1\"/>\n<path class=\"bond-85 atom-83 atom-84\" d=\"M 285.5,72.9 L 278.3,68.9\" style=\"fill:none;fill-rule:evenodd;stroke:#000000;stroke-width:2.0px;stroke-linecap:butt;stroke-linejoin:miter;stroke-opacity:1\"/>\n<path class=\"bond-86 atom-83 atom-85\" d=\"M 285.5,72.9 L 285.2,82.3\" style=\"fill:none;fill-rule:evenodd;stroke:#000000;stroke-width:2.0px;stroke-linecap:butt;stroke-linejoin:miter;stroke-opacity:1\"/>\n<path class=\"bond-87 atom-85 atom-86\" d=\"M 285.2,82.3 L 285.4,87.8\" style=\"fill:none;fill-rule:evenodd;stroke:#000000;stroke-width:2.0px;stroke-linecap:butt;stroke-linejoin:miter;stroke-opacity:1\"/>\n<path class=\"bond-88 atom-85 atom-87\" d=\"M 285.2,82.3 L 293.6,84.1\" style=\"fill:none;fill-rule:evenodd;stroke:#000000;stroke-width:2.0px;stroke-linecap:butt;stroke-linejoin:miter;stroke-opacity:1\"/>\n<path class=\"bond-89 atom-88 atom-89\" d=\"M 305.1,72.9 L 304.9,67.5\" style=\"fill:none;fill-rule:evenodd;stroke:#000000;stroke-width:2.0px;stroke-linecap:butt;stroke-linejoin:miter;stroke-opacity:1\"/>\n<path class=\"bond-90 atom-88 atom-90\" d=\"M 305.1,72.9 L 312.4,70.8\" style=\"fill:none;fill-rule:evenodd;stroke:#000000;stroke-width:2.0px;stroke-linecap:butt;stroke-linejoin:miter;stroke-opacity:1\"/>\n<path class=\"bond-91 atom-88 atom-91\" d=\"M 305.1,72.9 L 305.1,80.7\" style=\"fill:none;fill-rule:evenodd;stroke:#000000;stroke-width:2.0px;stroke-linecap:butt;stroke-linejoin:miter;stroke-opacity:1\"/>\n<path class=\"bond-92 atom-92 atom-93\" d=\"M 319.3,39.2 L 322.6,32.6\" style=\"fill:none;fill-rule:evenodd;stroke:#000000;stroke-width:2.0px;stroke-linecap:butt;stroke-linejoin:miter;stroke-opacity:1\"/>\n<path class=\"bond-93 atom-92 atom-94\" d=\"M 319.3,39.2 L 327.5,38.8\" style=\"fill:none;fill-rule:evenodd;stroke:#000000;stroke-width:2.0px;stroke-linecap:butt;stroke-linejoin:miter;stroke-opacity:1\"/>\n<path class=\"bond-94 atom-92 atom-95\" d=\"M 319.3,39.2 L 319.8,46.9\" style=\"fill:none;fill-rule:evenodd;stroke:#000000;stroke-width:2.0px;stroke-linecap:butt;stroke-linejoin:miter;stroke-opacity:1\"/>\n<path class=\"bond-95 atom-92 atom-96\" d=\"M 319.3,39.2 L 310.1,34.7\" style=\"fill:none;fill-rule:evenodd;stroke:#000000;stroke-width:2.0px;stroke-linecap:butt;stroke-linejoin:miter;stroke-opacity:1\"/>\n<path class=\"bond-96 atom-96 atom-97\" d=\"M 310.1,34.7 L 302.1,40.2\" style=\"fill:none;fill-rule:evenodd;stroke:#000000;stroke-width:2.0px;stroke-linecap:butt;stroke-linejoin:miter;stroke-opacity:1\"/>\n<path class=\"bond-96 atom-96 atom-97\" d=\"M 310.0,37.1 L 304.4,40.9\" style=\"fill:none;fill-rule:evenodd;stroke:#000000;stroke-width:2.0px;stroke-linecap:butt;stroke-linejoin:miter;stroke-opacity:1\"/>\n<path class=\"bond-97 atom-96 atom-102\" d=\"M 310.1,34.7 L 309.1,24.4\" style=\"fill:none;fill-rule:evenodd;stroke:#000000;stroke-width:2.0px;stroke-linecap:butt;stroke-linejoin:miter;stroke-opacity:1\"/>\n<path class=\"bond-98 atom-97 atom-98\" d=\"M 302.1,40.2 L 294.8,36.6\" style=\"fill:none;fill-rule:evenodd;stroke:#000000;stroke-width:2.0px;stroke-linecap:butt;stroke-linejoin:miter;stroke-opacity:1\"/>\n<path class=\"bond-99 atom-97 atom-99\" d=\"M 302.1,40.2 L 302.2,50.2\" style=\"fill:none;fill-rule:evenodd;stroke:#000000;stroke-width:2.0px;stroke-linecap:butt;stroke-linejoin:miter;stroke-opacity:1\"/>\n<path class=\"bond-100 atom-99 atom-100\" d=\"M 302.2,50.2 L 302.4,55.7\" style=\"fill:none;fill-rule:evenodd;stroke:#000000;stroke-width:2.0px;stroke-linecap:butt;stroke-linejoin:miter;stroke-opacity:1\"/>\n<path class=\"bond-101 atom-99 atom-101\" d=\"M 302.2,50.2 L 310.0,52.0\" style=\"fill:none;fill-rule:evenodd;stroke:#000000;stroke-width:2.0px;stroke-linecap:butt;stroke-linejoin:miter;stroke-opacity:1\"/>\n<path class=\"bond-102 atom-102 atom-103\" d=\"M 309.1,24.4 L 300.6,25.2\" style=\"fill:none;fill-rule:evenodd;stroke:#000000;stroke-width:2.0px;stroke-linecap:butt;stroke-linejoin:miter;stroke-opacity:1\"/>\n<path class=\"bond-103 atom-102 atom-104\" d=\"M 309.1,24.4 L 304.8,18.4\" style=\"fill:none;fill-rule:evenodd;stroke:#000000;stroke-width:2.0px;stroke-linecap:butt;stroke-linejoin:miter;stroke-opacity:1\"/>\n<path class=\"bond-104 atom-102 atom-105\" d=\"M 309.1,24.4 L 315.4,19.9\" style=\"fill:none;fill-rule:evenodd;stroke:#000000;stroke-width:2.0px;stroke-linecap:butt;stroke-linejoin:miter;stroke-opacity:1\"/>\n<path class=\"atom-1\" d=\"M 182.5 237.9 L 183.1 237.9 L 183.1 239.8 L 185.4 239.8 L 185.4 237.9 L 186.0 237.9 L 186.0 242.3 L 185.4 242.3 L 185.4 240.3 L 183.1 240.3 L 183.1 242.3 L 182.5 242.3 L 182.5 237.9 \" fill=\"#000000\"/>\n<path class=\"atom-2\" d=\"M 177.5 247.0 L 178.1 247.0 L 178.1 248.9 L 180.4 248.9 L 180.4 247.0 L 181.0 247.0 L 181.0 251.5 L 180.4 251.5 L 180.4 249.4 L 178.1 249.4 L 178.1 251.5 L 177.5 251.5 L 177.5 247.0 \" fill=\"#000000\"/>\n<path class=\"atom-5\" d=\"M 206.1 257.5 L 206.7 257.5 L 206.7 259.4 L 209.0 259.4 L 209.0 257.5 L 209.6 257.5 L 209.6 262.0 L 209.0 262.0 L 209.0 259.9 L 206.7 259.9 L 206.7 262.0 L 206.1 262.0 L 206.1 257.5 \" fill=\"#000000\"/>\n<path class=\"atom-7\" d=\"M 208.2 272.7 L 208.8 272.7 L 208.8 274.6 L 211.0 274.6 L 211.0 272.7 L 211.6 272.7 L 211.6 277.1 L 211.0 277.1 L 211.0 275.1 L 208.8 275.1 L 208.8 277.1 L 208.2 277.1 L 208.2 272.7 \" fill=\"#000000\"/>\n<path class=\"atom-8\" d=\"M 203.3 281.9 L 203.9 281.9 L 203.9 283.8 L 206.1 283.8 L 206.1 281.9 L 206.7 281.9 L 206.7 286.4 L 206.1 286.4 L 206.1 284.3 L 203.9 284.3 L 203.9 286.4 L 203.3 286.4 L 203.3 281.9 \" fill=\"#000000\"/>\n<path class=\"atom-10\" d=\"M 173.5 254.4 L 174.1 254.4 L 174.1 256.3 L 176.4 256.3 L 176.4 254.4 L 177.0 254.4 L 177.0 258.8 L 176.4 258.8 L 176.4 256.8 L 174.1 256.8 L 174.1 258.8 L 173.5 258.8 L 173.5 254.4 \" fill=\"#000000\"/>\n<path class=\"atom-11\" d=\"M 168.6 263.6 L 169.2 263.6 L 169.2 265.5 L 171.5 265.5 L 171.5 263.6 L 172.1 263.6 L 172.1 268.1 L 171.5 268.1 L 171.5 266.0 L 169.2 266.0 L 169.2 268.1 L 168.6 268.1 L 168.6 263.6 \" fill=\"#000000\"/>\n<path class=\"atom-12\" d=\"M 179.5 273.7 L 180.1 273.7 L 180.1 275.5 L 182.4 275.5 L 182.4 273.7 L 183.0 273.7 L 183.0 278.1 L 182.4 278.1 L 182.4 276.0 L 180.1 276.0 L 180.1 278.1 L 179.5 278.1 L 179.5 273.7 \" fill=\"#000000\"/>\n<path class=\"atom-13\" d=\"M 188.8 278.6 L 189.4 278.6 L 189.4 280.5 L 191.7 280.5 L 191.7 278.6 L 192.3 278.6 L 192.3 283.0 L 191.7 283.0 L 191.7 281.0 L 189.4 281.0 L 189.4 283.0 L 188.8 283.0 L 188.8 278.6 \" fill=\"#000000\"/>\n<path class=\"atom-15\" d=\"M 195.4 214.5 L 196.0 214.5 L 196.0 216.4 L 198.2 216.4 L 198.2 214.5 L 198.8 214.5 L 198.8 219.0 L 198.2 219.0 L 198.2 216.9 L 196.0 216.9 L 196.0 219.0 L 195.4 219.0 L 195.4 214.5 \" fill=\"#000000\"/>\n<path class=\"atom-16\" d=\"M 200.4 205.1 L 201.0 205.1 L 201.0 207.0 L 203.2 207.0 L 203.2 205.1 L 203.8 205.1 L 203.8 209.5 L 203.2 209.5 L 203.2 207.5 L 201.0 207.5 L 201.0 209.5 L 200.4 209.5 L 200.4 205.1 \" fill=\"#000000\"/>\n<path class=\"atom-19\" d=\"M 188.0 226.1 L 188.6 226.1 L 188.6 228.0 L 190.8 228.0 L 190.8 226.1 L 191.4 226.1 L 191.4 230.6 L 190.8 230.6 L 190.8 228.5 L 188.6 228.5 L 188.6 230.6 L 188.0 230.6 L 188.0 226.1 \" fill=\"#000000\"/>\n<path class=\"atom-21\" d=\"M 207.5 241.2 L 208.1 241.2 L 208.1 243.1 L 210.4 243.1 L 210.4 241.2 L 211.0 241.2 L 211.0 245.7 L 210.4 245.7 L 210.4 243.6 L 208.1 243.6 L 208.1 245.7 L 207.5 245.7 L 207.5 241.2 \" fill=\"#000000\"/>\n<path class=\"atom-22\" d=\"M 202.4 250.0 L 203.0 250.0 L 203.0 251.9 L 205.3 251.9 L 205.3 250.0 L 205.9 250.0 L 205.9 254.5 L 205.3 254.5 L 205.3 252.4 L 203.0 252.4 L 203.0 254.5 L 202.4 254.5 L 202.4 250.0 \" fill=\"#000000\"/>\n<path class=\"atom-24\" d=\"M 218.2 223.0 L 218.8 223.0 L 218.8 224.9 L 221.0 224.9 L 221.0 223.0 L 221.6 223.0 L 221.6 227.5 L 221.0 227.5 L 221.0 225.4 L 218.8 225.4 L 218.8 227.5 L 218.2 227.5 L 218.2 223.0 \" fill=\"#000000\"/>\n<path class=\"atom-25\" d=\"M 227.8 228.4 L 228.4 228.4 L 228.4 230.3 L 230.6 230.3 L 230.6 228.4 L 231.2 228.4 L 231.2 232.8 L 230.6 232.8 L 230.6 230.8 L 228.4 230.8 L 228.4 232.8 L 227.8 232.8 L 227.8 228.4 \" fill=\"#000000\"/>\n<path class=\"atom-26\" d=\"M 218.4 241.4 L 219.0 241.4 L 219.0 243.3 L 221.3 243.3 L 221.3 241.4 L 221.9 241.4 L 221.9 245.9 L 221.3 245.9 L 221.3 243.8 L 219.0 243.8 L 219.0 245.9 L 218.4 245.9 L 218.4 241.4 \" fill=\"#000000\"/>\n<path class=\"atom-28\" d=\"M 212.6 182.6 L 213.2 182.6 L 213.2 184.5 L 215.5 184.5 L 215.5 182.6 L 216.1 182.6 L 216.1 187.1 L 215.5 187.1 L 215.5 185.0 L 213.2 185.0 L 213.2 187.1 L 212.6 187.1 L 212.6 182.6 \" fill=\"#000000\"/>\n<path class=\"atom-29\" d=\"M 217.5 173.1 L 218.1 173.1 L 218.1 174.9 L 220.4 174.9 L 220.4 173.1 L 221.0 173.1 L 221.0 177.5 L 220.4 177.5 L 220.4 175.5 L 218.1 175.5 L 218.1 177.5 L 217.5 177.5 L 217.5 173.1 \" fill=\"#000000\"/>\n<path class=\"atom-32\" d=\"M 206.5 193.8 L 207.1 193.8 L 207.1 195.7 L 209.4 195.7 L 209.4 193.8 L 210.0 193.8 L 210.0 198.3 L 209.4 198.3 L 209.4 196.2 L 207.1 196.2 L 207.1 198.3 L 206.5 198.3 L 206.5 193.8 \" fill=\"#000000\"/>\n<path class=\"atom-34\" d=\"M 215.8 216.4 L 216.4 216.4 L 216.4 218.3 L 218.6 218.3 L 218.6 216.4 L 219.3 216.4 L 219.3 220.8 L 218.6 220.8 L 218.6 218.8 L 216.4 218.8 L 216.4 220.8 L 215.8 220.8 L 215.8 216.4 \" fill=\"#000000\"/>\n<path class=\"atom-35\" d=\"M 226.0 210.6 L 226.6 210.6 L 226.6 212.5 L 228.9 212.5 L 228.9 210.6 L 229.5 210.6 L 229.5 215.1 L 228.9 215.1 L 228.9 213.0 L 226.6 213.0 L 226.6 215.1 L 226.0 215.1 L 226.0 210.6 \" fill=\"#000000\"/>\n<path class=\"atom-37\" d=\"M 235.1 190.9 L 235.7 190.9 L 235.7 192.8 L 238.0 192.8 L 238.0 190.9 L 238.6 190.9 L 238.6 195.4 L 238.0 195.4 L 238.0 193.3 L 235.7 193.3 L 235.7 195.4 L 235.1 195.4 L 235.1 190.9 \" fill=\"#000000\"/>\n<path class=\"atom-38\" d=\"M 244.7 196.3 L 245.3 196.3 L 245.3 198.2 L 247.6 198.2 L 247.6 196.3 L 248.2 196.3 L 248.2 200.7 L 247.6 200.7 L 247.6 198.7 L 245.3 198.7 L 245.3 200.7 L 244.7 200.7 L 244.7 196.3 \" fill=\"#000000\"/>\n<path class=\"atom-39\" d=\"M 235.5 209.3 L 236.1 209.3 L 236.1 211.2 L 238.3 211.2 L 238.3 209.3 L 238.9 209.3 L 238.9 213.7 L 238.3 213.7 L 238.3 211.7 L 236.1 211.7 L 236.1 213.7 L 235.5 213.7 L 235.5 209.3 \" fill=\"#000000\"/>\n<path class=\"atom-41\" d=\"M 229.6 150.5 L 230.2 150.5 L 230.2 152.4 L 232.4 152.4 L 232.4 150.5 L 233.0 150.5 L 233.0 155.0 L 232.4 155.0 L 232.4 152.9 L 230.2 152.9 L 230.2 155.0 L 229.6 155.0 L 229.6 150.5 \" fill=\"#000000\"/>\n<path class=\"atom-42\" d=\"M 234.5 141.0 L 235.1 141.0 L 235.1 142.9 L 237.3 142.9 L 237.3 141.0 L 237.9 141.0 L 237.9 145.4 L 237.3 145.4 L 237.3 143.4 L 235.1 143.4 L 235.1 145.4 L 234.5 145.4 L 234.5 141.0 \" fill=\"#000000\"/>\n<path class=\"atom-45\" d=\"M 223.5 161.8 L 224.1 161.8 L 224.1 163.7 L 226.4 163.7 L 226.4 161.8 L 227.0 161.8 L 227.0 166.2 L 226.4 166.2 L 226.4 164.2 L 224.1 164.2 L 224.1 166.2 L 223.5 166.2 L 223.5 161.8 \" fill=\"#000000\"/>\n<path class=\"atom-47\" d=\"M 232.8 184.3 L 233.4 184.3 L 233.4 186.2 L 235.6 186.2 L 235.6 184.3 L 236.2 184.3 L 236.2 188.8 L 235.6 188.8 L 235.6 186.7 L 233.4 186.7 L 233.4 188.8 L 232.8 188.8 L 232.8 184.3 \" fill=\"#000000\"/>\n<path class=\"atom-48\" d=\"M 243.0 178.6 L 243.6 178.6 L 243.6 180.4 L 245.9 180.4 L 245.9 178.6 L 246.5 178.6 L 246.5 183.0 L 245.9 183.0 L 245.9 180.9 L 243.6 180.9 L 243.6 183.0 L 243.0 183.0 L 243.0 178.6 \" fill=\"#000000\"/>\n<path class=\"atom-50\" d=\"M 252.1 158.9 L 252.7 158.9 L 252.7 160.8 L 255.0 160.8 L 255.0 158.9 L 255.6 158.9 L 255.6 163.3 L 255.0 163.3 L 255.0 161.3 L 252.7 161.3 L 252.7 163.3 L 252.1 163.3 L 252.1 158.9 \" fill=\"#000000\"/>\n<path class=\"atom-51\" d=\"M 261.7 164.2 L 262.3 164.2 L 262.3 166.1 L 264.6 166.1 L 264.6 164.2 L 265.2 164.2 L 265.2 168.7 L 264.6 168.7 L 264.6 166.6 L 262.3 166.6 L 262.3 168.7 L 261.7 168.7 L 261.7 164.2 \" fill=\"#000000\"/>\n<path class=\"atom-52\" d=\"M 252.4 177.2 L 253.0 177.2 L 253.0 179.1 L 255.3 179.1 L 255.3 177.2 L 255.9 177.2 L 255.9 181.7 L 255.3 181.7 L 255.3 179.6 L 253.0 179.6 L 253.0 181.7 L 252.4 181.7 L 252.4 177.2 \" fill=\"#000000\"/>\n<path class=\"atom-54\" d=\"M 246.6 118.5 L 247.2 118.5 L 247.2 120.4 L 249.4 120.4 L 249.4 118.5 L 250.0 118.5 L 250.0 122.9 L 249.4 122.9 L 249.4 120.9 L 247.2 120.9 L 247.2 122.9 L 246.6 122.9 L 246.6 118.5 \" fill=\"#000000\"/>\n<path class=\"atom-55\" d=\"M 251.5 108.9 L 252.1 108.9 L 252.1 110.8 L 254.3 110.8 L 254.3 108.9 L 254.9 108.9 L 254.9 113.4 L 254.3 113.4 L 254.3 111.3 L 252.1 111.3 L 252.1 113.4 L 251.5 113.4 L 251.5 108.9 \" fill=\"#000000\"/>\n<path class=\"atom-58\" d=\"M 240.5 129.7 L 241.1 129.7 L 241.1 131.6 L 243.4 131.6 L 243.4 129.7 L 244.0 129.7 L 244.0 134.1 L 243.4 134.1 L 243.4 132.1 L 241.1 132.1 L 241.1 134.1 L 240.5 134.1 L 240.5 129.7 \" fill=\"#000000\"/>\n<path class=\"atom-60\" d=\"M 249.7 152.2 L 250.4 152.2 L 250.4 154.1 L 252.6 154.1 L 252.6 152.2 L 253.2 152.2 L 253.2 156.7 L 252.6 156.7 L 252.6 154.6 L 250.4 154.6 L 250.4 156.7 L 249.7 156.7 L 249.7 152.2 \" fill=\"#000000\"/>\n<path class=\"atom-61\" d=\"M 260.0 146.5 L 260.6 146.5 L 260.6 148.4 L 262.9 148.4 L 262.9 146.5 L 263.5 146.5 L 263.5 150.9 L 262.9 150.9 L 262.9 148.9 L 260.6 148.9 L 260.6 150.9 L 260.0 150.9 L 260.0 146.5 \" fill=\"#000000\"/>\n<path class=\"atom-63\" d=\"M 269.1 126.8 L 269.7 126.8 L 269.7 128.7 L 272.0 128.7 L 272.0 126.8 L 272.6 126.8 L 272.6 131.3 L 272.0 131.3 L 272.0 129.2 L 269.7 129.2 L 269.7 131.3 L 269.1 131.3 L 269.1 126.8 \" fill=\"#000000\"/>\n<path class=\"atom-64\" d=\"M 278.7 132.1 L 279.3 132.1 L 279.3 134.0 L 281.6 134.0 L 281.6 132.1 L 282.2 132.1 L 282.2 136.6 L 281.6 136.6 L 281.6 134.5 L 279.3 134.5 L 279.3 136.6 L 278.7 136.6 L 278.7 132.1 \" fill=\"#000000\"/>\n<path class=\"atom-65\" d=\"M 269.4 145.2 L 270.0 145.2 L 270.0 147.0 L 272.3 147.0 L 272.3 145.2 L 272.9 145.2 L 272.9 149.6 L 272.3 149.6 L 272.3 147.5 L 270.0 147.5 L 270.0 149.6 L 269.4 149.6 L 269.4 145.2 \" fill=\"#000000\"/>\n<path class=\"atom-67\" d=\"M 263.5 86.4 L 264.1 86.4 L 264.1 88.3 L 266.4 88.3 L 266.4 86.4 L 267.0 86.4 L 267.0 90.9 L 266.4 90.9 L 266.4 88.8 L 264.1 88.8 L 264.1 90.9 L 263.5 90.9 L 263.5 86.4 \" fill=\"#000000\"/>\n<path class=\"atom-68\" d=\"M 268.4 76.9 L 269.0 76.9 L 269.0 78.7 L 271.3 78.7 L 271.3 76.9 L 271.9 76.9 L 271.9 81.3 L 271.3 81.3 L 271.3 79.3 L 269.0 79.3 L 269.0 81.3 L 268.4 81.3 L 268.4 76.9 \" fill=\"#000000\"/>\n<path class=\"atom-71\" d=\"M 257.5 97.6 L 258.1 97.6 L 258.1 99.5 L 260.4 99.5 L 260.4 97.6 L 261.0 97.6 L 261.0 102.1 L 260.4 102.1 L 260.4 100.0 L 258.1 100.0 L 258.1 102.1 L 257.5 102.1 L 257.5 97.6 \" fill=\"#000000\"/>\n<path class=\"atom-73\" d=\"M 266.7 120.2 L 267.3 120.2 L 267.3 122.1 L 269.6 122.1 L 269.6 120.2 L 270.2 120.2 L 270.2 124.6 L 269.6 124.6 L 269.6 122.6 L 267.3 122.6 L 267.3 124.6 L 266.7 124.6 L 266.7 120.2 \" fill=\"#000000\"/>\n<path class=\"atom-74\" d=\"M 277.0 114.4 L 277.6 114.4 L 277.6 116.3 L 279.9 116.3 L 279.9 114.4 L 280.5 114.4 L 280.5 118.9 L 279.9 118.9 L 279.9 116.8 L 277.6 116.8 L 277.6 118.9 L 277.0 118.9 L 277.0 114.4 \" fill=\"#000000\"/>\n<path class=\"atom-76\" d=\"M 286.1 94.7 L 286.7 94.7 L 286.7 96.6 L 289.0 96.6 L 289.0 94.7 L 289.6 94.7 L 289.6 99.2 L 289.0 99.2 L 289.0 97.1 L 286.7 97.1 L 286.7 99.2 L 286.1 99.2 L 286.1 94.7 \" fill=\"#000000\"/>\n<path class=\"atom-77\" d=\"M 295.7 100.1 L 296.3 100.1 L 296.3 102.0 L 298.6 102.0 L 298.6 100.1 L 299.2 100.1 L 299.2 104.5 L 298.6 104.5 L 298.6 102.5 L 296.3 102.5 L 296.3 104.5 L 295.7 104.5 L 295.7 100.1 \" fill=\"#000000\"/>\n<path class=\"atom-78\" d=\"M 286.4 113.1 L 287.0 113.1 L 287.0 115.0 L 289.3 115.0 L 289.3 113.1 L 289.9 113.1 L 289.9 117.5 L 289.3 117.5 L 289.3 115.5 L 287.0 115.5 L 287.0 117.5 L 286.4 117.5 L 286.4 113.1 \" fill=\"#000000\"/>\n<path class=\"atom-80\" d=\"M 280.6 54.4 L 281.2 54.4 L 281.2 56.3 L 283.4 56.3 L 283.4 54.4 L 284.0 54.4 L 284.0 58.8 L 283.4 58.8 L 283.4 56.8 L 281.2 56.8 L 281.2 58.8 L 280.6 58.8 L 280.6 54.4 \" fill=\"#000000\"/>\n<path class=\"atom-81\" d=\"M 285.4 44.8 L 286.0 44.8 L 286.0 46.7 L 288.3 46.7 L 288.3 44.8 L 288.9 44.8 L 288.9 49.3 L 288.3 49.3 L 288.3 47.2 L 286.0 47.2 L 286.0 49.3 L 285.4 49.3 L 285.4 44.8 \" fill=\"#000000\"/>\n<path class=\"atom-84\" d=\"M 274.5 65.6 L 275.1 65.6 L 275.1 67.5 L 277.4 67.5 L 277.4 65.6 L 278.0 65.6 L 278.0 70.0 L 277.4 70.0 L 277.4 68.0 L 275.1 68.0 L 275.1 70.0 L 274.5 70.0 L 274.5 65.6 \" fill=\"#000000\"/>\n<path class=\"atom-86\" d=\"M 283.7 88.1 L 284.3 88.1 L 284.3 90.0 L 286.6 90.0 L 286.6 88.1 L 287.2 88.1 L 287.2 92.6 L 286.6 92.6 L 286.6 90.5 L 284.3 90.5 L 284.3 92.6 L 283.7 92.6 L 283.7 88.1 \" fill=\"#000000\"/>\n<path class=\"atom-87\" d=\"M 294.0 82.4 L 294.6 82.4 L 294.6 84.3 L 296.8 84.3 L 296.8 82.4 L 297.4 82.4 L 297.4 86.8 L 296.8 86.8 L 296.8 84.8 L 294.6 84.8 L 294.6 86.8 L 294.0 86.8 L 294.0 82.4 \" fill=\"#000000\"/>\n<path class=\"atom-89\" d=\"M 303.1 62.7 L 303.7 62.7 L 303.7 64.6 L 306.0 64.6 L 306.0 62.7 L 306.6 62.7 L 306.6 67.1 L 306.0 67.1 L 306.0 65.1 L 303.7 65.1 L 303.7 67.1 L 303.1 67.1 L 303.1 62.7 \" fill=\"#000000\"/>\n<path class=\"atom-90\" d=\"M 312.7 68.0 L 313.3 68.0 L 313.3 69.9 L 315.6 69.9 L 315.6 68.0 L 316.2 68.0 L 316.2 72.5 L 315.6 72.5 L 315.6 70.4 L 313.3 70.4 L 313.3 72.5 L 312.7 72.5 L 312.7 68.0 \" fill=\"#000000\"/>\n<path class=\"atom-91\" d=\"M 303.4 81.0 L 304.0 81.0 L 304.0 82.9 L 306.3 82.9 L 306.3 81.0 L 306.9 81.0 L 306.9 85.5 L 306.3 85.5 L 306.3 83.4 L 304.0 83.4 L 304.0 85.5 L 303.4 85.5 L 303.4 81.0 \" fill=\"#000000\"/>\n<path class=\"atom-93\" d=\"M 322.2 27.8 L 322.8 27.8 L 322.8 29.7 L 325.1 29.7 L 325.1 27.8 L 325.7 27.8 L 325.7 32.2 L 325.1 32.2 L 325.1 30.2 L 322.8 30.2 L 322.8 32.2 L 322.2 32.2 L 322.2 27.8 \" fill=\"#000000\"/>\n<path class=\"atom-94\" d=\"M 327.9 36.5 L 328.5 36.5 L 328.5 38.4 L 330.8 38.4 L 330.8 36.5 L 331.4 36.5 L 331.4 41.0 L 330.8 41.0 L 330.8 38.9 L 328.5 38.9 L 328.5 41.0 L 327.9 41.0 L 327.9 36.5 \" fill=\"#000000\"/>\n<path class=\"atom-95\" d=\"M 318.2 47.2 L 318.8 47.2 L 318.8 49.1 L 321.0 49.1 L 321.0 47.2 L 321.6 47.2 L 321.6 51.7 L 321.0 51.7 L 321.0 49.6 L 318.8 49.6 L 318.8 51.7 L 318.2 51.7 L 318.2 47.2 \" fill=\"#000000\"/>\n<path class=\"atom-98\" d=\"M 291.0 33.3 L 291.6 33.3 L 291.6 35.2 L 293.9 35.2 L 293.9 33.3 L 294.5 33.3 L 294.5 37.8 L 293.9 37.8 L 293.9 35.7 L 291.6 35.7 L 291.6 37.8 L 291.0 37.8 L 291.0 33.3 \" fill=\"#000000\"/>\n<path class=\"atom-100\" d=\"M 300.7 56.0 L 301.3 56.0 L 301.3 57.9 L 303.6 57.9 L 303.6 56.0 L 304.2 56.0 L 304.2 60.5 L 303.6 60.5 L 303.6 58.4 L 301.3 58.4 L 301.3 60.5 L 300.7 60.5 L 300.7 56.0 \" fill=\"#000000\"/>\n<path class=\"atom-101\" d=\"M 310.3 50.3 L 310.9 50.3 L 310.9 52.2 L 313.2 52.2 L 313.2 50.3 L 313.8 50.3 L 313.8 54.7 L 313.2 54.7 L 313.2 52.7 L 310.9 52.7 L 310.9 54.7 L 310.3 54.7 L 310.3 50.3 \" fill=\"#000000\"/>\n<path class=\"atom-103\" d=\"M 296.8 23.2 L 297.4 23.2 L 297.4 25.1 L 299.6 25.1 L 299.6 23.2 L 300.2 23.2 L 300.2 27.7 L 299.6 27.7 L 299.6 25.6 L 297.4 25.6 L 297.4 27.7 L 296.8 27.7 L 296.8 23.2 \" fill=\"#000000\"/>\n<path class=\"atom-104\" d=\"M 301.2 13.6 L 301.8 13.6 L 301.8 15.5 L 304.1 15.5 L 304.1 13.6 L 304.7 13.6 L 304.7 18.1 L 304.1 18.1 L 304.1 16.0 L 301.8 16.0 L 301.8 18.1 L 301.2 18.1 L 301.2 13.6 \" fill=\"#000000\"/>\n<path class=\"atom-105\" d=\"M 315.7 16.2 L 316.3 16.2 L 316.3 18.1 L 318.6 18.1 L 318.6 16.2 L 319.2 16.2 L 319.2 20.6 L 318.6 20.6 L 318.6 18.6 L 316.3 18.6 L 316.3 20.6 L 315.7 20.6 L 315.7 16.2 \" fill=\"#000000\"/>\n</svg>",
      "text/plain": [
       "<IPython.core.display.SVG object>"
      ]
     },
     "execution_count": 5,
     "metadata": {},
     "output_type": "execute_result"
    }
   ],
   "source": [
    "cmol.visualize()"
   ]
  },
  {
   "cell_type": "code",
   "execution_count": 7,
   "metadata": {},
   "outputs": [
    {
     "name": "stdout",
     "output_type": "stream",
     "text": [
      "defaultdict(<class 'dict'>, {'[#6](-[H])(-[H])-[#6](=[#6](-[H])-[#6](-[H])(-[H])-[H])-[#6](-[H])(-[H])-[H]': {0: -0.03956999988207277, 1: 0.04400999858131949, 2: 0.04400999858131949, 3: -0.11754000172862467, 4: -0.1667100040698951, 5: 0.11830999716272894, 6: -0.06148999915370401, 7: 0.03898999854078833, 8: 0.03898999854078833, 10: -0.06092999861487802, 11: 0.03940000026574675, 12: 0.03940000026574675, 13: 0.03940000026574675, 9: 0.03898999854078833}, '[#6](-[H])(-[H])-[#6](=[#6](-[H])-[#6](-[H])-[H])-[#6](-[H])(-[H])-[H]': {3: -0.040736666429530145, 4: 0.04569499953737799, 5: 0.04569499953737799, 2: -0.11052833235113875, 1: -0.16736499951133188, 10: 0.11831666791589006, 0: -0.043763332549224855, 11: 0.046198332822828925, 12: 0.046198332822828925, 6: -0.06138500060487843, 7: 0.04067166660379314, 8: 0.04067166660379314, 9: 0.04067166660379314}, '[#6](-[H])(-[H])(-[H])-[#6](=[#6](-[H])-[#6](-[H])-[H])-[#6](-[H])(-[H])-[H]': {7: -0.060880001493782365, 8: 0.03982999934902731, 9: 0.03982999934902731, 10: 0.03982999934902731, 2: -0.11063999668607172, 1: -0.17038999483832773, 11: 0.1154400037144715, 0: -0.040989998587459886, 12: 0.046029999992757475, 13: 0.046029999992757475, 3: -0.060880001493782365, 4: 0.03982999934902731, 5: 0.03982999934902731, 6: 0.03982999934902731}})\n"
     ]
    }
   ],
   "source": [
    "print(avgs)"
   ]
  },
  {
   "cell_type": "markdown",
   "metadata": {},
   "source": [
    "## Example for assigning atom ids in SMARTS"
   ]
  },
  {
   "cell_type": "code",
   "execution_count": null,
   "metadata": {},
   "outputs": [],
   "source": [
    "rdmol = cmol.to_rdkit()\n",
    "smarts_no_map = Chem.rdmolfiles.MolFragmentToSmarts(rdmol, atomsToUse=[i for i in range(5,10)])\n",
    "# how to specify atom map numbers\n",
    "i = 0\n",
    "for atom in rdmol.GetAtoms():\n",
    "    i += 1\n",
    "    atom.SetAtomMapNum(atom.GetIdx())\n",
    "smarts_yes_map = Chem.rdmolfiles.MolFragmentToSmarts(rdmol, atomsToUse=[i for i in range(5,10)])\n",
    "\n",
    "print(smarts_no_map)\n",
    "print(smarts_yes_map)"
   ]
  },
  {
   "cell_type": "markdown",
   "metadata": {},
   "source": [
    "<LibraryCharge smirks=\"[#6:1](-[#8:3]-[#6:2]([#6]([#8][#6]([H])[H])([H])[H])(-[H:7])-[H:8])(-[H:4])(-[H:5])[H:6]\" charge1=\"0.11772 * elementary_charge\" charge3=\"-0.41516 * elementary_charge\" charge2=\"0.126 * elementary_charge\" charge7=\"0.038690001 * elementary_charge\" charge8=\"0.038690001 * elementary_charge\" charge4=\"0.031090001 * elementary_charge\" charge5=\"0.031090001 * elementary_charge\" charge6=\"0.031090001 * elementary_charge\"></LibraryCharge>\n"
   ]
  },
  {
   "cell_type": "code",
   "execution_count": null,
   "metadata": {},
   "outputs": [],
   "source": [
    "for atom in cmol.atoms:\n",
    "    print(atom.metadata)"
   ]
  },
  {
   "cell_type": "markdown",
   "metadata": {},
   "source": [
    "## Playing with NX to get a feel for it"
   ]
  },
  {
   "cell_type": "code",
   "execution_count": null,
   "metadata": {},
   "outputs": [],
   "source": [
    "import networkx as nx\n",
    "\n",
    "G = nx.Graph()\n",
    "G.add_node(0, val=6, attr='stuff')\n",
    "G.add_node(3, val=7, attr='other')\n",
    "G.nodes[3]['attr']"
   ]
  },
  {
   "cell_type": "code",
   "execution_count": null,
   "metadata": {},
   "outputs": [],
   "source": [
    "G.add_edge(1, 2, weight=10)\n",
    "G.edges[1, 2]['weight']"
   ]
  },
  {
   "cell_type": "code",
   "execution_count": null,
   "metadata": {},
   "outputs": [],
   "source": []
  }
 ],
 "metadata": {
  "kernelspec": {
   "display_name": "Python 3.10.6 ('openff-dev': conda)",
   "language": "python",
   "name": "python3"
  },
  "language_info": {
   "codemirror_mode": {
    "name": "ipython",
    "version": 3
   },
   "file_extension": ".py",
   "mimetype": "text/x-python",
   "name": "python",
   "nbconvert_exporter": "python",
   "pygments_lexer": "ipython3",
   "version": "3.10.6"
  },
  "orig_nbformat": 4,
  "vscode": {
   "interpreter": {
    "hash": "6f9cdd2e387d00c633121ae0d6167f9bd222ae4f015041a103877077aa42441e"
   }
  }
 },
 "nbformat": 4,
 "nbformat_minor": 2
}
